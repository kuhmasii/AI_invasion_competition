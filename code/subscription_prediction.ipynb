{
 "cells": [
  {
   "cell_type": "markdown",
   "metadata": {},
   "source": [
    "## Importing the required Libraries"
   ]
  },
  {
   "cell_type": "code",
   "execution_count": 1,
   "metadata": {},
   "outputs": [],
   "source": [
    "import pandas as pd\n",
    "import numpy as np\n",
    "import matplotlib.pyplot as plt\n",
    "import seaborn as sns"
   ]
  },
  {
   "cell_type": "markdown",
   "metadata": {},
   "source": [
    "### Reading the Data "
   ]
  },
  {
   "cell_type": "code",
   "execution_count": 2,
   "metadata": {},
   "outputs": [
    {
     "data": {
      "text/html": [
       "<div>\n",
       "<style scoped>\n",
       "    .dataframe tbody tr th:only-of-type {\n",
       "        vertical-align: middle;\n",
       "    }\n",
       "\n",
       "    .dataframe tbody tr th {\n",
       "        vertical-align: top;\n",
       "    }\n",
       "\n",
       "    .dataframe thead th {\n",
       "        text-align: right;\n",
       "    }\n",
       "</style>\n",
       "<table border=\"1\" class=\"dataframe\">\n",
       "  <thead>\n",
       "    <tr style=\"text-align: right;\">\n",
       "      <th></th>\n",
       "      <th>customer_id</th>\n",
       "      <th>age</th>\n",
       "      <th>job</th>\n",
       "      <th>marital</th>\n",
       "      <th>education</th>\n",
       "      <th>default</th>\n",
       "      <th>housing</th>\n",
       "      <th>loan</th>\n",
       "      <th>contact</th>\n",
       "      <th>month</th>\n",
       "      <th>...</th>\n",
       "      <th>campaign</th>\n",
       "      <th>pdays</th>\n",
       "      <th>previous</th>\n",
       "      <th>poutcome</th>\n",
       "      <th>emp_var_rate</th>\n",
       "      <th>cons_price_idx</th>\n",
       "      <th>cons_conf_idx</th>\n",
       "      <th>euribor3m</th>\n",
       "      <th>nr_employed</th>\n",
       "      <th>subscribed</th>\n",
       "    </tr>\n",
       "  </thead>\n",
       "  <tbody>\n",
       "    <tr>\n",
       "      <th>0</th>\n",
       "      <td>customer_id_39075</td>\n",
       "      <td>31</td>\n",
       "      <td>admin.</td>\n",
       "      <td>married</td>\n",
       "      <td>university.degree</td>\n",
       "      <td>no</td>\n",
       "      <td>no</td>\n",
       "      <td>no</td>\n",
       "      <td>cellular</td>\n",
       "      <td>dec</td>\n",
       "      <td>...</td>\n",
       "      <td>3</td>\n",
       "      <td>999</td>\n",
       "      <td>1</td>\n",
       "      <td>failure</td>\n",
       "      <td>-2.97</td>\n",
       "      <td>46.3565</td>\n",
       "      <td>-23.10</td>\n",
       "      <td>1.711</td>\n",
       "      <td>5023.5</td>\n",
       "      <td>0</td>\n",
       "    </tr>\n",
       "    <tr>\n",
       "      <th>1</th>\n",
       "      <td>customer_id_34855</td>\n",
       "      <td>31</td>\n",
       "      <td>technician</td>\n",
       "      <td>single</td>\n",
       "      <td>university.degree</td>\n",
       "      <td>no</td>\n",
       "      <td>no</td>\n",
       "      <td>no</td>\n",
       "      <td>telephone</td>\n",
       "      <td>may</td>\n",
       "      <td>...</td>\n",
       "      <td>4</td>\n",
       "      <td>999</td>\n",
       "      <td>0</td>\n",
       "      <td>nonexistent</td>\n",
       "      <td>-1.77</td>\n",
       "      <td>46.4465</td>\n",
       "      <td>-32.34</td>\n",
       "      <td>2.252</td>\n",
       "      <td>5099.1</td>\n",
       "      <td>0</td>\n",
       "    </tr>\n",
       "    <tr>\n",
       "      <th>2</th>\n",
       "      <td>customer_id_7107</td>\n",
       "      <td>47</td>\n",
       "      <td>blue-collar</td>\n",
       "      <td>married</td>\n",
       "      <td>basic.6y</td>\n",
       "      <td>unknown</td>\n",
       "      <td>yes</td>\n",
       "      <td>no</td>\n",
       "      <td>telephone</td>\n",
       "      <td>may</td>\n",
       "      <td>...</td>\n",
       "      <td>2</td>\n",
       "      <td>999</td>\n",
       "      <td>0</td>\n",
       "      <td>nonexistent</td>\n",
       "      <td>1.13</td>\n",
       "      <td>46.9970</td>\n",
       "      <td>-25.48</td>\n",
       "      <td>5.862</td>\n",
       "      <td>5191.0</td>\n",
       "      <td>0</td>\n",
       "    </tr>\n",
       "    <tr>\n",
       "      <th>3</th>\n",
       "      <td>customer_id_31614</td>\n",
       "      <td>36</td>\n",
       "      <td>services</td>\n",
       "      <td>married</td>\n",
       "      <td>university.degree</td>\n",
       "      <td>no</td>\n",
       "      <td>no</td>\n",
       "      <td>no</td>\n",
       "      <td>cellular</td>\n",
       "      <td>may</td>\n",
       "      <td>...</td>\n",
       "      <td>1</td>\n",
       "      <td>999</td>\n",
       "      <td>1</td>\n",
       "      <td>failure</td>\n",
       "      <td>-1.77</td>\n",
       "      <td>46.4465</td>\n",
       "      <td>-32.34</td>\n",
       "      <td>2.329</td>\n",
       "      <td>5099.1</td>\n",
       "      <td>0</td>\n",
       "    </tr>\n",
       "    <tr>\n",
       "      <th>4</th>\n",
       "      <td>customer_id_34878</td>\n",
       "      <td>34</td>\n",
       "      <td>admin.</td>\n",
       "      <td>single</td>\n",
       "      <td>high.school</td>\n",
       "      <td>no</td>\n",
       "      <td>no</td>\n",
       "      <td>no</td>\n",
       "      <td>cellular</td>\n",
       "      <td>may</td>\n",
       "      <td>...</td>\n",
       "      <td>9</td>\n",
       "      <td>999</td>\n",
       "      <td>0</td>\n",
       "      <td>nonexistent</td>\n",
       "      <td>-1.77</td>\n",
       "      <td>46.4465</td>\n",
       "      <td>-32.34</td>\n",
       "      <td>2.252</td>\n",
       "      <td>5099.1</td>\n",
       "      <td>0</td>\n",
       "    </tr>\n",
       "    <tr>\n",
       "      <th>5</th>\n",
       "      <td>customer_id_24606</td>\n",
       "      <td>48</td>\n",
       "      <td>entrepreneur</td>\n",
       "      <td>married</td>\n",
       "      <td>university.degree</td>\n",
       "      <td>no</td>\n",
       "      <td>yes</td>\n",
       "      <td>yes</td>\n",
       "      <td>cellular</td>\n",
       "      <td>nov</td>\n",
       "      <td>...</td>\n",
       "      <td>2</td>\n",
       "      <td>999</td>\n",
       "      <td>1</td>\n",
       "      <td>failure</td>\n",
       "      <td>-0.07</td>\n",
       "      <td>46.6000</td>\n",
       "      <td>-29.40</td>\n",
       "      <td>5.193</td>\n",
       "      <td>5195.8</td>\n",
       "      <td>0</td>\n",
       "    </tr>\n",
       "    <tr>\n",
       "      <th>6</th>\n",
       "      <td>customer_id_13094</td>\n",
       "      <td>34</td>\n",
       "      <td>blue-collar</td>\n",
       "      <td>single</td>\n",
       "      <td>basic.4y</td>\n",
       "      <td>unknown</td>\n",
       "      <td>no</td>\n",
       "      <td>no</td>\n",
       "      <td>cellular</td>\n",
       "      <td>jul</td>\n",
       "      <td>...</td>\n",
       "      <td>2</td>\n",
       "      <td>999</td>\n",
       "      <td>0</td>\n",
       "      <td>nonexistent</td>\n",
       "      <td>1.43</td>\n",
       "      <td>46.9590</td>\n",
       "      <td>-29.89</td>\n",
       "      <td>5.964</td>\n",
       "      <td>5228.1</td>\n",
       "      <td>0</td>\n",
       "    </tr>\n",
       "    <tr>\n",
       "      <th>7</th>\n",
       "      <td>customer_id_36912</td>\n",
       "      <td>34</td>\n",
       "      <td>technician</td>\n",
       "      <td>single</td>\n",
       "      <td>professional.course</td>\n",
       "      <td>no</td>\n",
       "      <td>no</td>\n",
       "      <td>no</td>\n",
       "      <td>cellular</td>\n",
       "      <td>jun</td>\n",
       "      <td>...</td>\n",
       "      <td>1</td>\n",
       "      <td>999</td>\n",
       "      <td>0</td>\n",
       "      <td>nonexistent</td>\n",
       "      <td>-2.87</td>\n",
       "      <td>46.4815</td>\n",
       "      <td>-28.56</td>\n",
       "      <td>2.217</td>\n",
       "      <td>5076.2</td>\n",
       "      <td>0</td>\n",
       "    </tr>\n",
       "    <tr>\n",
       "      <th>8</th>\n",
       "      <td>customer_id_27834</td>\n",
       "      <td>39</td>\n",
       "      <td>unemployed</td>\n",
       "      <td>single</td>\n",
       "      <td>university.degree</td>\n",
       "      <td>no</td>\n",
       "      <td>yes</td>\n",
       "      <td>no</td>\n",
       "      <td>cellular</td>\n",
       "      <td>mar</td>\n",
       "      <td>...</td>\n",
       "      <td>1</td>\n",
       "      <td>999</td>\n",
       "      <td>0</td>\n",
       "      <td>nonexistent</td>\n",
       "      <td>-1.77</td>\n",
       "      <td>46.4215</td>\n",
       "      <td>-35.00</td>\n",
       "      <td>2.642</td>\n",
       "      <td>5099.1</td>\n",
       "      <td>0</td>\n",
       "    </tr>\n",
       "    <tr>\n",
       "      <th>9</th>\n",
       "      <td>customer_id_9302</td>\n",
       "      <td>40</td>\n",
       "      <td>technician</td>\n",
       "      <td>single</td>\n",
       "      <td>professional.course</td>\n",
       "      <td>no</td>\n",
       "      <td>unknown</td>\n",
       "      <td>unknown</td>\n",
       "      <td>telephone</td>\n",
       "      <td>jun</td>\n",
       "      <td>...</td>\n",
       "      <td>3</td>\n",
       "      <td>999</td>\n",
       "      <td>0</td>\n",
       "      <td>nonexistent</td>\n",
       "      <td>1.43</td>\n",
       "      <td>47.2325</td>\n",
       "      <td>-29.26</td>\n",
       "      <td>5.969</td>\n",
       "      <td>5228.1</td>\n",
       "      <td>0</td>\n",
       "    </tr>\n",
       "    <tr>\n",
       "      <th>10</th>\n",
       "      <td>customer_id_31160</td>\n",
       "      <td>43</td>\n",
       "      <td>blue-collar</td>\n",
       "      <td>single</td>\n",
       "      <td>basic.9y</td>\n",
       "      <td>no</td>\n",
       "      <td>yes</td>\n",
       "      <td>yes</td>\n",
       "      <td>cellular</td>\n",
       "      <td>may</td>\n",
       "      <td>...</td>\n",
       "      <td>1</td>\n",
       "      <td>999</td>\n",
       "      <td>0</td>\n",
       "      <td>nonexistent</td>\n",
       "      <td>-1.77</td>\n",
       "      <td>46.4465</td>\n",
       "      <td>-32.34</td>\n",
       "      <td>2.336</td>\n",
       "      <td>5099.1</td>\n",
       "      <td>0</td>\n",
       "    </tr>\n",
       "    <tr>\n",
       "      <th>11</th>\n",
       "      <td>customer_id_22809</td>\n",
       "      <td>55</td>\n",
       "      <td>housemaid</td>\n",
       "      <td>married</td>\n",
       "      <td>unknown</td>\n",
       "      <td>no</td>\n",
       "      <td>yes</td>\n",
       "      <td>no</td>\n",
       "      <td>cellular</td>\n",
       "      <td>aug</td>\n",
       "      <td>...</td>\n",
       "      <td>2</td>\n",
       "      <td>999</td>\n",
       "      <td>0</td>\n",
       "      <td>nonexistent</td>\n",
       "      <td>1.43</td>\n",
       "      <td>46.7220</td>\n",
       "      <td>-25.27</td>\n",
       "      <td>5.967</td>\n",
       "      <td>5228.1</td>\n",
       "      <td>0</td>\n",
       "    </tr>\n",
       "    <tr>\n",
       "      <th>12</th>\n",
       "      <td>customer_id_31795</td>\n",
       "      <td>29</td>\n",
       "      <td>blue-collar</td>\n",
       "      <td>single</td>\n",
       "      <td>basic.9y</td>\n",
       "      <td>unknown</td>\n",
       "      <td>yes</td>\n",
       "      <td>no</td>\n",
       "      <td>cellular</td>\n",
       "      <td>may</td>\n",
       "      <td>...</td>\n",
       "      <td>1</td>\n",
       "      <td>999</td>\n",
       "      <td>0</td>\n",
       "      <td>nonexistent</td>\n",
       "      <td>-1.77</td>\n",
       "      <td>46.4465</td>\n",
       "      <td>-32.34</td>\n",
       "      <td>2.329</td>\n",
       "      <td>5099.1</td>\n",
       "      <td>0</td>\n",
       "    </tr>\n",
       "    <tr>\n",
       "      <th>13</th>\n",
       "      <td>customer_id_9333</td>\n",
       "      <td>40</td>\n",
       "      <td>blue-collar</td>\n",
       "      <td>married</td>\n",
       "      <td>high.school</td>\n",
       "      <td>unknown</td>\n",
       "      <td>unknown</td>\n",
       "      <td>unknown</td>\n",
       "      <td>telephone</td>\n",
       "      <td>jun</td>\n",
       "      <td>...</td>\n",
       "      <td>1</td>\n",
       "      <td>999</td>\n",
       "      <td>0</td>\n",
       "      <td>nonexistent</td>\n",
       "      <td>1.43</td>\n",
       "      <td>47.2325</td>\n",
       "      <td>-29.26</td>\n",
       "      <td>5.969</td>\n",
       "      <td>5228.1</td>\n",
       "      <td>0</td>\n",
       "    </tr>\n",
       "    <tr>\n",
       "      <th>14</th>\n",
       "      <td>customer_id_16750</td>\n",
       "      <td>29</td>\n",
       "      <td>services</td>\n",
       "      <td>single</td>\n",
       "      <td>high.school</td>\n",
       "      <td>no</td>\n",
       "      <td>yes</td>\n",
       "      <td>no</td>\n",
       "      <td>cellular</td>\n",
       "      <td>jul</td>\n",
       "      <td>...</td>\n",
       "      <td>1</td>\n",
       "      <td>999</td>\n",
       "      <td>0</td>\n",
       "      <td>nonexistent</td>\n",
       "      <td>1.43</td>\n",
       "      <td>46.9590</td>\n",
       "      <td>-29.89</td>\n",
       "      <td>5.964</td>\n",
       "      <td>5228.1</td>\n",
       "      <td>0</td>\n",
       "    </tr>\n",
       "    <tr>\n",
       "      <th>15</th>\n",
       "      <td>customer_id_26843</td>\n",
       "      <td>40</td>\n",
       "      <td>management</td>\n",
       "      <td>married</td>\n",
       "      <td>university.degree</td>\n",
       "      <td>no</td>\n",
       "      <td>yes</td>\n",
       "      <td>no</td>\n",
       "      <td>cellular</td>\n",
       "      <td>nov</td>\n",
       "      <td>...</td>\n",
       "      <td>2</td>\n",
       "      <td>999</td>\n",
       "      <td>0</td>\n",
       "      <td>nonexistent</td>\n",
       "      <td>-0.07</td>\n",
       "      <td>46.6000</td>\n",
       "      <td>-29.40</td>\n",
       "      <td>5.078</td>\n",
       "      <td>5195.8</td>\n",
       "      <td>0</td>\n",
       "    </tr>\n",
       "    <tr>\n",
       "      <th>16</th>\n",
       "      <td>customer_id_30667</td>\n",
       "      <td>38</td>\n",
       "      <td>blue-collar</td>\n",
       "      <td>married</td>\n",
       "      <td>basic.9y</td>\n",
       "      <td>unknown</td>\n",
       "      <td>yes</td>\n",
       "      <td>no</td>\n",
       "      <td>cellular</td>\n",
       "      <td>may</td>\n",
       "      <td>...</td>\n",
       "      <td>5</td>\n",
       "      <td>999</td>\n",
       "      <td>0</td>\n",
       "      <td>nonexistent</td>\n",
       "      <td>-1.77</td>\n",
       "      <td>46.4465</td>\n",
       "      <td>-32.34</td>\n",
       "      <td>2.346</td>\n",
       "      <td>5099.1</td>\n",
       "      <td>0</td>\n",
       "    </tr>\n",
       "    <tr>\n",
       "      <th>17</th>\n",
       "      <td>customer_id_13405</td>\n",
       "      <td>36</td>\n",
       "      <td>admin.</td>\n",
       "      <td>married</td>\n",
       "      <td>high.school</td>\n",
       "      <td>no</td>\n",
       "      <td>no</td>\n",
       "      <td>yes</td>\n",
       "      <td>cellular</td>\n",
       "      <td>jul</td>\n",
       "      <td>...</td>\n",
       "      <td>1</td>\n",
       "      <td>999</td>\n",
       "      <td>0</td>\n",
       "      <td>nonexistent</td>\n",
       "      <td>1.43</td>\n",
       "      <td>46.9590</td>\n",
       "      <td>-29.89</td>\n",
       "      <td>5.964</td>\n",
       "      <td>5228.1</td>\n",
       "      <td>0</td>\n",
       "    </tr>\n",
       "    <tr>\n",
       "      <th>18</th>\n",
       "      <td>customer_id_14518</td>\n",
       "      <td>30</td>\n",
       "      <td>blue-collar</td>\n",
       "      <td>single</td>\n",
       "      <td>basic.4y</td>\n",
       "      <td>unknown</td>\n",
       "      <td>no</td>\n",
       "      <td>no</td>\n",
       "      <td>cellular</td>\n",
       "      <td>jul</td>\n",
       "      <td>...</td>\n",
       "      <td>5</td>\n",
       "      <td>999</td>\n",
       "      <td>0</td>\n",
       "      <td>nonexistent</td>\n",
       "      <td>1.43</td>\n",
       "      <td>46.9590</td>\n",
       "      <td>-29.89</td>\n",
       "      <td>5.963</td>\n",
       "      <td>5228.1</td>\n",
       "      <td>0</td>\n",
       "    </tr>\n",
       "    <tr>\n",
       "      <th>19</th>\n",
       "      <td>customer_id_5245</td>\n",
       "      <td>48</td>\n",
       "      <td>management</td>\n",
       "      <td>married</td>\n",
       "      <td>university.degree</td>\n",
       "      <td>no</td>\n",
       "      <td>yes</td>\n",
       "      <td>no</td>\n",
       "      <td>telephone</td>\n",
       "      <td>may</td>\n",
       "      <td>...</td>\n",
       "      <td>5</td>\n",
       "      <td>999</td>\n",
       "      <td>0</td>\n",
       "      <td>nonexistent</td>\n",
       "      <td>1.13</td>\n",
       "      <td>46.9970</td>\n",
       "      <td>-25.48</td>\n",
       "      <td>5.859</td>\n",
       "      <td>5191.0</td>\n",
       "      <td>0</td>\n",
       "    </tr>\n",
       "  </tbody>\n",
       "</table>\n",
       "<p>20 rows × 22 columns</p>\n",
       "</div>"
      ],
      "text/plain": [
       "          customer_id  age           job  marital            education  \\\n",
       "0   customer_id_39075   31        admin.  married    university.degree   \n",
       "1   customer_id_34855   31    technician   single    university.degree   \n",
       "2    customer_id_7107   47   blue-collar  married             basic.6y   \n",
       "3   customer_id_31614   36      services  married    university.degree   \n",
       "4   customer_id_34878   34        admin.   single          high.school   \n",
       "5   customer_id_24606   48  entrepreneur  married    university.degree   \n",
       "6   customer_id_13094   34   blue-collar   single             basic.4y   \n",
       "7   customer_id_36912   34    technician   single  professional.course   \n",
       "8   customer_id_27834   39    unemployed   single    university.degree   \n",
       "9    customer_id_9302   40    technician   single  professional.course   \n",
       "10  customer_id_31160   43   blue-collar   single             basic.9y   \n",
       "11  customer_id_22809   55     housemaid  married              unknown   \n",
       "12  customer_id_31795   29   blue-collar   single             basic.9y   \n",
       "13   customer_id_9333   40   blue-collar  married          high.school   \n",
       "14  customer_id_16750   29      services   single          high.school   \n",
       "15  customer_id_26843   40    management  married    university.degree   \n",
       "16  customer_id_30667   38   blue-collar  married             basic.9y   \n",
       "17  customer_id_13405   36        admin.  married          high.school   \n",
       "18  customer_id_14518   30   blue-collar   single             basic.4y   \n",
       "19   customer_id_5245   48    management  married    university.degree   \n",
       "\n",
       "    default  housing     loan    contact month  ... campaign  pdays  previous  \\\n",
       "0        no       no       no   cellular   dec  ...        3    999         1   \n",
       "1        no       no       no  telephone   may  ...        4    999         0   \n",
       "2   unknown      yes       no  telephone   may  ...        2    999         0   \n",
       "3        no       no       no   cellular   may  ...        1    999         1   \n",
       "4        no       no       no   cellular   may  ...        9    999         0   \n",
       "5        no      yes      yes   cellular   nov  ...        2    999         1   \n",
       "6   unknown       no       no   cellular   jul  ...        2    999         0   \n",
       "7        no       no       no   cellular   jun  ...        1    999         0   \n",
       "8        no      yes       no   cellular   mar  ...        1    999         0   \n",
       "9        no  unknown  unknown  telephone   jun  ...        3    999         0   \n",
       "10       no      yes      yes   cellular   may  ...        1    999         0   \n",
       "11       no      yes       no   cellular   aug  ...        2    999         0   \n",
       "12  unknown      yes       no   cellular   may  ...        1    999         0   \n",
       "13  unknown  unknown  unknown  telephone   jun  ...        1    999         0   \n",
       "14       no      yes       no   cellular   jul  ...        1    999         0   \n",
       "15       no      yes       no   cellular   nov  ...        2    999         0   \n",
       "16  unknown      yes       no   cellular   may  ...        5    999         0   \n",
       "17       no       no      yes   cellular   jul  ...        1    999         0   \n",
       "18  unknown       no       no   cellular   jul  ...        5    999         0   \n",
       "19       no      yes       no  telephone   may  ...        5    999         0   \n",
       "\n",
       "       poutcome  emp_var_rate cons_price_idx  cons_conf_idx  euribor3m  \\\n",
       "0       failure         -2.97        46.3565         -23.10      1.711   \n",
       "1   nonexistent         -1.77        46.4465         -32.34      2.252   \n",
       "2   nonexistent          1.13        46.9970         -25.48      5.862   \n",
       "3       failure         -1.77        46.4465         -32.34      2.329   \n",
       "4   nonexistent         -1.77        46.4465         -32.34      2.252   \n",
       "5       failure         -0.07        46.6000         -29.40      5.193   \n",
       "6   nonexistent          1.43        46.9590         -29.89      5.964   \n",
       "7   nonexistent         -2.87        46.4815         -28.56      2.217   \n",
       "8   nonexistent         -1.77        46.4215         -35.00      2.642   \n",
       "9   nonexistent          1.43        47.2325         -29.26      5.969   \n",
       "10  nonexistent         -1.77        46.4465         -32.34      2.336   \n",
       "11  nonexistent          1.43        46.7220         -25.27      5.967   \n",
       "12  nonexistent         -1.77        46.4465         -32.34      2.329   \n",
       "13  nonexistent          1.43        47.2325         -29.26      5.969   \n",
       "14  nonexistent          1.43        46.9590         -29.89      5.964   \n",
       "15  nonexistent         -0.07        46.6000         -29.40      5.078   \n",
       "16  nonexistent         -1.77        46.4465         -32.34      2.346   \n",
       "17  nonexistent          1.43        46.9590         -29.89      5.964   \n",
       "18  nonexistent          1.43        46.9590         -29.89      5.963   \n",
       "19  nonexistent          1.13        46.9970         -25.48      5.859   \n",
       "\n",
       "    nr_employed  subscribed  \n",
       "0        5023.5           0  \n",
       "1        5099.1           0  \n",
       "2        5191.0           0  \n",
       "3        5099.1           0  \n",
       "4        5099.1           0  \n",
       "5        5195.8           0  \n",
       "6        5228.1           0  \n",
       "7        5076.2           0  \n",
       "8        5099.1           0  \n",
       "9        5228.1           0  \n",
       "10       5099.1           0  \n",
       "11       5228.1           0  \n",
       "12       5099.1           0  \n",
       "13       5228.1           0  \n",
       "14       5228.1           0  \n",
       "15       5195.8           0  \n",
       "16       5099.1           0  \n",
       "17       5228.1           0  \n",
       "18       5228.1           0  \n",
       "19       5191.0           0  \n",
       "\n",
       "[20 rows x 22 columns]"
      ]
     },
     "execution_count": 2,
     "metadata": {},
     "output_type": "execute_result"
    }
   ],
   "source": [
    "train_data = pd.read_csv(r\"C:\\Users\\OLAOYE\\Desktop\\FUOYE AI+\\AI_invasion\\data\\train.csv\")\n",
    "train_data.head(20)"
   ]
  },
  {
   "cell_type": "code",
   "execution_count": 3,
   "metadata": {},
   "outputs": [
    {
     "data": {
      "text/plain": [
       "Index(['customer_id', 'age', 'job', 'marital', 'education', 'default',\n",
       "       'housing', 'loan', 'contact', 'month', 'day_of_week', 'duration',\n",
       "       'campaign', 'pdays', 'previous', 'poutcome', 'emp_var_rate',\n",
       "       'cons_price_idx', 'cons_conf_idx', 'euribor3m', 'nr_employed',\n",
       "       'subscribed'],\n",
       "      dtype='object')"
      ]
     },
     "execution_count": 3,
     "metadata": {},
     "output_type": "execute_result"
    }
   ],
   "source": [
    "train_data.columns"
   ]
  },
  {
   "cell_type": "code",
   "execution_count": 4,
   "metadata": {
    "scrolled": true
   },
   "outputs": [
    {
     "name": "stdout",
     "output_type": "stream",
     "text": [
      "<class 'pandas.core.frame.DataFrame'>\n",
      "RangeIndex: 28831 entries, 0 to 28830\n",
      "Data columns (total 22 columns):\n",
      " #   Column          Non-Null Count  Dtype  \n",
      "---  ------          --------------  -----  \n",
      " 0   customer_id     28831 non-null  object \n",
      " 1   age             28831 non-null  int64  \n",
      " 2   job             28831 non-null  object \n",
      " 3   marital         28831 non-null  object \n",
      " 4   education       28831 non-null  object \n",
      " 5   default         28831 non-null  object \n",
      " 6   housing         28831 non-null  object \n",
      " 7   loan            28831 non-null  object \n",
      " 8   contact         28831 non-null  object \n",
      " 9   month           28831 non-null  object \n",
      " 10  day_of_week     28831 non-null  object \n",
      " 11  duration        28831 non-null  float64\n",
      " 12  campaign        28831 non-null  int64  \n",
      " 13  pdays           28831 non-null  int64  \n",
      " 14  previous        28831 non-null  int64  \n",
      " 15  poutcome        28831 non-null  object \n",
      " 16  emp_var_rate    28831 non-null  float64\n",
      " 17  cons_price_idx  28831 non-null  float64\n",
      " 18  cons_conf_idx   28831 non-null  float64\n",
      " 19  euribor3m       28831 non-null  float64\n",
      " 20  nr_employed     28831 non-null  float64\n",
      " 21  subscribed      28831 non-null  int64  \n",
      "dtypes: float64(6), int64(5), object(11)\n",
      "memory usage: 4.8+ MB\n"
     ]
    }
   ],
   "source": [
    "train_data.info()"
   ]
  },
  {
   "cell_type": "markdown",
   "metadata": {},
   "source": [
    "#### Dropping NaN values and converting objects to numbers"
   ]
  },
  {
   "cell_type": "code",
   "execution_count": 5,
   "metadata": {},
   "outputs": [],
   "source": [
    "train_data.replace(\"unknown\", np.nan, inplace=True)"
   ]
  },
  {
   "cell_type": "code",
   "execution_count": 6,
   "metadata": {},
   "outputs": [
    {
     "data": {
      "text/html": [
       "<div>\n",
       "<style scoped>\n",
       "    .dataframe tbody tr th:only-of-type {\n",
       "        vertical-align: middle;\n",
       "    }\n",
       "\n",
       "    .dataframe tbody tr th {\n",
       "        vertical-align: top;\n",
       "    }\n",
       "\n",
       "    .dataframe thead th {\n",
       "        text-align: right;\n",
       "    }\n",
       "</style>\n",
       "<table border=\"1\" class=\"dataframe\">\n",
       "  <thead>\n",
       "    <tr style=\"text-align: right;\">\n",
       "      <th></th>\n",
       "      <th>customer_id</th>\n",
       "      <th>age</th>\n",
       "      <th>job</th>\n",
       "      <th>marital</th>\n",
       "      <th>education</th>\n",
       "      <th>default</th>\n",
       "      <th>housing</th>\n",
       "      <th>loan</th>\n",
       "      <th>contact</th>\n",
       "      <th>month</th>\n",
       "      <th>...</th>\n",
       "      <th>campaign</th>\n",
       "      <th>pdays</th>\n",
       "      <th>previous</th>\n",
       "      <th>poutcome</th>\n",
       "      <th>emp_var_rate</th>\n",
       "      <th>cons_price_idx</th>\n",
       "      <th>cons_conf_idx</th>\n",
       "      <th>euribor3m</th>\n",
       "      <th>nr_employed</th>\n",
       "      <th>subscribed</th>\n",
       "    </tr>\n",
       "  </thead>\n",
       "  <tbody>\n",
       "    <tr>\n",
       "      <th>0</th>\n",
       "      <td>customer_id_39075</td>\n",
       "      <td>31</td>\n",
       "      <td>admin.</td>\n",
       "      <td>married</td>\n",
       "      <td>university.degree</td>\n",
       "      <td>no</td>\n",
       "      <td>no</td>\n",
       "      <td>no</td>\n",
       "      <td>cellular</td>\n",
       "      <td>dec</td>\n",
       "      <td>...</td>\n",
       "      <td>3</td>\n",
       "      <td>999</td>\n",
       "      <td>1</td>\n",
       "      <td>failure</td>\n",
       "      <td>-2.97</td>\n",
       "      <td>46.3565</td>\n",
       "      <td>-23.10</td>\n",
       "      <td>1.711</td>\n",
       "      <td>5023.5</td>\n",
       "      <td>0</td>\n",
       "    </tr>\n",
       "    <tr>\n",
       "      <th>1</th>\n",
       "      <td>customer_id_34855</td>\n",
       "      <td>31</td>\n",
       "      <td>technician</td>\n",
       "      <td>single</td>\n",
       "      <td>university.degree</td>\n",
       "      <td>no</td>\n",
       "      <td>no</td>\n",
       "      <td>no</td>\n",
       "      <td>telephone</td>\n",
       "      <td>may</td>\n",
       "      <td>...</td>\n",
       "      <td>4</td>\n",
       "      <td>999</td>\n",
       "      <td>0</td>\n",
       "      <td>nonexistent</td>\n",
       "      <td>-1.77</td>\n",
       "      <td>46.4465</td>\n",
       "      <td>-32.34</td>\n",
       "      <td>2.252</td>\n",
       "      <td>5099.1</td>\n",
       "      <td>0</td>\n",
       "    </tr>\n",
       "    <tr>\n",
       "      <th>2</th>\n",
       "      <td>customer_id_7107</td>\n",
       "      <td>47</td>\n",
       "      <td>blue-collar</td>\n",
       "      <td>married</td>\n",
       "      <td>basic.6y</td>\n",
       "      <td>NaN</td>\n",
       "      <td>yes</td>\n",
       "      <td>no</td>\n",
       "      <td>telephone</td>\n",
       "      <td>may</td>\n",
       "      <td>...</td>\n",
       "      <td>2</td>\n",
       "      <td>999</td>\n",
       "      <td>0</td>\n",
       "      <td>nonexistent</td>\n",
       "      <td>1.13</td>\n",
       "      <td>46.9970</td>\n",
       "      <td>-25.48</td>\n",
       "      <td>5.862</td>\n",
       "      <td>5191.0</td>\n",
       "      <td>0</td>\n",
       "    </tr>\n",
       "    <tr>\n",
       "      <th>3</th>\n",
       "      <td>customer_id_31614</td>\n",
       "      <td>36</td>\n",
       "      <td>services</td>\n",
       "      <td>married</td>\n",
       "      <td>university.degree</td>\n",
       "      <td>no</td>\n",
       "      <td>no</td>\n",
       "      <td>no</td>\n",
       "      <td>cellular</td>\n",
       "      <td>may</td>\n",
       "      <td>...</td>\n",
       "      <td>1</td>\n",
       "      <td>999</td>\n",
       "      <td>1</td>\n",
       "      <td>failure</td>\n",
       "      <td>-1.77</td>\n",
       "      <td>46.4465</td>\n",
       "      <td>-32.34</td>\n",
       "      <td>2.329</td>\n",
       "      <td>5099.1</td>\n",
       "      <td>0</td>\n",
       "    </tr>\n",
       "    <tr>\n",
       "      <th>4</th>\n",
       "      <td>customer_id_34878</td>\n",
       "      <td>34</td>\n",
       "      <td>admin.</td>\n",
       "      <td>single</td>\n",
       "      <td>high.school</td>\n",
       "      <td>no</td>\n",
       "      <td>no</td>\n",
       "      <td>no</td>\n",
       "      <td>cellular</td>\n",
       "      <td>may</td>\n",
       "      <td>...</td>\n",
       "      <td>9</td>\n",
       "      <td>999</td>\n",
       "      <td>0</td>\n",
       "      <td>nonexistent</td>\n",
       "      <td>-1.77</td>\n",
       "      <td>46.4465</td>\n",
       "      <td>-32.34</td>\n",
       "      <td>2.252</td>\n",
       "      <td>5099.1</td>\n",
       "      <td>0</td>\n",
       "    </tr>\n",
       "    <tr>\n",
       "      <th>5</th>\n",
       "      <td>customer_id_24606</td>\n",
       "      <td>48</td>\n",
       "      <td>entrepreneur</td>\n",
       "      <td>married</td>\n",
       "      <td>university.degree</td>\n",
       "      <td>no</td>\n",
       "      <td>yes</td>\n",
       "      <td>yes</td>\n",
       "      <td>cellular</td>\n",
       "      <td>nov</td>\n",
       "      <td>...</td>\n",
       "      <td>2</td>\n",
       "      <td>999</td>\n",
       "      <td>1</td>\n",
       "      <td>failure</td>\n",
       "      <td>-0.07</td>\n",
       "      <td>46.6000</td>\n",
       "      <td>-29.40</td>\n",
       "      <td>5.193</td>\n",
       "      <td>5195.8</td>\n",
       "      <td>0</td>\n",
       "    </tr>\n",
       "    <tr>\n",
       "      <th>6</th>\n",
       "      <td>customer_id_13094</td>\n",
       "      <td>34</td>\n",
       "      <td>blue-collar</td>\n",
       "      <td>single</td>\n",
       "      <td>basic.4y</td>\n",
       "      <td>NaN</td>\n",
       "      <td>no</td>\n",
       "      <td>no</td>\n",
       "      <td>cellular</td>\n",
       "      <td>jul</td>\n",
       "      <td>...</td>\n",
       "      <td>2</td>\n",
       "      <td>999</td>\n",
       "      <td>0</td>\n",
       "      <td>nonexistent</td>\n",
       "      <td>1.43</td>\n",
       "      <td>46.9590</td>\n",
       "      <td>-29.89</td>\n",
       "      <td>5.964</td>\n",
       "      <td>5228.1</td>\n",
       "      <td>0</td>\n",
       "    </tr>\n",
       "    <tr>\n",
       "      <th>7</th>\n",
       "      <td>customer_id_36912</td>\n",
       "      <td>34</td>\n",
       "      <td>technician</td>\n",
       "      <td>single</td>\n",
       "      <td>professional.course</td>\n",
       "      <td>no</td>\n",
       "      <td>no</td>\n",
       "      <td>no</td>\n",
       "      <td>cellular</td>\n",
       "      <td>jun</td>\n",
       "      <td>...</td>\n",
       "      <td>1</td>\n",
       "      <td>999</td>\n",
       "      <td>0</td>\n",
       "      <td>nonexistent</td>\n",
       "      <td>-2.87</td>\n",
       "      <td>46.4815</td>\n",
       "      <td>-28.56</td>\n",
       "      <td>2.217</td>\n",
       "      <td>5076.2</td>\n",
       "      <td>0</td>\n",
       "    </tr>\n",
       "    <tr>\n",
       "      <th>8</th>\n",
       "      <td>customer_id_27834</td>\n",
       "      <td>39</td>\n",
       "      <td>unemployed</td>\n",
       "      <td>single</td>\n",
       "      <td>university.degree</td>\n",
       "      <td>no</td>\n",
       "      <td>yes</td>\n",
       "      <td>no</td>\n",
       "      <td>cellular</td>\n",
       "      <td>mar</td>\n",
       "      <td>...</td>\n",
       "      <td>1</td>\n",
       "      <td>999</td>\n",
       "      <td>0</td>\n",
       "      <td>nonexistent</td>\n",
       "      <td>-1.77</td>\n",
       "      <td>46.4215</td>\n",
       "      <td>-35.00</td>\n",
       "      <td>2.642</td>\n",
       "      <td>5099.1</td>\n",
       "      <td>0</td>\n",
       "    </tr>\n",
       "    <tr>\n",
       "      <th>9</th>\n",
       "      <td>customer_id_9302</td>\n",
       "      <td>40</td>\n",
       "      <td>technician</td>\n",
       "      <td>single</td>\n",
       "      <td>professional.course</td>\n",
       "      <td>no</td>\n",
       "      <td>NaN</td>\n",
       "      <td>NaN</td>\n",
       "      <td>telephone</td>\n",
       "      <td>jun</td>\n",
       "      <td>...</td>\n",
       "      <td>3</td>\n",
       "      <td>999</td>\n",
       "      <td>0</td>\n",
       "      <td>nonexistent</td>\n",
       "      <td>1.43</td>\n",
       "      <td>47.2325</td>\n",
       "      <td>-29.26</td>\n",
       "      <td>5.969</td>\n",
       "      <td>5228.1</td>\n",
       "      <td>0</td>\n",
       "    </tr>\n",
       "    <tr>\n",
       "      <th>10</th>\n",
       "      <td>customer_id_31160</td>\n",
       "      <td>43</td>\n",
       "      <td>blue-collar</td>\n",
       "      <td>single</td>\n",
       "      <td>basic.9y</td>\n",
       "      <td>no</td>\n",
       "      <td>yes</td>\n",
       "      <td>yes</td>\n",
       "      <td>cellular</td>\n",
       "      <td>may</td>\n",
       "      <td>...</td>\n",
       "      <td>1</td>\n",
       "      <td>999</td>\n",
       "      <td>0</td>\n",
       "      <td>nonexistent</td>\n",
       "      <td>-1.77</td>\n",
       "      <td>46.4465</td>\n",
       "      <td>-32.34</td>\n",
       "      <td>2.336</td>\n",
       "      <td>5099.1</td>\n",
       "      <td>0</td>\n",
       "    </tr>\n",
       "    <tr>\n",
       "      <th>11</th>\n",
       "      <td>customer_id_22809</td>\n",
       "      <td>55</td>\n",
       "      <td>housemaid</td>\n",
       "      <td>married</td>\n",
       "      <td>NaN</td>\n",
       "      <td>no</td>\n",
       "      <td>yes</td>\n",
       "      <td>no</td>\n",
       "      <td>cellular</td>\n",
       "      <td>aug</td>\n",
       "      <td>...</td>\n",
       "      <td>2</td>\n",
       "      <td>999</td>\n",
       "      <td>0</td>\n",
       "      <td>nonexistent</td>\n",
       "      <td>1.43</td>\n",
       "      <td>46.7220</td>\n",
       "      <td>-25.27</td>\n",
       "      <td>5.967</td>\n",
       "      <td>5228.1</td>\n",
       "      <td>0</td>\n",
       "    </tr>\n",
       "    <tr>\n",
       "      <th>12</th>\n",
       "      <td>customer_id_31795</td>\n",
       "      <td>29</td>\n",
       "      <td>blue-collar</td>\n",
       "      <td>single</td>\n",
       "      <td>basic.9y</td>\n",
       "      <td>NaN</td>\n",
       "      <td>yes</td>\n",
       "      <td>no</td>\n",
       "      <td>cellular</td>\n",
       "      <td>may</td>\n",
       "      <td>...</td>\n",
       "      <td>1</td>\n",
       "      <td>999</td>\n",
       "      <td>0</td>\n",
       "      <td>nonexistent</td>\n",
       "      <td>-1.77</td>\n",
       "      <td>46.4465</td>\n",
       "      <td>-32.34</td>\n",
       "      <td>2.329</td>\n",
       "      <td>5099.1</td>\n",
       "      <td>0</td>\n",
       "    </tr>\n",
       "    <tr>\n",
       "      <th>13</th>\n",
       "      <td>customer_id_9333</td>\n",
       "      <td>40</td>\n",
       "      <td>blue-collar</td>\n",
       "      <td>married</td>\n",
       "      <td>high.school</td>\n",
       "      <td>NaN</td>\n",
       "      <td>NaN</td>\n",
       "      <td>NaN</td>\n",
       "      <td>telephone</td>\n",
       "      <td>jun</td>\n",
       "      <td>...</td>\n",
       "      <td>1</td>\n",
       "      <td>999</td>\n",
       "      <td>0</td>\n",
       "      <td>nonexistent</td>\n",
       "      <td>1.43</td>\n",
       "      <td>47.2325</td>\n",
       "      <td>-29.26</td>\n",
       "      <td>5.969</td>\n",
       "      <td>5228.1</td>\n",
       "      <td>0</td>\n",
       "    </tr>\n",
       "    <tr>\n",
       "      <th>14</th>\n",
       "      <td>customer_id_16750</td>\n",
       "      <td>29</td>\n",
       "      <td>services</td>\n",
       "      <td>single</td>\n",
       "      <td>high.school</td>\n",
       "      <td>no</td>\n",
       "      <td>yes</td>\n",
       "      <td>no</td>\n",
       "      <td>cellular</td>\n",
       "      <td>jul</td>\n",
       "      <td>...</td>\n",
       "      <td>1</td>\n",
       "      <td>999</td>\n",
       "      <td>0</td>\n",
       "      <td>nonexistent</td>\n",
       "      <td>1.43</td>\n",
       "      <td>46.9590</td>\n",
       "      <td>-29.89</td>\n",
       "      <td>5.964</td>\n",
       "      <td>5228.1</td>\n",
       "      <td>0</td>\n",
       "    </tr>\n",
       "    <tr>\n",
       "      <th>15</th>\n",
       "      <td>customer_id_26843</td>\n",
       "      <td>40</td>\n",
       "      <td>management</td>\n",
       "      <td>married</td>\n",
       "      <td>university.degree</td>\n",
       "      <td>no</td>\n",
       "      <td>yes</td>\n",
       "      <td>no</td>\n",
       "      <td>cellular</td>\n",
       "      <td>nov</td>\n",
       "      <td>...</td>\n",
       "      <td>2</td>\n",
       "      <td>999</td>\n",
       "      <td>0</td>\n",
       "      <td>nonexistent</td>\n",
       "      <td>-0.07</td>\n",
       "      <td>46.6000</td>\n",
       "      <td>-29.40</td>\n",
       "      <td>5.078</td>\n",
       "      <td>5195.8</td>\n",
       "      <td>0</td>\n",
       "    </tr>\n",
       "    <tr>\n",
       "      <th>16</th>\n",
       "      <td>customer_id_30667</td>\n",
       "      <td>38</td>\n",
       "      <td>blue-collar</td>\n",
       "      <td>married</td>\n",
       "      <td>basic.9y</td>\n",
       "      <td>NaN</td>\n",
       "      <td>yes</td>\n",
       "      <td>no</td>\n",
       "      <td>cellular</td>\n",
       "      <td>may</td>\n",
       "      <td>...</td>\n",
       "      <td>5</td>\n",
       "      <td>999</td>\n",
       "      <td>0</td>\n",
       "      <td>nonexistent</td>\n",
       "      <td>-1.77</td>\n",
       "      <td>46.4465</td>\n",
       "      <td>-32.34</td>\n",
       "      <td>2.346</td>\n",
       "      <td>5099.1</td>\n",
       "      <td>0</td>\n",
       "    </tr>\n",
       "    <tr>\n",
       "      <th>17</th>\n",
       "      <td>customer_id_13405</td>\n",
       "      <td>36</td>\n",
       "      <td>admin.</td>\n",
       "      <td>married</td>\n",
       "      <td>high.school</td>\n",
       "      <td>no</td>\n",
       "      <td>no</td>\n",
       "      <td>yes</td>\n",
       "      <td>cellular</td>\n",
       "      <td>jul</td>\n",
       "      <td>...</td>\n",
       "      <td>1</td>\n",
       "      <td>999</td>\n",
       "      <td>0</td>\n",
       "      <td>nonexistent</td>\n",
       "      <td>1.43</td>\n",
       "      <td>46.9590</td>\n",
       "      <td>-29.89</td>\n",
       "      <td>5.964</td>\n",
       "      <td>5228.1</td>\n",
       "      <td>0</td>\n",
       "    </tr>\n",
       "    <tr>\n",
       "      <th>18</th>\n",
       "      <td>customer_id_14518</td>\n",
       "      <td>30</td>\n",
       "      <td>blue-collar</td>\n",
       "      <td>single</td>\n",
       "      <td>basic.4y</td>\n",
       "      <td>NaN</td>\n",
       "      <td>no</td>\n",
       "      <td>no</td>\n",
       "      <td>cellular</td>\n",
       "      <td>jul</td>\n",
       "      <td>...</td>\n",
       "      <td>5</td>\n",
       "      <td>999</td>\n",
       "      <td>0</td>\n",
       "      <td>nonexistent</td>\n",
       "      <td>1.43</td>\n",
       "      <td>46.9590</td>\n",
       "      <td>-29.89</td>\n",
       "      <td>5.963</td>\n",
       "      <td>5228.1</td>\n",
       "      <td>0</td>\n",
       "    </tr>\n",
       "    <tr>\n",
       "      <th>19</th>\n",
       "      <td>customer_id_5245</td>\n",
       "      <td>48</td>\n",
       "      <td>management</td>\n",
       "      <td>married</td>\n",
       "      <td>university.degree</td>\n",
       "      <td>no</td>\n",
       "      <td>yes</td>\n",
       "      <td>no</td>\n",
       "      <td>telephone</td>\n",
       "      <td>may</td>\n",
       "      <td>...</td>\n",
       "      <td>5</td>\n",
       "      <td>999</td>\n",
       "      <td>0</td>\n",
       "      <td>nonexistent</td>\n",
       "      <td>1.13</td>\n",
       "      <td>46.9970</td>\n",
       "      <td>-25.48</td>\n",
       "      <td>5.859</td>\n",
       "      <td>5191.0</td>\n",
       "      <td>0</td>\n",
       "    </tr>\n",
       "    <tr>\n",
       "      <th>20</th>\n",
       "      <td>customer_id_1715</td>\n",
       "      <td>47</td>\n",
       "      <td>unemployed</td>\n",
       "      <td>married</td>\n",
       "      <td>high.school</td>\n",
       "      <td>NaN</td>\n",
       "      <td>no</td>\n",
       "      <td>no</td>\n",
       "      <td>telephone</td>\n",
       "      <td>may</td>\n",
       "      <td>...</td>\n",
       "      <td>2</td>\n",
       "      <td>999</td>\n",
       "      <td>0</td>\n",
       "      <td>nonexistent</td>\n",
       "      <td>1.13</td>\n",
       "      <td>46.9970</td>\n",
       "      <td>-25.48</td>\n",
       "      <td>5.857</td>\n",
       "      <td>5191.0</td>\n",
       "      <td>0</td>\n",
       "    </tr>\n",
       "    <tr>\n",
       "      <th>21</th>\n",
       "      <td>customer_id_27346</td>\n",
       "      <td>53</td>\n",
       "      <td>admin.</td>\n",
       "      <td>married</td>\n",
       "      <td>university.degree</td>\n",
       "      <td>no</td>\n",
       "      <td>no</td>\n",
       "      <td>yes</td>\n",
       "      <td>cellular</td>\n",
       "      <td>nov</td>\n",
       "      <td>...</td>\n",
       "      <td>1</td>\n",
       "      <td>999</td>\n",
       "      <td>0</td>\n",
       "      <td>nonexistent</td>\n",
       "      <td>-0.07</td>\n",
       "      <td>46.6000</td>\n",
       "      <td>-29.40</td>\n",
       "      <td>5.023</td>\n",
       "      <td>5195.8</td>\n",
       "      <td>0</td>\n",
       "    </tr>\n",
       "    <tr>\n",
       "      <th>22</th>\n",
       "      <td>customer_id_20496</td>\n",
       "      <td>37</td>\n",
       "      <td>unemployed</td>\n",
       "      <td>married</td>\n",
       "      <td>university.degree</td>\n",
       "      <td>no</td>\n",
       "      <td>no</td>\n",
       "      <td>no</td>\n",
       "      <td>cellular</td>\n",
       "      <td>aug</td>\n",
       "      <td>...</td>\n",
       "      <td>2</td>\n",
       "      <td>999</td>\n",
       "      <td>0</td>\n",
       "      <td>nonexistent</td>\n",
       "      <td>1.43</td>\n",
       "      <td>46.7220</td>\n",
       "      <td>-25.27</td>\n",
       "      <td>5.968</td>\n",
       "      <td>5228.1</td>\n",
       "      <td>0</td>\n",
       "    </tr>\n",
       "    <tr>\n",
       "      <th>23</th>\n",
       "      <td>customer_id_41005</td>\n",
       "      <td>65</td>\n",
       "      <td>NaN</td>\n",
       "      <td>married</td>\n",
       "      <td>professional.course</td>\n",
       "      <td>no</td>\n",
       "      <td>no</td>\n",
       "      <td>no</td>\n",
       "      <td>cellular</td>\n",
       "      <td>oct</td>\n",
       "      <td>...</td>\n",
       "      <td>1</td>\n",
       "      <td>6</td>\n",
       "      <td>1</td>\n",
       "      <td>success</td>\n",
       "      <td>-1.07</td>\n",
       "      <td>47.3005</td>\n",
       "      <td>-34.65</td>\n",
       "      <td>2.027</td>\n",
       "      <td>4963.6</td>\n",
       "      <td>0</td>\n",
       "    </tr>\n",
       "    <tr>\n",
       "      <th>24</th>\n",
       "      <td>customer_id_15709</td>\n",
       "      <td>38</td>\n",
       "      <td>blue-collar</td>\n",
       "      <td>married</td>\n",
       "      <td>basic.9y</td>\n",
       "      <td>no</td>\n",
       "      <td>no</td>\n",
       "      <td>no</td>\n",
       "      <td>cellular</td>\n",
       "      <td>jul</td>\n",
       "      <td>...</td>\n",
       "      <td>1</td>\n",
       "      <td>999</td>\n",
       "      <td>0</td>\n",
       "      <td>nonexistent</td>\n",
       "      <td>1.43</td>\n",
       "      <td>46.9590</td>\n",
       "      <td>-29.89</td>\n",
       "      <td>5.962</td>\n",
       "      <td>5228.1</td>\n",
       "      <td>0</td>\n",
       "    </tr>\n",
       "    <tr>\n",
       "      <th>25</th>\n",
       "      <td>customer_id_29276</td>\n",
       "      <td>51</td>\n",
       "      <td>technician</td>\n",
       "      <td>married</td>\n",
       "      <td>NaN</td>\n",
       "      <td>no</td>\n",
       "      <td>no</td>\n",
       "      <td>no</td>\n",
       "      <td>cellular</td>\n",
       "      <td>apr</td>\n",
       "      <td>...</td>\n",
       "      <td>1</td>\n",
       "      <td>999</td>\n",
       "      <td>0</td>\n",
       "      <td>nonexistent</td>\n",
       "      <td>-1.77</td>\n",
       "      <td>46.5375</td>\n",
       "      <td>-32.97</td>\n",
       "      <td>2.407</td>\n",
       "      <td>5099.1</td>\n",
       "      <td>1</td>\n",
       "    </tr>\n",
       "    <tr>\n",
       "      <th>26</th>\n",
       "      <td>customer_id_29288</td>\n",
       "      <td>42</td>\n",
       "      <td>blue-collar</td>\n",
       "      <td>single</td>\n",
       "      <td>basic.6y</td>\n",
       "      <td>NaN</td>\n",
       "      <td>yes</td>\n",
       "      <td>no</td>\n",
       "      <td>cellular</td>\n",
       "      <td>apr</td>\n",
       "      <td>...</td>\n",
       "      <td>3</td>\n",
       "      <td>999</td>\n",
       "      <td>1</td>\n",
       "      <td>failure</td>\n",
       "      <td>-1.77</td>\n",
       "      <td>46.5375</td>\n",
       "      <td>-32.97</td>\n",
       "      <td>2.407</td>\n",
       "      <td>5099.1</td>\n",
       "      <td>0</td>\n",
       "    </tr>\n",
       "    <tr>\n",
       "      <th>27</th>\n",
       "      <td>customer_id_28971</td>\n",
       "      <td>36</td>\n",
       "      <td>blue-collar</td>\n",
       "      <td>divorced</td>\n",
       "      <td>basic.4y</td>\n",
       "      <td>no</td>\n",
       "      <td>yes</td>\n",
       "      <td>no</td>\n",
       "      <td>cellular</td>\n",
       "      <td>apr</td>\n",
       "      <td>...</td>\n",
       "      <td>1</td>\n",
       "      <td>999</td>\n",
       "      <td>1</td>\n",
       "      <td>failure</td>\n",
       "      <td>-1.77</td>\n",
       "      <td>46.5375</td>\n",
       "      <td>-32.97</td>\n",
       "      <td>2.407</td>\n",
       "      <td>5099.1</td>\n",
       "      <td>0</td>\n",
       "    </tr>\n",
       "    <tr>\n",
       "      <th>28</th>\n",
       "      <td>customer_id_19832</td>\n",
       "      <td>36</td>\n",
       "      <td>admin.</td>\n",
       "      <td>married</td>\n",
       "      <td>university.degree</td>\n",
       "      <td>no</td>\n",
       "      <td>yes</td>\n",
       "      <td>no</td>\n",
       "      <td>cellular</td>\n",
       "      <td>aug</td>\n",
       "      <td>...</td>\n",
       "      <td>1</td>\n",
       "      <td>999</td>\n",
       "      <td>0</td>\n",
       "      <td>nonexistent</td>\n",
       "      <td>1.43</td>\n",
       "      <td>46.7220</td>\n",
       "      <td>-25.27</td>\n",
       "      <td>5.968</td>\n",
       "      <td>5228.1</td>\n",
       "      <td>0</td>\n",
       "    </tr>\n",
       "    <tr>\n",
       "      <th>29</th>\n",
       "      <td>customer_id_11176</td>\n",
       "      <td>42</td>\n",
       "      <td>services</td>\n",
       "      <td>married</td>\n",
       "      <td>NaN</td>\n",
       "      <td>NaN</td>\n",
       "      <td>no</td>\n",
       "      <td>no</td>\n",
       "      <td>telephone</td>\n",
       "      <td>jun</td>\n",
       "      <td>...</td>\n",
       "      <td>6</td>\n",
       "      <td>999</td>\n",
       "      <td>0</td>\n",
       "      <td>nonexistent</td>\n",
       "      <td>1.43</td>\n",
       "      <td>47.2325</td>\n",
       "      <td>-29.26</td>\n",
       "      <td>5.963</td>\n",
       "      <td>5228.1</td>\n",
       "      <td>0</td>\n",
       "    </tr>\n",
       "    <tr>\n",
       "      <th>30</th>\n",
       "      <td>customer_id_5220</td>\n",
       "      <td>30</td>\n",
       "      <td>blue-collar</td>\n",
       "      <td>single</td>\n",
       "      <td>basic.9y</td>\n",
       "      <td>NaN</td>\n",
       "      <td>no</td>\n",
       "      <td>yes</td>\n",
       "      <td>telephone</td>\n",
       "      <td>may</td>\n",
       "      <td>...</td>\n",
       "      <td>1</td>\n",
       "      <td>999</td>\n",
       "      <td>0</td>\n",
       "      <td>nonexistent</td>\n",
       "      <td>1.13</td>\n",
       "      <td>46.9970</td>\n",
       "      <td>-25.48</td>\n",
       "      <td>5.859</td>\n",
       "      <td>5191.0</td>\n",
       "      <td>0</td>\n",
       "    </tr>\n",
       "    <tr>\n",
       "      <th>31</th>\n",
       "      <td>customer_id_36604</td>\n",
       "      <td>52</td>\n",
       "      <td>technician</td>\n",
       "      <td>single</td>\n",
       "      <td>professional.course</td>\n",
       "      <td>no</td>\n",
       "      <td>yes</td>\n",
       "      <td>yes</td>\n",
       "      <td>cellular</td>\n",
       "      <td>jun</td>\n",
       "      <td>...</td>\n",
       "      <td>1</td>\n",
       "      <td>999</td>\n",
       "      <td>1</td>\n",
       "      <td>failure</td>\n",
       "      <td>-2.87</td>\n",
       "      <td>46.4815</td>\n",
       "      <td>-28.56</td>\n",
       "      <td>2.262</td>\n",
       "      <td>5076.2</td>\n",
       "      <td>1</td>\n",
       "    </tr>\n",
       "    <tr>\n",
       "      <th>32</th>\n",
       "      <td>customer_id_15031</td>\n",
       "      <td>26</td>\n",
       "      <td>services</td>\n",
       "      <td>single</td>\n",
       "      <td>high.school</td>\n",
       "      <td>no</td>\n",
       "      <td>no</td>\n",
       "      <td>no</td>\n",
       "      <td>cellular</td>\n",
       "      <td>jul</td>\n",
       "      <td>...</td>\n",
       "      <td>3</td>\n",
       "      <td>999</td>\n",
       "      <td>0</td>\n",
       "      <td>nonexistent</td>\n",
       "      <td>1.43</td>\n",
       "      <td>46.9590</td>\n",
       "      <td>-29.89</td>\n",
       "      <td>5.960</td>\n",
       "      <td>5228.1</td>\n",
       "      <td>0</td>\n",
       "    </tr>\n",
       "    <tr>\n",
       "      <th>33</th>\n",
       "      <td>customer_id_23712</td>\n",
       "      <td>34</td>\n",
       "      <td>admin.</td>\n",
       "      <td>single</td>\n",
       "      <td>university.degree</td>\n",
       "      <td>no</td>\n",
       "      <td>yes</td>\n",
       "      <td>no</td>\n",
       "      <td>cellular</td>\n",
       "      <td>aug</td>\n",
       "      <td>...</td>\n",
       "      <td>9</td>\n",
       "      <td>999</td>\n",
       "      <td>0</td>\n",
       "      <td>nonexistent</td>\n",
       "      <td>1.43</td>\n",
       "      <td>46.7220</td>\n",
       "      <td>-25.27</td>\n",
       "      <td>5.964</td>\n",
       "      <td>5228.1</td>\n",
       "      <td>0</td>\n",
       "    </tr>\n",
       "    <tr>\n",
       "      <th>34</th>\n",
       "      <td>customer_id_31142</td>\n",
       "      <td>39</td>\n",
       "      <td>admin.</td>\n",
       "      <td>married</td>\n",
       "      <td>university.degree</td>\n",
       "      <td>no</td>\n",
       "      <td>no</td>\n",
       "      <td>no</td>\n",
       "      <td>cellular</td>\n",
       "      <td>may</td>\n",
       "      <td>...</td>\n",
       "      <td>1</td>\n",
       "      <td>999</td>\n",
       "      <td>1</td>\n",
       "      <td>failure</td>\n",
       "      <td>-1.77</td>\n",
       "      <td>46.4465</td>\n",
       "      <td>-32.34</td>\n",
       "      <td>2.336</td>\n",
       "      <td>5099.1</td>\n",
       "      <td>0</td>\n",
       "    </tr>\n",
       "    <tr>\n",
       "      <th>35</th>\n",
       "      <td>customer_id_40049</td>\n",
       "      <td>45</td>\n",
       "      <td>self-employed</td>\n",
       "      <td>married</td>\n",
       "      <td>university.degree</td>\n",
       "      <td>no</td>\n",
       "      <td>no</td>\n",
       "      <td>no</td>\n",
       "      <td>cellular</td>\n",
       "      <td>jul</td>\n",
       "      <td>...</td>\n",
       "      <td>3</td>\n",
       "      <td>999</td>\n",
       "      <td>1</td>\n",
       "      <td>failure</td>\n",
       "      <td>-1.67</td>\n",
       "      <td>47.1075</td>\n",
       "      <td>-28.21</td>\n",
       "      <td>1.799</td>\n",
       "      <td>4991.6</td>\n",
       "      <td>1</td>\n",
       "    </tr>\n",
       "    <tr>\n",
       "      <th>36</th>\n",
       "      <td>customer_id_15468</td>\n",
       "      <td>55</td>\n",
       "      <td>services</td>\n",
       "      <td>divorced</td>\n",
       "      <td>basic.9y</td>\n",
       "      <td>no</td>\n",
       "      <td>yes</td>\n",
       "      <td>no</td>\n",
       "      <td>cellular</td>\n",
       "      <td>jul</td>\n",
       "      <td>...</td>\n",
       "      <td>2</td>\n",
       "      <td>999</td>\n",
       "      <td>0</td>\n",
       "      <td>nonexistent</td>\n",
       "      <td>1.43</td>\n",
       "      <td>46.9590</td>\n",
       "      <td>-29.89</td>\n",
       "      <td>5.959</td>\n",
       "      <td>5228.1</td>\n",
       "      <td>0</td>\n",
       "    </tr>\n",
       "    <tr>\n",
       "      <th>37</th>\n",
       "      <td>customer_id_11389</td>\n",
       "      <td>53</td>\n",
       "      <td>admin.</td>\n",
       "      <td>married</td>\n",
       "      <td>high.school</td>\n",
       "      <td>no</td>\n",
       "      <td>no</td>\n",
       "      <td>no</td>\n",
       "      <td>telephone</td>\n",
       "      <td>jun</td>\n",
       "      <td>...</td>\n",
       "      <td>12</td>\n",
       "      <td>999</td>\n",
       "      <td>0</td>\n",
       "      <td>nonexistent</td>\n",
       "      <td>1.43</td>\n",
       "      <td>47.2325</td>\n",
       "      <td>-29.26</td>\n",
       "      <td>5.961</td>\n",
       "      <td>5228.1</td>\n",
       "      <td>0</td>\n",
       "    </tr>\n",
       "    <tr>\n",
       "      <th>38</th>\n",
       "      <td>customer_id_795</td>\n",
       "      <td>38</td>\n",
       "      <td>services</td>\n",
       "      <td>single</td>\n",
       "      <td>NaN</td>\n",
       "      <td>no</td>\n",
       "      <td>yes</td>\n",
       "      <td>no</td>\n",
       "      <td>telephone</td>\n",
       "      <td>may</td>\n",
       "      <td>...</td>\n",
       "      <td>1</td>\n",
       "      <td>999</td>\n",
       "      <td>0</td>\n",
       "      <td>nonexistent</td>\n",
       "      <td>1.13</td>\n",
       "      <td>46.9970</td>\n",
       "      <td>-25.48</td>\n",
       "      <td>5.858</td>\n",
       "      <td>5191.0</td>\n",
       "      <td>0</td>\n",
       "    </tr>\n",
       "    <tr>\n",
       "      <th>39</th>\n",
       "      <td>customer_id_581</td>\n",
       "      <td>32</td>\n",
       "      <td>blue-collar</td>\n",
       "      <td>married</td>\n",
       "      <td>basic.4y</td>\n",
       "      <td>no</td>\n",
       "      <td>no</td>\n",
       "      <td>no</td>\n",
       "      <td>telephone</td>\n",
       "      <td>may</td>\n",
       "      <td>...</td>\n",
       "      <td>2</td>\n",
       "      <td>999</td>\n",
       "      <td>0</td>\n",
       "      <td>nonexistent</td>\n",
       "      <td>1.13</td>\n",
       "      <td>46.9970</td>\n",
       "      <td>-25.48</td>\n",
       "      <td>5.859</td>\n",
       "      <td>5191.0</td>\n",
       "      <td>0</td>\n",
       "    </tr>\n",
       "    <tr>\n",
       "      <th>40</th>\n",
       "      <td>customer_id_2157</td>\n",
       "      <td>40</td>\n",
       "      <td>blue-collar</td>\n",
       "      <td>married</td>\n",
       "      <td>basic.6y</td>\n",
       "      <td>no</td>\n",
       "      <td>no</td>\n",
       "      <td>no</td>\n",
       "      <td>telephone</td>\n",
       "      <td>may</td>\n",
       "      <td>...</td>\n",
       "      <td>3</td>\n",
       "      <td>999</td>\n",
       "      <td>0</td>\n",
       "      <td>nonexistent</td>\n",
       "      <td>1.13</td>\n",
       "      <td>46.9970</td>\n",
       "      <td>-25.48</td>\n",
       "      <td>5.859</td>\n",
       "      <td>5191.0</td>\n",
       "      <td>0</td>\n",
       "    </tr>\n",
       "    <tr>\n",
       "      <th>41</th>\n",
       "      <td>customer_id_5673</td>\n",
       "      <td>33</td>\n",
       "      <td>blue-collar</td>\n",
       "      <td>married</td>\n",
       "      <td>basic.6y</td>\n",
       "      <td>NaN</td>\n",
       "      <td>yes</td>\n",
       "      <td>yes</td>\n",
       "      <td>telephone</td>\n",
       "      <td>may</td>\n",
       "      <td>...</td>\n",
       "      <td>1</td>\n",
       "      <td>999</td>\n",
       "      <td>0</td>\n",
       "      <td>nonexistent</td>\n",
       "      <td>1.13</td>\n",
       "      <td>46.9970</td>\n",
       "      <td>-25.48</td>\n",
       "      <td>5.859</td>\n",
       "      <td>5191.0</td>\n",
       "      <td>0</td>\n",
       "    </tr>\n",
       "    <tr>\n",
       "      <th>42</th>\n",
       "      <td>customer_id_12908</td>\n",
       "      <td>36</td>\n",
       "      <td>technician</td>\n",
       "      <td>single</td>\n",
       "      <td>university.degree</td>\n",
       "      <td>no</td>\n",
       "      <td>no</td>\n",
       "      <td>no</td>\n",
       "      <td>cellular</td>\n",
       "      <td>jul</td>\n",
       "      <td>...</td>\n",
       "      <td>2</td>\n",
       "      <td>999</td>\n",
       "      <td>0</td>\n",
       "      <td>nonexistent</td>\n",
       "      <td>1.43</td>\n",
       "      <td>46.9590</td>\n",
       "      <td>-29.89</td>\n",
       "      <td>5.964</td>\n",
       "      <td>5228.1</td>\n",
       "      <td>0</td>\n",
       "    </tr>\n",
       "    <tr>\n",
       "      <th>43</th>\n",
       "      <td>customer_id_20549</td>\n",
       "      <td>34</td>\n",
       "      <td>technician</td>\n",
       "      <td>single</td>\n",
       "      <td>university.degree</td>\n",
       "      <td>no</td>\n",
       "      <td>no</td>\n",
       "      <td>no</td>\n",
       "      <td>cellular</td>\n",
       "      <td>aug</td>\n",
       "      <td>...</td>\n",
       "      <td>3</td>\n",
       "      <td>999</td>\n",
       "      <td>0</td>\n",
       "      <td>nonexistent</td>\n",
       "      <td>1.43</td>\n",
       "      <td>46.7220</td>\n",
       "      <td>-25.27</td>\n",
       "      <td>5.968</td>\n",
       "      <td>5228.1</td>\n",
       "      <td>1</td>\n",
       "    </tr>\n",
       "    <tr>\n",
       "      <th>44</th>\n",
       "      <td>customer_id_29876</td>\n",
       "      <td>35</td>\n",
       "      <td>technician</td>\n",
       "      <td>single</td>\n",
       "      <td>professional.course</td>\n",
       "      <td>no</td>\n",
       "      <td>no</td>\n",
       "      <td>no</td>\n",
       "      <td>cellular</td>\n",
       "      <td>apr</td>\n",
       "      <td>...</td>\n",
       "      <td>3</td>\n",
       "      <td>999</td>\n",
       "      <td>0</td>\n",
       "      <td>nonexistent</td>\n",
       "      <td>-1.77</td>\n",
       "      <td>46.5375</td>\n",
       "      <td>-32.97</td>\n",
       "      <td>2.407</td>\n",
       "      <td>5099.1</td>\n",
       "      <td>0</td>\n",
       "    </tr>\n",
       "    <tr>\n",
       "      <th>45</th>\n",
       "      <td>customer_id_28162</td>\n",
       "      <td>34</td>\n",
       "      <td>blue-collar</td>\n",
       "      <td>married</td>\n",
       "      <td>basic.9y</td>\n",
       "      <td>no</td>\n",
       "      <td>NaN</td>\n",
       "      <td>NaN</td>\n",
       "      <td>cellular</td>\n",
       "      <td>apr</td>\n",
       "      <td>...</td>\n",
       "      <td>1</td>\n",
       "      <td>999</td>\n",
       "      <td>0</td>\n",
       "      <td>nonexistent</td>\n",
       "      <td>-1.77</td>\n",
       "      <td>46.5375</td>\n",
       "      <td>-32.97</td>\n",
       "      <td>2.468</td>\n",
       "      <td>5099.1</td>\n",
       "      <td>1</td>\n",
       "    </tr>\n",
       "    <tr>\n",
       "      <th>46</th>\n",
       "      <td>customer_id_16269</td>\n",
       "      <td>62</td>\n",
       "      <td>housemaid</td>\n",
       "      <td>married</td>\n",
       "      <td>illiterate</td>\n",
       "      <td>NaN</td>\n",
       "      <td>yes</td>\n",
       "      <td>no</td>\n",
       "      <td>cellular</td>\n",
       "      <td>jul</td>\n",
       "      <td>...</td>\n",
       "      <td>7</td>\n",
       "      <td>999</td>\n",
       "      <td>0</td>\n",
       "      <td>nonexistent</td>\n",
       "      <td>1.43</td>\n",
       "      <td>46.9590</td>\n",
       "      <td>-29.89</td>\n",
       "      <td>5.963</td>\n",
       "      <td>5228.1</td>\n",
       "      <td>0</td>\n",
       "    </tr>\n",
       "    <tr>\n",
       "      <th>47</th>\n",
       "      <td>customer_id_32849</td>\n",
       "      <td>41</td>\n",
       "      <td>blue-collar</td>\n",
       "      <td>married</td>\n",
       "      <td>basic.4y</td>\n",
       "      <td>no</td>\n",
       "      <td>no</td>\n",
       "      <td>no</td>\n",
       "      <td>cellular</td>\n",
       "      <td>may</td>\n",
       "      <td>...</td>\n",
       "      <td>2</td>\n",
       "      <td>999</td>\n",
       "      <td>0</td>\n",
       "      <td>nonexistent</td>\n",
       "      <td>-1.77</td>\n",
       "      <td>46.4465</td>\n",
       "      <td>-32.34</td>\n",
       "      <td>2.301</td>\n",
       "      <td>5099.1</td>\n",
       "      <td>0</td>\n",
       "    </tr>\n",
       "    <tr>\n",
       "      <th>48</th>\n",
       "      <td>customer_id_5417</td>\n",
       "      <td>46</td>\n",
       "      <td>blue-collar</td>\n",
       "      <td>married</td>\n",
       "      <td>basic.9y</td>\n",
       "      <td>NaN</td>\n",
       "      <td>no</td>\n",
       "      <td>no</td>\n",
       "      <td>telephone</td>\n",
       "      <td>may</td>\n",
       "      <td>...</td>\n",
       "      <td>2</td>\n",
       "      <td>999</td>\n",
       "      <td>0</td>\n",
       "      <td>nonexistent</td>\n",
       "      <td>1.13</td>\n",
       "      <td>46.9970</td>\n",
       "      <td>-25.48</td>\n",
       "      <td>5.859</td>\n",
       "      <td>5191.0</td>\n",
       "      <td>0</td>\n",
       "    </tr>\n",
       "    <tr>\n",
       "      <th>49</th>\n",
       "      <td>customer_id_6445</td>\n",
       "      <td>51</td>\n",
       "      <td>blue-collar</td>\n",
       "      <td>married</td>\n",
       "      <td>basic.9y</td>\n",
       "      <td>no</td>\n",
       "      <td>yes</td>\n",
       "      <td>no</td>\n",
       "      <td>telephone</td>\n",
       "      <td>may</td>\n",
       "      <td>...</td>\n",
       "      <td>1</td>\n",
       "      <td>999</td>\n",
       "      <td>0</td>\n",
       "      <td>nonexistent</td>\n",
       "      <td>1.13</td>\n",
       "      <td>46.9970</td>\n",
       "      <td>-25.48</td>\n",
       "      <td>5.859</td>\n",
       "      <td>5191.0</td>\n",
       "      <td>0</td>\n",
       "    </tr>\n",
       "  </tbody>\n",
       "</table>\n",
       "<p>50 rows × 22 columns</p>\n",
       "</div>"
      ],
      "text/plain": [
       "          customer_id  age            job   marital            education  \\\n",
       "0   customer_id_39075   31         admin.   married    university.degree   \n",
       "1   customer_id_34855   31     technician    single    university.degree   \n",
       "2    customer_id_7107   47    blue-collar   married             basic.6y   \n",
       "3   customer_id_31614   36       services   married    university.degree   \n",
       "4   customer_id_34878   34         admin.    single          high.school   \n",
       "5   customer_id_24606   48   entrepreneur   married    university.degree   \n",
       "6   customer_id_13094   34    blue-collar    single             basic.4y   \n",
       "7   customer_id_36912   34     technician    single  professional.course   \n",
       "8   customer_id_27834   39     unemployed    single    university.degree   \n",
       "9    customer_id_9302   40     technician    single  professional.course   \n",
       "10  customer_id_31160   43    blue-collar    single             basic.9y   \n",
       "11  customer_id_22809   55      housemaid   married                  NaN   \n",
       "12  customer_id_31795   29    blue-collar    single             basic.9y   \n",
       "13   customer_id_9333   40    blue-collar   married          high.school   \n",
       "14  customer_id_16750   29       services    single          high.school   \n",
       "15  customer_id_26843   40     management   married    university.degree   \n",
       "16  customer_id_30667   38    blue-collar   married             basic.9y   \n",
       "17  customer_id_13405   36         admin.   married          high.school   \n",
       "18  customer_id_14518   30    blue-collar    single             basic.4y   \n",
       "19   customer_id_5245   48     management   married    university.degree   \n",
       "20   customer_id_1715   47     unemployed   married          high.school   \n",
       "21  customer_id_27346   53         admin.   married    university.degree   \n",
       "22  customer_id_20496   37     unemployed   married    university.degree   \n",
       "23  customer_id_41005   65            NaN   married  professional.course   \n",
       "24  customer_id_15709   38    blue-collar   married             basic.9y   \n",
       "25  customer_id_29276   51     technician   married                  NaN   \n",
       "26  customer_id_29288   42    blue-collar    single             basic.6y   \n",
       "27  customer_id_28971   36    blue-collar  divorced             basic.4y   \n",
       "28  customer_id_19832   36         admin.   married    university.degree   \n",
       "29  customer_id_11176   42       services   married                  NaN   \n",
       "30   customer_id_5220   30    blue-collar    single             basic.9y   \n",
       "31  customer_id_36604   52     technician    single  professional.course   \n",
       "32  customer_id_15031   26       services    single          high.school   \n",
       "33  customer_id_23712   34         admin.    single    university.degree   \n",
       "34  customer_id_31142   39         admin.   married    university.degree   \n",
       "35  customer_id_40049   45  self-employed   married    university.degree   \n",
       "36  customer_id_15468   55       services  divorced             basic.9y   \n",
       "37  customer_id_11389   53         admin.   married          high.school   \n",
       "38    customer_id_795   38       services    single                  NaN   \n",
       "39    customer_id_581   32    blue-collar   married             basic.4y   \n",
       "40   customer_id_2157   40    blue-collar   married             basic.6y   \n",
       "41   customer_id_5673   33    blue-collar   married             basic.6y   \n",
       "42  customer_id_12908   36     technician    single    university.degree   \n",
       "43  customer_id_20549   34     technician    single    university.degree   \n",
       "44  customer_id_29876   35     technician    single  professional.course   \n",
       "45  customer_id_28162   34    blue-collar   married             basic.9y   \n",
       "46  customer_id_16269   62      housemaid   married           illiterate   \n",
       "47  customer_id_32849   41    blue-collar   married             basic.4y   \n",
       "48   customer_id_5417   46    blue-collar   married             basic.9y   \n",
       "49   customer_id_6445   51    blue-collar   married             basic.9y   \n",
       "\n",
       "   default housing loan    contact month  ... campaign  pdays  previous  \\\n",
       "0       no      no   no   cellular   dec  ...        3    999         1   \n",
       "1       no      no   no  telephone   may  ...        4    999         0   \n",
       "2      NaN     yes   no  telephone   may  ...        2    999         0   \n",
       "3       no      no   no   cellular   may  ...        1    999         1   \n",
       "4       no      no   no   cellular   may  ...        9    999         0   \n",
       "5       no     yes  yes   cellular   nov  ...        2    999         1   \n",
       "6      NaN      no   no   cellular   jul  ...        2    999         0   \n",
       "7       no      no   no   cellular   jun  ...        1    999         0   \n",
       "8       no     yes   no   cellular   mar  ...        1    999         0   \n",
       "9       no     NaN  NaN  telephone   jun  ...        3    999         0   \n",
       "10      no     yes  yes   cellular   may  ...        1    999         0   \n",
       "11      no     yes   no   cellular   aug  ...        2    999         0   \n",
       "12     NaN     yes   no   cellular   may  ...        1    999         0   \n",
       "13     NaN     NaN  NaN  telephone   jun  ...        1    999         0   \n",
       "14      no     yes   no   cellular   jul  ...        1    999         0   \n",
       "15      no     yes   no   cellular   nov  ...        2    999         0   \n",
       "16     NaN     yes   no   cellular   may  ...        5    999         0   \n",
       "17      no      no  yes   cellular   jul  ...        1    999         0   \n",
       "18     NaN      no   no   cellular   jul  ...        5    999         0   \n",
       "19      no     yes   no  telephone   may  ...        5    999         0   \n",
       "20     NaN      no   no  telephone   may  ...        2    999         0   \n",
       "21      no      no  yes   cellular   nov  ...        1    999         0   \n",
       "22      no      no   no   cellular   aug  ...        2    999         0   \n",
       "23      no      no   no   cellular   oct  ...        1      6         1   \n",
       "24      no      no   no   cellular   jul  ...        1    999         0   \n",
       "25      no      no   no   cellular   apr  ...        1    999         0   \n",
       "26     NaN     yes   no   cellular   apr  ...        3    999         1   \n",
       "27      no     yes   no   cellular   apr  ...        1    999         1   \n",
       "28      no     yes   no   cellular   aug  ...        1    999         0   \n",
       "29     NaN      no   no  telephone   jun  ...        6    999         0   \n",
       "30     NaN      no  yes  telephone   may  ...        1    999         0   \n",
       "31      no     yes  yes   cellular   jun  ...        1    999         1   \n",
       "32      no      no   no   cellular   jul  ...        3    999         0   \n",
       "33      no     yes   no   cellular   aug  ...        9    999         0   \n",
       "34      no      no   no   cellular   may  ...        1    999         1   \n",
       "35      no      no   no   cellular   jul  ...        3    999         1   \n",
       "36      no     yes   no   cellular   jul  ...        2    999         0   \n",
       "37      no      no   no  telephone   jun  ...       12    999         0   \n",
       "38      no     yes   no  telephone   may  ...        1    999         0   \n",
       "39      no      no   no  telephone   may  ...        2    999         0   \n",
       "40      no      no   no  telephone   may  ...        3    999         0   \n",
       "41     NaN     yes  yes  telephone   may  ...        1    999         0   \n",
       "42      no      no   no   cellular   jul  ...        2    999         0   \n",
       "43      no      no   no   cellular   aug  ...        3    999         0   \n",
       "44      no      no   no   cellular   apr  ...        3    999         0   \n",
       "45      no     NaN  NaN   cellular   apr  ...        1    999         0   \n",
       "46     NaN     yes   no   cellular   jul  ...        7    999         0   \n",
       "47      no      no   no   cellular   may  ...        2    999         0   \n",
       "48     NaN      no   no  telephone   may  ...        2    999         0   \n",
       "49      no     yes   no  telephone   may  ...        1    999         0   \n",
       "\n",
       "       poutcome  emp_var_rate cons_price_idx  cons_conf_idx  euribor3m  \\\n",
       "0       failure         -2.97        46.3565         -23.10      1.711   \n",
       "1   nonexistent         -1.77        46.4465         -32.34      2.252   \n",
       "2   nonexistent          1.13        46.9970         -25.48      5.862   \n",
       "3       failure         -1.77        46.4465         -32.34      2.329   \n",
       "4   nonexistent         -1.77        46.4465         -32.34      2.252   \n",
       "5       failure         -0.07        46.6000         -29.40      5.193   \n",
       "6   nonexistent          1.43        46.9590         -29.89      5.964   \n",
       "7   nonexistent         -2.87        46.4815         -28.56      2.217   \n",
       "8   nonexistent         -1.77        46.4215         -35.00      2.642   \n",
       "9   nonexistent          1.43        47.2325         -29.26      5.969   \n",
       "10  nonexistent         -1.77        46.4465         -32.34      2.336   \n",
       "11  nonexistent          1.43        46.7220         -25.27      5.967   \n",
       "12  nonexistent         -1.77        46.4465         -32.34      2.329   \n",
       "13  nonexistent          1.43        47.2325         -29.26      5.969   \n",
       "14  nonexistent          1.43        46.9590         -29.89      5.964   \n",
       "15  nonexistent         -0.07        46.6000         -29.40      5.078   \n",
       "16  nonexistent         -1.77        46.4465         -32.34      2.346   \n",
       "17  nonexistent          1.43        46.9590         -29.89      5.964   \n",
       "18  nonexistent          1.43        46.9590         -29.89      5.963   \n",
       "19  nonexistent          1.13        46.9970         -25.48      5.859   \n",
       "20  nonexistent          1.13        46.9970         -25.48      5.857   \n",
       "21  nonexistent         -0.07        46.6000         -29.40      5.023   \n",
       "22  nonexistent          1.43        46.7220         -25.27      5.968   \n",
       "23      success         -1.07        47.3005         -34.65      2.027   \n",
       "24  nonexistent          1.43        46.9590         -29.89      5.962   \n",
       "25  nonexistent         -1.77        46.5375         -32.97      2.407   \n",
       "26      failure         -1.77        46.5375         -32.97      2.407   \n",
       "27      failure         -1.77        46.5375         -32.97      2.407   \n",
       "28  nonexistent          1.43        46.7220         -25.27      5.968   \n",
       "29  nonexistent          1.43        47.2325         -29.26      5.963   \n",
       "30  nonexistent          1.13        46.9970         -25.48      5.859   \n",
       "31      failure         -2.87        46.4815         -28.56      2.262   \n",
       "32  nonexistent          1.43        46.9590         -29.89      5.960   \n",
       "33  nonexistent          1.43        46.7220         -25.27      5.964   \n",
       "34      failure         -1.77        46.4465         -32.34      2.336   \n",
       "35      failure         -1.67        47.1075         -28.21      1.799   \n",
       "36  nonexistent          1.43        46.9590         -29.89      5.959   \n",
       "37  nonexistent          1.43        47.2325         -29.26      5.961   \n",
       "38  nonexistent          1.13        46.9970         -25.48      5.858   \n",
       "39  nonexistent          1.13        46.9970         -25.48      5.859   \n",
       "40  nonexistent          1.13        46.9970         -25.48      5.859   \n",
       "41  nonexistent          1.13        46.9970         -25.48      5.859   \n",
       "42  nonexistent          1.43        46.9590         -29.89      5.964   \n",
       "43  nonexistent          1.43        46.7220         -25.27      5.968   \n",
       "44  nonexistent         -1.77        46.5375         -32.97      2.407   \n",
       "45  nonexistent         -1.77        46.5375         -32.97      2.468   \n",
       "46  nonexistent          1.43        46.9590         -29.89      5.963   \n",
       "47  nonexistent         -1.77        46.4465         -32.34      2.301   \n",
       "48  nonexistent          1.13        46.9970         -25.48      5.859   \n",
       "49  nonexistent          1.13        46.9970         -25.48      5.859   \n",
       "\n",
       "    nr_employed  subscribed  \n",
       "0        5023.5           0  \n",
       "1        5099.1           0  \n",
       "2        5191.0           0  \n",
       "3        5099.1           0  \n",
       "4        5099.1           0  \n",
       "5        5195.8           0  \n",
       "6        5228.1           0  \n",
       "7        5076.2           0  \n",
       "8        5099.1           0  \n",
       "9        5228.1           0  \n",
       "10       5099.1           0  \n",
       "11       5228.1           0  \n",
       "12       5099.1           0  \n",
       "13       5228.1           0  \n",
       "14       5228.1           0  \n",
       "15       5195.8           0  \n",
       "16       5099.1           0  \n",
       "17       5228.1           0  \n",
       "18       5228.1           0  \n",
       "19       5191.0           0  \n",
       "20       5191.0           0  \n",
       "21       5195.8           0  \n",
       "22       5228.1           0  \n",
       "23       4963.6           0  \n",
       "24       5228.1           0  \n",
       "25       5099.1           1  \n",
       "26       5099.1           0  \n",
       "27       5099.1           0  \n",
       "28       5228.1           0  \n",
       "29       5228.1           0  \n",
       "30       5191.0           0  \n",
       "31       5076.2           1  \n",
       "32       5228.1           0  \n",
       "33       5228.1           0  \n",
       "34       5099.1           0  \n",
       "35       4991.6           1  \n",
       "36       5228.1           0  \n",
       "37       5228.1           0  \n",
       "38       5191.0           0  \n",
       "39       5191.0           0  \n",
       "40       5191.0           0  \n",
       "41       5191.0           0  \n",
       "42       5228.1           0  \n",
       "43       5228.1           1  \n",
       "44       5099.1           0  \n",
       "45       5099.1           1  \n",
       "46       5228.1           0  \n",
       "47       5099.1           0  \n",
       "48       5191.0           0  \n",
       "49       5191.0           0  \n",
       "\n",
       "[50 rows x 22 columns]"
      ]
     },
     "execution_count": 6,
     "metadata": {},
     "output_type": "execute_result"
    }
   ],
   "source": [
    "train_data.head(50)"
   ]
  },
  {
   "cell_type": "code",
   "execution_count": 7,
   "metadata": {},
   "outputs": [
    {
     "data": {
      "text/plain": [
       "<matplotlib.axes._subplots.AxesSubplot at 0x1edbfe78a48>"
      ]
     },
     "execution_count": 7,
     "metadata": {},
     "output_type": "execute_result"
    },
    {
     "data": {
      "image/png": "[encoded data removed]",
      "text/plain": [
       "<Figure size 720x432 with 2 Axes>"
      ]
     },
     "metadata": {
      "needs_background": "light"
     },
     "output_type": "display_data"
    }
   ],
   "source": [
    "plt.figure(figsize=(10,6))\n",
    "sns.heatmap(train_data.isnull(),yticklabels=False)"
   ]
  },
  {
   "cell_type": "code",
   "execution_count": 8,
   "metadata": {},
   "outputs": [],
   "source": [
    "train_data.drop([\"default\", \"customer_id\"], axis=1, inplace=True)"
   ]
  },
  {
   "cell_type": "code",
   "execution_count": 9,
   "metadata": {},
   "outputs": [],
   "source": [
    "train_data.dropna(inplace=True)"
   ]
  },
  {
   "cell_type": "code",
   "execution_count": 10,
   "metadata": {
    "scrolled": true
   },
   "outputs": [],
   "source": [
    "age_drop = train_data[train_data['age'] >= train_data[\"age\"].quantile(1)].index"
   ]
  },
  {
   "cell_type": "code",
   "execution_count": 11,
   "metadata": {},
   "outputs": [],
   "source": [
    "train_data.drop(age_drop, axis=0, inplace=True)"
   ]
  },
  {
   "cell_type": "code",
   "execution_count": 12,
   "metadata": {},
   "outputs": [
    {
     "data": {
      "text/plain": [
       "array([ 0,  1,  2,  3,  4,  5,  6,  7,  8,  9, 10], dtype=int64)"
      ]
     },
     "execution_count": 12,
     "metadata": {},
     "output_type": "execute_result"
    }
   ],
   "source": [
    "num = [0,1,2,3,4,5,6,7,8,9,10]\n",
    "train_data.replace(list(train_data['job'].unique()),num,inplace=True)\n",
    "train_data['job'].unique()"
   ]
  },
  {
   "cell_type": "code",
   "execution_count": 13,
   "metadata": {},
   "outputs": [
    {
     "name": "stdout",
     "output_type": "stream",
     "text": [
      "0 1 2 3 0 4 2 1 5 2 2 3 6 2 0 2 6 5 0 5 2 2 2 0 2 1 3 0 0 7 3 0 2 2 2 1 1 1 8 2 2 2 0 3 2 5 1 0 4 2 2 3 4 2 0 8 7 0 8 0 1 3 0 0 0 1 0 9 1 3 8 4 1 3 0 7 1 0 7 3 3 0 0 8 2 0 3 0 2 2 0 1 5 2 3 6 6 2 0 3 3 0 7 7 6 3 2 1 0 2 2 2 2 1 7 2 3 0 1 6 6 0 8 7 6 0 8 0 0 0 1 6 2 0 1 0 5 1 1 1 1 3 0 2 5 9 0 3 2 0 0 2 1 1 1 3 7 3 6 4 3 3 1 7 10 3 2 3 1 0 0 6 2 8 5 9 6 3 3 1 1 1 7 2 7 6 5 3 1 0 7 8 0 0 10 0 2 3 0 0 0 6 6 1 0 9 0 2 1 0 3 1 3 5 1 1 1 2 2 1 1 1 1 6 0 2 3 0 0 4 1 2 3 8 2 0 2 2 5 9 2 3 0 0 0 0 0 0 0 7 0 2 10 0 1 1 0 0 3 1 2 2 0 2 9 9 0 6 0 7 0 1 0 5 2 1 0 9 2 4 10 7 1 0 1 2 2 6 9 1 1 0 1 6 0 0 3 5 1 1 3 0 10 0 0 1 10 1 3 2 2 0 3 0 0 1 2 1 6 2 1 3 10 3 2 5 6 2 6 1 9 7 0 1 1 1 6 3 1 3 2 3 4 0 1 3 2 0 2 9 4 3 9 2 1 1 1 1 7 6 1 2 0 7 1 1 0 1 2 10 2 7 4 0 8 4 0 2 3 8 0 1 1 2 8 1 3 0 1 0 2 0 1 8 7 2 0 1 3 0 6 0 0 7 0 2 1 2 0 6 0 2 1 3 9 0 2 5 0 0 9 2 2 2 6 2 1 0 2 7 0 5 5 2 2 4 0 5 0 2 0 2 0 1 0 5 7 7 0 3 3 3 2 0 0 4 3 0 8 0 0 9 2 7 7 2 2 6 9 7 0 3 0 2 7 0 9 6 1 8 0 1 9 1 0 0 7 0 5 3 0 3 0 2 0 1 0 0 4 3 4 6 2 3 0 4 0 0 9 1 2 2 9 2 2 0 7 0 0 2 3 0 0 6 0 2 4 0 1 2 0 1 2 2 1 5 0 6 1 5 6 2 2 2 2 1 0 2 5 3 1 4 1 2 3 0 2 2 1 2 3 0 0 1 2 1 0 2 2 0 0 2 10 0 4 3 6 1 1 6 0 0 0 0 1 1 0 0 0 6 10 5 3 3 1 3 5 0 3 3 8 7 2 0 1 0 9 2 6 4 9 6 3 3 4 0 6 0 0 4 3 3 4 0 0 2 3 2 7 10 3 0 0 2 9 0 0 1 1 1 0 5 3 1 2 1 0 2 5 2 9 0 1 0 0 0 2 0 0 0 0 9 3 1 1 9 1 1 2 0 2 1 1 6 0 4 0 3 2 1 7 3 1 3 1 2 3 2 1 7 3 0 6 4 1 1 0 6 0 1 0 4 0 1 2 0 8 6 2 9 7 0 6 10 2 9 0 2 3 9 0 0 0 2 1 6 2 2 4 0 1 9 0 4 0 0 0 2 3 6 0 0 0 1 0 1 2 0 9 1 6 0 2 2 4 1 3 0 7 1 2 4 0 3 1 2 2 1 3 9 0 1 0 0 3 2 1 3 2 1 2 9 1 1 3 10 0 3 6 0 2 6 1 0 2 1 0 2 7 0 5 9 0 7 1 2 6 0 2 4 0 0 8 2 2 0 2 6 2 1 2 2 0 10 6 1 0 7 0 1 6 1 0 1 10 4 2 2 0 7 2 8 5 9 0 0 2 1 9 3 0 0 3 0 0 2 2 0 0 6 7 8 2 7 0 1 2 0 9 3 0 1 0 3 8 2 9 2 0 2 5 1 4 1 4 1 3 0 2 1 8 0 6 0 1 1 0 10 3 3 0 0 0 3 4 2 2 6 7 1 3 7 0 1 3 1 3 0 2 9 3 0 2 6 1 8 0 6 3 0 2 0 0 3 0 3 1 0 0 1 1 1 2 8 0 1 3 2 1 0 2 2 0 2 9 10 1 0 0 0 2 0 2 9 0 0 2 2 9 3 0 0 1 1 0 0 0 0 4 4 2 2 2 0 6 5 2 2 2 9 0 2 4 1 1 0 2 3 9 0 0 2 2 0 1 8 1 6 1 9 4 0 9 2 3 1 2 0 4 4 3 6 1 0 1 0 3 7 2 2 1 2 0 1 1 0 3 7 0 7 2 5 2 2 1 1 6 0 2 6 7 1 2 0 1 1 0 2 1 0 5 2 2 7 0 4 2 3 1 0 0 2 1 1 2 1 3 6 2 3 9 1 8 2 3 2 2 0 0 2 2 6 5 3 2 2 3 9 2 3 0 9 0 0 8 0 5 3 7 1 1 6 2 0 1 0 0 0 9 1 1 1 2 3 1 1 5 0 2 0 2 3 1 6 3 1 2 0 6 2 0 0 6 2 9 0 8 6 2 6 0 7 2 6 1 7 0 7 10 8 9 0 0 3 4 2 3 0 6 0 2 0 0 2 2 0 0 0 0 2 0 0 2 2 2 1 7 2 2 9 1 3 2 1 2 1 10 2 0 4 0 2 0 5 1 3 0 3 2 7 0 9 0 1 7 0 0 2 0 8 6 0 0 9 3 0 6 9 0 2 2 7 0 10 3 1 6 0 2 0 0 2 6 9 2 8 7 6 6 7 4 0 0 6 3 1 2 5 3 1 3 1 0 1 0 6 2 0 1 2 2 2 2 8 1 2 2 0 0 0 1 7 2 2 3 2 6 4 2 7 1 0 6 3 8 0 7 3 0 2 0 1 2 3 0 9 6 2 1 0 2 2 2 3 3 0 0 2 0 0 0 9 2 0 8 2 2 3 2 3 2 0 2 7 2 0 0 9 4 2 2 0 0 5 0 3 6 2 6 2 3 3 5 3 0 3 0 3 1 2 0 5 9 3 0 3 1 7 0 2 2 2 3 2 6 0 0 0 2 8 1 1 6 7 0 2 0 1 0 3 2 7 0 9 10 2 2 2 6 0 2 1 0 2 4 1 2 2 3 9 6 0 1 6 5 9 3 1 2 1 1 1 2 1 9 9 0 0 2 0 4 0 1 0 0 0 9 9 2 0 2 2 0 8 9 0 3 0 7 6 8 2 7 2 2 0 0 1 2 0 2 4 0 0 0 3 9 1 6 0 2 7 1 4 6 2 9 6 1 5 2 0 2 2 3 3 1 0 0 1 7 0 0 5 2 0 3 2 2 3 5 1 5 2 1 0 0 2 3 1 0 0 0 1 2 1 2 1 0 0 1 8 1 6 4 2 1 3 0 0 8 0 5 2 2 6 8 0 0 2 3 0 2 8 2 0 0 1 0 0 0 0 4 10 0 1 6 3 7 3 2 1 7 2 2 1 2 0 8 6 6 1 0 3 6 9 3 6 3 6 0 2 9 9 3 2 3 9 0 2 1 2 4 0 9 2 1 2 4 0 1 3 0 2 4 0 1 2 3 1 1 2 0 10 3 1 2 0 0 5 9 1 1 9 1 0 4 1 1 7 0 9 1 2 2 6 9 6 8 3 0 6 0 3 0 1 1 6 3 5 1 1 1 0 7 2 0 1 3 2 2 7 1 2 6 2 1 2 2 3 2 2 0 0 3 8 3 1 10 2 3 2 6 9 1 0 2 0 0 9 4 0 1 1 8 0 0 9 0 10 2 1 1 0 2 0 0 2 1 6 0 0 0 0 1 8 1 0 1 0 2 0 0 2 0 2 0 1 4 1 0 9 1 0 0 1 4 0 0 7 0 9 0 0 1 0 0 0 2 0 2 2 0 1 1 1 5 6 2 6 6 0 6 6 1 10 1 1 9 2 0 0 0 1 2 3 0 2 1 2 2 2 7 0 0 1 2 6 3 2 1 2 1 2 2 0 0 0 0 10 0 2 2 1 1 2 0 1 1 0 0 3 2 2 0 2 1 2 0 6 3 1 0 3 0 3 0 2 0 10 0 2 1 3 0 1 6 7 4 0 9 0 1 2 10 2 2 1 3 2 10 0 2 3 8 2 9 1 1 3 1 2 0 3 0 2 3 0 3 0 1 2 5 0 0 6 6 1 0 0 0 2 0 3 2 2 1 1 0 0 0 3 2 3 8 0 6 2 3 0 2 2 0 1 2 4 1 3 1 2 9 2 1 2 7 2 2 5 4 2 1 2 0 2 3 2 0 7 0 1 1 2 1 0 0 5 0 9 0 2 2 0 1 9 2 1 4 0 2 3 2 5 2 0 0 4 1 1 2 3 1 2 0 0 10 3 0 3 0 8 0 3 0 1 3 2 0 9 0 6 2 2 0 2 0 0 0 2 2 0 1 0 2 1 1 2 8 5 1 1 3 0 3 1 7 0 1 4 3 2 2 1 1 1 3 0 10 0 3 0 0 1 2 6 0 4 4 7 0 7 2 1 0 1 0 9 2 3 5 1 4 10 6 2 9 5 7 1 6 1 0 4 3 2 1 6 1 10 0 1 2 0 2 2 0 1 0 0 1 0 1 0 0 1 1 4 3 0 0 2 1 3 9 0 6 2 1 0 6 2 0 5 6 9 0 3 2 2 1 1 0 3 0 1 1 6 6 3 1 1 1 5 9 7 2 0 0 0 1 9 2 3 8 8 3 2 2 1 1 0 1 0 2 4 6 2 1 0 6 6 2 0 0 2 7 0 1 5 5 2 4 2 2 0 2 2 0 4 1 2 9 4 2 3 3 1 8 2 2 0 7 7 3 0 2 2 0 0 3 0 4 1 3 2 5 4 9 0 0 0 1 1 1 4 1 10 9 9 7 9 6 0 1 0 2 5 0 0 2 0 6 2 9 5 2 2 3 7 4 2 4 1 2 1 6 4 1 2 5 0 4 2 1 7 0 3 0 2 0 2 0 3 1 2 2 2 9 0 0 2 1 1 1 3 7 6 10 1 0 0 1 6 2 6 0 9 2 9 0 2 2 8 0 6 0 6 2 8 1 9 2 1 0 0 6 9 0 2 2 6 1 3 10 1 9 2 6 6 1 1 2 1 1 1 2 7 5 2 1 0 1 6 0 1 0 9 0 2 6 9 0 0 0 1 3 0 5 0 7 0 3 0 0 3 3 2 0 2 2 2 0 2 1 0 2 10 2 2 2 5 3 0 3 2 10 0 10 3 0 3 0 5 0 3 4 2 0 2 3 3 0 1 4 6 0 1 0 6 2 1 2 3 0 2 0 1 2 6 0 1 2 0 3 6 0 3 1 0 0 3 7 1 2 7 4 2 9 2 0 6 3 2 2 1 1 4 1 2 2 1 2 2 2 2 1 0 6 2 3 0 7 0 2 0 0 3 0 1 2 1 2 1 9 3 1 0 8 2 0 2 9 0 0 1 6 7 9 9 6 0 0 0 0 0 6 3 6 6 3 2 1 2 0 2 0 0 2 2 1 0 6 7 1 0 1 1 2 7 0 2 7 2 0 2 0 1 0 0 1 3 0 6 0 10 0 8 0 1 2 2 6 7 6 3 1 4 2 0 0 0 2 8 5 0 9 2 0 0 10 6 1 0 0 3 2 0 1 0 0 0 6 3 0 0 1 0 2 1 6 2 6 3 4 3 0 1 2 0 2 3 1 2 0 0 8 2 4 1 1 0 2 1 5 0 9 9 1 0 6 2 0 3 1 10 7 1 7 0 1 6 2 2 0 1 2 2 3 0 7 0 1 8 2 8 0 8 4 2 0 1 0 0 0 8 2 3 5 0 0 2 1 4 4 8 0 0 2 10 2 0 0 3 0 0 1 2 7 1 6 0 2 4 6 5 8 2 3 3 0 8 1 0 2 0 1 5 5 4 3 10 0 2 0 2 0 2 3 0 7 9 3 2 1 1 2 2 2 0 6 9 2 0 3 8 0 7 6 6 2 3 10 7 2 2 0 3 0 2 8 2 0 2 5 0 1 2 0 6 2 4 2 0 8 0 0 4 0 1 2 0 4 1 3 0 0 0 0 2 0 2 0 0 8 2 1 1 6 2 2 2 2 0 0 9 0 1 0 4 2 3 2 4 0 0 7 1 2 4 3 2 4 0 2 1 1 7 6 2 1 3 0 0 8 2 1 2 1 6 2 1 2 1 2 1 2 2 1 3 3 2 2 7 2 7 0 2 0 5 9 1 9 2 2 1 2 2 2 8 8 2 2 0 2 6 0 0 0 6 3 6 1 1 0 2 1 0 0 1 3 6 2 9 2 0 0 1 6 2 9 6 3 6 2 0 4 1 0 1 10 1 4 0 2 0 3 1 0 0 1 0 0 6 0 2 0 2 2 1 7 3 0 2 9 2 2 1 2 7 3 0 1 3 3 2 0 0 4 2 2 9 0 1 0 1 6 6 0 2 7 0 9 1 0 9 3 2 2 2 0 3 0 1 2 5 0 3 7 3 1 0 0 3 0 7 1 1 6 0 0 6 3 2 2 1 2 1 4 0 2 6 1 1 0 8 0 7 6 0 4 1 6 0 1 7 0 0 2 2 7 0 2 2 0 4 1 3 8 2 2 1 0 0 2 1 3 1 3 1 2 10 1 3 3 2 1 0 4 6 9 6 0 3 1 2 1 7 2 0 2 0 0 1 1 4 7 0 2 0 1 0 0 3 0 0 2 1 2 8 1 0 0 2 6 3 0 0 1 0 3 9 0 3 4 3 3 9 3 1 10 0 7 0 3 1 8 1 6 4 3 2 1 3 0 0 3 2 3 7 4 2 0 0 1 0 6 0 2 7 2 0 0 1 2 8 2 6 2 9 0 9 0 0 0 2 7 2 2 0 6 2 7 0 1 1 0 8 1 3 7 3 2 5 0 0 9 3 6 1 1 2 0 3 0 6 6 4 5 1 7 9 2 0 3 10 2 0 1 7 0 4 3 0 3 9 4 0 0 6 1 0 9 0 0 0 1 1 6 1 0 9 2 0 0 1 1 0 1 1 0 5 2 0 7 2 0 3 0 1 6 2 2 0 2 2 3 4 2 0 3 0 2 2 2 3 5 3 1 1 1 2 0 7 3 2 10 0 1 3 6 7 2 3 0 0 0 0 1 1 1 2 0 0 0 8 7 1 0 0 0 0 2 2 6 1 1 1 2 0 2 2 4 0 1 0 1 0 1 10 0 7 3 1 0 2 3 0 3 1 2 0 4 2 0 0 6 0 2 1 0 8 1 0 0 3 0 2 0 2 1 0 5 1 4 2 1 3 8 2 0 1 4 0 0 5 1 2 6 1 2 3 1 3 1 1 2 2 2 0 1 0 0 2 2 1 2 5 0 0 0 5 1 0 3 5 9 0 2 4 2 8 0 0 8 1 3 0 0 3 2 4 3 2 2 2 2 2 1 7 0 6 3 2 0 0 3 3 2 0 6 5 1 1 0 9 10 1 1 1 2 7 3 2 2 2 2 0 1 5 7 8 1 1 1 1 1 0 1 2 2 0 0 0 6 7 2 3 1 0 3 0 0 6 8 0 2 2 3 9 2 1 1 2 5 2 10 0 0 1 5 0 2 0 10 0 0 7 7 2 2 3 0 3 6 0 6 2 1 3 0 0 2 1 3 2 7 1 0 9 3 2 0 0 3 1 2 2 1 2 0 4 3 2 3 4 1 6 0 9 1 6 0 5 1 1 3 1 2 1 5 1 10 10 3 0 9 0 2 6 2 10 0 1 2 7 0 1 0 0 5 0 6 1 0 2 0 8 0 7 6 2 2 0 7 10 1 3 6 6 5 0 1 7 0 3 6 0 6 0 2 9 2 2 0 3 2 6 2 1 2 9 5 2 1 0 3 2 0 0 0 2 0 2 0 2 0 6 1 1 9 6 1 10 9 0 2 0 2 3 0 1 6 3 1 2 2 6 2 7 0 3 1 1 0 0 0 0 2 4 7 3 0 2 0 1 1 2 2 0 1 0 2 2 0 0 2 10 2 3 0 0 0 8 3 2 0 0 0 2 0 3 0 3 6 3 0 6 0 1 0 0 0 2 1 3 2 1 2 2 0 0 0 0 0 6 2 2 0 2 1 2 1 2 2 2 8 0 3 2 0 4 1 2 1 6 4 3 0 1 1 9 10 3 8 1 8 3 0 0 2 0 1 1 7 2 1 2 3 3 10 1 3 2 3 1 3 1 2 4 1 3 0 6 2 5 0 0 0 2 1 1 6 1 2 2 0 6 2 2 0 9 9 2 0 2 2 1 1 6 3 2 6 2 3 6 3 0 1 0 7 3 3 4 0 0 9 5 0 2 7 7 2 0 0 0 0 1 0 3 2 0 2 6 10 0 1 0 2 6 0 0 1 0 0 6 0 9 0 1 1 0 2 0 1 0 2 0 2 0 0 2 0 2 2 5 9 0 3 0 0 7 7 5 3 3 7 3 0 2 3 2 1 2 2 0 0 0 0 0 10 0 8 0 0 3 0 4 0 2 9 9 5 1 1 1 3 2 2 3 7 0 6 9 2 0 2 3 1 4 2 5 3 2 6 2 2 0 0 0 3 0 3 0 2 3 3 2 1 0 2 0 2 1 3 1 2 8 0 6 0 2 0 0 1 6 0 0 2 2 1 2 3 2 0 1 3 2 0 3 9 3 0 9 7 0 6 2 9 2 0 6 10 1 4 1 0 0 0 1 7 1 0 2 5 0 1 6 1 7 1 1 0 1 7 0 6 2 1 8 8 3 6 8 1 8 1 2 0 2 0 0 8 2 2 0 6 0 0 2 9 3 2 2 7 0 1 0 0 0 1 2 0 1 3 0 6 0 2 2 1 0 2 2 0 1 1 5 2 3 0 0 0 0 2 3 1 5 1 2 0 2 6 2 0 0 3 2 6 1 9 9 3 1 4 0 2 1 1 1 2 2 2 1 0 7 3 3 0 1 2 1 1 2 4 1 0 0 2 2 4 2 2 0 6 1 1 0 2 0 0 4 0 0 1 2 7 1 1 3 2 0 6 2 4 9 3 3 0 1 2 4 4 0 8 0 3 0 3 0 1 1 10 0 2 1 8 3 6 2 1 3 8 1 0 1 1 1 0 3 0 0 3 2 0 1 4 1 6 0 2 1 0 5 2 0 1 1 6 9 7 0 0 2 2 4 2 7 0 0 1 0 9 1 0 0 1 0 0 0 0 0 0 0 0 3 1 8 2 6 0 9 2 1 2 1 0 9 2 3 0 3 0 3 2 7 6 0 3 9 1 1 1 2 2 0 8 3 2 0 10 1 8 2 10 1 2 3 2 3 10 1 0 1 1 1 6 2 6 10 9 2 1 0 1 2 2 0 5 0 3 3 0 10 0 0 4 5 10 2 0 0 2 0 0 0 0 4 1 0 0 0 8 3 2 7 1 9 1 2 1 1 9 0 2 9 0 1 7 9 0 0 2 2 2 1 1 2 0 1 2 0 6 5 0 6 1 9 0 2 2 3 2 0 2 3 1 5 5 9 0 10 0 4 3 2 3 7 8 2 2 8 8 5 0 10 0 0 7 3 7 5 1 0 7 1 1 3 0 0 1 6 2 9 0 8 9 2 0 8 0 7 2 2 2 0 4 0 3 3 1 0 6 1 2 1 1 0 3 8 7 3 3 2 3 3 3 0 5 2 2 7 4 2 3 2 2 2 0 2 2 3 0 2 0 6 3 0 2 0 1 1 2 6 2 9 1 1 8 6 7 0 2 1 0 2 0 1 5 3 2 4 0 0 0 2 4 0 2 1 2 0 4 0 1 9 2 2 0 1 1 2 0 10 0 8 4 0 2 0 0 2 3 2 6 9 7 2 6 0 0 5 5 9 1 0 6 0 2 0 1 9 1 1 1 2 3 6 6 2 0 0 2 1 2 4 2 10 0 0 4 0 1 7 2 2 4 1 8 1 1 1 10 6 0 3 2 2 3 7 0 0 0 3 1 0 2 9 7 1 0 2 0 2 0 3 2 7 1 9 2 1 8 9 3 5 2 3 3 2 0 1 6 2 1 3 2 6 3 0 0 7 2 0 2 1 7 0 3 1 8 2 1 3 2 9 7 3 0 6 7 0 2 1 5 1 2 0 0 3 1 7 1 0 0 0 0 1 0 1 1 1 6 1 2 2 1 1 1 0 2 2 1 1 3 3 0 3 0 3 0 0 2 0 9 2 2 0 8 2 2 1 0 2 2 0 0 4 0 2 0 1 0 3 0 3 3 10 0 2 6 0 0 6 5 2 1 2 0 0 1 9 0 9 0 0 1 7 0 0 3 0 1 0 3 1 1 1 0 1 2 9 1 2 0 2 0 0 1 0 0 9 4 3 1 1 8 2 1 2 5 6 2 1 9 0 2 1 6 7 0 6 1 9 0 4 0 2 2 1 1 2 0 2 2 2 4 7 2 1 4 0 3 3 1 2 1 1 9 2 1 3 6 2 1 0 8 0 2 4 4 0 2 2 2 2 0 0 3 0 1 1 4 3 1 0 0 9 1 2 0 0 6 7 1 1 3 2 0 3 2 0 2 6 0 8 0 2 1 0 4 4 3 1 3 0 0 6 2 2 6 0 3 9 2 0 2 2 2 2 0 2 2 4 0 3 8 0 1 0 1 0 0 8 2 0 0 1 3 0 0 4 3 4 8 3 6 3 0 2 1 2 9 9 3 8 6 0 2 0 0 0 4 1 8 1 2 6 6 3 0 0 0 9 6 2 0 1 0 2 6 0 1 8 6 10 0 7 2 3 0 5 6 1 4 0 2 3 0 3 0 6 1 4 7 9 1 2 2 1 3 1 0 2 0 6 2 3 0 7 2 1 6 0 6 2 2 2 6 1 4 3 7 3 0 4 2 2 9 3 1 0 0 2 0 0 9 2 1 9 4 3 2 2 5 7 0 1 9 1 0 0 8 2 2 1 2 3 0 2 6 2 2 0 2 2 1 3 8 1 1 3 0 3 3 0 5 6 0 3 9 10 2 0 2 5 4 0 2 3 2 1 1 10 1 4 1 2 2 0 1 10 0 0 6 3 2 2 2 2 0 0 2 1 0 1 9 6 0 8 0 1 2 0 2 2 0 1 3 0 0 0 2 1 0 0 2 1 2 5 7 3 1 1 6 2 0 0 3 2 2 2 6 2 9 0 8 2 1 0 2 0 0 1 0 6 9 10 9 2 10 2 2 1 0 7 0 5 2 2 0 0 7 6 3 1 1 0 0 6 2 4 1 0 0 2 2 10 1 1 3 9 2 7 2 4 0 1 2 9 7 0 4 2 0 2 6 0 1 2 0 5 0 1 0 2 0 2 0 3 10 2 3 3 2 6 0 7 3 2 2 2 2 2 2 3 2 2 0 0 6 2 4 2 2 1 0 4 0 3 0 0 1 3 6 5 0 0 1 3 4 0 0 2 0 3 2 0 2 1 2 8 0 8 3 6 2 0 0 3 3 0 0 8 1 0 8 0 0 2 4 7 0 2 0 2 2 10 9 2 4 0 6 1 2 1 2 7 1 3 2 2 0 10 2 6 1 0 7 8 2 6 1 0 0 9 2 1 6 0 2 0 3 2 8 0 2 0 2 2 0 2 1 2 2 3 0 2 0 0 6 2 3 2 1 2 0 2 0 3 8 2 1 3 3 1 6 0 2 2 1 1 0 2 1 2 0 0 0 0 8 8 1 0 2 0 0 2 2 1 0 1 1 0 0 1 7 0 7 1 1 7 2 2 2 3 2 0 7 2 1 7 1 8 3 1 1 0 4 2 8 1 0 0 0 2 0 10 2 1 10 3 0 5 9 0 6 0 2 0 6 0 2 0 2 2 1 0 1 0 3 1 0 1 1 2 0 1 7 7 0 1 3 1 6 6 0 3 7 2 6 2 5 0 1 7 6 2 1 2 2 3 2 1 0 9 3 1 9 2 0 2 2 3 0 1 0 4 0 1 10 6 1 0 2 3 0 0 1 0 3 1 9 2 4 2 6 2 2 2 3 4 2 0 0 0 2 2 10 1 6 7 0 9 2 0 2 1 2 3 0 1 4 0 "
     ]
    },
    {
     "name": "stdout",
     "output_type": "stream",
     "text": [
      "2 3 9 2 6 9 3 1 3 0 1 0 0 3 0 6 7 9 2 0 1 9 0 1 2 0 6 7 1 0 0 0 2 1 8 1 2 1 6 2 8 0 0 0 4 2 1 0 0 1 0 4 2 2 4 0 2 0 1 0 3 1 0 0 2 0 3 2 3 0 1 0 1 3 0 8 1 0 1 2 0 9 6 8 2 3 4 0 0 8 8 2 1 3 2 2 0 0 2 8 4 2 9 6 0 2 0 0 1 2 1 2 4 0 1 10 5 0 1 0 0 3 6 2 2 0 3 2 1 1 7 0 1 3 9 1 0 2 4 9 2 0 2 10 7 2 6 6 2 7 5 0 2 0 1 2 4 0 2 8 6 1 7 0 1 2 2 0 2 0 0 0 0 0 1 1 0 8 1 1 8 10 1 3 7 0 6 0 2 6 1 9 6 2 8 1 6 2 6 2 6 6 4 6 2 0 5 1 1 5 10 3 2 0 0 6 1 2 2 0 2 9 4 10 0 0 8 2 0 4 2 0 1 7 9 2 1 10 5 8 10 1 0 0 1 0 0 7 0 2 1 1 2 2 3 1 1 7 0 1 6 2 0 2 7 0 1 2 3 2 1 2 1 0 1 2 9 8 0 1 2 3 8 1 9 2 0 6 2 2 0 3 7 1 1 1 3 2 1 0 1 3 0 9 0 2 1 2 3 6 3 6 1 6 1 3 0 8 2 2 2 10 9 6 3 1 7 2 7 2 9 10 0 3 0 9 1 5 6 1 1 8 2 5 0 2 3 7 9 0 9 0 2 0 6 1 0 1 9 8 2 0 2 6 1 1 9 6 6 6 4 1 3 7 1 4 7 1 0 0 6 0 0 3 0 3 3 1 0 2 0 4 0 0 6 6 3 1 2 0 4 0 3 1 0 3 0 0 0 0 1 6 2 0 3 2 7 2 6 9 1 3 1 1 0 1 0 8 0 1 8 2 2 2 2 2 1 0 0 2 3 3 2 0 0 0 2 2 2 3 0 0 1 2 1 4 0 7 2 3 0 6 7 6 2 4 2 0 2 0 6 0 2 6 2 2 1 3 2 3 0 6 2 7 2 0 7 3 0 8 9 0 2 1 0 1 2 2 0 1 3 9 1 5 2 0 0 3 0 6 4 1 1 3 1 0 0 6 9 1 2 7 2 3 2 4 5 3 3 2 9 0 9 1 0 1 0 2 0 0 6 2 1 3 9 1 0 2 7 0 0 6 2 2 2 0 1 2 2 2 1 1 8 8 0 1 2 1 1 0 1 0 0 1 1 7 0 6 7 1 0 2 2 4 1 0 9 0 0 0 6 0 0 2 0 3 2 6 0 6 0 2 8 4 2 0 1 2 1 6 0 10 2 2 1 1 2 0 3 2 4 9 6 3 0 6 2 0 2 1 1 2 8 10 9 0 2 2 9 3 1 0 3 10 1 0 4 3 0 3 0 3 3 2 2 0 4 3 2 0 1 6 0 3 3 0 6 0 6 3 1 2 2 0 8 0 0 2 10 1 3 1 2 2 1 1 6 0 1 2 0 6 2 7 9 0 2 2 3 3 0 2 0 5 2 3 0 1 2 0 5 4 3 8 6 4 1 0 2 4 1 0 1 1 1 3 0 5 3 2 6 3 2 0 2 0 2 6 0 4 3 0 6 6 1 7 1 3 0 2 0 2 1 0 6 2 0 1 2 1 0 3 0 1 1 0 1 2 2 1 0 7 0 2 3 0 9 5 4 6 3 2 0 4 2 4 1 2 4 0 3 6 1 1 2 5 0 2 1 7 1 2 2 0 0 4 9 6 3 2 0 3 2 3 2 2 6 1 2 9 1 7 1 4 0 2 0 2 0 4 0 6 1 0 5 2 0 2 7 0 0 4 3 8 2 1 0 0 2 2 6 0 2 2 3 0 3 3 1 1 3 2 7 2 1 1 1 0 10 1 1 0 0 1 3 2 1 0 0 1 0 8 2 0 9 2 3 1 2 2 1 3 1 6 0 6 4 6 0 5 1 3 3 1 9 1 5 0 2 1 2 1 1 2 0 2 6 0 5 2 1 0 2 2 0 3 5 2 0 2 8 0 1 4 1 3 6 1 0 2 6 10 6 3 3 3 0 3 0 1 1 0 9 6 1 0 0 0 0 2 3 0 2 0 6 8 3 0 4 6 3 1 3 1 0 3 0 2 9 6 1 2 2 0 0 5 3 2 0 9 7 0 3 2 2 9 0 7 0 6 2 8 1 1 0 9 4 5 3 6 0 7 2 0 2 9 1 3 2 0 2 9 1 0 0 6 2 2 3 2 1 2 1 2 2 0 0 0 0 2 1 5 2 1 0 3 0 2 2 1 7 0 9 1 1 2 6 3 0 0 0 6 0 0 8 0 0 9 8 2 2 1 0 4 0 1 2 3 2 0 6 0 3 0 2 0 2 1 4 1 9 2 0 9 2 1 4 6 6 2 2 6 6 0 3 2 0 3 2 6 0 2 1 1 5 0 0 2 3 3 2 2 0 9 4 1 2 0 1 8 2 0 2 1 0 6 2 7 2 0 2 4 3 0 1 1 10 3 0 9 2 0 2 2 6 6 1 1 2 9 1 3 1 0 1 2 1 1 1 6 0 4 0 1 0 7 0 2 2 3 6 6 3 7 2 2 2 3 2 0 2 8 6 0 2 3 0 1 0 0 2 10 1 6 0 2 4 2 9 0 2 0 6 0 1 6 2 0 10 3 3 2 4 0 2 7 0 6 2 1 10 1 1 2 4 2 2 3 3 6 1 4 2 0 8 1 1 1 2 0 0 4 0 2 7 0 2 2 0 2 8 1 8 2 0 0 3 1 3 2 9 2 1 5 8 4 0 0 0 0 9 4 2 0 3 1 0 3 2 1 5 1 2 2 4 0 7 3 2 2 10 1 2 2 2 7 2 6 2 2 0 0 6 6 0 9 0 2 1 9 2 0 1 7 7 2 0 6 0 0 9 2 2 3 2 6 0 6 7 1 2 2 10 1 0 2 0 4 1 1 0 3 0 2 2 0 5 5 2 2 1 3 0 3 0 4 2 2 3 0 2 1 2 1 0 0 0 1 7 2 0 0 2 1 2 2 5 1 5 0 0 9 2 1 3 0 6 0 0 9 0 7 1 9 6 2 1 2 2 1 0 0 1 2 3 1 1 6 9 9 6 7 3 3 5 2 2 0 3 0 1 7 1 6 9 6 4 1 0 6 3 0 1 3 2 7 8 0 2 3 0 2 0 3 1 1 0 2 3 2 6 2 0 1 7 0 2 4 1 2 3 0 4 2 9 0 0 5 1 2 1 6 0 3 0 2 9 0 0 4 0 0 2 0 4 1 2 9 2 9 0 2 2 2 8 7 2 0 3 1 1 3 7 2 6 0 6 2 2 8 2 0 0 6 9 0 0 0 9 1 2 0 3 6 2 0 3 0 4 2 3 1 1 1 0 6 1 3 1 1 0 2 0 2 0 9 1 0 0 2 2 1 2 9 8 3 2 5 2 0 3 2 6 6 3 9 9 2 2 6 0 2 2 0 1 1 1 1 1 2 3 0 0 3 0 7 1 7 6 3 5 5 3 0 0 0 2 1 3 1 1 2 5 0 0 6 0 2 2 3 2 2 0 3 0 1 6 2 0 0 4 0 9 1 1 2 6 2 2 3 10 2 1 6 2 6 10 2 0 2 2 3 8 2 2 0 2 1 6 1 1 2 0 2 2 0 2 2 0 9 0 2 1 1 7 1 3 7 0 2 6 2 6 2 0 8 3 3 2 0 2 2 1 10 3 9 0 6 6 0 0 1 7 1 0 2 1 2 0 6 6 2 0 3 0 0 6 6 4 0 1 2 1 4 0 3 0 0 0 1 0 7 1 1 5 0 3 2 6 8 2 0 1 9 0 0 4 2 2 1 0 2 1 0 2 2 0 0 6 0 7 7 1 2 2 8 0 0 0 0 0 4 1 0 6 3 2 0 6 2 0 0 3 0 2 0 1 1 2 6 1 0 0 1 7 7 0 9 7 0 0 2 3 1 3 9 1 0 0 1 1 3 0 0 0 1 0 4 10 1 9 9 2 0 1 5 0 6 0 1 2 6 2 1 3 0 2 10 0 6 5 8 0 0 0 0 3 1 1 2 1 7 3 0 1 2 6 0 3 3 2 1 0 6 1 5 9 0 3 0 0 3 4 10 1 3 8 2 3 3 2 0 9 2 2 6 1 3 0 1 6 6 9 1 3 6 3 0 1 1 7 0 2 1 0 0 1 2 0 2 0 0 0 5 7 1 1 0 10 0 3 6 2 1 0 2 0 2 2 9 9 1 0 3 0 0 2 2 0 7 0 1 4 0 0 1 10 2 0 2 0 8 9 6 6 2 0 0 4 6 9 7 2 0 0 9 0 0 2 6 0 2 0 2 0 6 8 2 2 0 2 6 3 6 3 6 0 1 4 8 2 6 10 0 0 0 2 2 2 2 8 3 7 4 4 7 3 0 3 1 2 1 8 1 10 2 2 0 2 3 7 6 6 1 0 2 1 2 0 6 2 2 9 0 10 9 2 9 2 1 2 3 0 2 2 2 1 2 0 1 2 0 1 3 0 1 0 6 4 3 1 2 0 3 2 4 2 0 0 0 4 0 2 6 6 0 0 2 0 10 0 0 7 2 4 9 0 3 2 3 0 3 1 4 0 10 4 6 2 0 0 8 0 0 0 1 2 0 2 1 0 2 2 9 5 0 2 1 3 2 2 1 2 2 0 9 0 1 9 2 1 1 1 0 1 1 7 2 7 1 1 0 2 1 3 0 2 0 0 0 6 0 3 6 2 7 1 9 3 8 0 0 3 3 0 4 7 3 1 1 2 0 2 0 0 0 2 1 9 0 1 1 0 0 6 0 8 4 3 5 6 1 4 3 3 2 3 0 2 4 1 7 3 10 3 3 9 1 3 0 5 1 8 0 6 6 6 1 0 2 0 5 3 9 3 2 0 0 2 2 1 8 2 2 0 7 2 3 2 5 0 9 9 1 2 0 0 2 8 0 8 0 1 2 1 0 7 6 9 2 10 6 3 10 1 2 1 5 0 1 0 0 8 0 1 1 1 2 1 1 6 1 0 0 0 0 1 3 2 9 0 0 5 1 2 0 1 10 1 0 2 1 2 1 1 2 4 0 3 0 0 8 2 1 1 2 2 0 3 1 0 1 0 2 1 3 1 6 2 2 0 1 3 0 2 0 6 3 2 2 2 1 2 6 2 0 1 3 9 0 1 0 1 0 3 1 1 0 7 9 2 0 0 2 3 1 0 7 1 6 0 2 3 3 6 2 2 2 1 0 2 4 2 0 9 0 2 2 0 0 4 6 2 3 2 0 2 0 2 8 0 8 2 0 2 3 0 6 2 1 6 0 7 2 0 2 0 2 1 1 1 0 0 1 1 5 2 3 6 0 4 0 4 4 1 0 6 0 8 0 1 1 2 6 0 5 0 3 0 0 6 7 1 2 10 2 0 2 3 1 0 7 2 1 6 2 7 8 4 9 2 0 5 2 2 9 2 1 0 2 7 0 3 0 6 8 5 9 0 0 2 8 1 0 7 10 0 2 0 1 3 1 2 2 6 2 6 0 1 0 1 0 0 6 0 4 5 0 6 9 5 2 1 3 0 0 2 0 0 6 1 0 5 0 2 3 0 3 2 0 7 2 2 0 0 0 1 2 3 0 0 2 1 3 0 8 7 1 8 1 2 0 8 0 1 1 2 0 3 2 10 2 0 0 3 2 2 1 0 0 1 3 10 9 3 4 2 2 2 2 3 2 1 2 1 3 2 2 0 1 6 0 0 1 7 9 2 0 6 0 4 7 0 7 0 10 0 2 9 0 1 4 3 2 2 3 3 0 0 2 6 0 0 0 0 0 0 9 0 2 0 3 6 0 2 2 2 6 1 3 3 6 5 8 2 1 0 0 2 3 6 2 1 2 2 2 7 3 2 2 0 0 2 6 0 0 6 1 1 9 2 3 2 2 2 1 0 1 9 9 2 3 2 0 2 2 2 2 2 0 0 3 0 9 2 9 1 1 3 0 2 1 0 1 0 2 1 9 0 2 2 1 4 1 3 0 2 0 3 3 1 2 2 5 10 1 0 1 3 6 0 1 2 1 1 0 2 7 3 3 0 0 8 3 4 0 1 9 9 9 2 0 3 2 1 0 8 1 2 3 2 1 7 0 0 9 7 0 3 3 6 2 1 0 10 2 7 0 6 2 6 0 0 7 1 3 1 6 0 0 0 6 5 1 2 3 7 2 0 3 1 0 1 9 2 9 6 0 2 8 10 1 8 3 6 3 7 2 0 0 0 7 3 7 3 1 3 6 0 1 3 2 9 3 3 2 0 9 0 0 1 0 6 2 6 4 2 0 1 2 1 9 0 0 2 2 9 2 1 8 1 0 7 5 0 2 3 2 2 0 1 0 0 0 0 3 2 2 2 3 2 1 3 2 3 0 6 0 0 0 0 10 4 3 0 2 0 0 2 1 4 0 2 1 6 9 7 0 0 3 8 8 10 1 6 1 4 6 2 0 0 1 1 5 0 8 1 2 2 1 2 3 2 3 9 1 0 5 1 2 9 2 0 6 1 0 7 1 0 2 2 1 0 4 0 7 0 2 0 2 0 2 3 0 2 5 1 1 0 6 7 2 1 2 0 5 4 1 2 2 0 0 0 3 0 2 3 9 0 0 6 4 9 0 0 7 5 8 1 3 4 2 6 0 2 1 1 1 3 3 6 2 2 2 0 3 2 2 0 2 0 0 1 2 8 0 2 0 2 0 6 1 4 2 9 2 0 0 0 2 1 2 1 0 6 0 0 0 1 0 2 1 1 3 0 2 1 0 0 6 0 9 6 1 0 2 0 4 2 1 2 4 2 4 4 0 6 0 0 2 1 0 2 0 2 0 1 1 0 3 3 3 6 2 3 1 0 0 6 0 6 2 3 9 0 0 4 5 2 1 2 0 0 2 8 6 0 2 3 1 7 0 1 2 2 5 1 3 0 0 4 1 2 1 0 3 0 3 0 4 2 1 0 4 3 0 5 0 3 3 6 2 0 1 9 1 0 0 9 6 9 0 0 0 0 9 2 0 2 0 2 0 4 0 5 2 1 0 2 3 0 2 3 2 8 4 0 1 2 3 0 1 9 0 1 2 3 2 4 3 0 7 2 3 1 0 1 6 6 4 1 7 7 0 3 0 4 8 0 1 0 3 7 6 3 0 5 6 0 0 2 0 2 0 2 1 9 1 2 7 3 2 4 2 0 0 0 2 2 2 6 2 10 10 1 0 10 2 2 1 2 7 6 6 10 6 0 2 9 6 1 2 1 0 3 8 0 0 1 2 0 3 2 1 3 6 2 1 2 1 1 2 2 1 1 0 0 3 0 0 2 2 0 1 1 0 6 8 2 4 1 0 0 0 0 0 9 0 0 0 0 10 6 6 4 2 10 3 3 6 3 0 4 6 3 6 7 0 2 1 0 4 1 2 1 4 1 0 0 1 3 1 2 2 4 1 0 0 0 1 0 6 6 0 6 2 2 2 10 1 9 4 2 6 3 6 2 0 2 6 1 6 2 1 0 1 1 1 0 4 9 2 1 3 0 7 6 6 0 3 6 2 9 2 0 0 2 2 1 6 7 4 8 0 1 2 2 1 0 0 5 0 3 2 5 2 2 1 2 1 6 3 3 2 1 2 7 7 0 0 2 4 2 10 2 1 1 5 2 0 1 0 6 0 0 0 7 0 2 2 8 0 2 3 0 2 7 0 1 3 3 0 1 3 2 8 2 0 0 8 1 0 1 2 9 0 2 6 1 3 6 0 3 0 7 10 5 1 9 9 1 5 0 1 5 1 4 9 3 2 3 0 7 1 4 0 3 2 2 2 4 0 1 1 2 3 0 9 10 2 6 2 1 2 1 1 6 3 0 0 2 1 0 0 1 4 0 1 2 3 10 0 2 0 2 2 1 0 9 1 6 3 1 1 6 3 7 0 3 9 6 2 1 2 1 2 0 0 0 2 2 2 0 2 2 0 1 3 0 7 2 2 2 1 6 6 5 2 0 2 2 5 3 2 3 1 6 1 2 2 2 2 2 6 2 7 4 2 0 1 2 0 2 2 0 3 2 7 0 2 0 6 9 3 6 3 2 2 0 0 9 7 2 2 0 6 0 7 0 1 7 7 8 1 0 1 0 4 0 0 1 2 5 2 4 0 1 1 5 0 0 7 0 0 3 0 2 6 6 0 0 0 0 1 1 3 1 0 1 3 0 7 0 0 3 1 0 0 6 2 3 0 2 2 1 2 2 5 7 2 2 10 2 10 3 5 9 0 2 0 0 7 10 6 0 7 0 1 1 0 0 0 0 1 1 6 10 5 3 5 2 0 2 3 3 0 2 6 0 6 1 2 0 1 2 1 3 4 4 2 6 2 2 2 6 2 2 3 1 0 0 7 1 1 1 1 0 1 2 1 0 7 0 1 1 2 0 2 1 2 0 0 1 10 9 8 6 2 1 2 6 2 1 1 0 6 0 10 2 0 0 9 6 5 0 1 3 8 6 0 2 3 2 2 0 0 1 6 9 2 2 3 7 1 2 5 6 4 1 2 1 2 3 0 0 9 6 1 0 0 6 8 0 0 2 5 3 0 2 3 0 0 0 6 1 6 7 10 3 2 2 6 0 0 0 2 6 7 9 8 1 0 1 2 2 1 2 0 2 0 8 0 6 0 1 8 3 0 0 1 3 3 0 1 2 9 1 0 1 1 0 2 3 3 2 3 2 0 0 6 9 9 2 6 0 2 2 1 3 0 1 4 0 2 2 1 3 0 2 3 1 9 1 0 4 2 5 1 0 1 0 1 2 8 1 1 6 1 0 0 3 4 1 0 6 2 1 0 0 2 0 3 1 3 6 5 2 0 0 6 2 0 0 1 2 1 1 9 2 2 0 2 0 0 0 0 6 3 4 7 0 8 1 6 1 4 1 7 2 3 0 9 1 2 0 0 2 0 6 1 3 1 1 6 9 1 0 2 1 1 4 3 0 2 6 6 6 0 0 2 0 0 4 1 6 9 2 9 2 0 2 1 9 7 4 2 2 7 0 2 6 0 1 6 1 0 0 2 2 0 6 0 4 2 2 7 0 0 1 0 5 2 2 1 0 1 0 1 5 9 0 7 0 6 2 3 2 3 5 6 1 2 0 2 3 0 0 0 2 2 3 6 4 4 0 0 1 3 0 6 0 2 10 9 0 0 0 1 1 2 2 0 2 5 2 6 0 0 1 6 3 5 2 2 8 0 2 1 2 2 0 0 1 2 2 1 0 1 0 8 1 5 3 2 6 5 1 6 0 2 6 0 8 0 0 3 2 10 9 0 9 2 2 0 0 1 2 6 0 0 0 2 1 2 3 8 2 2 1 3 7 3 2 0 3 3 1 10 2 2 9 2 5 1 2 5 2 0 6 6 3 1 0 1 6 1 1 7 2 0 0 3 1 1 1 0 1 3 0 3 0 0 2 7 1 0 0 1 2 0 6 2 0 2 1 9 9 1 1 2 2 0 3 2 2 1 2 2 6 6 1 4 9 5 2 9 9 1 2 8 0 9 7 7 1 0 1 3 0 9 0 6 3 3 0 6 7 0 2 0 0 0 6 0 0 4 0 6 1 2 1 5 1 5 3 6 2 4 1 0 2 2 1 2 1 7 7 6 1 0 1 1 0 2 3 2 0 1 3 2 0 3 2 2 2 1 1 2 1 3 1 2 3 1 2 9 0 0 9 5 8 0 6 7 7 8 5 2 9 0 0 8 7 3 2 6 6 2 0 1 0 8 0 2 1 2 0 0 0 2 0 2 2 0 5 1 0 3 1 6 2 1 0 6 1 1 0 0 6 1 7 0 0 2 0 1 9 1 1 2 2 1 0 2 2 0 1 0 1 8 4 0 2 6 3 3 5 2 7 0 6 3 3 9 1 2 3 0 0 9 3 2 1 0 2 0 1 1 1 10 0 0 4 1 0 7 7 9 2 0 2 4 6 1 1 0 3 2 5 2 4 0 9 0 4 0 1 1 0"
     ]
    },
    {
     "name": "stdout",
     "output_type": "stream",
     "text": [
      " 0 3 2 0 2 3 7 6 0 2 2 6 3 2 2 6 0 2 0 2 2 2 1 2 2 0 4 3 0 0 0 1 0 0 3 2 1 2 0 7 0 3 3 1 8 2 0 8 0 6 2 1 2 6 0 1 4 7 0 10 10 8 0 8 0 0 2 0 5 3 4 2 0 10 0 2 8 0 2 2 2 3 2 6 4 0 1 2 0 1 8 3 0 2 3 2 1 0 2 3 0 1 5 7 3 7 2 3 0 6 0 4 9 0 1 0 0 2 0 1 9 4 0 4 1 9 6 1 10 3 3 0 2 1 3 2 4 0 1 2 6 2 9 8 2 2 2 0 2 1 6 2 2 0 1 1 0 0 0 10 2 1 0 0 2 1 9 2 2 0 0 1 9 6 5 2 3 6 0 0 1 0 6 1 0 3 2 1 7 8 0 10 2 3 0 0 1 0 9 2 2 0 2 0 9 0 2 2 9 2 2 3 3 7 3 1 1 2 2 2 2 8 8 1 6 5 0 0 0 2 1 3 3 1 3 0 1 2 2 1 6 1 4 2 2 6 2 8 0 2 3 10 8 2 3 3 2 0 2 2 2 3 1 2 0 1 1 2 3 0 6 1 2 3 2 0 1 2 1 0 1 2 1 9 1 0 0 0 2 1 0 2 3 0 0 1 6 1 0 6 0 1 3 9 2 2 2 0 1 1 2 3 10 1 2 1 4 0 4 2 5 2 0 2 3 1 0 2 0 2 1 2 6 3 3 2 9 0 2 0 0 2 6 1 2 0 6 2 0 0 1 1 2 1 3 2 1 10 3 9 1 3 7 1 10 1 9 9 0 3 0 1 2 0 6 2 9 0 10 4 2 1 2 2 9 4 0 2 8 3 0 3 2 2 2 0 0 2 2 0 3 2 3 1 0 1 0 0 2 2 2 0 1 5 0 8 0 7 2 1 2 2 2 2 1 2 6 1 2 0 0 0 7 2 0 3 2 3 10 0 0 1 1 6 0 2 4 2 6 1 1 0 1 0 3 0 2 6 0 2 6 2 3 10 2 2 8 2 0 1 1 6 0 6 0 1 3 2 0 2 0 2 4 0 8 0 1 9 2 0 2 5 10 2 9 2 0 9 6 0 0 9 10 2 0 2 0 0 0 1 9 3 5 7 6 0 3 0 2 0 1 7 1 3 7 5 1 1 6 3 2 3 0 3 0 4 2 10 0 6 2 1 1 1 10 1 1 2 2 2 6 4 2 0 6 0 2 9 1 9 2 2 0 2 2 2 3 4 3 3 2 2 0 0 9 3 0 0 2 8 6 0 1 2 1 1 2 2 0 0 2 0 2 6 3 1 1 0 0 1 1 2 0 6 3 10 2 3 0 0 1 0 2 2 9 1 8 1 1 0 5 1 3 0 1 2 2 0 2 9 6 0 2 4 6 0 7 1 3 0 2 5 1 9 0 0 9 2 3 3 10 1 3 6 0 3 0 2 0 0 2 1 2 0 3 1 1 3 2 4 6 2 0 2 1 6 0 2 2 3 2 5 9 6 2 3 0 2 6 0 7 0 4 3 0 1 7 3 3 0 0 5 10 2 0 0 2 6 9 0 4 1 1 1 4 6 2 2 2 2 2 4 4 2 6 2 0 2 4 7 9 0 7 1 0 1 0 1 2 9 6 8 10 9 2 2 0 0 6 3 3 2 1 9 8 4 0 0 3 2 6 8 2 3 2 1 3 0 1 0 1 2 6 0 7 0 0 9 7 2 0 3 1 1 7 2 2 3 10 4 9 4 2 3 0 1 0 3 3 0 5 2 2 1 6 8 2 5 0 3 6 1 0 1 2 2 9 4 1 1 2 2 4 2 2 0 1 3 1 3 3 1 10 1 3 1 4 6 4 9 2 9 2 8 1 0 0 0 0 0 1 10 4 4 2 1 9 0 9 2 3 2 6 0 0 6 0 1 1 6 0 1 0 0 2 0 3 10 1 5 0 1 1 7 1 7 3 3 3 4 6 0 2 0 9 9 1 9 0 1 7 0 2 2 2 1 0 2 0 2 1 2 1 7 3 2 2 5 7 8 0 0 7 2 2 1 5 6 3 1 0 2 0 0 1 2 8 1 2 0 2 2 5 2 0 4 0 0 0 9 1 0 0 4 2 0 1 8 1 0 1 5 0 4 2 6 0 7 0 6 1 1 1 6 0 1 1 8 2 0 3 0 0 2 3 1 3 3 1 1 0 5 1 0 3 0 0 6 7 0 1 3 0 6 2 0 9 3 1 2 0 0 0 3 0 4 2 2 0 8 4 2 2 0 8 2 6 6 1 2 2 6 0 0 2 2 1 0 4 0 2 0 6 2 3 3 1 0 0 8 3 10 4 3 4 0 1 0 2 0 0 2 5 0 0 0 1 2 1 0 6 0 2 6 0 0 1 5 1 0 1 2 0 0 1 0 2 7 2 0 0 9 1 7 5 2 1 1 8 0 2 2 1 1 3 2 1 0 7 1 7 10 5 3 2 6 0 6 0 2 3 8 7 2 0 0 0 0 1 0 3 3 3 2 7 0 6 2 1 1 7 0 1 5 0 3 0 0 9 2 10 0 3 0 1 4 2 1 6 1 0 2 0 3 9 4 0 3 2 2 2 4 1 5 2 3 0 3 0 3 1 0 0 2 4 8 6 2 9 9 1 0 0 1 3 9 2 4 6 2 1 1 0 1 8 0 6 0 10 2 2 4 3 2 2 0 9 1 0 2 2 0 9 4 0 3 0 0 1 4 1 2 2 3 6 1 2 5 0 10 1 9 1 6 5 0 2 4 6 0 1 0 9 5 3 0 4 3 2 10 0 0 2 5 4 2 4 8 0 0 1 1 2 3 0 0 1 2 2 0 9 1 3 2 6 10 8 3 0 1 2 2 2 0 1 6 3 2 2 5 1 2 3 6 4 2 2 8 3 0 2 8 1 3 2 0 4 3 4 0 1 0 0 0 1 0 2 0 2 1 4 1 2 1 3 2 0 6 1 9 2 0 1 0 3 6 0 2 0 0 0 1 0 2 1 3 2 2 6 2 0 3 2 4 5 2 2 1 6 0 0 0 4 2 9 10 2 3 2 2 3 3 0 8 2 1 1 0 2 0 6 1 6 2 1 3 2 7 5 0 2 10 0 5 0 10 3 2 4 4 9 10 0 3 8 0 2 2 5 2 3 9 2 2 3 0 0 6 2 0 2 2 0 8 2 9 0 2 9 0 3 6 8 3 0 2 2 3 7 2 4 0 6 6 1 9 1 2 0 0 0 2 1 1 2 9 6 6 0 6 3 0 0 0 1 0 7 3 0 2 2 2 0 0 0 1 1 9 2 8 1 8 2 4 2 2 0 1 0 2 0 7 2 8 0 2 2 9 0 0 2 2 9 2 1 0 1 0 0 1 2 8 5 1 2 0 9 2 6 2 1 9 0 0 3 6 2 8 2 5 2 7 6 1 9 1 2 6 0 3 1 6 0 1 3 1 3 1 0 1 3 1 2 6 0 1 0 4 8 2 7 6 2 2 2 7 7 0 1 3 0 1 0 2 2 1 0 2 1 0 1 3 0 2 9 2 0 7 2 2 6 9 1 2 3 0 1 1 0 3 7 3 0 1 0 2 7 6 3 2 6 0 1 2 1 1 0 9 0 3 8 10 3 1 1 0 2 0 1 0 6 2 2 0 10 1 3 2 0 7 0 7 3 4 2 6 6 7 3 10 1 5 2 3 3 2 2 0 6 7 1 2 3 10 3 2 1 2 2 6 5 0 3 2 2 0 7 7 6 0 9 6 0 2 1 2 0 2 0 9 0 0 2 3 0 1 0 8 0 1 8 0 6 2 10 1 8 8 3 1 2 5 1 3 2 9 7 0 9 0 0 4 5 7 2 9 3 2 2 2 9 2 0 1 0 3 1 7 1 2 3 3 2 7 0 0 0 0 2 0 2 1 8 0 5 6 9 7 0 0 3 2 3 1 7 0 1 1 4 2 0 0 2 2 2 0 0 1 0 2 0 2 1 3 0 2 0 0 5 3 3 0 6 2 2 7 0 3 0 6 1 0 2 0 0 0 10 0 3 0 2 1 1 2 6 1 2 2 1 2 6 2 0 1 3 2 0 6 6 0 1 0 0 0 6 0 1 0 9 6 4 1 2 2 2 10 8 3 0 1 6 2 3 0 2 1 1 0 2 0 10 2 0 0 1 0 0 7 2 2 0 0 6 0 1 9 3 1 3 0 3 9 1 2 1 6 4 2 4 0 3 4 2 0 0 0 6 0 1 5 2 2 3 6 3 1 2 2 6 0 3 0 0 3 6 2 4 7 5 1 2 1 0 1 0 5 0 2 0 8 0 1 1 2 2 6 0 0 0 0 2 1 2 4 3 0 0 1 6 0 0 0 0 2 10 2 1 0 0 6 5 9 1 4 0 0 2 6 0 1 7 10 4 2 0 0 1 2 1 6 1 8 10 3 2 7 3 0 0 0 4 2 0 6 0 0 0 0 9 3 1 8 2 6 9 2 1 2 2 2 4 5 2 2 0 5 0 1 2 1 0 1 9 1 1 7 1 2 2 0 6 1 10 4 0 0 6 2 3 1 10 4 0 2 0 2 2 0 1 2 3 2 7 0 0 1 0 10 1 8 7 8 0 1 3 3 3 2 2 1 1 7 3 2 4 8 6 2 2 1 0 4 1 2 6 3 1 1 0 0 3 1 8 5 0 0 0 5 0 1 2 6 0 5 9 0 4 6 1 1 1 2 9 10 2 0 0 0 0 4 7 1 0 0 0 2 7 9 1 0 3 2 1 0 0 4 2 3 4 5 1 4 5 0 6 6 4 1 3 0 0 1 7 0 0 2 2 1 0 6 8 1 1 1 1 1 4 8 0 7 7 3 1 9 8 0 1 1 10 3 0 5 5 3 6 1 6 0 0 2 1 2 2 3 2 2 2 8 0 4 1 3 2 2 2 2 0 3 1 2 0 6 0 5 0 4 0 1 0 0 0 3 0 2 6 5 2 7 1 10 9 1 6 1 9 0 0 4 0 1 2 1 9 1 3 0 0 2 9 3 0 0 0 2 0 1 1 5 6 0 6 10 6 1 0 1 1 2 7 0 2 2 3 0 2 3 3 0 2 2 0 1 2 0 1 2 2 0 0 9 0 2 2 0 1 6 1 2 0 0 4 2 0 2 0 1 0 0 0 2 8 3 0 0 3 10 1 2 2 2 9 3 8 2 0 2 0 0 0 0 3 2 2 2 1 3 2 2 0 2 6 2 5 4 2 1 1 0 7 1 2 0 3 0 8 0 4 0 2 0 2 2 1 2 3 2 0 5 5 1 1 2 1 0 0 6 2 2 1 3 1 9 0 2 0 4 3 1 4 2 3 0 1 0 0 0 2 2 0 2 2 0 1 8 0 0 5 0 1 2 2 10 2 2 2 8 7 0 0 0 2 2 2 7 3 2 1 0 0 3 1 0 3 10 0 2 0 3 2 0 0 2 6 6 6 0 3 0 7 6 1 0 2 8 0 3 0 0 1 6 2 3 2 1 5 6 2 2 1 3 1 0 7 1 0 2 0 3 7 0 3 0 7 0 1 6 0 3 0 0 1 0 0 1 0 1 2 10 0 0 0 1 1 6 2 10 1 0 2 0 9 0 0 6 1 0 0 3 0 2 2 0 0 3 1 0 3 0 2 6 0 9 8 6 1 8 9 4 2 0 0 6 2 1 0 2 1 1 2 2 2 2 4 1 5 4 2 3 3 2 3 7 6 3 7 6 0 2 2 0 2 0 9 1 2 2 1 7 9 2 0 3 1 1 1 2 0 0 3 1 2 4 0 0 6 1 2 8 3 7 0 0 6 6 1 0 10 10 0 0 1 3 2 6 0 0 1 4 1 0 3 6 2 8 3 3 2 0 2 0 8 0 2 0 2 8 0 7 0 3 1 6 0 3 2 6 5 3 0 1 1 2 3 0 1 6 0 4 1 5 0 7 5 1 2 1 6 0 2 6 1 2 0 3 0 2 0 2 2 2 0 4 1 1 2 0 9 1 2 0 10 2 0 0 3 1 1 2 9 1 5 3 8 2 7 0 2 0 3 7 0 1 9 6 0 1 6 2 9 2 1 3 1 4 1 1 10 0 2 6 0 6 3 5 1 0 10 1 3 6 2 1 3 1 2 6 3 2 2 5 0 9 0 0 2 6 1 0 6 8 2 6 1 2 2 0 1 1 9 6 2 5 0 1 3 1 7 6 3 0 2 3 3 4 9 6 1 7 3 0 2 5 7 0 10 7 0 1 3 1 0 3 3 0 0 0 9 10 0 2 9 6 2 2 3 1 0 6 0 2 8 0 2 1 2 3 0 10 4 0 0 1 1 1 2 0 2 1 2 3 2 1 5 10 4 1 9 1 2 0 0 2 9 3 2 0 6 3 1 0 0 0 6 8 3 3 1 0 10 2 7 9 6 0 0 4 6 6 3 1 5 7 0 0 10 3 1 6 2 0 3 0 0 1 0 3 0 0 1 5 3 2 10 6 3 2 2 1 6 1 2 0 9 2 4 2 2 3 2 1 0 4 2 2 0 1 7 2 1 0 0 0 0 0 3 0 1 2 9 5 0 0 0 2 0 3 0 8 9 2 1 2 0 1 3 2 10 2 3 0 0 3 2 5 1 3 8 2 1 2 0 8 8 2 1 0 2 0 3 1 5 0 1 6 0 8 6 2 6 0 0 2 8 0 0 2 2 0 2 6 3 3 0 0 0 2 0 0 6 2 8 1 0 3 6 0 2 2 8 3 1 7 3 0 2 2 2 2 6 3 6 0 2 1 2 2 1 1 0 2 0 0 0 0 3 3 2 0 2 9 2 2 2 2 1 2 2 2 2 1 4 2 2 2 0 2 3 3 0 2 1 1 1 2 0 4 1 2 0 2 0 6 0 3 8 1 2 0 1 2 0 2 0 3 0 9 1 1 7 3 2 4 9 0 6 2 2 3 10 4 1 7 2 2 0 0 1 2 0 6 2 0 2 1 1 2 0 0 2 2 0 7 2 3 1 2 0 0 1 4 0 6 0 2 1 1 2 1 0 10 5 10 0 2 1 10 2 1 3 3 1 5 1 2 0 2 3 2 1 3 6 1 7 2 2 1 9 1 8 1 0 4 2 0 0 9 1 0 0 6 3 6 7 0 7 0 0 0 0 3 7 0 3 2 10 1 0 3 3 4 0 1 1 0 6 9 6 2 2 8 0 9 3 2 3 2 0 1 0 1 3 3 2 2 2 3 9 4 10 0 6 0 2 6 1 0 1 2 2 0 0 3 2 0 0 6 7 8 2 2 1 2 1 0 0 0 2 6 0 2 2 3 3 0 6 2 0 4 0 3 3 1 7 1 2 1 0 1 1 9 2 1 1 2 2 3 2 1 0 4 1 0 1 3 2 0 2 2 3 1 2 2 0 1 2 2 1 2 1 0 3 3 3 0 2 6 4 1 3 3 0 1 2 8 8 2 0 4 7 1 7 2 0 1 2 2 3 2 4 0 5 1 0 6 0 0 1 3 2 1 1 0 6 0 2 2 9 2 3 2 2 1 2 10 2 1 2 3 0 0 6 0 0 6 6 8 1 3 0 9 2 2 0 7 0 4 2 0 0 0 1 2 3 6 9 2 7 0 1 9 3 0 1 0 1 2 0 4 2 2 2 6 1 0 1 3 2 0 6 0 1 1 1 6 0 9 3 2 7 2 4 0 9 3 0 1 9 7 10 8 6 9 1 3 0 0 1 0 2 7 5 6 8 3 2 3 9 7 2 2 2 3 2 0 6 6 1 5 4 0 0 0 1 2 1 2 0 0 0 2 0 0 9 2 0 4 1 7 10 2 0 0 1 2 5 10 0 1 3 5 2 8 1 1 3 3 1 0 3 0 0 2 3 1 6 1 0 2 5 4 0 0 2 6 1 1 2 0 7 5 0 3 1 6 0 5 0 1 1 2 3 2 7 8 10 1 1 2 5 3 0 3 1 7 4 8 10 8 6 0 2 2 2 2 5 2 2 0 0 0 1 6 2 2 2 0 1 2 2 2 2 2 1 0 2 0 3 0 2 0 0 0 7 2 6 9 4 0 2 2 4 0 8 4 10 6 2 2 0 7 1 6 2 2 2 2 2 2 9 0 3 2 7 1 7 2 0 4 1 0 3 0 9 8 4 1 3 2 9 8 0 2 0 0 0 4 2 2 0 2 4 0 3 1 4 8 0 1 0 1 2 0 0 0 0 1 0 0 7 3 5 2 0 2 1 3 0 2 1 1 1 1 1 3 0 3 1 1 9 0 3 0 1 0 3 6 6 1 9 6 10 2 1 6 0 0 0 0 0 1 2 2 6 2 0 0 0 2 2 2 0 8 2 0 2 0 8 6 0 0 0 5 2 0 2 1 6 2 1 2 2 0 0 0 6 2 5 2 6 0 9 3 3 2 0 1 2 2 0 0 4 1 7 0 0 0 0 3 1 0 1 2 2 2 9 4 1 3 8 0 1 2 5 0 1 7 6 4 3 1 1 3 1 0 4 0 1 4 0 7 2 2 0 2 1 1 1 0 3 0 1 7 2 0 0 1 0 1 2 1 3 3 6 9 2 0 1 5 0 1 9 1 1 2 9 8 0 2 3 4 9 2 0 2 3 9 3 5 0 2 0 3 1 10 6 0 7 9 8 3 1 3 1 2 5 2 3 2 6 3 0 2 2 6 2 1 0 0 9 6 2 2 2 3 6 2 2 1 7 0 8 0 0 0 2 1 2 8 3 1 1 10 2 3 4 0 0 0 6 2 2 2 0 1 0 3 1 1 1 0 2 2 6 1 2 0 6 7 0 3 0 7 7 5 1 2 2 0 2 3 8 0 3 4 2 1 6 2 2 0 1 0 1 9 4 1 2 2 8 0 2 2 0 3 2 6 0 7 1 3 10 2 2 4 6 7 0 8 1 7 6 6 1 8 2 1 0 6 3 0 0 4 2 1 6 9 2 0 0 2 2 2 9 9 7 6 1 6 1 6 7 2 9 0 8 2 0 1 1 4 0 2 2 0 0 3 6 0 0 1 0 9 2 3 3 0 0 0 1 0 2 0 2 0 1 8 10 2 0 2 2 2 6 2 1 0 1 1 2 2 10 1 2 2 0 0 1 2 2 0 0 1 2 0 5 9 0 1 3 0 3 0 5 1 2 2 0 0 1 2 2 1 0 9 3 2 0 4 1 6 8 0 2 5 2 5 0 6 2 0 0 0 3 0 2 0 2 1 0 6 2 1 1 0 2 4 8 1 6 7 2 1 6 2 7 6 0 0 0 0 0 0 2 1 6 3 0 1 5 1 2 2 1 0 4 1 6 6 10 0 2 0 4 0 0 2 9 2 4 3 2 1 1 0 2 1 1 9 0 2 2 7 3 3 0 0 1 4 0 3 2 0 1 1 7 0 0 4 0 2 7 1 2 1 3 2 2 2 0 9 9 2 0 3 3 0 9 1 7 1 0 2 1 6 4 6 6 0 8 2 10 2 2 9 6 0 2 8 1 5 0 2 9 1 6 7 8 8 6 1 0 0 6 0 2 0 2 2 0 2 0 2 5 2 0 1 7 0 7 0 2 0 8 1 1 7 0 0 9 1 0 6 0 2 1 0 1 0 3 6 9 0 8 3 1 6 1 2 3 0 0 1 2 4 0 2 9 8 2 5 2 2 0 2 0 3 0 4 0 1 4 0 2 7 6 1 6 1 0 8 0 1 2 0 0 0 1 9 0 9 0 9 4 1 1 1 4 2 0 0 3 7 2 0 4 0 2 0 1 7 2 6 8 4 2 3 3 1 0 8 7 9 6 0 2 2 3 2 2 1 9 4 2 2 0 3 6 6 2 2 6 3 5 6 1 2 0 2 6 4 6 6 0 9 1 1 0 0 2 3 4 6 3 0 4 1 4 2 10 2 2 9 5 0 2 0 2 3 1 0 0 1 7 3 1 2 0 7 6 1 0 1 1 0 6 2 2 0 7 0 2 2 2 9 0 7 2 2 2 1 0 0 0 1 9 6 0 1 4 6 1 0 2 0 1 5 2 0 "
     ]
    },
    {
     "name": "stdout",
     "output_type": "stream",
     "text": [
      "0 0 5 0 3 0 0 2 1 6 0 2 2 1 2 7 1 1 6 0 4 6 0 2 2 1 2 0 6 1 2 1 0 1 3 2 1 0 2 3 1 6 2 0 1 0 3 8 1 0 0 3 1 1 2 3 0 0 3 2 2 3 0 2 0 2 3 2 0 1 2 0 3 1 0 2 0 0 4 1 2 3 2 2 1 2 1 6 1 1 1 0 0 1 1 2 0 0 6 1 3 0 7 2 0 0 1 0 7 2 1 3 0 0 6 2 0 0 0 3 8 0 7 2 8 0 1 3 2 2 1 3 1 6 2 9 1 7 2 2 2 2 1 2 2 0 0 0 0 2 3 6 2 9 3 1 3 3 2 2 2 2 1 2 2 0 3 1 0 1 0 0 4 6 0 2 1 8 1 4 1 0 8 0 2 4 0 2 3 3 9 2 1 2 6 1 0 0 6 0 0 0 1 0 6 0 0 3 2 8 2 2 1 1 1 8 0 2 6 1 1 0 3 2 4 5 3 6 1 3 4 3 2 2 1 5 0 5 2 0 2 0 2 4 6 5 1 0 1 0 1 0 2 2 3 0 1 2 0 6 5 1 7 0 4 6 2 1 2 7 3 3 0 0 6 9 6 0 4 0 2 3 0 2 7 0 0 1 8 3 2 3 2 1 3 0 1 9 7 1 0 3 2 2 2 0 2 0 2 3 2 0 0 0 0 4 1 1 0 0 0 0 0 0 1 6 2 2 7 0 2 6 1 1 3 2 2 0 1 6 3 5 0 9 0 1 1 8 3 1 6 3 3 2 0 2 1 3 1 0 3 0 1 0 2 3 7 10 1 6 0 0 0 0 3 4 2 2 7 3 5 0 2 2 6 0 2 3 0 3 2 6 3 0 10 0 6 1 0 0 6 2 0 4 2 0 5 3 0 1 3 1 0 1 8 6 4 4 3 7 3 6 9 1 2 0 2 2 6 9 1 2 6 10 0 0 2 0 0 1 2 3 8 1 1 2 0 2 6 6 2 1 2 5 0 10 0 6 6 1 2 1 0 2 1 0 3 1 0 0 1 1 0 2 6 6 0 2 2 5 0 2 1 3 2 2 1 8 7 0 0 1 5 9 7 2 6 0 0 6 2 2 0 2 2 9 6 8 2 0 2 1 2 6 1 2 2 3 10 2 2 2 0 1 1 6 1 3 6 6 8 1 1 7 2 0 2 3 1 2 2 9 0 0 1 10 7 6 1 1 0 6 5 1 0 1 0 0 6 2 0 0 7 5 0 9 8 7 0 1 1 2 0 8 2 1 2 0 0 0 0 0 0 6 2 1 2 2 3 6 0 2 2 9 0 0 5 2 9 0 2 6 0 6 3 0 0 9 0 7 1 3 6 1 4 0 0 2 8 0 9 2 0 0 0 2 9 0 1 2 0 0 10 2 5 9 0 1 1 2 1 2 2 6 3 1 6 4 0 6 6 2 6 3 2 2 2 9 4 0 1 2 2 2 0 2 2 2 3 2 2 0 6 0 9 1 2 0 1 2 3 8 0 0 6 2 0 8 3 3 3 2 1 3 8 0 1 7 5 3 1 6 2 2 7 1 2 2 0 2 1 6 0 9 1 6 0 2 0 2 2 4 0 0 2 0 2 2 0 0 1 7 2 2 0 3 0 2 2 0 2 2 0 1 0 1 0 2 6 2 0 1 2 6 0 3 1 2 0 1 0 1 0 2 6 0 2 10 10 0 2 1 2 0 2 0 0 2 0 3 1 7 1 2 1 2 4 0 2 5 2 0 0 2 4 0 0 1 0 0 0 1 2 1 5 2 0 1 3 10 6 1 0 0 0 0 2 2 0 0 2 0 2 1 7 2 0 2 1 1 6 1 0 2 4 0 1 0 2 0 3 2 4 1 2 1 0 0 2 0 0 2 1 1 1 1 0 1 1 2 2 4 0 0 10 2 5 2 1 0 0 0 1 5 1 2 3 8 2 1 3 0 0 0 1 0 4 0 3 1 0 3 7 2 3 2 2 5 1 2 9 1 2 2 2 0 6 1 0 0 0 0 2 3 7 2 5 7 6 0 7 0 0 9 3 2 1 2 5 2 9 1 0 0 3 0 0 1 10 3 2 3 3 0 0 0 2 3 1 1 2 2 7 1 3 10 2 4 0 2 0 1 2 0 0 3 9 2 2 2 0 2 6 1 6 1 3 0 2 0 1 0 7 10 0 1 7 1 2 1 0 8 2 2 1 7 2 8 2 7 10 9 1 0 0 0 0 0 2 3 2 4 2 0 0 1 3 7 7 6 7 2 5 2 2 3 1 2 3 2 1 0 1 0 1 3 0 1 2 10 2 0 0 3 0 3 6 1 2 3 6 7 2 0 1 9 2 2 10 2 0 3 2 1 0 9 0 0 1 0 2 10 3 0 2 1 1 6 0 1 1 4 1 0 3 3 1 2 6 10 2 10 3 0 6 1 6 0 2 2 2 3 3 8 0 3 8 1 1 6 4 1 1 10 0 1 4 0 2 2 3 2 5 2 3 4 7 1 2 1 0 2 1 2 2 5 2 5 1 2 6 3 1 2 5 10 8 1 0 9 0 7 0 0 0 2 6 2 8 1 0 2 0 0 1 9 1 0 2 2 10 9 1 2 0 2 6 0 1 0 5 6 7 0 0 9 0 0 6 2 2 0 2 1 0 7 2 4 0 2 1 2 2 2 1 3 1 6 0 7 0 1 4 9 1 2 0 6 0 1 0 3 2 2 1 7 0 0 3 1 9 3 6 6 4 0 8 9 6 1 3 0 0 1 8 0 0 0 2 3 2 1 2 0 1 6 0 0 0 2 0 10 0 7 0 6 6 2 2 7 1 5 7 2 2 6 7 8 2 2 2 2 0 6 0 1 9 2 1 6 0 1 0 3 0 1 0 0 3 0 1 3 5 2 1 2 6 0 3 9 0 6 2 4 1 2 6 2 2 0 0 0 3 2 6 2 9 1 0 0 0 2 4 2 0 1 4 1 0 3 2 2 10 0 4 0 9 1 1 1 8 2 6 0 7 10 2 7 1 1 3 0 0 1 2 0 0 9 1 2 1 1 1 0 7 0 1 2 0 1 6 1 1 6 3 8 2 1 7 1 5 1 2 0 3 0 7 6 6 1 3 1 2 2 2 2 0 0 2 0 3 2 0 7 0 9 0 2 1 0 0 2 7 2 3 0 0 2 4 6 1 5 7 2 0 0 0 1 0 2 1 1 9 1 0 8 0 2 2 2 6 7 0 0 0 2 0 2 0 0 1 6 1 1 0 2 2 4 0 1 0 10 2 0 2 3 1 6 0 0 7 0 9 1 1 5 1 1 1 8 1 0 0 1 0 1 1 1 9 1 6 0 2 4 0 0 1 0 0 1 0 7 0 1 2 2 2 0 1 3 4 10 3 2 2 1 3 6 4 2 2 1 0 3 3 5 6 6 1 1 1 0 2 6 2 0 0 2 0 1 0 2 6 0 2 2 3 2 7 0 6 4 2 10 2 0 2 0 2 2 8 2 6 8 5 0 0 6 2 2 1 2 7 9 1 2 0 0 2 5 2 0 3 3 2 2 0 2 0 2 1 0 2 1 3 2 10 2 1 0 0 8 0 6 2 0 2 3 2 5 0 2 10 0 9 1 0 2 1 7 8 0 9 2 0 1 2 1 2 2 3 0 3 4 2 0 2 2 0 5 1 2 1 2 4 2 3 10 0 2 2 2 3 3 2 0 2 10 0 1 3 1 2 1 0 10 0 7 6 0 2 1 1 0 3 2 3 1 8 7 7 10 0 6 8 7 2 0 2 10 3 0 5 3 2 6 1 2 1 1 0 0 0 1 2 9 2 2 10 1 0 3 0 3 6 0 6 1 2 8 0 0 0 4 9 0 0 1 0 3 2 0 0 0 6 2 1 1 1 1 3 0 2 5 0 1 0 3 0 2 0 2 6 2 0 3 6 3 1 6 5 0 9 3 1 1 1 0 1 0 3 9 1 1 6 3 1 1 8 1 5 2 9 2 3 0 2 0 8 2 4 0 4 7 3 0 0 2 3 4 2 9 1 0 0 2 2 2 2 6 0 2 1 2 5 2 0 0 2 6 8 2 6 0 0 0 1 0 8 3 0 0 0 4 1 2 2 6 2 0 0 4 3 4 0 2 2 0 6 2 0 0 7 5 0 2 1 1 0 0 4 6 1 3 2 2 1 2 1 2 2 6 0 3 9 0 1 0 1 3 0 3 1 0 2 9 1 2 2 6 1 0 9 0 2 5 1 0 2 3 2 2 1 0 5 0 1 8 2 6 3 2 8 1 2 0 2 10 0 5 2 2 1 1 10 2 6 0 0 0 3 2 10 0 3 0 10 5 2 8 4 5 1 0 3 2 2 1 2 0 0 0 3 0 3 2 8 2 6 6 2 2 2 2 3 3 3 9 2 2 2 0 4 6 0 2 1 3 0 2 9 6 0 2 1 0 0 1 3 2 2 0 6 9 0 3 2 5 4 6 0 1 8 1 6 2 0 1 10 2 2 6 2 1 0 0 9 2 9 3 1 0 0 2 0 0 2 9 6 1 0 2 3 1 6 3 6 2 6 7 0 1 10 0 2 0 1 4 3 0 2 2 0 3 2 10 9 0 0 0 0 0 0 3 10 10 2 1 2 0 0 0 1 10 2 4 1 4 2 1 9 0 0 0 3 5 3 3 2 3 1 3 8 2 0 2 0 1 4 2 3 1 2 1 6 2 4 2 0 2 1 1 0 6 1 6 0 6 9 8 0 0 0 2 3 2 3 1 0 9 2 2 2 2 9 0 2 4 0 9 1 2 0 2 10 1 2 0 2 0 0 9 0 3 6 6 0 0 6 2 2 6 2 0 1 0 1 0 3 7 8 0 1 0 0 0 7 9 0 7 0 2 2 9 0 2 3 2 4 4 1 0 3 1 1 2 6 1 9 0 3 2 6 6 8 2 0 2 5 4 2 3 1 1 0 1 0 4 2 0 1 9 0 2 2 9 0 0 3 10 2 0 5 3 9 1 9 3 6 2 0 1 0 1 2 1 6 10 6 0 2 6 0 0 7 2 7 3 6 2 3 9 0 6 9 1 3 0 1 2 0 1 1 2 1 10 7 1 0 1 1 0 1 1 6 4 6 6 7 7 0 8 0 0 3 0 0 2 2 0 1 2 0 2 3 2 2 1 1 8 0 0 2 5 2 6 6 0 8 1 2 1 0 2 3 0 3 1 9 0 2 0 2 0 7 7 0 7 6 0 2 0 3 0 2 8 0 1 0 8 2 0 0 0 1 1 1 4 2 1 0 4 2 1 1 1 0 2 2 2 0 6 10 4 0 0 2 2 1 0 0 9 0 3 0 2 2 5 6 0 2 2 7 8 3 5 6 1 2 0 3 6 2 0 0 6 0 2 4 5 8 1 1 9 0 6 2 2 0 1 2 0 9 2 5 0 0 6 0 7 3 0 0 2 6 3 2 2 1 10 1 5 1 1 2 1 3 1 1 6 0 1 0 0 2 2 3 2 3 0 3 4 3 1 8 1 2 2 3 0 1 2 9 0 5 3 0 4 1 7 1 7 0 1 0 2 1 0 1 1 6 0 1 0 5 10 0 6 0 7 3 2 0 3 0 7 9 1 3 6 2 1 2 2 1 3 0 7 6 6 1 9 2 6 2 2 2 0 0 6 3 0 1 0 1 2 8 2 0 6 2 3 8 0 2 0 9 0 5 4 3 2 3 3 2 7 2 0 1 0 0 0 6 0 2 6 3 0 0 3 2 2 6 2 5 0 2 1 2 0 0 0 1 0 0 10 1 5 0 0 4 0 2 8 8 1 1 0 2 1 8 1 0 0 3 9 0 3 0 2 0 0 2 1 1 0 2 9 2 2 6 6 0 1 0 4 6 1 0 0 0 9 1 0 0 2 3 0 1 1 1 0 2 0 0 6 8 0 0 0 10 6 3 0 1 9 2 1 2 1 3 2 3 0 1 4 8 2 7 2 0 6 0 3 0 9 0 1 0 0 0 2 0 0 2 5 1 9 0 9 5 8 0 4 9 2 3 0 4 5 2 0 0 3 2 5 0 2 0 6 8 4 6 8 7 6 6 0 1 0 2 1 0 0 2 3 2 9 1 3 8 10 1 3 2 0 0 1 10 1 9 6 3 0 2 7 0 1 4 0 0 1 0 2 1 0 0 1 6 8 2 1 2 0 1 5 0 2 1 3 3 9 3 2 0 2 3 2 0 2 2 5 0 1 4 8 2 3 1 0 1 0 2 4 2 1 2 5 1 2 5 6 3 1 1 6 0 3 3 6 6 1 4 3 0 2 2 6 1 0 4 2 9 0 2 2 2 10 2 9 10 1 8 2 5 8 0 2 1 5 0 1 0 0 10 8 7 0 10 2 0 9 0 2 9 1 9 3 7 2 3 0 3 0 7 6 2 1 0 2 2 1 2 4 0 0 7 2 7 9 0 3 0 2 2 2 6 0 0 0 3 0 3 2 3 0 0 1 4 0 2 2 0 3 9 0 0 3 0 2 3 0 1 2 9 0 0 7 2 3 3 7 5 1 2 0 5 1 1 0 0 8 0 3 2 5 5 1 0 8 2 0 0 2 1 4 0 9 0 0 3 6 2 6 2 0 0 4 0 0 10 3 3 0 9 4 3 0 0 6 0 1 7 3 9 7 9 1 2 3 0 2 6 1 0 6 1 7 4 0 1 2 0 2 0 2 0 3 0 4 0 2 2 2 6 9 0 5 0 0 2 8 3 3 8 2 6 8 9 0 3 7 2 0 3 9 0 1 6 0 1 2 2 2 2 0 1 2 1 3 3 6 5 0 8 2 0 1 1 2 0 2 4 0 2 5 0 1 8 0 6 5 2 7 2 6 4 0 9 1 0 1 1 0 1 3 0 0 8 1 1 4 0 2 4 3 0 2 2 3 2 2 0 2 2 1 1 4 5 4 1 2 3 2 9 3 1 4 7 3 2 6 1 6 0 0 1 9 0 1 6 1 5 0 6 1 0 1 3 0 7 1 0 0 0 0 9 0 4 3 0 1 5 2 0 8 2 1 2 9 1 7 1 0 2 2 0 1 7 2 5 0 2 1 2 1 2 9 0 2 0 0 2 1 0 0 3 1 6 0 9 0 1 0 3 0 3 0 6 0 2 9 0 4 3 2 0 3 1 0 0 1 2 2 0 2 7 0 4 2 0 1 8 1 1 3 3 1 1 2 0 8 0 6 3 6 1 8 2 0 2 2 3 8 0 2 3 0 0 9 1 0 6 0 3 3 2 0 6 10 0 2 2 0 4 2 0 2 0 2 0 3 2 6 2 3 2 9 2 6 3 0 2 6 3 2 0 4 2 0 0 2 6 2 6 0 0 0 8 0 2 3 2 0 6 0 4 2 3 2 2 0 3 0 0 0 9 8 7 2 1 2 6 0 9 6 1 9 10 1 2 3 9 2 0 6 0 1 3 3 0 0 6 2 2 2 2 2 2 0 2 0 6 1 0 2 1 2 3 1 9 0 2 0 0 0 0 0 4 0 1 2 8 1 0 0 6 0 0 8 0 1 6 0 6 2 3 5 1 0 2 1 3 0 0 1 1 2 2 2 0 2 2 3 1 6 1 2 1 3 1 6 0 9 0 1 1 4 9 0 1 2 2 9 2 10 3 2 10 1 0 10 9 0 0 1 7 3 1 3 1 6 0 7 1 7 9 2 1 0 2 0 2 7 0 0 2 0 3 1 0 0 3 3 1 2 1 2 3 0 7 6 6 2 9 0 3 2 2 2 9 3 2 0 0 2 2 0 2 6 7 2 0 2 4 1 0 1 0 8 0 4 2 3 1 0 7 2 3 7 1 9 0 0 0 9 0 3 6 10 2 2 0 0 1 2 0 2 4 1 2 0 1 2 0 3 1 0 6 3 2 1 3 0 0 1 0 1 2 0 0 2 0 7 2 0 6 3 7 3 1 4 0 2 4 2 1 2 2 0 1 2 3 1 0 1 2 3 3 1 0 1 2 1 10 2 2 0 4 1 0 2 0 0 0 0 3 6 0 0 0 1 3 2 3 2 0 6 2 0 0 3 1 2 0 9 1 1 6 0 2 3 3 5 9 6 0 0 1 1 3 9 2 6 2 0 2 2 10 0 0 2 4 3 6 1 3 3 2 2 2 0 1 1 0 1 0 1 2 0 0 0 0 1 2 9 2 1 2 1 2 0 2 2 0 6 2 2 0 2 7 0 2 1 2 10 4 0 0 9 1 2 9 8 6 6 2 0 2 3 0 1 8 0 1 3 0 2 1 2 1 4 6 0 2 0 6 3 1 0 3 2 0 3 4 3 0 2 2 0 0 4 10 1 3 3 4 2 3 1 2 7 2 3 1 3 0 1 5 2 2 0 7 6 2 0 0 6 2 0 0 2 1 3 0 4 2 0 8 3 5 1 2 0 1 2 1 2 3 2 0 4 6 3 2 3 0 2 1 1 0 2 2 1 6 0 7 3 3 0 4 0 2 0 9 0 2 0 0 4 2 3 0 2 0 0 9 1 1 2 1 0 0 1 4 0 6 6 1 2 2 5 2 1 0 4 0 0 3 1 6 2 1 2 8 3 2 0 8 1 1 0 0 1 1 0 2 6 3 4 0 3 3 0 0 4 1 2 2 0 0 3 0 6 1 1 1 1 0 4 1 0 3 2 0 2 0 1 0 2 1 2 7 1 1 0 0 0 6 4 6 0 2 1 9 4 2 1 9 6 9 6 1 0 2 7 8 3 3 3 2 2 0 0 3 3 0 1 0 0 0 10 3 1 6 2 1 1 2 7 2 6 0 2 0 0 8 9 2 2 6 0 7 2 1 3 3 10 1 6 2 0 3 5 2 3 3 2 7 7 2 7 3 2 8 5 9 0 0 2 3 0 9 3 3 0 1 1 2 1 9 6 1 5 0 0 0 2 0 2 3 0 1 2 1 0 9 10 0 3 2 2 1 0 1 6 1 1 0 1 2 2 0 5 0 2 2 2 2 2 0 1 2 1 2 0 2 3 10 0 1 3 2 2 8 2 0 7 4 1 4 3 0 0 2 1 3 6 0 6 6 4 7 2 0 4 3 2 7 3 2 10 2 2 0 0 7 3 0 0 2 3 6 1 0 0 1 0 1 2 10 3 2 10 0 1 2 7 2 2 2 0 2 2 5 1 6 8 0 6 1 1 3 2 0 0 7 3 1 0 3 0 6 4 0 0 1 7 0 3 2 6 1 1 0 2 0 5 2 0 0 6 0 3 1 9 2 0 1 1 5 0 0 0 6 2 10 1 0 2 1 9 3 4 0 6 7 0 2 0 0 1 5 1 0 0 0 0 6 1 1 2 2 1 3 3 8 1 2 3 0 2 0 2 2 2 2 0 2 9 2 9 3 0 2 0 1 1 2 0 1 1 0 0 3 5 7 0 3 2 6 9 2 0 0 3 0 0 4 2 5 2 6 6 2 8 2 1 1 2 3 2 0 1 7 0 6 0 1 0 6 1 2 9 3 3 2 6 0 4 4 2 0 3 2 0 3 9 0 6 2 0 7 10 3 1 6 0 3 1 1 6 8 1 0 1 3 4 0 7 0 3 4 1 1 0 2 6 4 2 3 1 0 2 2 1 1 0 4 0 3 2 2 2 2 1 0 0 1 3 2 2 0 1 1 2 5 0 2 2 6 0 1 9 3 0 7 0 2 2 9 1 6 0 6 0 2 3 3 9 3 2 1 0 1 8 1 0 2 0 1 2 7 9 2 3 5 9 2 2 0 2 1 3 3 0 3 2 2 0 5 8 3 4 0 6 2 1 6 2 3 1 10 3 0 1 3 4 2 3 6 0 0 5 0 3 0 0 2 2 0 4 0 0 0 3 2 0 1 0 6 6 0 4 8 8 9 1 2 4 0 0 7 2 2 1 0 2 6 3 1 6 2 0 0 1 2 9 9 0 6 3 2 0 2 0 6 1 1 1 2 0 3 8 0 0 2 1 1 2 5 1 2 7 2 2 1 0 1 0 2 9 7 8 5 0 5 6 9 0 1 2 1 0 6 1 6 0 2"
     ]
    },
    {
     "name": "stdout",
     "output_type": "stream",
     "text": [
      " 10 2 4 9 0 9 4 0 2 1 6 0 8 10 2 0 2 4 0 0 0 2 6 2 0 2 1 0 0 3 0 2 0 2 0 4 0 0 1 2 2 3 3 2 4 7 5 2 4 9 1 9 1 7 0 7 0 2 2 0 2 0 1 2 2 2 0 0 1 2 0 2 2 2 0 0 0 0 0 7 2 8 6 0 6 1 2 0 1 10 0 0 2 0 7 6 2 6 9 0 2 3 1 0 3 6 9 1 0 8 8 0 0 2 2 0 6 7 6 1 6 9 6 9 2 2 1 0 2 2 2 1 0 2 1 2 2 1 7 1 1 0 2 6 2 2 7 1 2 2 0 1 2 0 6 2 3 0 0 2 2 4 0 0 4 2 2 8 6 0 2 8 2 3 4 1 1 2 0 1 3 8 6 0 2 2 2 2 2 7 0 0 0 2 0 3 1 3 2 0 1 5 6 0 2 0 9 0 2 0 1 1 6 0 1 3 8 2 6 2 0 0 10 2 0 1 1 1 2 2 0 4 3 6 0 2 3 3 6 0 0 8 2 0 1 4 0 2 3 3 0 3 1 3 6 9 9 3 8 0 0 0 0 0 0 4 0 8 0 1 0 1 8 2 3 0 2 2 2 9 1 1 4 0 2 0 6 2 0 0 3 0 2 1 1 0 4 0 4 2 4 3 2 1 1 6 1 4 0 0 6 2 1 2 2 4 2 3 2 2 0 0 0 1 4 4 9 2 2 2 0 0 2 2 7 2 6 3 2 2 4 1 0 2 0 1 0 2 2 3 2 0 10 2 2 7 0 3 1 2 0 2 2 2 9 0 0 0 5 6 2 1 0 7 1 0 8 1 2 2 2 9 0 3 7 6 1 2 7 2 1 1 6 2 1 0 0 3 2 1 2 6 2 2 1 0 0 0 3 4 2 0 1 2 7 0 0 6 10 0 3 1 3 2 1 2 8 2 5 1 5 3 0 9 0 2 0 0 3 1 3 0 0 9 1 6 3 2 10 2 6 1 6 1 0 2 6 3 0 6 2 3 2 2 2 6 2 3 3 6 2 7 10 2 0 6 2 2 1 0 3 0 2 4 6 1 2 2 4 0 0 1 0 3 5 2 1 0 2 3 2 2 2 2 2 3 0 2 3 6 1 6 1 6 1 6 0 1 2 0 6 2 9 0 1 0 6 9 2 0 0 1 9 1 0 3 0 2 9 0 0 0 2 1 3 2 0 0 2 2 0 1 2 2 2 2 0 3 2 9 0 5 2 2 1 6 0 10 4 1 1 1 1 5 0 9 0 0 0 6 1 1 5 0 1 2 7 2 9 0 3 0 3 2 4 6 2 2 3 2 0 9 9 3 1 1 1 2 0 2 8 2 2 2 4 2 2 0 3 6 1 2 3 5 0 0 0 2 1 6 9 2 0 5 7 0 1 3 2 7 9 2 0 0 3 2 3 0 1 0 4 0 1 1 1 0 0 1 6 2 0 0 2 2 9 8 2 1 6 3 10 3 3 2 2 8 2 2 1 1 2 2 10 2 2 7 9 8 1 1 0 0 2 1 0 2 2 1 0 9 1 2 2 5 2 0 6 6 9 2 1 9 3 1 2 0 2 1 3 0 1 0 1 1 2 5 2 0 2 1 3 4 4 0 0 1 0 2 1 3 2 7 4 7 0 4 2 2 2 0 7 0 4 2 0 6 0 10 3 1 4 2 1 2 1 0 1 3 0 3 0 0 10 9 9 2 2 0 3 1 2 0 2 6 0 0 0 6 2 0 3 2 2 1 0 0 10 2 1 0 0 1 1 2 0 1 5 2 9 5 6 1 4 0 3 7 3 2 0 7 2 2 6 2 0 1 6 2 2 7 0 2 0 10 0 5 7 1 0 0 7 2 6 0 2 2 0 0 1 0 0 2 9 0 0 0 7 3 3 4 0 3 1 4 0 0 10 2 1 1 0 2 1 0 0 3 0 0 1 6 1 1 2 9 3 8 3 3 6 6 3 0 0 7 0 8 6 2 0 2 0 6 0 8 0 3 10 0 1 0 2 0 0 4 0 0 0 5 6 1 0 1 3 0 0 2 1 2 0 0 2 1 1 0 6 0 3 2 2 7 0 1 0 6 9 4 5 0 2 3 6 3 2 6 6 4 1 0 5 1 5 2 3 2 0 6 2 0 7 0 0 10 0 1 2 1 0 2 0 6 5 3 2 0 2 6 0 5 0 1 1 0 0 2 0 6 2 2 1 1 2 1 2 2 2 2 0 1 4 1 1 1 8 1 10 0 8 2 0 2 2 0 2 0 0 6 1 2 0 2 2 9 1 0 3 9 5 0 0 3 1 0 0 2 1 2 0 2 0 3 3 2 6 0 0 0 2 4 0 0 2 0 6 2 1 1 2 2 1 0 2 3 0 0 0 2 0 9 3 1 2 2 5 3 0 3 6 6 1 3 0 0 5 1 0 0 2 4 1 6 2 4 2 0 3 2 2 2 2 2 3 8 2 6 1 0 9 1 7 2 1 0 2 1 0 7 2 3 2 6 4 0 0 2 2 0 0 0 3 0 3 8 2 2 2 2 2 3 4 0 3 9 0 0 2 1 2 1 0 2 0 6 3 1 0 2 0 2 5 0 1 0 2 6 3 1 2 0 2 2 2 1 8 0 0 1 2 1 6 8 1 3 0 2 3 6 6 1 0 0 0 0 2 6 2 2 0 2 0 2 8 0 1 2 4 0 1 2 2 0 5 1 1 2 0 3 3 0 0 0 0 0 0 1 2 0 7 2 6 0 3 0 0 1 0 2 10 2 0 1 9 2 6 2 2 8 2 0 7 1 0 6 5 2 0 2 2 1 2 0 3 7 7 3 10 2 1 2 0 2 1 0 2 1 2 0 1 10 2 1 2 0 0 0 2 6 1 4 0 7 9 2 2 8 6 2 7 0 2 0 9 3 6 1 2 0 7 1 7 0 1 2 0 1 0 2 9 1 2 7 1 0 0 7 3 3 1 1 2 1 6 4 2 1 0 0 1 1 2 2 9 6 1 2 10 2 0 1 1 1 0 0 6 1 1 1 0 0 8 2 0 6 0 2 1 3 2 1 6 6 1 2 0 2 0 2 6 2 1 0 3 0 3 1 6 6 2 3 0 7 1 6 0 3 7 2 0 1 3 2 0 5 2 9 1 0 1 2 2 0 3 0 3 6 2 5 6 1 0 3 0 2 2 7 0 0 1 1 2 0 1 6 8 3 2 3 0 2 1 0 3 1 1 3 0 1 5 3 0 3 0 0 0 7 7 2 9 0 2 2 0 1 0 2 9 0 0 0 3 7 0 4 2 0 7 2 2 3 7 1 6 3 6 2 7 0 6 2 1 2 6 3 6 0 1 2 3 0 0 0 2 2 1 0 0 5 2 6 9 9 0 0 0 0 0 1 2 2 0 2 0 4 0 2 0 6 2 10 0 2 0 0 2 8 0 0 9 2 2 2 3 1 3 6 1 2 1 3 0 6 3 2 1 0 0 0 0 1 2 1 7 3 1 3 10 1 9 3 0 1 6 3 1 8 0 5 1 3 0 1 2 6 8 2 2 3 1 2 2 2 9 0 2 2 1 2 0 1 6 6 4 0 3 3 0 2 0 3 9 2 3 2 0 6 0 2 1 4 1 2 1 3 2 8 3 6 1 5 2 1 2 0 2 8 3 1 4 0 2 10 0 10 9 9 1 0 2 1 9 10 2 2 0 2 2 2 2 6 0 6 0 1 1 8 0 0 1 1 1 5 1 2 2 3 2 6 1 2 3 8 2 0 6 0 8 0 2 8 7 2 0 6 0 10 0 0 0 2 8 2 2 2 7 0 2 0 2 0 2 5 3 1 9 2 7 2 9 9 1 0 1 7 3 1 9 3 1 4 2 0 2 3 1 0 0 2 3 7 2 0 2 10 9 0 1 8 2 3 0 2 2 1 3 10 9 0 2 1 3 1 9 4 0 3 1 3 1 4 2 2 7 0 2 2 1 0 10 0 1 0 3 7 2 0 7 2 3 0 2 8 2 8 2 3 0 1 2 1 2 0 10 7 2 2 2 7 1 7 7 0 2 9 0 2 1 2 0 0 2 1 6 2 1 2 5 9 8 0 0 0 5 0 0 1 2 3 2 2 0 0 5 2 0 8 0 2 0 6 10 1 0 7 2 2 1 9 0 2 3 6 0 2 0 2 2 8 2 1 4 1 6 0 7 0 2 0 10 2 0 0 1 7 3 6 0 2 5 0 3 0 2 7 3 0 6 0 3 0 7 0 9 3 4 2 2 7 3 2 1 2 1 0 2 2 0 1 1 5 0 1 2 6 2 1 0 0 9 6 2 0 5 2 2 0 2 3 2 0 4 0 7 1 2 0 0 6 7 1 0 6 3 8 2 9 0 6 4 2 0 10 4 0 0 3 6 6 9 2 2 3 2 3 1 2 2 8 2 2 2 4 6 1 2 1 1 3 0 0 2 0 0 7 8 6 0 2 1 1 6 2 5 3 1 2 0 0 0 2 7 0 3 1 0 2 3 6 2 5 2 9 9 10 9 6 7 0 9 3 0 10 0 0 1 0 0 0 7 0 8 2 9 6 0 0 1 9 3 1 0 2 3 7 5 1 2 2 0 0 2 9 3 0 8 0 2 6 4 1 2 9 1 3 10 4 0 6 2 10 8 7 0 2 2 3 6 6 3 3 2 3 9 4 1 2 0 0 1 3 8 0 0 0 0 2 0 2 6 4 1 0 1 0 0 2 6 1 2 0 5 6 4 0 6 0 0 0 1 6 2 6 2 1 0 7 0 2 3 0 2 1 6 8 9 3 1 1 2 0 6 0 0 5 0 2 4 2 2 0 6 2 0 10 0 2 0 0 1 0 2 2 0 0 3 0 7 0 2 2 2 0 9 1 1 2 2 2 3 0 7 6 1 2 3 6 0 6 0 2 0 1 2 0 2 1 10 0 0 1 6 2 3 0 0 0 2 0 9 3 0 3 0 3 0 2 2 4 0 0 4 8 0 0 0 10 2 0 6 2 5 2 4 0 3 5 6 0 0 2 1 2 2 5 0 5 0 3 0 5 9 1 3 9 1 0 5 2 2 2 1 0 2 1 3 8 10 2 7 1 1 6 7 8 0 1 0 6 2 0 1 1 2 5 1 0 0 1 0 0 2 1 2 1 2 0 0 9 0 7 6 0 0 5 0 0 1 0 2 0 1 8 0 0 8 1 2 2 9 0 0 2 6 10 2 2 1 0 0 1 2 0 1 1 0 1 2 2 2 3 2 1 3 1 0 2 1 1 2 0 2 5 2 5 0 9 1 3 3 2 9 2 7 7 1 1 2 0 0 4 2 1 2 2 1 1 1 9 7 0 6 0 1 3 0 0 2 1 3 2 0 6 0 3 1 2 2 1 3 2 0 1 1 6 2 2 2 0 0 2 1 0 6 2 1 0 0 4 0 3 9 0 2 4 7 0 2 9 7 1 9 0 2 3 1 0 1 2 1 2 4 1 6 5 1 2 2 0 0 1 2 0 2 1 3 2 1 0 3 2 2 3 3 1 7 9 2 0 0 0 2 3 7 2 0 1 0 1 1 7 4 0 7 2 2 3 2 1 7 3 2 0 2 0 3 7 2 2 2 2 3 6 10 3 0 0 1 3 8 5 2 1 1 0 5 3 2 1 0 9 2 3 2 1 0 2 0 0 2 7 1 1 2 2 2 9 6 9 10 0 3 0 2 0 0 0 0 3 9 1 1 1 2 1 6 6 3 0 1 2 10 4 0 3 1 8 2 8 1 5 3 3 0 0 8 2 2 1 4 1 9 0 4 9 9 3 2 2 0 1 0 6 9 8 0 2 2 3 1 9 2 2 0 8 0 0 2 1 1 2 0 1 7 9 10 7 2 2 2 3 8 3 1 0 0 4 1 5 2 0 3 0 2 1 8 0 0 4 2 0 2 2 9 0 0 0 2 0 1 3 2 1 0 0 9 4 1 6 2 7 1 3 0 6 1 2 1 7 1 1 9 1 0 1 0 0 9 2 1 2 2 1 3 1 5 9 2 3 0 0 2 0 1 6 0 3 2 1 0 2 1 10 1 0 9 6 2 2 0 6 2 2 4 7 0 0 2 2 1 0 3 2 2 1 3 0 3 0 1 9 0 6 10 1 0 4 6 0 3 0 3 2 2 2 2 1 2 1 1 1 0 0 6 1 2 5 1 0 6 2 2 7 1 0 6 1 1 0 9 1 2 0 6 3 2 2 3 0 4 0 1 6 2 0 4 0 0 0 6 2 1 2 6 0 10 9 4 2 1 9 2 0 1 0 2 3 3 2 2 2 0 0 6 0 2 6 0 2 1 2 1 2 2 2 0 0 0 1 2 6 0 4 0 1 0 2 0 2 0 9 7 0 2 2 2 3 8 2 1 0 1 2 6 1 9 0 3 3 0 8 3 10 1 3 3 0 1 1 1 2 2 0 0 0 0 2 0 0 3 2 4 6 0 0 0 0 1 0 3 1 6 2 1 4 6 3 2 1 0 2 0 1 2 1 2 4 2 2 1 10 1 2 8 1 4 3 0 0 2 2 1 2 0 0 2 2 2 2 0 1 2 2 1 3 0 1 3 0 7 5 1 2 1 2 0 7 0 2 1 0 0 7 0 0 1 9 1 2 9 8 8 10 2 0 1 0 3 1 0 0 0 3 1 7 6 4 1 1 6 6 0 3 8 2 0 1 6 8 2 1 1 2 8 1 2 1 3 3 0 0 1 1 0 1 2 0 9 9 0 10 4 2 1 5 2 2 2 2 2 2 5 2 0 6 2 0 6 2 1 7 0 2 9 2 3 6 1 2 1 2 0 2 0 2 2 0 1 8 0 3 1 2 1 9 0 0 7 6 9 2 2 2 6 0 2 0 2 0 2 1 0 1 1 0 2 5 0 0 8 9 2 3 4 2 4 2 2 3 0 5 1 2 3 0 9 2 4 3 0 0 2 2 2 2 0 2 1 1 1 1 10 2 2 1 1 2 2 10 1 1 2 0 1 2 1 0 5 0 2 2 8 2 6 2 2 1 3 0 2 0 0 6 3 2 2 10 0 5 2 0 0 0 3 9 0 0 2 2 2 0 6 3 4 2 0 1 5 1 6 0 2 7 6 2 3 1 1 0 3 1 1 2 4 1 3 3 4 2 0 0 2 6 1 0 0 2 8 0 0 2 2 0 2 2 1 7 2 6 7 3 2 8 6 2 0 1 7 6 2 0 9 2 0 1 6 2 2 2 0 0 4 6 7 1 0 0 9 2 3 7 2 2 3 4 1 2 3 2 1 7 0 6 3 2 1 0 2 2 1 5 3 5 1 7 0 2 6 0 8 10 0 1 1 2 7 0 1 0 1 2 0 0 2 7 2 9 10 1 0 1 2 5 7 0 3 3 3 0 2 5 6 1 0 9 0 0 7 1 2 2 2 0 1 6 2 9 3 0 4 0 0 2 2 7 7 2 3 2 3 0 0 0 0 0 6 1 2 0 6 0 3 1 2 3 6 2 1 10 2 4 5 1 6 2 2 3 1 1 9 2 0 2 2 1 1 1 2 0 2 4 0 6 3 1 1 6 1 0 4 4 0 2 1 0 9 1 0 7 1 2 0 2 1 10 0 3 0 2 1 0 1 1 2 3 2 4 5 0 1 6 1 5 1 2 0 0 2 0 10 2 7 7 3 0 0 1 6 0 0 1 2 8 0 10 0 9 1 1 0 6 1 0 0 0 8 1 7 5 8 3 5 1 6 10 1 1 6 7 3 2 2 0 2 6 1 3 7 3 0 6 6 2 2 2 4 3 6 5 2 0 3 0 0 0 0 1 3 4 0 2 1 3 0 0 2 1 3 3 1 0 4 2 1 1 0 2 7 2 2 3 2 1 6 0 2 7 0 0 10 1 3 1 0 1 5 2 1 5 5 6 0 0 1 3 2 9 3 3 2 2 2 1 2 7 6 6 4 0 2 10 10 2 1 2 0 2 3 1 2 3 0 6 2 2 10 3 6 7 5 0 0 0 3 1 3 0 2 8 0 3 0 0 0 0 0 0 2 7 0 3 0 10 2 0 6 5 0 2 1 0 0 9 1 1 3 2 0 2 0 8 9 2 1 4 7 8 8 1 0 5 2 1 1 0 2 2 3 9 1 2 1 2 8 0 0 2 0 4 1 3 6 6 1 1 2 0 3 10 0 5 2 0 3 3 6 2 6 2 0 2 2 3 0 1 0 2 3 3 1 7 0 0 0 6 0 0 3 7 6 3 2 1 0 0 10 2 9 1 1 2 10 2 0 10 1 3 8 0 7 1 1 10 0 2 1 2 2 7 0 7 3 2 1 2 0 2 6 2 0 0 2 0 10 2 1 1 3 1 10 0 4 9 5 7 2 2 0 0 1 3 2 1 1 0 0 10 0 0 1 3 0 0 2 1 4 0 2 0 8 1 0 8 0 7 3 1 0 0 8 1 2 7 1 6 0 1 1 0 5 0 7 1 1 0 2 7 2 9 0 10 6 2 6 1 2 2 2 0 2 0 1 0 9 0 8 5 3 8 0 0 2 1 1 7 10 1 0 2 3 2 7 0 3 1 2 6 7 2 9 8 10 7 3 6 6 6 2 0 2 4 0 2 3 0 1 0 2 0 0 9 0 0 1 0 0 0 1 2 3 2 6 0 0 1 0 3 0 2 1 1 2 9 0 3 6 9 1 2 2 0 1 10 2 8 1 7 0 0 2 1 7 1 0 5 9 2 0 0 0 3 2 1 0 2 0 4 3 1 7 9 2 1 0 5 3 3 6 2 9 6 7 5 7 4 1 1 0 10 4 2 1 8 0 6 2 1 3 2 10 0 0 1 0 9 2 2 0 1 0 0 0 1 6 6 3 2 1 10 2 0 2 1 3 0 6 0 7 5 9 3 2 1 3 0 2 3 2 2 9 7 3 6 0 0 1 8 9 4 5 7 1 0 0 1 2 0 5 1 0 3 0 0 2 10 2 3 3 6 1 0 2 6 0 2 10 2 0 0 6 3 2 0 0 2 6 1 10 1 3 1 6 3 1 1 0 1 6 0 9 1 10 10 4 0 2 0 0 0 0 1 6 0 3 0 2 2 1 1 3 3 0 2 6 5 1 2 2 6 6 1 1 1 0 7 1 0 2 0 6 8 0 1 4 2 0 0 2 0 3 9 5 2 1 0 1 2 3 2 5 2 9 6 5 1 6 0 6 1 2 0 2 1 0 0 2 2 1 6 1 7 1 9 3 9 2 5 3 2 2 2 2 0 3 2 0 0 0 0 0 9 2 2 2 0 2 2 0 2 0 6 1 3 0 0 1 1 0 2 2 6 9 0 1 0 1 1 1 3 2 4 0 3 6 2 8 1 2 9 6 2 0 10 8 0 2 8 0 0 0 8 2 1 2 1 0 0 10 2 6 2 4 7 1 0 0 2 2 2 0 8 2 0 0 2 2 0 1 7 2 10 7 8 6 5 2 0 5 2 0 3 9 7 1 0 2 1 4 2 6 1 2 1 0 0 6 0 0 2 3 0 8 1 0 2 0 6 2 0 1 1 3 3 5 0 4 2 0 0 2 0 1 6 2 2 2 4 8 2 7 6 10 1 2 6 1 8 1 0 2 6 2 1 0 2 9 6 4 6 1 0 2 8 2 5 0 0 0 2 1 7 2 4 9 1 1 5 2 3 0 1 6 4 2 0 1 0 1 2 2 0 4 0 0 0 1 4 1 3 0 3 2 1 2 6 1 3 1 0 6 2 2 9 0 0 10 1 5 2 5 0 2 6 2 0 0 2 7 2 4 8 3 0 2 0 1 3 1 2 3 2 0 0 0 10 6 0 6 0 1 7 3 3 3 8 0 3 2 2 0 0 7 5 4 6 1 10 2 6 7 0 6 0 6 2 1 4 0 3 0 2 6 3 1 2 2 0 0 2 0 6 2 0 0 0 0 5 6 0 0 4 9 10 3 3 3 0 4 0 3 9 1 10 2 2 0 1 9 2 1 7 0 0 3 8 1 0 3 2 0 2 2 9 2 0 2 8 0 0 1 1 "
     ]
    },
    {
     "name": "stdout",
     "output_type": "stream",
     "text": [
      "9 0 2 6 9 3 10 3 0 3 6 0 0 2 0 3 2 3 6 6 1 4 2 0 7 2 1 1 1 0 0 0 3 3 2 9 0 2 0 6 8 1 2 1 3 1 9 3 2 0 6 2 2 3 4 0 6 2 6 2 1 0 2 2 0 3 7 2 0 10 2 2 0 2 2 1 1 2 0 2 1 0 1 0 2 0 1 0 2 0 0 1 1 0 4 3 7 3 3 2 0 5 0 6 0 2 3 3 2 6 8 1 2 10 1 0 6 1 0 1 0 1 7 2 0 1 1 2 0 0 1 6 5 1 1 1 7 0 1 0 9 0 0 1 0 0 2 7 2 0 1 0 1 5 1 1 0 3 2 1 6 2 2 4 4 0 1 8 0 2 1 2 0 0 2 5 3 3 1 0 8 9 2 2 3 8 3 2 0 9 1 0 9 1 2 1 7 2 2 2 1 2 2 2 0 0 2 1 0 1 0 2 2 1 3 3 2 2 2 6 6 8 10 0 0 1 0 1 1 1 0 2 1 0 3 6 2 0 2 8 0 1 1 0 1 6 2 2 2 3 0 9 1 2 0 0 7 2 1 0 5 4 6 0 5 1 6 0 1 2 0 2 0 9 2 2 4 4 0 0 0 0 0 2 1 1 2 6 2 3 0 0 3 4 6 3 3 6 10 1 1 2 6 1 0 9 0 3 0 5 3 0 2 7 0 2 0 3 0 0 0 0 1 4 2 4 3 0 3 1 3 6 2 1 2 2 2 1 0 1 9 2 2 0 4 5 0 2 6 0 0 8 0 3 6 0 1 0 0 6 0 6 6 2 9 6 2 0 0 6 0 2 1 2 3 6 0 3 1 0 0 1 3 7 0 1 0 0 0 2 3 0 7 7 1 1 2 0 2 0 1 2 2 0 2 0 1 8 0 0 1 0 2 3 1 0 7 0 2 9 2 4 2 2 3 2 9 2 9 2 3 2 0 2 3 3 0 9 2 2 9 0 6 10 6 2 2 9 2 0 2 3 1 2 2 5 0 1 0 0 0 0 2 7 2 0 7 1 0 7 0 0 3 1 2 0 9 0 1 0 1 2 2 9 0 5 3 1 0 2 6 3 0 8 0 6 0 1 7 2 2 1 0 4 0 8 0 0 6 1 2 3 2 7 0 3 0 0 0 0 2 0 2 0 4 1 6 0 3 0 9 2 1 0 0 0 3 3 2 3 3 6 1 1 7 2 8 1 2 1 2 10 6 0 3 0 3 0 2 7 0 2 10 0 4 2 4 1 8 0 2 2 4 0 5 1 0 3 0 2 0 2 6 7 2 1 2 3 1 2 2 7 0 0 1 4 8 0 8 9 2 0 2 0 3 2 0 2 2 2 1 3 1 2 0 7 0 5 9 2 0 0 2 1 0 2 2 2 0 0 7 6 9 3 1 2 6 0 2 2 0 6 1 3 3 1 4 1 9 1 6 3 3 0 2 0 2 9 2 2 2 3 2 10 1 2 2 2 3 2 4 4 6 2 0 0 0 0 5 5 9 8 6 8 2 0 0 3 4 9 3 0 7 1 8 6 8 6 3 1 9 1 0 0 0 0 2 1 7 3 1 9 0 0 1 10 8 2 5 0 5 2 0 3 6 1 7 3 0 0 1 2 0 3 1 1 3 0 2 1 0 3 1 1 3 1 2 7 6 1 10 2 2 0 0 0 1 0 3 2 2 1 0 0 2 3 6 1 6 1 2 0 3 0 7 0 8 9 0 0 0 2 4 9 7 3 0 0 2 2 1 5 2 3 6 2 2 1 1 0 2 6 0 3 0 6 0 2 2 2 2 2 1 0 3 0 2 6 3 2 0 0 0 3 1 2 1 2 0 2 0 0 3 0 3 1 2 3 3 0 7 3 6 6 0 7 2 1 4 2 2 3 4 0 0 1 3 2 2 9 6 0 3 9 0 0 3 1 2 3 5 4 0 2 2 0 1 0 0 2 0 1 9 2 0 6 3 6 6 1 0 4 2 7 1 2 3 0 2 3 2 0 0 0 0 6 0 2 2 3 2 4 2 0 7 0 0 3 1 9 5 0 1 3 0 0 1 1 0 9 3 6 0 0 8 0 6 0 2 0 6 3 2 1 3 2 2 2 9 0 3 3 1 0 1 6 9 10 0 2 1 3 6 6 5 3 0 2 1 6 6 0 7 0 2 10 8 1 0 2 7 1 3 9 5 0 3 0 0 2 3 0 2 0 4 2 2 3 6 1 6 0 3 2 1 1 2 3 1 5 8 0 0 4 2 2 6 2 0 0 4 3 0 0 0 1 10 0 1 6 0 1 0 6 1 10 4 3 9 0 3 0 0 3 2 8 2 1 2 2 2 8 2 2 0 1 0 0 0 3 1 2 3 0 3 0 0 9 0 0 2 2 4 0 0 1 5 8 2 5 3 0 2 0 0 1 0 3 1 3 2 2 0 8 0 1 8 0 1 7 6 2 6 6 7 2 6 6 3 9 0 2 0 3 3 1 6 1 3 8 3 2 1 2 2 8 8 2 3 0 0 3 0 0 3 6 1 2 3 0 0 2 1 9 9 4 0 6 6 0 0 6 1 4 8 0 0 0 0 2 6 0 2 0 0 2 0 0 0 0 0 6 2 2 3 0 0 3 6 2 2 1 1 2 1 0 4 1 1 1 3 1 0 2 2 0 9 2 3 2 3 1 1 8 8 0 0 1 2 0 2 0 0 0 1 1 6 2 2 6 2 9 0 2 6 1 2 9 0 1 3 1 6 6 9 3 3 7 0 4 3 3 3 9 0 3 3 1 2 0 0 0 3 2 5 6 1 3 6 3 3 0 0 1 1 4 0 0 0 5 0 0 2 6 6 0 1 9 3 2 0 3 2 7 0 9 4 7 7 2 0 9 1 7 2 2 8 1 2 6 0 3 3 2 9 1 0 2 0 3 1 1 0 0 3 10 2 6 2 0 0 0 3 2 3 9 3 2 0 1 9 0 10 0 5 0 6 1 2 2 0 4 2 6 2 1 3 6 2 3 3 2 3 2 6 7 3 2 0 9 3 1 6 3 3 2 10 0 0 6 0 2 0 1 0 1 2 2 0 3 2 0 1 1 0 1 3 2 0 2 5 3 0 3 2 2 5 0 5 3 2 10 1 6 0 4 5 1 2 0 2 10 2 5 1 3 1 0 2 0 1 1 2 1 3 0 5 1 7 4 4 1 6 1 5 7 1 0 2 0 7 1 7 2 0 2 0 1 1 1 1 3 7 3 0 6 0 0 1 0 4 2 8 1 0 3 0 2 5 0 1 6 0 1 0 1 0 1 3 0 5 0 0 6 0 2 0 2 0 2 9 0 2 10 3 2 2 2 3 2 1 2 2 9 2 9 9 1 2 3 0 2 3 0 0 0 1 6 0 0 3 0 9 2 0 2 0 1 1 0 7 2 6 0 1 4 5 2 7 6 2 2 2 1 3 3 9 0 0 1 3 0 1 7 0 2 7 5 2 2 2 0 1 0 3 2 10 1 2 0 6 1 2 6 5 5 0 6 2 0 10 1 0 0 1 4 2 3 2 0 4 2 6 2 2 2 1 1 0 2 6 3 2 0 1 2 0 0 2 3 1 1 0 0 2 1 2 9 0 5 0 1 10 1 8 3 2 2 6 3 2 0 2 1 4 2 3 5 2 0 8 2 1 7 0 2 4 0 9 0 0 2 2 2 0 10 0 0 0 1 2 5 0 2 9 1 6 1 0 10 1 0 2 9 3 1 8 0 8 6 2 4 3 2 0 2 0 0 0 3 2 2 0 4 2 7 3 0 6 9 0 6 1 5 1 5 9 0 8 0 0 2 0 2 0 2 10 2 6 1 0 3 4 8 0 1 2 1 1 2 0 2 2 7 0 0 2 1 0 4 2 0 7 4 0 0 2 1 10 3 2 5 0 0 0 0 0 2 7 6 2 3 0 0 3 2 0 0 0 5 0 3 5 2 1 0 5 5 0 0 0 2 2 0 2 9 1 2 3 2 3 0 0 8 2 3 2 1 1 3 2 7 0 9 0 1 0 0 8 1 2 2 0 3 7 0 3 0 1 0 2 7 1 4 0 2 6 8 0 6 2 1 0 0 2 1 7 2 4 6 6 8 3 2 3 4 3 1 7 8 0 6 1 1 0 0 3 9 8 0 2 8 2 3 1 6 2 4 2 0 2 4 1 1 2 3 7 6 0 2 2 2 2 6 3 3 2 0 3 1 7 2 0 6 2 4 3 4 9 2 1 2 6 1 9 5 1 6 2 1 0 5 3 0 3 2 3 10 8 3 2 0 9 2 6 2 1 0 2 6 0 3 2 1 0 0 2 4 3 0 3 0 5 5 1 1 0 1 0 8 2 3 0 0 1 1 8 0 2 2 0 1 8 3 2 0 1 2 0 6 3 3 2 0 2 0 3 3 2 0 5 3 0 3 1 2 1 3 2 1 6 3 7 7 3 0 6 2 3 1 1 2 3 5 0 0 2 9 2 3 2 0 3 1 6 6 3 8 6 3 0 2 1 7 6 2 3 6 0 7 2 3 6 0 0 10 3 0 1 9 9 0 0 0 0 2 9 2 2 7 8 0 7 2 1 2 6 3 3 8 1 0 1 3 0 0 6 0 1 0 9 0 2 0 2 2 6 1 1 6 2 2 0 1 9 1 0 1 2 3 1 1 0 2 1 0 6 0 0 8 0 5 2 0 1 2 1 0 1 0 0 6 4 0 1 1 2 0 0 9 2 2 2 6 1 1 1 7 1 1 0 0 2 8 2 0 2 0 4 0 1 0 10 0 0 1 10 2 1 1 8 2 2 7 5 9 1 4 3 0 1 9 1 4 7 6 0 1 0 10 1 6 0 8 2 2 0 2 1 5 0 1 1 3 10 0 7 9 1 1 1 0 3 3 2 3 3 1 4 0 6 10 2 0 2 3 0 1 0 2 6 4 0 1 0 2 0 1 9 6 1 6 7 2 2 0 3 0 5 0 0 1 1 2 6 7 7 2 1 1 0 5 1 0 4 2 1 0 6 3 0 8 3 7 5 5 2 3 0 2 7 3 2 3 0 3 0 10 1 0 1 2 2 0 1 2 1 2 2 3 7 9 0 2 0 2 0 0 0 0 3 1 2 2 2 0 3 2 0 2 1 0 3 0 6 2 5 5 5 6 6 2 0 3 2 2 5 1 0 4 2 2 8 4 0 2 1 2 6 7 9 10 2 3 6 1 3 2 1 0 0 0 9 0 6 1 3 0 4 2 0 4 2 0 6 1 1 0 0 2 2 0 10 6 3 0 3 9 0 2 4 10 2 2 0 8 6 1 1 2 9 5 6 0 2 2 5 0 3 4 1 0 0 0 1 0 0 0 2 2 1 1 0 10 2 9 2 0 2 2 1 4 1 9 2 6 2 0 3 3 1 6 1 2 4 2 2 0 2 1 2 2 0 1 3 7 2 0 10 0 6 8 2 3 3 4 4 2 1 0 2 2 2 2 8 4 1 2 1 0 0 1 3 6 3 3 9 2 2 1 6 1 0 0 7 3 0 0 3 2 2 0 1 3 2 0 1 3 0 0 1 1 2 0 0 4 6 1 2 2 0 2 5 1 6 0 0 1 4 0 3 0 2 3 9 0 3 2 0 6 3 2 6 1 1 9 10 0 2 3 1 6 9 4 9 0 1 6 4 2 9 2 2 3 7 1 0 2 2 0 7 3 0 1 2 2 2 1 4 1 3 5 1 0 2 7 8 2 0 7 1 2 0 0 5 6 9 1 0 2 0 5 0 8 1 2 0 1 2 2 2 3 2 6 0 2 8 2 9 2 9 1 1 7 0 6 3 2 2 2 0 9 3 2 2 1 1 1 9 1 3 0 2 3 1 0 4 2 0 1 2 10 0 9 1 2 1 10 9 1 0 1 2 7 2 1 1 0 0 0 0 0 9 6 3 2 6 3 6 0 1 0 1 0 5 0 1 0 0 2 3 6 2 10 0 7 1 9 2 5 2 0 2 10 0 6 0 0 1 10 5 2 6 2 5 4 0 6 0 1 2 3 9 1 6 6 1 0 0 0 0 2 2 2 2 2 6 2 0 1 3 1 0 2 0 6 0 6 2 1 0 2 0 3 7 1 3 3 1 2 1 6 0 7 0 0 0 9 1 5 1 2 2 6 2 2 0 4 0 0 6 1 2 10 1 8 3 5 0 0 0 3 8 2 1 2 1 9 10 5 1 5 2 0 3 2 0 1 3 6 2 3 1 8 1 4 2 5 0 8 0 2 10 3 2 4 0 2 1 0 1 6 1 1 9 3 4 0 3 8 0 1 1 0 7 6 10 1 6 0 3 0 7 6 2 1 0 2 0 2 7 9 1 3 1 3 0 1 1 0 3 2 0 8 2 9 7 0 7 6 0 1 1 3 5 0 0 0 2 2 0 4 2 2 1 8 2 6 0 2 2 0 3 2 3 1 0 0 1 0 1 0 3 0 0 2 0 0 0 2 2 8 0 2 3 0 2 1 2 0 3 2 2 0 2 0 3 1 8 2 0 6 10 2 0 1 1 3 2 2 2 4 2 2 0 0 2 5 2 1 1 2 6 9 0 2 1 2 1 1 0 2 0 2 2 0 0 4 8 1 6 5 8 0 3 1 9 1 0 2 1 2 1 2 0 5 1 2 4 1 2 0 6 2 1 0 1 1 4 3 3 0 2 0 1 5 2 2 2 2 3 2 0 1 4 0 1 1 0 1 0 6 0 2 1 2 6 2 0 2 0 7 2 2 3 2 2 0 0 1 2 0 0 9 6 9 0 3 0 1 2 8 0 5 2 0 0 1 2 2 0 3 3 0 4 3 4 3 1 0 2 9 0 0 3 2 10 3 7 2 5 1 1 6 0 3 2 10 6 10 9 2 3 0 2 6 0 10 0 2 1 2 3 1 0 6 1 0 0 2 1 0 0 2 6 6 2 2 1 1 2 0 0 5 0 10 0 3 2 1 9 2 4 4 2 0 2 2 7 3 1 0 2 3 0 0 3 0 0 3 7 2 1 6 4 5 2 3 2 6 0 0 1 0 0 1 2 0 1 9 0 2 3 5 1 6 9 5 1 8 9 2 2 5 8 1 0 1 3 0 1 3 2 0 0 1 3 7 5 1 4 8 0 1 9 0 0 2 1 4 3 1 6 2 3 2 8 8 0 2 2 2 2 2 1 1 1 1 10 3 0 0 3 0 1 6 2 0 0 8 0 0 8 0 2 0 3 1 0 8 2 2 4 0 2 9 0 3 2 2 0 3 6 9 3 1 8 9 2 0 0 0 0 8 2 0 0 1 6 2 3 3 6 0 2 0 2 0 2 6 1 1 2 2 6 6 0 3 2 1 0 1 2 2 0 5 0 1 2 2 3 1 0 0 0 0 0 6 1 6 2 1 3 4 1 1 1 9 3 10 0 2 6 5 9 6 0 6 0 "
     ]
    }
   ],
   "source": [
    "for x in train_data[\"job\"]:\n",
    "    print(x, end=\" \")"
   ]
  },
  {
   "cell_type": "code",
   "execution_count": 14,
   "metadata": {},
   "outputs": [
    {
     "data": {
      "text/plain": [
       "array([0, 1, 2], dtype=int64)"
      ]
     },
     "execution_count": 14,
     "metadata": {},
     "output_type": "execute_result"
    }
   ],
   "source": [
    "train_data.replace(list(train_data['marital'].unique()),[0,1,2],inplace=True)\n",
    "train_data[\"marital\"].unique()"
   ]
  },
  {
   "cell_type": "code",
   "execution_count": 15,
   "metadata": {},
   "outputs": [
    {
     "data": {
      "text/plain": [
       "array([0, 1, 2, 3, 4, 5, 6], dtype=int64)"
      ]
     },
     "execution_count": 15,
     "metadata": {},
     "output_type": "execute_result"
    }
   ],
   "source": [
    "train_data.replace(list(train_data['education'].unique()),[0,1,2,3,4,5,6],inplace=True)\n",
    "train_data[\"education\"].unique()"
   ]
  },
  {
   "cell_type": "code",
   "execution_count": 16,
   "metadata": {},
   "outputs": [
    {
     "data": {
      "text/plain": [
       "array([1, 0], dtype=uint8)"
      ]
     },
     "execution_count": 16,
     "metadata": {},
     "output_type": "execute_result"
    }
   ],
   "source": [
    "train_data['housing'] = pd.get_dummies(train_data['housing'])\n",
    "train_data['housing'].unique()"
   ]
  },
  {
   "cell_type": "code",
   "execution_count": 17,
   "metadata": {},
   "outputs": [
    {
     "data": {
      "text/plain": [
       "array([1, 0], dtype=uint8)"
      ]
     },
     "execution_count": 17,
     "metadata": {},
     "output_type": "execute_result"
    }
   ],
   "source": [
    "train_data['loan'] = pd.get_dummies(train_data['loan'])\n",
    "train_data[\"loan\"].unique()"
   ]
  },
  {
   "cell_type": "code",
   "execution_count": 18,
   "metadata": {
    "scrolled": true
   },
   "outputs": [
    {
     "data": {
      "text/plain": [
       "age               0\n",
       "job               0\n",
       "marital           0\n",
       "education         0\n",
       "housing           0\n",
       "loan              0\n",
       "contact           0\n",
       "month             0\n",
       "day_of_week       0\n",
       "duration          0\n",
       "campaign          0\n",
       "pdays             0\n",
       "previous          0\n",
       "poutcome          0\n",
       "emp_var_rate      0\n",
       "cons_price_idx    0\n",
       "cons_conf_idx     0\n",
       "euribor3m         0\n",
       "nr_employed       0\n",
       "subscribed        0\n",
       "dtype: int64"
      ]
     },
     "execution_count": 18,
     "metadata": {},
     "output_type": "execute_result"
    }
   ],
   "source": [
    "train_data.isnull().sum()"
   ]
  },
  {
   "cell_type": "markdown",
   "metadata": {},
   "source": [
    "### Exploratory Data Analysis"
   ]
  },
  {
   "cell_type": "code",
   "execution_count": 19,
   "metadata": {},
   "outputs": [
    {
     "data": {
      "text/plain": [
       "<matplotlib.axes._subplots.AxesSubplot at 0x1edc1fb5588>"
      ]
     },
     "execution_count": 19,
     "metadata": {},
     "output_type": "execute_result"
    },
    {
     "data": {
      "image/png": "[encoded data removed]",
      "text/plain": [
       "<Figure size 720x432 with 2 Axes>"
      ]
     },
     "metadata": {
      "needs_background": "light"
     },
     "output_type": "display_data"
    }
   ],
   "source": [
    "plt.figure(figsize=(10,6))\n",
    "sns.heatmap(train_data.isnull(),cmap=\"YlGnBu\",yticklabels=False)"
   ]
  },
  {
   "cell_type": "code",
   "execution_count": 20,
   "metadata": {},
   "outputs": [
    {
     "data": {
      "text/plain": [
       "<matplotlib.axes._subplots.AxesSubplot at 0x1edc093ed48>"
      ]
     },
     "execution_count": 20,
     "metadata": {},
     "output_type": "execute_result"
    },
    {
     "data": {
      "image/png": "[encoded data removed]",
      "text/plain": [
       "<Figure size 720x432 with 1 Axes>"
      ]
     },
     "metadata": {
      "needs_background": "light"
     },
     "output_type": "display_data"
    }
   ],
   "source": [
    "plt.figure(figsize=(10,6))\n",
    "sns.countplot(x=\"contact\", data=train_data)"
   ]
  },
  {
   "cell_type": "code",
   "execution_count": 21,
   "metadata": {},
   "outputs": [
    {
     "data": {
      "text/plain": [
       "array([1, 0], dtype=uint8)"
      ]
     },
     "execution_count": 21,
     "metadata": {},
     "output_type": "execute_result"
    }
   ],
   "source": [
    "train_data[\"contact\"] = pd.get_dummies(train_data[\"contact\"])\n",
    "train_data[\"contact\"].unique()"
   ]
  },
  {
   "cell_type": "code",
   "execution_count": 22,
   "metadata": {
    "scrolled": true
   },
   "outputs": [
    {
     "data": {
      "text/plain": [
       "<matplotlib.axes._subplots.AxesSubplot at 0x1edc1174a48>"
      ]
     },
     "execution_count": 22,
     "metadata": {},
     "output_type": "execute_result"
    },
    {
     "data": {
      "image/png": "[encoded data removed]",
      "text/plain": [
       "<Figure size 864x432 with 1 Axes>"
      ]
     },
     "metadata": {
      "needs_background": "light"
     },
     "output_type": "display_data"
    }
   ],
   "source": [
    "plt.figure(figsize=(12,6))\n",
    "sns.countplot(x=\"month\", data=train_data,\n",
    "              edgecolor=sns.color_palette(\"dark\", 3))"
   ]
  },
  {
   "cell_type": "code",
   "execution_count": 23,
   "metadata": {},
   "outputs": [
    {
     "data": {
      "text/plain": [
       "array([0, 1, 2, 3, 4, 5, 6, 7, 8, 9], dtype=int64)"
      ]
     },
     "execution_count": 23,
     "metadata": {},
     "output_type": "execute_result"
    }
   ],
   "source": [
    "train_data.replace(list(train_data['month'].unique()),[0,1,2,3,4,5,6,7,8,9],inplace=True)\n",
    "train_data['month'].unique()"
   ]
  },
  {
   "cell_type": "code",
   "execution_count": 24,
   "metadata": {
    "scrolled": true
   },
   "outputs": [
    {
     "data": {
      "text/plain": [
       "thu    5593\n",
       "mon    5496\n",
       "wed    5354\n",
       "tue    5220\n",
       "fri    5062\n",
       "Name: day_of_week, dtype: int64"
      ]
     },
     "execution_count": 24,
     "metadata": {},
     "output_type": "execute_result"
    },
    {
     "data": {
      "image/png": "[encoded data removed]",
      "text/plain": [
       "<Figure size 720x432 with 1 Axes>"
      ]
     },
     "metadata": {
      "needs_background": "light"
     },
     "output_type": "display_data"
    }
   ],
   "source": [
    "plt.figure(figsize=(10,6))\n",
    "sns.countplot(x=\"day_of_week\", data=train_data,\n",
    "              edgecolor=sns.color_palette(\"dark\", 3))\n",
    "train_data['day_of_week'].value_counts()"
   ]
  },
  {
   "cell_type": "code",
   "execution_count": 25,
   "metadata": {},
   "outputs": [
    {
     "data": {
      "text/plain": [
       "array([0, 1, 2, 3, 4], dtype=int64)"
      ]
     },
     "execution_count": 25,
     "metadata": {},
     "output_type": "execute_result"
    }
   ],
   "source": [
    "train_data.replace(list(train_data['day_of_week'].unique()),[0,1,2,3,4],inplace=True)\n",
    "train_data['day_of_week'].unique()"
   ]
  },
  {
   "cell_type": "code",
   "execution_count": 26,
   "metadata": {},
   "outputs": [
    {
     "data": {
      "text/plain": [
       "13453    81.966667\n",
       "25123    69.983333\n",
       "11288    63.083333\n",
       "6445     60.716667\n",
       "21038    60.516667\n",
       "           ...    \n",
       "4863      0.016667\n",
       "20532     0.000000\n",
       "11206     0.000000\n",
       "7069      0.000000\n",
       "14946     0.000000\n",
       "Name: duration, Length: 26725, dtype: float64"
      ]
     },
     "execution_count": 26,
     "metadata": {},
     "output_type": "execute_result"
    },
    {
     "data": {
      "image/png": "[encoded data removed]",
      "text/plain": [
       "<Figure size 720x432 with 1 Axes>"
      ]
     },
     "metadata": {
      "needs_background": "light"
     },
     "output_type": "display_data"
    }
   ],
   "source": [
    "plt.figure(figsize=(10,6))\n",
    "sns.distplot(train_data[\"duration\"],bins=50)\n",
    "train_data['duration'].sort_values(ascending=False)"
   ]
  },
  {
   "cell_type": "code",
   "execution_count": 27,
   "metadata": {},
   "outputs": [
    {
     "data": {
      "text/plain": [
       "6445     60.716667\n",
       "21038    60.516667\n",
       "7883     56.100000\n",
       "7687     55.366667\n",
       "7306     54.733333\n",
       "           ...    \n",
       "12563     0.016667\n",
       "14946     0.000000\n",
       "20532     0.000000\n",
       "11206     0.000000\n",
       "7069      0.000000\n",
       "Name: duration, Length: 26722, dtype: float64"
      ]
     },
     "execution_count": 27,
     "metadata": {},
     "output_type": "execute_result"
    },
    {
     "data": {
      "image/png": "[encoded data removed]",
      "text/plain": [
       "<Figure size 720x432 with 1 Axes>"
      ]
     },
     "metadata": {
      "needs_background": "light"
     },
     "output_type": "display_data"
    }
   ],
   "source": [
    "for x in range(3):\n",
    "    droping = train_data[train_data['duration'] >= train_data[\"duration\"].quantile(1)].index[0]\n",
    "    train_data.drop([droping], inplace=True)\n",
    "plt.figure(figsize=(10,6))\n",
    "sns.distplot(train_data[\"duration\"],bins=50)\n",
    "train_data['duration'].sort_values(ascending=False)"
   ]
  },
  {
   "cell_type": "code",
   "execution_count": 28,
   "metadata": {},
   "outputs": [
    {
     "data": {
      "text/plain": [
       "<matplotlib.axes._subplots.AxesSubplot at 0x1edc06d1888>"
      ]
     },
     "execution_count": 28,
     "metadata": {},
     "output_type": "execute_result"
    },
    {
     "data": {
      "image/png": "[encoded data removed]",
      "text/plain": [
       "<Figure size 720x432 with 1 Axes>"
      ]
     },
     "metadata": {
      "needs_background": "light"
     },
     "output_type": "display_data"
    }
   ],
   "source": [
    "plt.figure(figsize=(10,6))\n",
    "sns.countplot(x=\"poutcome\", data=train_data,\n",
    "              edgecolor=sns.color_palette(\"dark\", 3))"
   ]
  },
  {
   "cell_type": "code",
   "execution_count": 29,
   "metadata": {},
   "outputs": [
    {
     "data": {
      "text/plain": [
       "array([0, 1, 2], dtype=int64)"
      ]
     },
     "execution_count": 29,
     "metadata": {},
     "output_type": "execute_result"
    }
   ],
   "source": [
    "train_data.replace(list(train_data['poutcome'].unique()),[0,1,2],inplace=True)\n",
    "train_data['poutcome'].unique()"
   ]
  },
  {
   "cell_type": "code",
   "execution_count": 30,
   "metadata": {},
   "outputs": [
    {
     "data": {
      "text/plain": [
       "<matplotlib.axes._subplots.AxesSubplot at 0x1edc07907c8>"
      ]
     },
     "execution_count": 30,
     "metadata": {},
     "output_type": "execute_result"
    },
    {
     "data": {
      "image/png": "[encoded data removed]",
      "text/plain": [
       "<Figure size 720x432 with 1 Axes>"
      ]
     },
     "metadata": {
      "needs_background": "light"
     },
     "output_type": "display_data"
    }
   ],
   "source": [
    "plt.figure(figsize=(10,6))\n",
    "sns.distplot(train_data['emp_var_rate'],bins=50)"
   ]
  },
  {
   "cell_type": "code",
   "execution_count": 31,
   "metadata": {},
   "outputs": [
    {
     "name": "stdout",
     "output_type": "stream",
     "text": [
      "0 0 0 0 0 0 0 0 0 0 0 0 0 0 0 0 0 0 0 0 0 0 0 0 0 1 0 0 0 1 0 0 0 0 0 0 1 0 0 0 0 0 0 0 0 0 0 0 0 0 0 0 0 0 0 0 0 0 0 0 0 0 0 0 1 0 0 0 0 0 0 0 1 0 0 1 0 0 0 0 0 0 0 0 0 0 0 0 0 0 0 0 0 0 0 0 0 0 0 0 0 0 0 0 0 0 0 0 0 1 0 0 0 1 0 0 0 0 0 0 0 0 0 0 0 0 0 0 0 1 0 0 1 0 0 0 0 0 0 0 0 0 1 0 0 1 0 0 0 0 0 0 0 0 0 0 0 0 0 0 0 1 1 0 1 0 0 0 1 1 0 0 0 0 0 0 0 1 0 0 0 0 0 0 0 0 1 0 0 0 0 0 0 0 0 0 0 0 0 0 0 0 0 0 0 0 0 0 0 0 0 0 0 0 0 0 0 0 0 1 0 0 0 0 0 0 0 0 0 0 0 0 0 0 0 0 0 0 0 0 0 0 1 0 0 0 0 0 0 0 0 0 0 0 0 0 0 0 1 0 0 1 0 0 0 1 0 1 0 0 0 0 1 0 0 0 0 0 0 0 1 0 0 0 0 0 0 0 0 0 0 0 0 0 0 0 0 0 0 0 0 0 1 0 0 0 0 0 0 0 0 0 0 0 0 0 0 0 0 0 0 0 1 0 0 1 1 0 0 0 1 0 0 0 0 0 0 0 0 0 0 0 0 1 0 0 0 0 0 0 0 0 0 0 0 0 0 0 0 0 0 0 0 0 0 1 0 0 0 0 0 0 0 0 0 0 0 0 0 0 0 0 0 0 0 0 0 1 0 0 0 0 0 0 0 0 0 0 0 0 0 0 0 0 0 1 0 0 0 0 0 0 0 0 1 0 0 0 1 0 0 0 1 0 1 0 0 0 0 0 0 0 0 0 0 0 0 1 1 0 1 0 1 0 0 1 0 0 0 0 0 1 0 0 0 0 0 0 0 0 0 0 0 0 1 0 1 0 0 0 0 0 0 0 1 1 0 0 0 0 0 0 1 0 0 0 0 0 0 0 0 0 1 0 0 1 0 0 0 0 0 1 0 0 0 1 0 1 0 0 0 0 0 0 1 0 0 0 0 1 0 0 0 1 0 0 0 0 0 0 0 1 0 0 0 0 0 1 0 0 0 0 0 0 0 0 1 0 0 0 0 0 0 0 1 0 0 0 0 0 0 0 0 1 0 0 0 0 0 0 1 0 0 0 0 1 0 1 0 0 0 0 0 0 0 0 0 0 0 0 1 0 0 0 0 1 0 0 0 0 0 0 0 0 0 0 0 0 0 0 0 0 0 0 0 0 0 1 0 0 0 0 0 0 1 0 0 0 0 0 0 0 1 0 0 0 0 0 0 0 0 0 0 1 0 0 0 0 0 0 0 0 0 0 0 0 0 0 0 1 0 0 0 1 0 0 0 0 0 0 0 0 0 0 1 0 0 0 0 0 0 0 0 0 0 0 1 0 0 0 0 0 0 0 1 0 0 0 0 0 0 1 0 1 0 0 0 0 0 0 0 0 0 1 0 1 0 0 0 0 1 0 0 0 0 0 0 0 0 1 0 1 1 0 0 0 0 0 0 0 0 0 0 0 0 1 0 0 0 0 0 0 0 0 0 0 1 0 0 0 0 0 0 0 0 0 0 1 0 0 0 0 0 0 1 0 0 0 0 0 0 0 0 0 0 0 1 0 0 0 1 0 0 1 0 0 0 0 1 0 0 1 0 0 0 0 0 0 0 0 0 0 0 0 1 0 0 0 0 1 0 0 0 0 0 0 1 0 0 0 0 0 1 0 0 0 0 1 0 0 0 0 1 1 0 0 0 0 0 0 0 0 0 0 0 0 0 0 0 0 0 0 0 0 0 0 0 0 0 0 0 0 0 0 0 0 1 0 0 0 0 0 0 0 0 0 0 0 0 0 0 0 0 1 0 0 0 1 0 0 0 0 0 0 0 0 0 1 1 0 0 0 0 0 0 0 0 0 0 1 0 0 0 0 0 0 0 0 0 0 0 0 1 1 0 0 0 0 0 0 0 0 0 0 0 1 0 0 1 0 0 0 0 0 0 0 0 0 0 0 0 0 0 0 0 0 0 1 1 0 0 1 1 0 1 0 0 0 0 0 0 1 0 0 0 0 0 0 0 1 1 0 0 0 0 0 0 0 0 1 0 0 0 0 0 0 0 0 0 0 0 0 0 0 0 0 0 0 0 0 1 0 0 1 0 0 0 0 0 0 0 0 0 0 0 0 0 1 0 0 0 0 0 0 0 1 0 0 0 0 0 0 0 0 0 0 1 0 0 0 0 0 0 0 0 0 0 0 0 0 0 0 1 0 0 0 0 0 0 0 1 0 0 0 0 0 0 1 0 0 0 0 0 0 0 0 0 0 0 0 0 0 0 1 0 0 0 0 0 0 0 0 0 1 0 0 0 0 0 0 0 0 0 1 0 0 0 0 0 0 0 0 0 0 0 0 0 1 0 0 0 0 0 0 0 0 0 0 0 0 0 0 0 0 0 0 0 0 0 0 0 1 0 0 0 0 0 0 1 0 0 0 1 0 0 0 0 0 0 1 0 0 0 0 0 0 0 0 0 0 0 0 0 1 0 0 0 0 0 1 0 0 0 0 0 0 0 0 0 0 0 0 0 0 0 0 0 0 0 1 1 0 0 0 0 0 0 0 0 0 1 0 0 0 0 0 0 0 0 0 0 0 0 0 0 0 0 0 0 0 0 0 0 0 0 0 0 0 0 0 0 0 0 1 1 0 0 0 0 0 0 0 0 0 1 0 0 0 1 0 1 0 0 0 0 0 0 0 0 0 0 0 0 0 0 0 0 0 0 0 0 0 0 0 0 0 0 0 0 0 0 0 0 0 0 0 0 1 0 0 0 0 0 0 0 0 0 0 0 0 0 0 0 0 0 0 0 0 0 0 0 0 0 0 0 0 0 0 0 0 0 0 1 0 1 0 0 0 0 0 0 0 0 0 0 0 0 0 0 0 0 0 0 0 0 0 0 0 0 0 0 0 0 0 0 0 0 0 1 0 0 0 0 1 0 0 0 0 0 0 0 0 0 0 0 0 0 0 0 1 0 0 0 0 0 1 0 0 0 0 1 0 0 1 1 0 0 0 0 0 0 0 1 1 0 0 0 0 0 0 0 0 0 0 0 1 1 0 0 0 0 0 0 0 0 0 0 0 0 0 0 1 0 0 1 0 0 0 0 0 0 0 0 0 0 0 1 0 1 0 0 0 0 0 0 0 0 0 0 0 0 0 1 0 0 0 1 0 1 0 0 0 0 0 0 0 0 0 0 0 0 0 0 0 0 1 0 0 0 0 0 0 0 0 0 0 0 0 0 0 0 0 0 0 0 0 0 1 0 0 0 0 0 0 0 0 0 0 0 0 0 0 0 0 0 0 0 0 0 0 0 0 0 0 0 1 0 0 0 0 0 0 0 0 1 0 0 0 0 0 0 0 0 0 0 0 0 0 0 0 1 0 0 0 1 1 0 0 0 0 0 0 0 0 0 0 0 0 0 0 1 0 1 0 0 0 0 0 0 0 1 0 0 1 0 0 0 0 0 0 0 0 0 1 0 0 1 0 1 1 0 0 0 0 0 0 0 0 0 0 1 0 0 0 0 0 0 0 0 0 0 0 0 0 1 0 0 1 0 0 0 0 0 0 0 1 0 0 0 0 0 0 0 0 0 0 0 0 0 0 1 0 1 0 0 0 1 1 0 1 0 1 0 0 0 0 0 0 0 0 0 0 0 0 0 0 1 0 0 0 0 1 0 0 0 0 0 0 0 0 0 0 0 0 0 1 0 0 0 0 1 1 0 0 1 0 1 0 0 0 0 0 0 1 1 0 0 0 1 0 0 0 0 0 0 1 1 0 0 0 0 0 0 0 0 0 0 0 0 1 0 0 0 0 0 0 0 1 0 0 0 0 0 0 0 0 0 0 0 0 0 0 1 0 0 0 0 0 0 0 0 0 0 0 1 0 0 0 0 0 0 0 0 0 0 1 0 0 0 0 0 0 0 0 0 0 0 0 0 0 1 1 0 0 0 0 0 0 0 0 0 1 0 1 0 0 1 0 0 0 0 0 1 0 0 0 0 0 0 0 0 0 1 0 0 0 0 0 0 1 0 0 0 0 0 0 0 0 0 0 0 0 0 1 0 0 0 0 0 0 0 0 0 0 1 0 0 0 0 0 0 0 0 1 0 0 0 0 0 0 0 0 0 0 0 0 0 0 0 0 0 0 0 0 0 0 0 0 0 0 0 1 0 1 0 0 0 0 0 0 0 0 0 0 0 0 0 0 0 0 0 0 0 0 1 0 0 0 0 0 0 0 0 0 0 0 0 0 0 0 0 0 0 0 0 0 0 0 0 0 0 0 0 0 1 0 0 0 0 0 0 0 0 0 0 0 0 0 0 0 0 0 0 0 0 1 0 0 0 0 0 0 1 0 0 0 0 0 0 0 0 0 0 0 0 0 0 1 0 0 0 1 0 0 0 0 0 0 0 1 0 1 0 0 0 0 0 0 0 0 0 0 0 0 0 0 0 0 0 0 0 0 0 0 1 0 0 0 0 0 0 0 0 0 0 0 0 1 1 0 0 0 0 0 1 0 0 0 0 0 0 0 0 0 0 0 0 0 0 0 0 0 1 0 0 0 1 0 0 1 0 0 0 0 0 1 0 1 0 0 0 0 0 0 0 0 0 0 0 0 0 0 0 0 0 1 0 0 0 0 0 0 0 1 0 0 0 1 0 0 0 0 0 0 0 0 0 0 0 0 0 0 0 0 0 0 0 0 0 0 0 1 0 0 0 0 0 0 0 0 0 0 0 0 0 0 0 0 0 0 0 1 0 0 0 0 0 0 0 0 0 0 0 0 0 0 0 0 0 0 0 0 0 0 0 0 0 0 0 0 0 0 0 0 0 0 0 0 0 0 0 0 1 0 0 0 0 0 1 0 0 0 0 0 0 0 1 0 0 0 0 0 0 0 0 0 0 0 0 0 0 0 0 0 0 0 0 0 0 0 0 0 0 0 0 0 0 0 0 0 0 1 0 0 0 0 0 0 0 0 0 0 1 0 0 0 0 0 0 0 0 0 0 0 0 1 0 0 0 0 0 0 0 0 0 0 0 0 0 0 1 0 0 0 0 0 0 0 1 0 0 1 0 1 0 1 0 0 1 0 0 0 0 0 1 0 1 0 0 0 0 1 0 0 0 0 0 0 0 1 0 0 0 0 0 0 0 0 0 0 0 1 1 0 0 0 0 0 0 1 0 0 1 0 1 0 0 0 0 0 0 0 0 0 0 0 1 0 0 0 0 0 0 0 0 0 0 0 0 0 0 0 0 0 0 1 0 0 0 0 1 0 0 0 1 0 0 0 1 0 0 0 0 0 0 0 0 0 0 0 0 0 0 0 0 0 0 0 0 0 1 0 1 0 0 0 0 1 1 0 0 0 0 0 0 0 0 0 0 0 0 0 0 0 0 0 0 0 0 0 0 0 0 0 0 0 0 0 0 0 0 0 0 1 0 0 0 0 0 0 0 0 0 0 0 0 0 0 0 0 0 0 0 0 0 0 0 0 0 0 0 0 0 0 0 0 0 0 0 0 0 0 0 0 0 0 0 0 0 1 1 1 0 0 0 0 0 0 0 0 0 0 1 0 0 0 0 0 0 0 0 1 0 0 0 1 1 0 0 0 0 0 0 0 0 0 0 0 1 0 0 0 0 0 0 0 0 0 0 0 0 0 0 0 0 0 0 0 0 0 0 0 0 0 0 0 0 1 0 0 0 0 0 0 0 0 0 1 0 0 0 0 0 0 0 0 0 1 0 0 0 1 0 0 0 0 0 0 0 1 0 0 0 1 0 0 0 0 0 0 0 0 0 0 0 0 0 0 0 1 0 0 0 1 0 0 0 0 0 0 0 0 0 0 0 0 0 0 0 0 0 0 0 0 0 0 0 0 0 0 1 0 0 0 0 0 0 0 0 0 0 0 0 0 1 1 0 0 0 0 0 0 0 1 0 0 0 0 0 0 0 0 0 0 0 0 0 0 0 0 0 0 0 1 0 1 0 1 0 0 0 0 0 0 0 0 1 0 0 0 0 0 0 0 0 0 0 0 0 1 1 0 0 0 0 0 0 0 0 0 1 0 0 0 0 0 0 0 0 0 0 0 0 0 0 0 0 0 0 0 0 0 1 0 0 0 0 0 0 0 0 0 0 1 0 0 0 1 0 0 1 0 0 1 0 0 0 0 0 0 0 1 0 1 0 1 0 0 1 1 0 0 0 0 0 0 0 0 0 1 0 0 0 0 0 0 0 0 0 0 0 0 0 0 0 0 0 0 0 0 0 0 0 0 0 1 0 0 0 0 0 0 0 0 0 1 0 1 0 0 0 1 0 1 1 0 0 0 1 0 0 0 0 0 0 0 0 0 1 0 0 0 0 0 0 0 0 0 0 0 0 0 0 0 0 0 0 0 1 0 1 0 0 0 1 0 0 0 0 0 0 0 0 0 0 1 0 0 0 0 0 1 0 1 0 0 0 0 0 0 0 0 0 0 0 1 0 0 0 0 0 0 0 0 0 0 0 0 0 0 0 0 0 0 0 0 0 0 0 0 0 0 1 0 0 1 0 0 0 1 0 0 1 0 0 0 0 1 0 0 0 0 1 0 0 0 0 0 0 0 0 0 0 0 0 0 1 0 0 0 0 0 1 0 0 0 1 0 0 1 0 0 0 0 0 0 0 0 0 0 0 0 0 0 0 0 0 0 0 1 0 1 0 0 0 0 0 0 0 0 1 0 0 0 0 0 0 1 0 0 1 0 1 0 0 0 0 0 0 0 1 1 1 0 0 0 1 0 0 0 0 1 0 1 0 0 0 0 0 0 0 0 0 0 0 0 0 0 0 0 0 0 0 0 0 1 0 1 0 0 0 0 0 0 0 1 0 0 0 0 0 0 0 0 0 0 0 0 1 0 0 0 0 0 1 0 0 0 1 0 0 0 0 0 0 0 0 0 0 0 0 0 0 0 1 0 0 1 0 0 0 0 1 1 0 0 0 0 0 0 0 0 0 0 0 0 0 1 0 0 0 0 0 0 1 0 1 0 0 0 0 1 0 0 0 0 0 1 0 0 0 0 0 1 0 0 0 0 0 0 0 0 0 0 0 0 0 0 0 0 0 0 0 0 0 0 0 0 0 0 0 0 0 0 0 0 0 0 0 0 1 1 0 0 0 0 0 0 0 0 1 0 0 0 0 0 0 0 0 0 0 0 0 0 0 0 0 1 0 0 0 1 0 0 0 0 0 0 0 0 0 0 0 0 0 0 0 0 0 0 0 0 0 1 0 0 0 0 0 0 0 0 0 0 1 0 0 0 0 0 1 0 0 0 0 0 0 0 0 0 0 0 0 0 0 1 0 1 0 0 0 0 0 0 0 0 0 0 0 0 0 1 0 0 0 1 0 1 0 0 0 0 0 0 0 0 0 0 0 0 0 0 0 0 0 0 0 0 0 0 0 0 0 0 0 0 0 0 0 1 0 0 0 0 0 1 1 0 0 0 0 0 0 0 0 1 0 0 0 0 0 0 0 0 1 0 0 0 0 0 0 0 1 0 0 0 0 0 0 1 0 1 0 0 0 0 0 0 0 0 0 0 0 0 0 0 0 0 1 0 1 1 0 0 0 0 1 0 0 0 1 0 0 0 0 0 0 0 0 1 0 0 0 0 0 0 0 0 0 1 0 0 0 0 0 0 0 0 0 0 0 0 0 0 0 0 0 0 0 0 0 0 0 0 0 0 0 0 0 0 0 0 0 0 0 0 0 1 0 0 0 0 0 0 0 0 0 0 0 0 0 0 1 0 0 0 0 0 1 0 0 0 0 0 0 0 0 0 0 0 0 0 0 0 0 0 0 0 0 0 0 0 0 1 0 0 0 0 0 0 0 0 0 1 0 0 0 1 0 0 0 0 0 0 0 0 0 0 0 0 0 0 0 0 0 0 1 1 0 0 0 1 0 0 0 1 0 0 0 0 0 0 0 0 0 0 0 0 0 0 0 0 1 0 0 0 0 0 0 0 0 0 0 0 0 0 0 0 0 0 0 0 0 0 0 0 0 0 0 0 0 0 0 0 1 0 0 0 0 0 1 0 0 0 0 0 0 1 1 0 0 0 0 0 0 0 0 0 0 0 0 0 0 0 0 0 1 0 0 1 0 1 0 1 0 1 0 0 0 0 0 0 0 0 0 0 0 0 0 0 0 0 0 0 0 0 0 0 0 0 0 0 0 1 1 0 0 0 0 0 0 0 0 0 1 0 1 0 0 0 0 0 0 0 1 0 0 0 0 0 0 0 0 0 0 0 0 0 0 0 0 0 0 0 0 0 0 0 0 0 0 0 0 1 0 1 0 1 0 0 0 0 0 0 0 0 0 0 0 0 0 0 1 0 0 0 0 0 0 0 0 0 0 1 0 0 0 0 0 0 0 0 0 0 0 0 0 0 0 0 0 1 0 0 0 0 0 0 0 0 0 0 0 0 0 0 0 0 0 0 0 0 0 0 0 0 0 1 0 0 0 0 1 0 0 0 0 0 1 0 1 0 0 0 0 0 0 0 0 0 0 0 1 0 0 0 0 0 0 0 0 0 0 0 1 0 0 0 0 0 0 0 0 0 1 1 1 0 0 0 0 0 0 0 0 1 0 0 0 0 0 0 0 0 0 0 0 0 1 0 0 0 0 0 0 0 0 0 0 0 0 0 1 1 1 0 1 0 0 0 0 0 0 0 0 0 0 0 0 0 0 0 1 0 0 0 0 0 0 1 0 0 0 0 0 0 0 0 0 1 0 0 0 0 0 0 0 0 1 0 0 0 0 1 0 0 0 0 0 0 0 0 1 0 0 0 0 0 0 0 0 0 0 0 0 0 0 0 0 0 0 0 0 1 0 0 0 1 0 0 1 0 0 0 0 0 1 0 0 0 0 0 0 0 0 0 0 0 0 0 0 0 1 0 0 0 0 0 0 0 0 1 0 0 0 0 0 1 0 0 0 1 0 0 0 0 0 0 0 0 0 0 1 0 0 1 0 0 0 0 0 0 0 0 0 0 0 0 0 0 0 0 0 0 0 0 0 0 0 0 0 0 0 0 0 0 1 0 0 1 0 0 0 0 0 0 0 0 0 0 0 0 0 0 0 0 0 0 0 0 0 0 0 0 0 0 0 0 0 0 0 0 0 1 0 0 0 1 0 0 0 0 0 0 0 0 0 0 0 0 0 0 0 0 0 0 0 0 0 0 0 0 0 0 0 0 0 0 0 0 0 0 0 0 0 0 0 0 0 0 0 0 1 0 0 0 0 0 0 0 0 1 0 1 0 0 0 1 0 0 0 0 1 0 0 0 0 0 0 0 0 0 0 0 0 0 0 0 0 1 0 1 0 0 0 0 0 0 0 0 0 0 0 0 0 0 0 0 0 0 0 0 0 0 1 0 0 0 0 0 0 0 0 1 0 0 0 0 0 0 0 0 0 0 0 0 0 0 0 0 0 0 0 0 0 0 0 0 0 0 1 0 0 0 0 0 0 1 1 0 0 0 0 0 0 0 0 0 1 0 1 0 0 0 1 1 0 0 0 0 0 0 0 0 0 0 0 0 0 0 0 0 0 0 0 0 0 0 0 0 0 0 0 0 0 0 0 0 0 0 0 0 0 1 1 0 0 1 0 0 0 0 0 1 0 0 0 0 0 0 0 1 0 0 0 0 1 0 0 0 0 0 1 0 1 0 0 0 0 0 0 0 1 0 0 0 0 0 0 0 1 1 0 0 0 0 0 0 1 0 0 1 0 0 0 0 0 0 0 0 0 0 0 0 0 0 0 0 0 0 1 0 0 0 0 0 0 0 0 0 1 0 0 0 0 0 0 1 0 0 0 0 0 0 0 0 0 0 0 0 0 1 0 0 0 0 0 0 0 0 0 0 0 0 0 0 0 0 0 0 0 0 0 0 0 0 0 1 0 0 0 0 0 0 0 0 0 0 0 0 0 0 0 0 0 0 0 0 1 0 0 0 1 0 0 0 0 0 0 0 0 0 1 0 0 0 0 0 0 0 0 0 0 0 0 0 0 0 0 0 0 0 0 0 0 0 0 1 0 0 0 0 1 0 1 0 0 0 0 0 0 0 0 0 0 0 0 0 0 0 0 0 0 1 0 0 0 0 1 0 0 0 0 1 0 1 0 0 0 0 0 0 1 0 0 0 0 0 0 1 0 0 0 0 0 0 0 0 0 0 0 0 1 0 0 1 0 0 1 0 0 0 0 0 1 0 0 0 0 0 0 0 0 0 0 0 0 0 0 0 1 0 0 0 0 0 0 0 0 0 0 0 0 0 0 0 0 0 1 0 0 0 1 0 0 0 0 1 0 0 0 0 0 0 0 0 1 0 0 0 1 0 1 0 0 0 0 0 0 0 0 0 0 0 0 0 0 0 0 0 0 0 0 0 0 0 0 0 0 0 0 0 0 0 0 0 0 0 0 0 0 0 0 0 0 0 0 0 0 0 1 0 0 0 0 0 0 0 0 1 0 0 0 0 0 0 0 0 0 0 0 0 0 0 0 0 0 0 0 0 0 0 1 0 0 0 0 0 1 0 0 0 0 0 0 0 0 0 0 0 0 1 0 0 0 0 0 0 0 0 0 0 0 0 0 0 0 0 0 0 0 0 0 0 0 0 0 0 0 0 0 0 0 0 0 0 1 0 1 0 0 1 0 0 0 0 0 0 0 0 0 0 0 1 0 0 0 0 0 0 0 0 0 0 0 0 0 0 0 0 0 0 1 0 1 0 0 0 0 0 0 0 0 0 0 0 1 0 0 0 0 0 0 0 0 0 0 0 0 1 0 0 0 0 0 0 0 0 0 0 0 0 0 0 1 0 0 0 0 1 0 0 0 1 0 0 0 0 0 0 0 0 0 0 0 0 1 1 0 0 0 0 0 0 0 0 0 0 0 1 1 0 0 1 0 0 0 1 0 0 0 0 0 0 0 0 0 0 0 0 0 0 0 0 0 0 0 0 0 0 0 0 0 0 1 0 0 0 0 0 0 0 0 1 0 1 0 0 0 0 1 0 0 0 0 0 0 0 0 0 0 1 0 0 0 1 0 0 0 0 1 1 0 0 0 1 0 0 0 0 0 0 1 0 0 1 0 0 0 0 0 0 0 1 0 1 0 1 0 0 0 1 1 0 0 0 0 0 1 0 0 0 0 1 1 0 0 0 0 0 0 0 0 0 1 0 0 0 0 0 0 0 1 0 0 0 1 1 0 0 0 0 0 0 1 1 0 0 0 0 0 0 0 0 0 0 1 1 0 0 0 0 1 0 0 0 1 0 0 0 0 0 0 0 1 0 0 0 0 0 0 1 0 0 0 0 0 0 0 0 0 0 0 0 0 0 0 0 0 0 0 1 0 0 0 0 0 0 0 0 0 0 0 0 0 0 0 0 0 0 0 0 0 0 0 0 0 0 0 1 0 1 0 0 0 0 0 0 0 0 0 0 0 1 0 0 0 0 0 0 0 0 0 0 0 1 0 0 0 0 0 0 0 0 0 0 1 0 0 0 0 0 0 0 0 0 0 0 0 0 0 0 0 0 0 0 0 0 0 0 0 1 0 0 0 0 0 0 0 0 0 0 0 0 1 0 0 0 0 0 0 0 0 0 0 0 0 0 0 0 0 0 0 1 0 0 0 0 0 0 0 0 0 0 0 0 0 0 0 0 0 0 1 0 1 0 0 0 0 0 0 0 0 0 0 1 0 0 1 0 0 0 1 0 0 0 0 1 0 0 0 0 0 0 0 0 1 0 1 0 0 0 0 0 1 0 0 0 0 0 0 0 0 0 0 1 0 0 0 0 0 0 0 0 0 0 0 0 0 0 0 0 0 0 0 0 1 0 0 0 1 0 0 0 1 0 0 0 0 1 0 0 0 0 0 0 0 0 0 0 0 0 0 0 0 0 0 0 0 "
     ]
    },
    {
     "name": "stdout",
     "output_type": "stream",
     "text": [
      "0 0 0 0 0 0 0 0 0 0 0 0 0 0 0 0 0 0 0 0 0 0 0 0 0 1 0 1 0 0 0 0 1 0 0 0 0 0 0 0 0 0 0 0 1 0 1 0 0 0 0 0 0 1 0 0 1 0 1 0 0 0 1 0 0 0 0 1 0 0 0 0 1 0 0 0 0 0 0 0 0 0 1 0 0 0 0 0 0 0 1 0 0 0 0 0 0 0 0 0 0 0 0 0 0 1 0 0 0 1 0 0 0 0 0 0 0 1 0 0 0 0 1 0 0 0 0 0 0 1 1 0 0 0 0 0 0 1 0 1 0 0 0 0 0 0 0 0 0 0 0 0 0 0 0 0 0 0 1 0 0 0 0 1 0 0 0 0 0 0 0 0 0 0 0 0 0 0 1 0 0 0 0 0 0 0 0 1 0 0 0 0 1 0 0 0 0 1 1 0 0 0 0 0 0 0 0 0 0 1 0 0 0 0 0 0 0 0 0 0 0 0 0 0 0 0 0 0 0 1 0 0 0 0 1 0 0 0 0 0 0 0 0 0 0 0 0 0 0 0 0 0 0 0 0 0 0 0 0 0 0 0 0 0 0 0 0 0 0 0 0 0 0 0 0 0 0 0 0 0 0 0 0 0 0 0 0 1 0 1 0 0 1 0 0 0 0 0 0 0 0 0 0 0 0 0 0 0 0 0 1 0 1 1 0 0 0 0 0 0 0 0 0 0 0 0 0 0 0 0 0 0 0 0 0 0 0 0 0 0 0 0 0 0 1 0 0 0 1 0 0 0 0 0 0 0 0 0 0 0 0 0 0 0 0 0 0 0 0 0 0 0 1 0 0 0 0 0 0 0 0 1 0 0 0 0 1 0 1 0 0 0 0 0 0 0 0 0 0 0 0 0 0 0 0 0 0 0 0 0 0 0 0 0 1 0 0 0 0 0 0 0 0 0 0 0 0 0 0 0 0 0 0 0 0 0 0 0 0 0 0 0 0 0 0 0 0 0 0 0 0 0 0 0 0 0 1 0 0 0 0 0 1 0 0 1 0 0 0 0 1 1 0 0 0 0 0 0 0 0 1 0 0 1 0 1 0 0 0 0 0 0 1 0 0 0 0 0 0 0 0 0 0 1 0 0 0 0 0 0 0 0 0 0 1 0 0 0 0 1 0 0 1 0 0 0 0 0 0 0 0 0 0 0 1 0 0 0 0 0 0 0 0 0 0 0 0 0 0 0 0 0 0 1 0 1 0 0 0 0 0 1 0 0 0 0 0 0 0 1 0 0 0 0 0 0 0 0 0 0 0 0 0 0 0 0 0 0 0 0 0 0 0 0 1 0 0 0 0 0 0 0 0 0 0 0 0 0 0 0 0 0 0 0 0 0 0 0 0 0 0 0 1 0 1 0 0 0 0 0 0 0 0 0 0 0 1 0 0 0 0 0 0 0 0 0 0 0 0 0 1 0 0 0 0 0 0 0 0 0 0 0 0 0 0 0 0 0 0 0 0 0 0 0 1 0 0 1 0 0 0 0 0 0 0 0 0 0 1 0 0 1 1 0 0 0 0 0 0 0 1 0 0 0 1 0 0 0 1 0 0 0 0 0 0 0 0 0 0 0 0 1 1 0 1 0 0 0 0 0 0 0 0 0 1 0 0 0 0 0 1 0 0 0 0 0 0 0 0 0 0 0 0 0 1 0 0 0 0 0 0 0 0 0 0 0 0 0 0 0 0 0 0 0 0 1 0 0 0 1 0 0 0 0 0 0 0 0 0 0 0 0 0 0 0 0 0 0 0 0 0 0 0 0 0 0 0 0 0 0 0 0 0 1 0 0 0 0 0 1 0 0 0 0 0 0 0 0 0 0 0 0 0 0 0 0 0 0 0 0 0 0 0 0 0 0 0 0 0 0 0 0 1 1 0 0 0 0 0 0 0 1 0 0 0 0 0 0 0 0 0 0 0 0 0 0 0 0 0 0 0 0 1 0 0 0 0 0 0 1 1 0 0 0 0 0 0 0 0 0 0 0 0 0 0 0 0 0 1 0 0 0 0 0 0 0 1 0 0 0 0 0 0 0 0 0 0 1 0 0 0 1 0 0 0 0 0 0 0 0 0 0 0 0 0 0 0 0 0 0 0 0 1 0 0 1 0 0 0 0 0 1 0 0 0 0 0 0 0 0 1 0 1 0 0 0 0 0 0 0 0 0 0 0 0 0 0 0 0 0 0 0 0 0 0 0 0 0 0 0 0 0 0 0 0 0 0 0 1 0 0 0 0 0 0 0 0 0 0 0 1 0 1 1 0 0 0 0 0 0 0 0 0 0 0 0 0 0 0 1 0 0 0 1 0 0 0 0 0 0 1 0 0 0 0 0 0 0 1 0 0 0 0 0 0 1 1 0 0 0 0 0 0 0 0 0 0 0 1 0 1 0 0 0 0 0 1 0 0 0 0 0 0 1 1 0 0 0 0 0 0 0 0 0 0 0 0 0 0 0 0 0 0 0 1 0 0 0 0 0 0 0 0 0 0 0 1 0 0 0 0 0 1 0 0 0 0 0 0 0 1 0 0 0 0 0 0 0 0 0 0 0 0 0 0 0 0 0 0 0 0 0 1 0 1 0 0 0 1 0 0 0 0 0 1 0 0 0 0 0 0 0 0 0 1 0 0 0 0 1 1 0 0 0 1 0 0 0 0 0 0 0 0 0 0 0 0 0 0 0 0 0 0 0 0 0 0 0 0 0 0 0 0 0 0 1 1 0 0 0 0 0 0 0 0 0 1 0 0 0 1 0 0 1 0 0 0 0 0 0 0 0 0 0 0 0 0 0 0 0 1 1 0 1 1 0 0 0 0 0 0 0 0 0 0 0 0 0 0 0 0 0 0 0 0 0 0 0 0 0 0 0 1 0 0 0 0 1 0 0 0 0 0 0 0 0 0 0 0 0 0 0 0 1 0 0 0 0 0 0 0 0 1 0 0 0 0 0 0 0 0 0 0 0 0 0 0 0 0 0 0 0 0 0 1 1 0 0 0 0 0 1 0 0 0 0 0 0 0 0 0 0 0 0 0 1 0 0 1 0 0 0 0 0 0 0 0 0 0 0 0 0 0 0 0 0 0 0 0 0 0 0 1 0 0 0 0 0 0 0 0 0 0 0 0 0 0 0 0 0 0 0 0 1 0 0 0 0 0 0 0 0 0 0 0 1 0 0 0 0 0 0 1 1 0 0 0 0 0 0 0 0 0 1 0 0 1 1 0 0 0 0 1 0 0 1 0 0 0 0 0 1 0 0 0 0 0 0 0 0 0 0 0 0 0 0 0 0 0 0 0 1 0 0 0 0 0 0 0 0 0 0 0 0 0 0 0 0 0 0 0 0 0 0 0 0 0 0 0 0 1 0 0 0 0 0 0 0 0 0 0 0 0 0 0 0 0 1 0 0 0 0 0 0 0 0 0 0 0 0 0 0 0 0 0 0 0 1 1 0 0 0 0 0 0 1 0 0 1 0 0 0 0 0 0 0 0 0 0 1 0 0 0 1 0 0 0 1 0 0 0 0 0 0 0 0 0 0 0 0 0 0 0 1 0 0 0 0 0 0 0 0 0 0 0 1 0 0 0 0 0 0 0 0 1 0 1 0 1 0 0 0 0 0 0 0 0 0 0 0 0 0 0 0 0 0 1 0 0 0 0 1 1 0 0 0 0 0 0 0 0 0 0 1 1 0 0 0 0 0 0 0 0 0 0 0 0 0 0 0 0 0 0 0 0 0 0 0 0 0 0 0 0 0 0 0 0 0 1 0 0 0 0 0 0 0 0 0 0 0 0 0 0 0 0 0 0 0 0 0 0 0 0 0 0 0 0 0 0 0 0 0 0 0 0 0 0 0 0 0 0 0 0 0 0 0 0 0 0 1 0 0 0 0 0 1 0 1 0 0 0 1 0 0 0 0 0 0 0 0 0 0 0 0 0 0 0 0 1 0 0 0 1 1 0 0 0 1 1 0 0 0 0 0 0 1 0 1 0 0 0 1 0 1 0 0 0 0 1 0 0 0 0 0 0 0 0 0 0 0 0 0 0 0 0 0 1 0 0 0 0 1 0 0 0 0 1 0 0 0 0 0 1 0 0 0 0 0 1 0 0 0 0 0 0 0 1 0 0 0 0 0 0 1 0 0 0 0 0 0 1 1 0 0 0 0 0 0 0 0 0 0 1 0 0 0 0 0 0 0 0 0 0 0 0 0 0 0 0 0 0 1 1 0 0 0 0 0 0 0 0 0 0 0 0 1 0 1 1 0 1 0 0 0 0 0 0 0 0 0 0 0 0 0 1 0 0 0 0 0 0 0 0 1 0 0 0 0 1 0 0 0 0 0 0 0 0 0 0 0 0 0 0 1 0 0 0 0 0 0 0 0 0 0 0 0 0 1 0 0 0 0 0 1 1 0 0 1 1 0 0 0 0 0 0 0 0 0 0 0 0 0 0 0 1 0 0 0 1 0 1 0 0 0 1 0 0 0 0 0 0 0 0 0 0 0 0 0 0 0 0 0 1 0 0 0 0 0 0 0 0 0 0 1 1 0 1 0 0 0 0 0 0 0 0 1 0 0 1 0 0 0 0 0 0 0 0 0 0 0 0 0 0 0 0 0 0 0 0 0 1 0 1 0 0 0 0 0 0 0 0 0 0 0 0 0 0 0 0 0 0 0 0 0 0 0 0 0 0 0 0 0 0 0 0 0 0 0 1 0 0 0 1 0 0 0 1 0 1 0 0 0 0 0 0 0 0 0 0 1 0 0 0 0 0 0 1 0 1 0 0 1 1 1 0 0 0 0 0 0 1 0 0 0 0 0 0 1 0 0 1 0 1 1 0 0 0 0 0 0 0 0 0 0 0 0 0 1 0 0 0 0 0 0 0 0 0 0 0 0 0 0 0 0 1 1 1 0 0 1 1 0 0 0 0 0 0 0 0 0 1 0 0 0 0 0 0 0 0 1 0 0 0 0 0 0 0 1 0 0 0 0 0 0 0 0 0 0 0 0 0 0 0 0 0 0 0 1 0 0 1 0 0 0 0 0 0 0 0 0 0 0 0 0 0 0 0 0 0 0 0 0 0 1 0 0 1 0 0 1 1 0 0 0 0 0 0 0 0 1 0 0 0 0 0 0 0 0 0 0 0 0 0 0 0 0 0 0 0 0 0 1 0 0 0 0 0 1 0 0 0 0 0 0 1 0 0 0 0 0 0 0 0 0 0 0 0 0 0 0 0 0 0 0 0 0 1 0 0 0 0 0 0 0 0 0 0 0 1 0 0 0 1 1 0 0 0 0 0 0 0 0 0 0 0 0 0 0 0 0 0 0 0 1 0 0 0 0 0 0 0 0 0 0 0 0 0 0 0 0 0 0 0 0 1 0 0 0 0 0 1 0 0 1 0 0 0 0 0 1 0 0 0 1 0 1 0 1 0 0 0 0 0 1 0 0 0 0 0 0 0 0 1 0 0 0 0 0 0 0 0 0 0 0 0 1 0 0 0 0 0 0 1 0 0 0 0 1 0 1 0 0 0 0 0 1 0 0 0 0 1 0 1 1 1 0 0 0 0 0 0 1 0 0 1 1 1 0 0 1 0 0 0 1 0 0 0 0 0 0 0 0 0 0 0 0 0 0 0 0 0 0 0 0 0 0 0 0 0 0 0 0 0 0 0 0 0 1 0 0 0 0 0 0 0 0 0 0 0 0 0 0 0 0 0 1 0 0 0 0 0 0 0 0 0 0 0 0 1 0 0 0 0 1 0 0 0 0 0 0 0 0 0 0 1 0 0 0 0 0 0 0 0 0 0 0 0 0 1 0 1 0 0 0 0 0 0 0 0 0 0 0 0 0 0 0 0 0 0 0 0 0 0 1 0 0 1 0 1 0 0 0 0 0 0 0 0 0 0 0 0 0 0 0 0 0 0 0 0 0 0 0 0 0 0 0 0 0 0 1 0 0 0 0 0 1 0 0 0 0 0 0 0 1 0 0 0 0 0 0 0 0 0 0 0 1 0 0 0 0 0 0 0 0 1 0 0 0 0 0 0 0 0 0 0 0 0 0 0 0 0 0 0 0 0 0 1 0 0 0 0 0 0 0 0 1 0 0 1 0 1 0 0 0 0 0 0 1 0 0 1 0 0 0 1 1 0 1 1 1 1 0 0 0 1 0 0 0 0 0 0 0 0 0 0 0 0 0 1 0 0 0 0 0 0 0 0 0 0 0 0 0 0 0 0 1 0 0 1 0 0 0 0 0 0 0 0 1 0 0 0 0 0 1 0 0 0 0 1 0 0 0 0 0 0 0 0 0 0 1 0 0 0 0 0 0 0 0 1 0 1 0 0 0 0 0 0 0 0 0 0 0 0 0 0 0 0 0 0 0 0 0 0 0 0 1 0 0 0 0 1 0 0 0 0 0 0 0 0 0 1 0 0 0 0 0 1 0 0 0 0 0 0 0 0 1 0 0 1 0 0 0 0 0 1 0 0 0 0 0 0 0 0 0 0 0 0 0 0 1 1 0 0 1 0 0 0 0 0 0 0 0 0 0 0 0 0 0 0 0 0 0 0 0 0 0 0 0 0 1 0 0 0 0 0 0 0 0 0 0 0 0 0 0 0 0 0 0 0 1 1 0 0 1 0 0 1 0 0 0 0 0 0 0 0 0 0 1 0 0 0 0 0 0 0 0 0 0 0 0 1 0 0 0 0 0 0 0 1 0 0 0 0 0 0 1 0 0 0 0 1 0 0 1 0 0 1 0 0 0 0 1 0 0 0 0 0 0 0 0 0 0 0 0 0 0 1 0 1 0 0 0 0 0 0 0 0 0 0 0 0 1 0 0 0 0 0 1 0 0 0 0 0 0 0 0 0 0 0 0 0 0 0 0 0 0 0 0 0 0 0 0 0 0 0 0 0 1 0 0 0 0 0 0 0 0 0 0 0 0 0 0 0 0 0 0 0 0 0 0 0 0 0 0 0 0 0 0 0 0 1 1 0 0 0 0 0 0 0 1 0 0 0 0 0 0 0 0 0 0 0 0 1 0 0 0 0 0 0 0 0 0 1 0 0 0 0 0 0 0 0 1 0 0 0 0 0 1 0 0 0 0 0 1 0 0 0 0 0 0 0 1 0 0 0 1 0 0 0 0 0 0 0 0 0 0 0 0 0 0 0 0 0 0 0 0 0 1 0 1 0 0 0 0 0 0 0 0 0 0 0 0 0 0 0 0 0 1 0 0 0 0 0 0 1 0 0 0 0 0 0 0 0 0 0 0 0 0 0 1 0 0 0 0 1 0 1 0 0 0 0 0 1 0 0 1 0 1 0 0 0 0 0 1 0 0 1 0 0 0 1 0 0 0 0 0 0 0 0 0 0 0 0 1 0 0 0 0 0 0 0 0 1 0 0 0 0 0 0 0 0 0 1 0 0 1 0 0 1 0 1 1 0 0 0 0 0 0 0 0 0 0 0 1 1 0 0 0 0 1 0 0 0 1 0 0 0 0 0 0 0 0 0 0 0 0 1 0 0 0 0 0 0 0 1 0 0 0 1 0 0 0 0 0 0 0 0 0 0 0 0 0 0 1 0 0 0 1 0 0 0 1 0 0 0 0 0 0 0 0 0 0 0 0 1 0 0 1 0 0 0 1 0 0 0 1 0 0 0 0 0 0 0 1 1 0 0 1 0 0 0 0 0 0 0 0 0 0 0 0 0 0 0 1 0 0 0 0 0 0 0 0 0 0 1 0 0 0 0 0 0 0 0 0 0 1 0 0 0 0 0 0 1 0 0 0 1 0 0 0 1 0 0 0 0 0 0 0 0 0 0 0 0 0 1 0 0 0 0 0 0 1 0 0 1 0 0 0 0 0 0 0 0 0 0 0 0 0 1 0 1 0 0 0 0 1 0 0 0 0 1 0 0 0 0 0 1 0 0 0 1 0 0 0 0 0 0 0 0 0 0 0 0 0 0 0 0 0 0 0 0 1 0 1 0 1 0 1 0 0 0 0 0 0 0 0 1 0 0 0 0 0 1 0 0 0 0 0 0 0 0 0 0 0 0 0 0 1 1 0 0 0 0 0 0 0 0 0 0 0 0 1 0 0 0 0 0 0 0 0 0 0 0 0 1 1 0 0 1 1 0 0 0 0 0 0 0 0 0 0 0 0 0 0 0 1 0 0 0 0 0 0 0 0 0 0 0 1 0 0 1 0 0 0 0 0 0 0 0 0 0 0 1 0 0 0 1 0 0 0 0 1 1 0 0 0 0 0 0 0 0 0 0 0 0 0 0 0 0 0 0 0 0 0 0 0 0 0 0 0 0 0 0 0 0 0 0 0 1 1 1 0 0 0 0 0 0 0 0 0 0 1 0 0 1 0 0 0 0 0 0 0 0 1 0 1 0 0 0 0 1 0 1 0 0 0 0 0 1 0 0 0 0 0 0 0 0 0 0 0 0 0 0 0 0 0 0 0 0 0 0 0 0 1 0 0 0 0 1 0 0 0 0 1 0 0 0 0 1 0 0 0 0 0 0 0 0 0 0 0 0 0 0 0 0 0 0 0 0 0 0 0 0 0 0 0 0 0 0 0 0 0 0 0 1 0 0 0 0 0 0 1 0 0 0 0 0 0 0 0 0 0 0 0 0 0 0 0 0 0 0 0 0 0 0 0 0 0 0 0 0 0 0 0 0 0 0 0 0 0 0 1 0 0 0 0 0 1 0 0 1 0 0 0 0 1 0 1 0 0 0 0 1 0 0 0 0 0 0 0 0 0 0 0 0 0 0 0 0 0 0 0 1 0 0 0 0 0 0 0 0 0 0 1 0 0 0 0 0 0 0 1 0 0 1 0 0 0 0 0 0 0 0 0 0 0 0 0 0 0 1 0 0 0 1 0 0 0 0 0 0 1 0 1 0 0 0 0 0 0 0 1 0 0 0 0 0 0 0 1 0 0 0 0 0 0 0 0 0 0 0 0 0 0 0 0 0 0 0 0 0 0 0 0 1 0 0 0 0 0 0 0 0 0 0 0 0 0 0 0 0 0 0 0 0 0 0 0 0 1 0 0 0 0 0 0 0 0 0 0 0 0 0 0 0 0 0 0 0 0 0 1 0 0 0 0 1 0 0 0 0 0 0 0 0 0 0 0 0 1 0 1 0 0 1 0 0 1 0 0 0 1 0 0 0 1 0 0 0 0 0 0 0 0 1 0 0 0 0 0 0 1 0 0 0 0"
     ]
    },
    {
     "name": "stdout",
     "output_type": "stream",
     "text": [
      " 0 0 0 0 0 0 0 0 0 0 0 0 0 0 1 0 0 0 0 0 0 0 1 0 0 1 0 0 0 0 0 1 0 0 0 0 0 0 0 0 0 0 0 0 0 0 1 0 0 0 0 1 0 0 0 0 0 0 0 0 0 0 0 1 0 0 1 0 0 0 0 0 0 0 0 0 0 0 1 0 1 0 0 0 0 0 0 0 0 0 1 1 0 1 1 0 1 1 0 0 0 0 0 0 0 0 0 0 1 0 0 1 0 0 0 0 0 0 0 0 0 0 0 0 0 0 1 0 0 0 1 0 0 1 0 0 0 0 0 0 0 1 1 0 0 0 0 0 0 1 0 0 0 0 0 0 0 1 1 0 0 0 0 1 0 0 0 0 1 0 0 0 0 0 0 0 0 0 1 0 0 0 0 0 0 0 0 1 0 0 0 0 0 0 0 0 0 1 0 0 0 0 1 0 0 0 0 0 0 0 0 0 0 0 0 0 0 0 0 1 0 0 0 0 0 0 0 1 0 0 0 0 0 0 0 0 0 0 1 0 0 0 0 0 0 0 0 0 0 0 0 0 1 1 0 0 0 0 0 0 0 0 0 0 0 0 1 0 0 0 0 0 0 0 0 0 0 0 0 0 0 0 0 0 0 0 0 0 0 0 0 0 0 0 0 0 0 0 0 1 0 0 0 0 0 0 1 0 0 0 0 0 0 0 1 0 0 1 0 0 0 0 0 0 0 0 0 0 0 0 0 0 0 0 0 0 0 0 0 0 0 0 0 0 0 0 0 0 0 0 0 0 0 1 0 1 0 0 0 0 1 0 0 0 0 1 0 0 0 0 0 0 0 0 0 0 0 0 0 0 0 0 0 0 0 0 0 0 0 0 0 0 1 0 0 0 0 0 1 0 0 1 0 0 0 0 0 0 0 0 0 0 0 0 0 0 0 0 0 0 0 1 0 0 0 0 1 0 0 0 0 0 0 0 0 0 0 0 0 0 0 0 0 0 0 0 0 1 0 0 0 0 1 0 0 0 0 0 0 0 0 0 0 1 0 0 0 0 1 0 0 0 0 0 1 1 0 0 0 0 0 0 0 0 1 0 0 1 0 0 0 0 0 0 0 0 1 0 0 0 0 0 0 0 0 0 0 0 1 0 0 0 0 0 0 0 0 0 0 0 1 0 0 0 0 0 0 0 0 0 0 0 0 0 0 0 0 0 0 1 0 0 0 0 0 0 0 0 0 0 0 0 0 0 0 1 0 0 1 0 0 0 1 0 0 0 0 0 0 0 1 0 0 0 1 0 0 0 0 0 0 0 1 0 0 0 0 0 0 0 0 0 1 0 1 0 1 0 0 0 1 0 0 0 0 0 0 0 0 0 0 0 0 0 0 0 1 0 0 0 0 1 0 0 0 0 0 0 0 0 0 0 0 0 0 0 0 0 0 0 0 0 0 0 0 0 0 1 0 1 0 0 0 1 0 0 0 0 0 0 0 0 0 0 0 0 0 0 0 0 0 0 0 0 1 1 0 0 0 0 1 0 0 1 0 0 1 0 0 1 0 0 0 1 0 0 0 0 0 1 0 0 0 0 0 0 0 0 1 0 0 0 0 0 0 0 0 0 0 0 0 0 0 0 0 0 0 0 0 0 0 0 0 0 1 0 0 0 0 0 0 0 0 0 0 0 1 0 0 0 0 0 0 0 0 0 1 0 0 0 0 0 1 0 0 0 0 0 0 0 0 0 0 0 1 0 0 0 0 0 0 1 0 0 0 0 0 0 0 0 0 0 0 0 0 0 0 0 0 0 1 0 1 1 0 0 0 0 0 0 0 1 0 0 0 0 0 0 0 0 0 0 0 0 1 0 0 0 0 0 0 0 0 0 1 0 0 0 0 1 0 0 0 0 0 1 0 0 0 1 0 0 0 0 0 0 0 0 1 0 1 0 0 0 0 0 0 0 0 0 0 0 0 0 0 0 0 0 0 0 0 0 0 1 0 1 0 0 0 0 0 0 0 0 0 0 0 0 0 0 0 0 0 1 1 1 1 0 0 0 0 0 0 0 0 0 0 0 0 0 0 0 0 0 0 0 0 0 0 0 1 0 0 0 0 0 0 0 0 0 1 0 0 0 1 0 0 0 0 0 1 0 0 0 0 0 0 0 0 1 0 0 0 1 0 0 0 0 1 0 0 1 0 1 0 0 0 0 0 0 1 0 0 0 0 0 0 0 0 0 0 0 0 0 0 1 0 0 0 0 0 0 0 0 0 0 0 0 0 0 0 0 0 0 0 1 0 0 0 0 0 0 1 0 1 0 0 0 0 0 0 1 1 1 0 0 0 0 0 0 0 0 0 0 0 1 0 0 0 0 0 0 0 0 1 0 0 0 0 0 0 0 0 0 0 0 0 0 0 1 0 0 1 0 0 0 0 0 0 0 0 0 0 0 0 1 0 0 0 0 0 1 0 0 1 1 0 1 0 0 0 0 0 0 0 1 0 0 0 0 0 1 0 0 1 0 0 0 0 0 0 0 0 0 0 1 0 0 0 0 0 1 0 0 1 1 0 1 0 0 0 0 0 0 0 0 0 0 1 0 0 0 0 0 0 0 1 0 0 0 0 0 0 0 0 0 0 0 0 0 0 0 0 0 0 1 0 0 1 0 0 0 0 0 0 0 0 0 0 0 0 1 0 0 0 0 0 0 1 0 0 0 0 0 0 0 0 0 0 0 0 1 0 0 0 0 0 0 0 0 0 0 0 1 0 0 0 0 0 0 0 0 0 0 0 0 0 1 0 0 0 0 0 0 0 0 1 0 0 0 0 1 0 0 0 0 0 0 0 0 0 0 0 0 0 0 1 0 0 0 0 0 1 0 0 1 0 0 0 0 0 0 0 0 1 0 0 0 0 0 0 0 1 0 0 0 0 0 0 0 1 0 0 0 0 0 0 0 0 0 0 0 0 0 0 1 1 0 0 0 0 0 0 0 0 0 0 0 0 1 0 0 0 0 0 0 0 0 0 0 0 0 0 1 1 1 0 0 0 0 0 0 0 0 1 1 0 0 0 1 0 1 0 0 0 1 0 0 0 1 0 0 0 0 0 0 0 0 0 0 0 0 0 0 0 0 0 0 0 0 0 0 0 0 0 0 0 0 0 1 0 0 0 0 0 0 0 0 0 0 0 0 0 0 0 0 0 0 0 0 0 0 0 0 0 0 0 0 0 0 1 0 0 1 0 0 1 0 0 1 0 0 0 0 1 0 0 0 0 0 0 0 0 0 0 0 0 0 0 0 0 0 0 0 0 1 0 0 0 0 1 0 1 1 0 0 0 0 0 0 0 0 0 0 1 0 0 0 0 0 0 0 0 0 0 0 0 0 0 0 0 0 1 0 0 0 0 0 0 0 0 0 0 0 0 0 0 1 0 0 0 0 0 0 1 0 0 0 0 0 0 0 0 0 0 0 0 0 0 0 0 0 0 0 0 0 0 0 1 1 0 0 0 0 0 0 0 0 0 0 0 0 0 0 0 1 0 1 0 0 0 0 0 0 0 0 0 0 0 0 0 0 0 0 0 0 0 0 1 0 0 0 0 0 0 0 0 0 0 0 0 0 0 1 0 0 0 0 0 0 0 0 0 0 0 0 0 0 0 0 0 0 0 1 0 0 0 0 1 0 0 0 0 0 1 0 0 0 0 0 0 0 1 0 0 0 0 1 1 1 0 0 0 0 0 0 0 0 0 0 0 0 0 0 0 0 0 0 0 0 0 0 0 0 0 0 0 0 0 0 1 1 0 1 0 1 0 0 0 0 0 0 0 0 0 1 0 0 0 0 0 0 0 0 0 0 0 0 0 0 0 0 0 0 1 0 0 0 0 0 0 0 0 0 0 0 0 0 0 0 0 0 0 0 0 0 1 0 0 0 0 0 0 0 0 0 0 0 0 1 0 0 0 0 0 0 0 0 0 0 0 0 0 0 1 0 0 0 0 0 0 0 0 0 0 0 0 0 0 0 0 0 0 0 1 0 0 0 0 0 0 0 0 1 0 0 0 0 0 0 0 0 0 0 0 0 0 1 0 0 0 0 1 1 0 0 0 0 0 0 0 0 0 0 0 0 0 0 1 0 0 0 0 1 0 0 0 0 1 1 0 0 1 0 0 0 1 0 0 0 0 1 0 0 0 0 0 0 0 0 0 0 0 0 0 1 0 0 0 0 0 0 0 0 0 0 0 0 0 0 0 1 1 0 0 0 0 0 0 0 0 1 0 0 0 0 0 0 0 0 0 0 1 0 0 0 0 1 0 0 0 0 0 0 0 1 1 0 0 1 0 0 0 0 0 1 1 0 0 0 0 0 1 0 0 0 0 0 0 0 0 0 0 0 0 0 0 1 0 0 0 0 0 0 0 0 0 0 0 0 0 0 0 0 0 0 1 0 0 0 0 0 0 0 0 0 0 0 0 0 0 0 0 1 0 0 0 0 0 0 1 0 0 0 0 0 0 0 0 0 0 0 1 0 0 0 0 1 0 0 0 0 0 0 0 0 1 0 0 0 0 0 0 0 0 0 1 1 0 0 0 0 0 0 0 0 0 0 0 0 1 0 0 0 0 0 0 0 0 0 0 0 1 1 0 0 0 0 0 0 0 0 1 0 0 0 0 0 0 0 0 0 0 1 1 0 1 0 1 1 0 0 0 0 0 0 0 0 0 0 0 0 0 0 0 0 0 0 0 0 0 1 0 0 0 0 1 0 0 0 0 0 0 0 0 0 0 0 0 0 0 0 0 0 0 0 0 0 1 0 1 0 1 0 0 0 0 0 0 0 0 0 0 0 0 0 1 0 0 0 0 0 0 0 0 0 0 0 0 0 1 1 0 0 0 0 0 0 0 0 0 1 0 0 0 0 0 0 0 0 1 0 0 0 0 0 0 1 0 0 0 0 0 0 0 0 0 0 0 0 1 0 0 0 0 0 0 0 0 0 0 0 0 0 0 0 0 1 0 0 0 0 0 0 0 0 0 0 0 0 0 0 0 1 0 0 1 0 0 0 0 0 0 1 0 0 0 0 0 0 0 0 0 0 0 1 0 0 0 0 0 0 0 0 0 1 0 0 0 1 0 0 1 0 0 1 0 0 0 0 0 0 0 0 0 0 0 0 1 0 0 0 0 0 1 0 0 0 0 1 1 1 1 0 0 0 0 1 0 0 1 0 0 0 0 0 0 0 0 0 0 0 0 1 0 0 0 0 0 0 0 0 0 0 0 0 0 0 0 0 0 0 0 0 1 0 0 0 0 0 0 1 0 0 1 0 0 0 0 0 0 0 0 0 0 0 1 0 0 0 0 0 0 0 0 0 1 0 1 1 0 0 0 0 0 0 0 0 1 0 0 0 0 0 0 0 0 0 0 0 1 0 1 0 0 0 0 0 0 0 1 1 0 0 0 1 0 0 0 0 1 0 1 0 0 0 0 1 0 0 1 0 0 0 0 0 0 0 1 0 0 0 0 0 0 0 0 0 0 0 0 0 0 0 0 1 0 0 0 1 0 0 0 0 0 0 0 0 0 0 0 0 1 0 0 0 0 0 0 0 0 0 0 0 0 0 1 0 0 0 0 0 1 0 0 1 0 0 0 1 0 0 0 0 0 0 0 0 1 0 0 0 0 0 0 0 1 0 0 0 1 0 1 0 0 0 0 0 1 0 0 0 0 0 0 0 0 0 0 0 0 0 0 0 0 0 1 0 0 0 0 0 0 0 0 0 0 0 0 0 0 0 0 0 0 0 0 0 0 0 0 0 1 0 0 0 0 0 0 0 0 0 0 0 0 0 0 1 0 0 0 1 0 0 0 0 0 0 0 0 0 0 1 0 0 0 0 0 0 0 0 0 0 0 0 0 0 0 0 1 0 0 0 0 1 0 0 0 0 0 0 0 0 1 1 1 0 0 0 1 0 0 0 0 0 0 0 0 0 0 0 0 0 0 0 0 0 0 0 0 0 0 0 0 0 0 0 1 0 0 0 1 0 1 0 0 0 0 1 0 0 0 0 0 0 0 0 0 0 0 0 0 1 0 0 0 0 0 0 0 0 0 0 0 0 0 0 0 0 0 0 1 0 0 0 0 1 1 0 0 0 0 0 1 1 0 0 0 0 0 0 0 0 0 0 0 0 1 0 0 0 0 0 1 0 1 0 0 0 0 0 0 0 0 0 0 0 1 0 0 1 1 0 0 0 0 0 0 0 0 0 0 0 0 0 0 0 0 0 0 0 0 0 0 0 0 0 0 0 0 0 1 0 0 0 0 0 0 0 0 1 0 0 0 0 0 0 0 0 0 0 0 0 0 0 0 0 0 0 0 0 0 0 0 0 0 1 0 0 0 1 0 0 0 0 0 0 0 0 1 0 0 0 0 0 0 0 0 0 0 0 0 0 0 1 0 0 0 0 0 0 1 0 0 0 0 0 0 0 0 0 0 1 0 0 0 0 0 0 0 0 0 0 0 0 0 0 0 0 0 0 1 0 0 1 1 0 0 1 0 0 0 1 0 0 0 0 1 0 0 0 0 0 0 0 1 0 0 0 0 0 0 1 0 0 0 0 0 0 1 0 0 0 0 0 0 0 0 0 0 0 0 0 0 0 0 0 0 0 0 0 1 0 0 0 0 0 0 0 0 0 0 0 0 0 1 0 0 0 0 0 0 0 0 0 0 0 0 0 0 0 0 0 0 0 0 0 0 0 0 0 0 0 0 0 0 0 1 1 0 0 0 0 0 1 0 0 0 0 0 0 1 0 0 0 0 0 0 0 0 0 0 0 0 0 0 0 0 1 0 0 0 0 0 0 0 0 0 0 0 0 0 0 0 0 0 0 0 0 1 0 0 1 0 0 0 0 0 0 0 0 0 0 0 0 1 0 0 0 0 0 0 0 0 0 1 0 0 0 0 0 1 0 1 0 0 0 0 1 0 0 0 0 0 1 0 0 0 1 0 1 0 1 0 0 0 0 0 0 0 0 0 1 0 0 0 0 0 0 1 0 0 0 0 0 1 0 1 0 0 0 0 0 0 0 0 0 0 0 0 0 0 0 0 0 0 0 0 0 0 1 0 0 0 1 1 0 0 0 1 0 0 0 0 0 0 0 0 0 0 0 0 1 0 0 0 0 0 0 0 0 0 0 0 1 0 0 1 0 0 0 0 0 0 0 0 0 0 1 0 0 0 0 0 0 0 0 0 0 0 0 1 0 0 1 0 0 1 0 0 0 0 0 0 0 0 0 0 0 0 0 0 0 0 0 0 0 0 0 0 0 0 0 0 0 0 0 0 0 0 0 0 0 0 0 0 0 0 0 0 0 0 1 0 0 0 0 0 0 0 1 0 0 1 0 0 0 0 1 0 1 0 0 0 0 0 0 0 0 1 0 1 0 0 0 0 0 0 0 0 1 0 0 1 0 0 0 0 0 0 0 0 0 0 0 0 1 0 0 0 0 0 0 0 0 1 0 0 0 0 0 0 0 0 0 0 0 0 0 0 0 0 0 0 1 0 0 0 1 0 0 0 0 0 0 0 0 0 0 0 0 0 0 1 1 0 0 0 1 0 0 0 0 0 0 1 0 0 0 0 0 0 0 0 0 0 0 0 0 0 0 0 0 1 1 0 0 0 0 0 0 0 0 0 0 1 0 0 0 0 0 0 1 0 0 0 0 0 0 0 0 0 0 0 0 0 0 0 0 0 0 0 0 0 0 0 0 0 0 0 0 0 0 0 0 1 0 0 0 0 0 0 0 0 0 1 0 0 0 0 0 0 0 0 0 0 0 0 0 0 1 0 0 0 0 0 0 0 0 0 0 0 0 0 0 0 0 0 0 0 0 0 0 0 0 0 0 0 0 0 0 0 0 0 0 0 1 0 1 1 0 0 1 0 0 0 0 0 0 0 0 0 0 0 0 0 0 0 0 0 0 0 0 0 0 1 0 0 0 0 0 0 0 0 0 0 0 0 0 0 0 0 0 0 1 1 0 0 0 1 1 0 0 0 1 0 0 0 0 0 0 0 0 0 0 0 0 0 0 0 0 0 0 0 0 1 0 0 0 1 0 1 0 1 0 0 0 0 0 0 0 0 0 0 0 1 0 0 0 0 0 0 0 0 0 0 0 0 0 0 0 0 0 0 1 0 0 0 0 0 0 0 0 1 0 0 0 0 0 0 0 0 0 0 0 1 0 0 0 0 0 0 0 0 0 0 0 0 0 0 0 0 0 0 0 0 0 0 1 0 0 0 0 0 0 0 1 0 0 0 0 1 0 0 0 0 0 0 0 0 0 0 0 0 0 0 0 0 1 0 0 0 0 0 0 0 0 0 0 0 0 0 0 0 0 0 0 1 0 0 0 0 1 0 0 1 1 0 0 0 0 0 0 0 0 1 0 1 0 0 0 1 0 0 0 0 0 0 0 0 0 0 0 0 1 0 0 0 0 0 0 0 0 0 0 0 0 1 1 0 0 1 0 0 0 0 0 0 0 0 0 0 0 0 1 0 0 1 0 0 0 0 0 0 0 0 0 0 0 0 0 1 0 1 0 0 0 1 0 0 1 0 0 0 0 0 0 0 0 0 0 0 0 0 0 0 0 0 0 0 1 0 1 0 0 0 0 0 0 0 0 0 0 0 0 0 0 1 0 0 0 0 1 0 0 0 0 0 0 0 0 0 0 0 0 0 0 0 1 0 1 1 0 0 0 0 0 0 1 0 0 0 0 0 0 0 0 0 0 0 0 0 0 0 0 1 0 0 0 0 0 0 0 0 0 0 0 0 0 0 0 0 0 1 0 0 0 0 0 0 0 0 1 0 0 0 0 1 0 0 0 0 0 0 0 0 0 0 0 0 0 0 1 1 0 0 0 0 0 0 0 0 0 0 0 0 0 1 0 1 0 0 0 0 0 0 0 1 0 0 0 0 0 0 0 0 0 0 0 0 0 0 0 0 0 0 0 0 0 0 0 0 0 0 0 0 0 0 0 0 0 0 0 0 1 0 0 0 0 0 0 0 0 0 0 0 1 0 0 0 1 0 0 0 0 0 0 0 0 0 0 0 0 0 0 0 0 1 0 0 0 1 0 0 0 0 0 0 0 0 0 0 0 0 0 1 0 0 0 0 0 0 0 0 0 0 0 0 0 0 0 0 0 0 0 0 0 0 0 0 0 0 0 0 0 0 0 0 0 0 0 0 0 0 0 0 1 0 0 0 1 1 0 0 0 0 0 0 0 0 1 0 1 0 0 0 0 0 0 0 0 0 0 0 1 0 0 0 1 1 0 0 0 0 0 0 0 0 0 0 0 1 0 0 0 0 0 0 0 0 0 1 1 0 0 0 1 0 0 0 0 0 0 0 0 0 0 0 1 0 0 0 0 1 0 0 0 0 0 1 0 0 0 0 0 0 0 0 0 0 0 0 0 0 0 0 0 0 0 0 0 0 0 0 0 0 0 0 0 0 0 0 0 0 0 0 0 0 0 0 0 0 1 0 0 0 1 0 0 1 0 0 0 0 0 0 0 0 0 0 0 0 1 0 0 0 0 0 0 0 0 0 0 0 0 0 0 0 0 0 0 0 0 0 0 0 0 1 0 0 0 1 0 0 0 0 0 0 0 0 0 0 0 0 0 0 0 0 0 0 0 0 1 0 0 0 0 0 0 0 0 1 0 0 0 0 0 0 0 0 0 0 0 0 0 0 0 0 0 0 0 0 0 0 0 1 0 0 0 0 0 0 0 0 0 0 0 0 1 0 0 0 1 0 0 0 0 0 0 0 0 0 1 0 0 0 1 1 0 1 0 0 0 0 0 0 0 0 0 0 0 1 0 0 0 0 0 0 0 0 0 1 0 0 0 0 0 0 1 0 1 0 0 0 0 0 0 0 0 0 0 0 1 1 0 0 0 0 0 1 0 0 0 0 0 0 0 0 0 0 0 0 0 0 1 0 0 0 0 0 0 0 0 0 0 0 0 0 0 0 0 0 0 0 0 0 0 0 0 0 0 1 0 0 0 1 0 0 0 0 1 0 0 0 0 0 0 0 0 0 0 0 0 0 1 0 0 0 0 0 0 0 0 0 0 0 0 0 0 1 0 0 0 0 0 0 0 0 0 0 0 0 0 0 0 0 0 0 1 0 1 0 0 0 0 0 0 0 0 0 0 0 0 0 0 0 0 0 0 0 1 0 0 0 0 0 0 0 0 0 0 0 0 0 0 0 0 0 0 0 0 0 0 0 0 0 0 0 0 0 0 0 1 0 0 0 0 0 0 0 0 0 0 0 0 1 0 0 0 0 0 0 0 0 0 0 0 1 1 0 0 0 0 0 0 0 0 0 1 0 0 1 0 0 0 0 0 0 0 0 1 0 0 0 0 0 0 0 0 0 0 0 1 1 1 0 0 0 0 0 0 0 0 0 0 0 0 0 0 0 0 0 0 0 0 0 0 0 0 0 0 0 1 0 0 0 0 0 0 1 1 0 0 0 0 0 0 0 0 0 0 0 0 0 0 0 0 0 0 0 0 0 0 0 0 0 0 0 0 0 0 0 0 0 0 0 0 0 0 0 0 0 0 0 0 0 0 0 0 1 0 0 0 0 0 0 0 0 1 0 0 1 0 0 0 0 1 0 1 0 0 0 0 0 0 0 1 1 0 1 1 0 0 0 0 1 0 0 0 0 0 0 0 1 0 0 0 0 0 0 0 0 0 0 0 0 1 0 0 0 0 0 0 0 0 0 0 0 0 0 0 0 0 0 0 1 0 0 0 0 1 0 0 0 0 0 0 0 0 0 0 0 0 1 0 0 0 0 0 0 0 0 0 0 0 0 0 1 0 0 0 0 0 0 0 0 0 0 0 0 0 0 0 0 0 0 0 0 0 0 0 0 0 0 0 1 1 0 1 0 0 0 0 0 0 0 0 0 0 0 0 0 0 0 0 0 0 0 0 0 0 0 0 0 0 0 0 0 0 0 0 0 0 0 0 0 1 0 0 0 0 0 0 1 0 0 1 0 0 0 0 0 0 0 0 0 0 0 0 0 0 0 0 0 0 0 0 0 0 1 0 0 0 0 0 0 0 0 0 0 0 0 0 0 0 0 0 0 0 0 0 0 0 0 0 0 0 0 0 0 0 0 0 0 0 0 1 0 0 0 0 0 0 0 0 0 0 0 0 1 0 0 0 0 0 0 0 0 0 0 0 0 0 0 0 0 0 0 0 0 0 0 1 0 0 0 0 0 0 0 0 0 0 0 0 1 0 0 0 0 1 0 0 0 0 0 0 0 0 0 0 0 0 0 0 0 0 0 0 0 0 0 0 0 0 0 0 0 0 0 0 1 0 0 0 1 0 0 0 0 0 0 0 0 0 0 0 0 0 0 0 0 0 0 0 0 0 0 1 0 0 0 0 0 0 1 0 0 0 0 0 0 1 0 0 0 0 0 0 0 0 0 0 0 0 0 0 0 0 0 0 1 0 0 0 0 1 0 1 1 0 1 0 1 0 0 0 0 0 0 0 0 0 0 0 0 1 0 0 0 0 0 0 0 0 0 0 0 0 0 0 0 0 0 1 0 0 0 1 0 0 0 0 0 0 0 0 0 0 0 0 0 0 0 0 1 0 0 0 0 0 0 0 0 0 1 0 0 1 0 0 0 0 0 0 0 0 0 0 0 0 0 1 0 0 0 0 0 0 0 0 0 0 0 0 1 0 0 1 0 0 0 0 0 0 0 0 0 0 0 0 0 0 0 0 0 0 0 0 0 0 0 0 0 0 0 0 0 0 0 0 0 0 0 0 0 1 0 0 0 0 0 0 0 0 0 0 0 0 0 0 0 0 0 0 0 0 0 0 0 0 0 0 0 0 0 0 0 0 1 0 1 0 0 1 0 1 0 1 0 0 1 0 0 1 0 0 0 0 0 0 0 0 0 0 0 0 0 0 0 0 0 0 0 1 0 0 0 0 0 0 0 0 0 1 0 0 0 0 0 0 0 0 0 0 0 0 1 1 0 0 0 0 0 1 0 0 1 0 0 0 0 0 1 0 0 0 1 0 0 0 0 0 1 0 0 0 0 0 0 0 0 0 0 0 0 0 0 0 0 0 0 0 0 0 0 0 0 0 0 1 1 0 0 0 0 0 0 0 0 0 0 0 0 1 0 0 0 1 0 0 0 0 0 1 0 0 0 0 0 0 1 0 0 1 1 0 0 0 1 0 0 0 0 0 0 0 1 0 0 0 0 0 0 0 0 0 0 0 0 0 0 0 0 0 0 0 0 0 0 1 0 0 0 0 0 0 0 0 0 0 0 0 0 0 1 0 0 0 0 0 0 0 0 0 0 0 1 0 0 0 0 0 0 0 0 0 0"
     ]
    },
    {
     "name": "stdout",
     "output_type": "stream",
     "text": [
      " 0 0 1 0 0 0 0 0 0 0 0 0 0 0 0 0 0 1 0 0 0 0 0 0 0 0 0 0 1 0 0 0 0 0 0 0 1 0 1 0 0 0 0 0 0 0 0 0 0 0 1 0 0 1 0 0 0 0 0 0 0 0 0 0 0 0 0 0 0 0 0 0 0 0 0 0 0 0 0 0 0 0 0 1 0 1 0 0 0 0 0 0 0 0 0 0 0 1 0 0 0 1 0 0 0 0 0 0 1 0 0 0 0 0 0 0 0 0 0 0 0 0 0 0 1 0 0 0 1 0 0 0 0 0 0 0 0 0 0 0 0 0 0 0 0 0 0 0 0 0 0 0 0 0 0 0 0 0 0 0 0 0 0 0 0 0 0 0 0 0 0 0 0 1 0 1 0 0 0 0 0 0 0 0 0 1 0 0 0 0 0 0 0 0 0 0 0 0 0 0 0 0 0 1 0 0 0 0 0 0 0 0 0 0 0 0 0 0 0 0 0 0 0 0 0 0 1 0 0 0 0 0 0 0 0 0 0 0 0 1 0 0 0 0 0 0 0 0 0 0 0 0 0 1 0 0 0 0 0 0 0 0 0 0 1 0 0 1 0 0 1 0 0 0 0 0 0 0 0 1 0 0 0 0 0 0 0 0 1 0 0 0 0 1 1 0 0 0 0 0 0 0 0 0 0 0 1 0 0 0 0 0 0 0 0 0 0 1 0 0 1 0 0 0 0 0 0 1 0 0 0 0 0 0 0 0 0 0 0 0 0 0 0 0 0 0 0 0 0 1 0 0 0 0 0 0 0 0 0 0 0 0 0 0 0 0 1 1 0 0 0 0 0 0 0 0 0 0 0 0 0 0 0 0 0 0 0 0 0 0 0 0 0 0 1 0 0 0 0 0 1 0 0 0 0 0 0 0 0 0 0 0 0 0 0 0 0 0 0 0 0 0 0 0 0 0 0 0 0 0 0 0 0 1 1 0 0 0 0 0 0 1 0 0 0 0 0 0 0 1 0 0 0 0 1 0 0 0 0 0 0 0 0 0 0 1 0 0 0 1 0 0 1 0 0 0 0 1 0 0 0 0 1 0 0 0 0 0 0 0 1 0 0 0 0 0 0 0 0 0 0 0 0 0 0 0 1 0 0 0 0 0 0 0 0 0 0 0 0 0 1 0 0 0 0 0 0 0 0 1 0 0 0 0 0 0 0 0 0 1 0 0 0 0 0 1 0 0 0 0 0 0 0 1 1 0 1 0 0 0 1 1 0 0 0 0 0 0 0 0 1 0 0 0 1 0 0 0 0 0 0 0 0 0 0 0 0 0 1 0 0 0 0 0 0 0 0 0 0 0 0 0 0 0 0 0 0 1 0 0 0 0 0 0 0 0 0 0 1 1 0 0 0 0 0 0 1 1 0 0 0 1 0 0 0 0 0 0 0 0 0 0 0 0 0 0 0 0 0 0 0 0 1 0 0 0 1 0 0 1 0 0 0 1 0 0 0 0 0 0 0 0 0 0 0 0 0 0 0 0 0 0 1 0 0 0 0 0 0 0 0 0 0 0 0 0 0 0 0 0 0 0 1 0 1 1 0 0 0 0 0 0 0 0 0 0 0 0 0 0 0 0 0 0 0 0 1 0 0 0 0 0 0 0 0 0 0 0 0 1 0 0 0 1 1 1 0 0 0 0 0 0 0 1 0 0 0 0 1 0 0 0 0 0 0 0 0 0 0 0 0 0 0 0 0 0 0 0 0 1 0 0 0 1 0 0 0 0 0 0 0 0 1 0 0 0 0 0 1 1 0 1 0 0 0 0 0 0 1 1 0 0 0 0 0 0 0 1 0 0 0 0 0 0 0 0 0 0 0 1 0 0 0 0 0 0 1 0 0 0 0 0 0 0 0 0 0 0 1 0 0 0 0 1 0 0 0 0 0 0 0 0 0 0 0 0 1 1 0 0 0 0 0 0 0 0 0 0 0 0 0 0 1 0 0 0 0 0 0 0 1 0 0 0 0 0 0 0 0 0 0 0 0 0 0 0 0 0 0 0 0 0 0 0 0 0 0 0 1 0 0 0 0 0 0 0 1 0 0 0 0 0 0 0 1 1 0 0 0 0 0 0 0 1 0 0 0 0 0 0 0 0 0 0 0 0 0 0 0 0 0 0 0 0 0 0 0 0 0 1 1 0 0 0 0 0 0 0 0 0 0 0 0 0 0 0 0 0 0 0 0 0 0 0 1 1 0 0 0 0 1 0 0 1 0 1 0 0 0 1 0 0 0 0 0 1 0 0 0 0 0 0 0 0 0 0 0 0 0 1 1 0 0 0 0 0 0 1 0 1 0 0 0 0 0 0 0 1 0 1 0 0 0 0 0 0 0 0 0 0 1 0 0 0 0 0 0 0 0 0 0 0 0 0 0 0 0 0 0 0 0 0 1 0 0 0 0 0 1 0 0 0 0 0 0 0 0 0 0 0 0 0 0 0 0 0 0 0 0 0 0 0 0 1 0 0 0 0 0 1 0 1 0 0 0 0 0 0 0 0 0 0 0 0 0 0 0 0 1 0 0 0 0 0 0 0 0 0 0 0 0 0 0 0 0 0 0 0 0 0 0 0 0 0 0 0 1 0 0 0 0 0 0 0 0 0 1 1 0 0 0 0 0 0 0 0 0 1 0 0 0 0 0 0 0 0 0 0 0 1 0 0 0 0 0 1 0 0 1 0 0 1 0 0 0 0 0 0 0 0 0 0 0 0 0 0 0 0 0 0 0 0 0 0 0 0 0 0 0 0 0 0 0 0 0 0 0 0 0 0 0 0 0 0 0 0 0 0 0 0 0 0 0 0 0 0 1 0 0 0 0 0 0 0 0 0 0 0 1 1 0 0 0 0 0 0 0 0 1 0 0 0 0 0 0 0 0 0 0 1 0 0 0 0 0 0 0 0 1 0 0 0 0 0 0 0 0 0 0 0 1 0 0 0 0 0 0 0 0 1 0 1 1 0 0 0 0 0 1 0 0 0 1 0 0 0 0 0 0 0 0 0 0 1 0 0 0 0 0 0 0 0 0 0 0 0 0 0 0 0 0 0 0 0 0 0 0 0 0 0 0 0 0 0 1 0 0 0 0 0 0 1 0 0 0 0 0 0 1 0 0 1 0 0 0 0 0 1 0 0 0 0 0 0 0 0 0 0 0 0 0 0 1 0 0 0 0 0 0 1 0 0 0 0 0 0 0 0 1 0 0 0 0 0 0 0 0 0 0 0 0 0 0 0 0 0 0 0 1 0 0 0 0 0 0 0 0 0 0 0 0 0 0 0 0 0 0 1 0 0 0 0 0 0 0 1 1 1 0 1 0 0 1 0 0 0 0 0 0 0 0 0 0 0 0 0 0 0 0 0 0 0 0 0 0 0 0 0 0 0 0 1 0 0 0 1 0 0 0 0 0 1 0 0 0 0 0 0 0 0 0 0 0 1 0 0 0 0 0 1 0 1 0 0 0 1 1 0 0 0 0 0 0 0 0 0 0 0 0 0 0 0 0 0 0 1 0 1 1 0 0 0 1 0 0 0 0 0 0 0 0 0 0 0 0 0 0 0 0 0 0 0 0 0 0 0 0 0 0 0 0 0 0 0 0 0 0 0 0 0 1 0 0 1 0 0 1 0 0 1 0 0 0 0 0 0 0 0 0 0 0 0 0 0 0 0 0 0 0 0 0 0 0 0 0 0 1 0 0 0 0 0 0 0 0 0 0 0 1 1 0 1 0 0 0 0 0 0 0 0 0 1 0 0 0 0 1 0 0 0 0 0 0 0 0 0 0 0 0 0 0 0 0 0 1 0 0 0 0 0 1 0 0 0 0 0 0 0 0 0 0 1 1 0 0 0 1 0 0 0 0 0 0 0 0 0 0 0 0 0 0 0 0 1 0 0 0 1 0 0 0 0 0 0 0 0 0 0 0 0 0 0 1 0 0 0 0 0 0 0 1 0 1 0 0 0 1 0 0 0 0 0 0 0 0 1 0 0 0 0 0 0 0 0 0 0 0 0 0 0 0 0 0 0 0 0 0 0 0 0 0 0 0 0 0 1 0 0 0 1 0 0 0 0 1 0 0 0 0 0 0 0 1 0 0 1 0 0 0 0 0 0 1 0 0 1 1 0 0 0 0 1 0 0 0 0 0 0 0 0 0 0 0 0 0 0 0 0 0 0 0 0 0 0 0 0 1 0 0 0 1 0 0 0 0 0 0 0 0 0 0 0 0 0 0 0 0 0 0 1 0 1 0 0 0 0 0 0 1 0 0 0 0 0 0 0 1 0 0 1 0 0 1 0 0 0 0 0 0 0 1 0 0 0 0 0 0 0 0 1 0 0 0 0 1 0 0 1 0 0 0 0 0 0 0 0 0 0 0 0 0 1 0 1 0 0 0 1 0 0 1 0 0 0 0 0 0 0 0 0 0 0 0 0 0 0 0 0 0 0 0 0 0 0 0 0 0 0 0 0 1 0 0 1 1 0 0 0 0 1 0 0 1 0 0 1 0 1 0 0 0 0 0 0 0 0 0 0 0 0 0 0 0 0 1 0 1 0 0 0 0 0 0 0 0 0 0 0 1 0 0 0 0 0 0 0 0 0 0 1 0 0 0 0 0 0 0 0 0 0 0 0 0 0 0 0 0 0 0 0 0 0 0 0 0 0 0 0 0 0 0 0 0 0 0 0 0 0 1 0 0 0 0 0 0 0 0 0 0 1 0 0 1 0 0 0 0 0 0 0 0 0 0 0 0 0 0 0 0 0 0 0 0 0 1 1 1 0 0 0 0 0 0 0 0 0 0 0 0 0 0 0 0 0 0 0 0 0 0 0 0 0 0 0 0 0 0 0 0 0 0 0 0 0 0 1 0 0 0 0 0 0 1 0 0 0 0 0 0 0 0 0 0 0 0 0 0 0 0 0 0 0 1 0 1 0 0 0 0 0 1 0 0 0 0 0 0 0 0 0 0 0 0 0 0 0 0 0 0 0 1 0 0 0 0 0 0 0 0 0 0 0 0 0 0 0 0 0 0 1 0 0 0 0 0 0 0 0 0 0 0 0 0 0 0 0 0 0 0 0 0 0 0 0 0 0 1 0 0 0 0 0 0 1 0 0 1 1 0 0 1 1 0 1 0 0 0 0 0 0 1 0 0 0 0 0 0 0 0 0 0 0 0 0 0 0 0 0 1 0 0 0 0 0 0 0 0 0 0 0 0 1 0 0 0 0 0 0 0 0 0 0 0 0 0 0 0 0 1 0 0 0 0 0 0 0 0 0 0 0 0 1 0 0 1 0 0 0 1 0 0 1 0 0 0 0 0 0 1 0 0 0 0 1 0 0 1 0 0 0 0 0 0 1 0 0 0 0 0 0 0 0 0 1 0 0 0 0 0 0 0 0 0 0 0 0 0 0 0 0 0 1 0 0 0 0 0 0 0 1 0 0 0 0 0 0 0 0 0 0 0 0 0 0 0 0 0 1 0 0 0 1 1 0 1 0 0 0 0 1 0 1 0 0 1 0 0 0 0 0 0 0 0 1 0 0 1 0 0 0 0 1 0 0 0 0 1 0 0 0 0 0 0 0 0 0 0 0 0 0 0 0 0 0 0 0 0 0 0 0 0 1 0 0 0 0 0 0 0 0 0 0 0 0 0 0 1 0 0 0 0 0 0 0 1 0 1 1 0 0 0 0 0 0 0 0 0 0 0 0 0 0 0 0 0 0 0 0 0 0 0 0 0 0 1 1 0 0 0 0 0 1 0 0 0 0 0 0 1 0 0 0 0 0 0 0 1 0 0 0 0 0 0 0 0 1 0 0 0 0 0 0 0 0 0 0 0 0 0 0 0 1 0 0 0 0 0 0 0 0 0 1 0 0 0 0 1 0 0 0 0 0 0 0 0 0 0 0 0 1 0 0 0 0 0 0 0 0 0 0 0 0 0 1 0 0 0 0 0 0 0 0 0 0 0 0 0 0 0 0 0 0 0 0 0 0 0 0 0 0 0 0 0 0 0 0 0 0 0 1 1 0 0 0 0 0 0 0 0 0 0 0 0 0 0 0 0 1 0 0 0 0 0 0 1 0 1 0 0 0 0 0 1 0 0 0 0 0 0 0 0 0 0 0 0 0 0 0 0 0 0 0 0 0 0 0 0 0 0 1 0 0 0 0 0 0 0 0 0 0 0 0 0 0 0 0 0 0 0 1 0 0 0 0 0 0 0 1 0 0 0 0 0 0 0 0 0 1 0 0 0 0 0 1 0 1 0 0 1 0 0 0 0 0 0 0 0 1 0 0 1 1 0 0 1 0 0 0 0 0 0 0 0 0 0 1 0 0 0 0 0 0 0 0 0 0 0 0 0 0 0 0 0 0 0 0 0 1 0 0 0 0 0 0 0 0 0 0 0 0 0 0 0 0 0 0 0 0 1 0 0 0 0 0 0 0 0 0 0 0 0 1 1 0 0 0 0 0 0 0 0 0 0 0 0 0 0 1 0 0 0 0 0 0 0 0 0 0 0 1 0 0 0 0 0 0 0 0 0 0 0 0 0 0 1 0 0 0 0 0 0 0 1 0 0 0 0 0 0 0 0 0 0 0 0 0 0 0 0 0 0 0 0 0 0 0 1 0 0 0 0 0 0 1 0 0 0 0 0 0 0 0 0 0 0 0 0 0 1 0 0 0 0 0 1 0 0 0 0 0 1 0 0 0 0 0 0 0 0 0 0 0 0 0 1 0 0 0 0 1 0 0 0 0 0 0 0 1 0 0 0 0 0 0 0 1 1 0 0 1 0 0 0 0 0 0 0 0 0 0 0 0 0 0 0 0 0 0 0 0 0 0 0 0 0 0 0 0 0 1 0 0 0 1 0 0 0 0 0 0 0 0 0 0 0 0 0 0 0 1 0 0 0 0 0 0 1 0 0 0 0 1 0 0 0 0 0 0 0 0 1 0 0 0 0 0 0 1 1 0 0 0 0 0 0 0 0 0 0 0 0 0 0 0 0 0 0 0 0 1 0 0 0 0 0 0 0 0 0 0 0 0 0 0 0 1 0 0 0 1 0 0 0 0 1 0 0 0 0 0 0 0 0 0 0 0 0 1 0 0 0 0 0 0 1 0 0 0 0 1 0 0 0 0 0 0 0 0 0 0 0 0 0 0 0 0 0 0 0 0 0 0 0 0 0 0 0 0 0 0 1 0 0 0 0 0 0 0 0 0 0 0 0 0 0 1 0 1 0 0 0 0 0 0 0 1 0 0 0 0 0 0 0 0 0 0 0 0 1 0 0 0 0 0 0 0 0 0 1 0 0 0 0 0 0 0 0 0 0 0 0 0 0 0 0 0 0 0 0 0 0 0 0 0 1 0 0 0 0 0 0 0 0 0 0 0 0 0 0 0 0 0 0 0 0 0 1 1 0 0 0 0 0 0 0 0 0 0 0 0 0 0 1 1 0 0 0 0 0 0 0 0 0 1 0 0 0 1 0 0 0 1 0 0 1 0 0 0 0 1 0 0 0 0 0 0 0 0 0 0 0 0 0 0 0 0 0 0 0 0 1 0 0 0 0 0 0 0 0 0 0 0 0 0 0 0 0 0 0 0 1 0 0 0 0 0 0 0 0 0 0 0 1 0 0 0 0 1 0 0 0 0 0 0 0 0 0 0 0 0 0 0 0 1 0 0 0 0 0 0 0 0 0 0 0 0 0 0 1 0 0 0 0 0 0 1 0 1 0 0 0 0 0 1 0 0 0 0 0 0 0 0 0 0 1 0 0 0 0 0 0 0 0 1 0 0 0 0 0 0 0 0 0 0 0 0 0 0 0 0 1 0 0 0 0 0 0 1 0 0 0 0 0 0 0 0 0 0 0 0 0 0 0 0 0 0 0 0 0 1 0 0 0 0 0 0 1 0 0 0 0 1 0 1 0 1 0 0 0 0 0 0 0 1 0 0 0 0 0 0 0 0 0 0 0 0 0 0 0 1 0 1 0 1 1 0 0 0 0 0 0 1 0 0 0 0 0 1 0 0 0 0 0 0 0 0 0 0 0 0 0 0 0 0 0 1 0 0 0 1 0 0 0 0 0 0 1 0 0 0 0 0 0 0 0 0 0 0 0 0 1 0 0 1 0 0 0 0 0 0 0 0 0 0 0 0 0 0 0 0 1 0 0 0 0 1 0 1 0 0 0 1 0 1 0 0 0 0 0 0 0 0 0 0 0 1 0 1 0 0 0 0 0 0 0 0 1 1 0 0 0 0 0 1 0 0 0 0 0 0 0 0 0 0 0 0 0 0 0 0 0 0 0 1 0 0 0 0 0 0 0 0 0 0 0 0 0 0 0 0 0 0 0 0 0 0 0 0 0 0 0 0 0 0 0 0 0 0 0 0 0 0 0 0 1 0 0 0 0 0 0 0 0 0 0 0 0 0 0 0 0 0 1 0 1 0 0 0 0 1 0 0 1 0 0 0 0 0 0 0 0 0 0 1 0 0 1 0 0 0 0 0 0 0 0 1 0 0 0 0 0 0 0 0 0 0 0 0 0 0 0 0 0 0 0 0 0 0 0 1 0 0 0 0 0 0 0 0 0 0 0 0 0 1 0 0 0 0 0 0 1 0 0 0 0 0 0 0 0 0 0 0 0 0 0 0 0 0 0 0 0 0 0 0 0 0 0 0 0 0 0 0 0 0 0 0 0 0 0 0 0 0 1 0 0 0 0 0 0 0 0 0 0 0 1 0 1 0 0 0 1 0 0 0 0 0 1 0 0 0 0 0 0 0 0 0 0 0 0 0 0 0 0 0 0 0 1 0 0 0 0 0 0 0 0 0 1 0 0 0 0 0 0 0 0 0 0 0 0 0 0 0 0 0 0 0 0 0 0 0 0 0 0 0 0 0 0 0 0 0 1 0 0 0 0 1 1 0 0 0 0 0 1 0 0 0 0 0 0 0 0 0 0 0 0 0 0 0 0 0 0 0 0 0 0 0 0 0 0 0 0 0 0 0 1 0 1 0 0 1 0 0 0 0 0 0 0 0 0 0 0 0 0 0 0 0 0 0 0 1 0 0 0 0 1 0 0 0 0 0 0 1 0 0 0 0 1 0 0 0 0 0 0 0 0 0 0 0 0 0 0 0 0 0 0 0 0 0 0 0 0 1 0 0 0 1 0 0 0 1 0 0 0 0 0 1 0 0 0 0 0 0 0 0 0 0 0 0 0 0 0 0 0 0 1 0 0 0 0 0 0 0 0 0 0 0 0 0 0 0 0 1 0 0 0 0 0 0 0 0 0 0 0 0 0 1 0 0 0 0 0 0 0 0 0 0 0 1 0 0 1 0 0 0 0 0 0 0 0 0 0 0 0 0 0 0 0 0 1 0 0 0 0 0 0 0 1 0 0 0 0 0 0 0 0 0 1 0 0 1 0 0 0 0 0 0 0 0 0 0 0 1 0 0 0 0 0 0 1 0 0 0 1 0 0 0 0 0 0 0 0 0 0 0 0 0 0 1 0 0 0 0 0 0 0 1 0 1 0 0 0 0 0 1 1 0 0 1 0 0 1 0 0 0 0 0 0 0 0 0 0 0 0 0 1 0 0 0 0 0 0 0 0 0 1 0 0 0 0 0 0 0 0 0 0 0 1 0 0 0 0 0 0 0 1 0 0 1 0 0 0 1 0 0 0 0 0 0 0 0 0 0 0 0 0 0 0 0 0 0 1 0 0 1 0 0 0 1 0 0 0 1 0 0 0 0 0 0 0 0 0 1 0 1 0 0 0 0 0 0 0 0 0 0 0 0 0 0 0 0 0 1 0 0 0 0 0 0 0 1 0 0 0 0 0 0 0 0 0 0 0 0 0 0 0 0 0 0 0 0 0 0 0 0 0 0 0 0 0 0 0 0 0 0 0 0 0 0 0 1 1 0 0 0 0 0 1 0 0 0 0 0 0 0 0 0 0 0 0 0 0 0 0 0 1 0 0 0 0 0 0 0 0 0 0 0 0 0 0 0 0 0 0 0 0 0 0 0 0 0 0 0 0 0 0 1 0 0 0 0 0 1 0 0 0 0 0 0 0 0 0 0 1 0 0 0 0 0 0 0 0 0 0 0 0 0 0 0 0 0 0 0 0 0 0 0 0 0 0 0 0 0 0 0 0 0 1 0 0 0 0 1 0 0 0 0 1 0 0 0 0 0 0 0 0 0 0 0 0 0 1 0 0 0 0 0 0 0 0 1 0 0 1 0 0 0 0 0 0 0 0 0 0 0 0 0 0 0 1 0 0 0 0 0 0 0 0 0 0 0 0 0 0 0 0 1 0 0 0 0 0 0 0 1 0 0 0 1 0 0 0 0 0 0 0 1 0 0 0 0 0 0 0 0 0 0 0 0 0 0 0 0 0 0 0 0 0 0 0 0 0 0 0 1 0 0 0 0 0 0 0 0 0 0 0 0 0 0 0 0 0 0 0 0 0 1 1 0 0 0 0 0 0 0 0 0 0 1 1 0 0 0 0 1 1 0 0 0 0 0 0 0 1 0 1 0 0 0 0 0 0 0 0 0 1 0 1 0 0 0 0 1 0 0 0 0 0 0 0 1 0 1 0 0 0 0 1 1 0 0 0 1 0 0 1 0 0 1 0 0 0 0 0 0 0 0 1 1 0 0 0 0 0 0 0 0 1 0 0 1 0 0 0 0 0 0 0 0 0 0 0 0 0 0 0 0 0 0 0 0 0 0 0 0 0 0 0 0 0 0 0 0 0 0 1 0 0 0 0 1 0 0 0 0 0 0 0 0 0 0 0 0 1 1 0 0 1 1 0 0 0 0 0 0 0 0 0 0 0 0 0 0 0 0 0 0 0 0 0 0 0 1 0 1 0 0 0 0 0 0 0 0 0 0 0 0 1 1 0 0 0 0 1 0 0 0 1 0 0 0 0 0 0 0 0 1 0 0 0 0 0 1 1 0 0 0 0 0 0 0 0 0 0 0 0 0 0 0 0 0 0 0 0 0 0 0 1 1 0 0 0 0 1 0 1 0 0 0 0 0 0 0 0 0 1 0 0 0 0 0 0 0 0 0 0 0 0 0 0 0 0 0 0 0 0 0 0 0 0 0 0 0 1 0 1 0 0 0 0 0 0 0 0 0 0 0 1 0 0 0 1 0 0 0 0 0 0 0 0 0 0 1 0 0 0 0 0 0 0 0 0 0 0 0 0 0 0 0 0 1 0 0 0 0 0 1 0 0 0 0 0 0 0 0 1 0 0 0 1 0 0 0 0 0 1 0 0 0 0 0 0 0 0 0 0 0 0 0 0 0 0 0 0 0 0 0 1 1 0 0 0 0 0 0 0 0 0 0 0 0 0 0 0 0 1 1 0 0 0 0 0 0 0 0 0 1 0 0 0 0 1 0 0 0 0 1 0 0 0 0 0 0 0 1 0 0 0 0 1 1 0 0 0 0 0 0 0 0 0 0 0 0 1 0 0 0 0 0 0 0 0 0 1 0 0 0 1 0 0 0 0 0 0 0 0 0 0 0 0 0 0 0 0 0 1 0 0 0 0 0 0 0 0 0 0 0 0 0 0 0 0 1 0 0 0 0 0 0 0 0 1 1 0 1 0 0 0 0 0 0 0 0 0 0 0 0 0 0 1 0 0 1 0 0 0 0 0 0 0 1 0 0 0 1 0 0 1 0 0 0 0 0 0 0 0 1 0 0 0 0 1 0 0 0 0 0 0 0 0 0 0 0 0 0 0 0 0 1 0 0 0 0 0 0 0 1 0 0 0 0 0 0 0 1 0 0 0 0 0 0 1 1 0 0 0 0 0 0 0 0 0 0 0 0 0 0 0 0 0 1 0 0 0 1 0 0 0 0 0 0 0 0 0 1 0 0 0 0 0 0 0 0 0 0 1 0 0 0 0 1 0 0 0 0 0 0 1 0 0 0 0 1 0 0 1 0 0 0 0 1 0 0 0 0 0 0 0 0 0 0 0 0 0 0 0 0 0 0 0 0 0 0 0 0 0 0 0 0 0 0 0 0 0 0 0 0 0 0 0 0 0 0 0 0 0 0 0 1 0 0 0 0 0 0 0 0 0 0 0 0 0 1 0 0 0 1 0 0 0 0 1 1 0 0 0 0 0 0 0 0 0 0 0 0 0 0 0 0 0 0 0 0 0 0 0 0 0 0 0 0 1 1 0 1 1 1 0 0 1 1 0 0 0 0 0 0 0 0 0 0 0 0 0 0 0 0 0 0 0 0 0 0 0 0 0 0 0 0 0 0 0 0 0 0 0 0 0 0 0 0 0 0 0 0 0 0 0 1 0 0 0 0 0 0 1 0 0 0"
     ]
    },
    {
     "name": "stdout",
     "output_type": "stream",
     "text": [
      " 0 1 0 0 0 0 0 0 0 0 1 0 0 0 0 0 0 1 1 0 1 0 0 0 0 0 0 0 1 0 0 0 0 1 0 0 0 0 0 0 0 0 0 1 1 0 1 0 0 0 1 1 0 0 1 0 0 0 0 0 0 0 0 0 0 0 0 0 0 0 0 0 0 0 0 0 0 0 0 0 0 0 1 0 0 0 0 0 0 0 0 0 0 0 0 0 1 1 0 0 0 0 0 0 0 0 0 1 0 0 1 0 0 0 0 0 0 1 0 0 0 1 1 0 0 0 0 0 1 0 0 0 0 0 0 0 0 0 0 0 0 0 0 0 0 0 0 1 1 0 0 0 0 0 1 0 0 0 0 0 0 0 0 1 0 0 0 1 1 0 0 0 0 0 0 0 0 0 0 0 0 0 0 0 0 0 0 0 0 0 0 0 0 0 0 0 0 0 0 0 0 0 0 0 0 0 0 0 0 0 0 0 0 0 1 0 1 0 1 0 0 0 0 0 0 1 0 0 0 0 0 0 0 0 0 0 0 0 0 0 1 1 0 0 0 0 0 0 1 0 0 0 0 0 0 0 0 1 0 0 0 0 0 0 0 1 0 0 0 0 0 0 0 0 0 0 0 0 0 1 1 0 0 0 0 0 0 0 0 0 0 0 0 0 0 0 0 0 0 1 0 0 0 0 0 1 0 0 0 0 0 0 0 0 0 0 0 0 0 0 0 0 0 0 0 0 0 0 0 0 0 0 0 0 0 1 0 0 0 1 0 0 0 0 0 0 1 0 0 0 0 0 0 0 0 0 0 1 1 0 0 0 1 0 0 0 1 0 0 0 0 1 0 0 0 0 0 0 0 0 0 0 0 0 0 0 1 0 0 0 0 0 1 0 0 0 0 0 0 0 0 1 0 0 0 0 0 0 0 0 0 0 0 0 0 0 0 1 0 0 0 1 0 0 1 0 0 0 0 0 0 0 0 0 1 0 0 0 0 0 0 0 0 0 0 0 0 0 0 0 0 0 1 0 0 0 0 0 0 0 0 0 1 0 1 0 0 0 0 0 0 0 0 1 0 0 0 1 0 0 0 0 0 0 0 0 0 0 0 0 0 0 0 0 0 0 0 0 1 0 0 0 1 0 0 1 0 0 0 0 0 0 0 1 0 0 1 0 0 0 0 0 0 0 0 0 0 0 0 0 0 0 0 0 0 0 0 1 0 0 0 0 0 0 1 1 0 0 0 0 0 0 0 0 0 0 0 0 0 0 0 0 0 0 0 0 0 0 0 0 0 0 0 0 0 0 0 0 0 0 0 1 0 0 0 0 0 0 0 0 0 0 0 0 0 0 0 0 1 0 1 0 0 0 0 0 0 0 0 1 1 0 1 0 0 0 0 1 0 0 0 0 0 0 0 0 0 0 0 0 0 0 0 0 0 0 0 0 0 0 0 0 0 0 0 0 0 0 0 0 0 1 0 0 0 0 0 1 0 0 1 0 0 0 0 0 0 1 0 0 0 0 0 0 0 0 0 0 0 0 0 0 1 0 0 0 0 0 0 0 0 0 0 0 0 0 0 0 0 0 0 0 0 0 0 0 0 0 0 0 0 0 0 0 1 0 0 0 0 0 0 0 0 0 0 1 0 0 0 1 0 0 0 0 0 1 1 0 0 0 0 0 0 0 0 0 0 0 0 0 0 0 0 0 0 0 0 1 0 0 0 0 0 0 0 0 0 1 0 0 0 0 0 0 0 0 0 0 0 0 0 0 0 0 0 0 0 0 0 0 0 0 1 0 0 0 0 0 0 0 0 0 0 0 0 0 0 0 0 0 0 0 0 0 0 1 0 0 0 1 0 0 0 0 0 1 0 0 0 0 1 1 0 0 0 0 0 0 0 0 0 0 1 0 0 0 1 0 0 0 0 0 0 1 0 0 0 0 0 0 0 0 1 1 0 0 0 0 0 1 0 0 0 0 0 0 0 0 0 1 0 0 1 1 0 0 0 0 0 0 0 0 0 0 0 0 0 0 0 0 0 1 0 0 0 0 0 0 0 0 0 0 0 0 1 0 0 0 0 0 0 0 0 1 0 0 0 0 0 0 0 0 0 0 0 0 0 1 0 0 0 0 0 0 1 0 0 0 0 0 0 1 0 0 0 0 0 0 1 0 0 0 0 0 0 0 0 0 0 0 0 1 0 1 0 0 1 0 0 0 0 0 0 0 0 0 0 0 0 0 0 0 1 0 0 0 1 0 0 0 0 0 1 0 0 0 0 0 1 0 0 0 1 0 0 0 0 0 0 0 0 0 0 0 0 0 0 0 0 1 0 0 1 0 0 0 1 0 0 0 0 0 0 0 0 0 0 0 0 0 0 0 0 0 0 0 0 0 0 0 0 0 0 0 0 0 1 0 0 0 0 0 0 0 0 0 0 0 0 0 0 0 0 1 0 0 0 0 0 0 0 0 0 0 1 1 0 0 0 0 0 0 0 0 1 1 1 0 0 0 0 0 0 1 0 0 0 0 0 0 0 0 1 0 0 1 0 0 1 0 0 0 1 0 0 0 0 0 0 0 0 0 0 0 0 0 0 0 0 0 0 0 0 0 0 0 0 1 0 0 0 0 0 0 0 0 0 0 0 0 0 0 0 0 1 0 0 0 0 0 0 0 0 0 0 0 0 0 0 0 0 0 1 0 0 0 0 0 0 0 0 0 0 0 0 0 0 0 0 0 0 0 0 0 0 0 0 0 0 0 0 0 0 0 0 0 0 1 0 0 0 0 0 0 0 0 0 0 0 0 0 0 0 0 0 0 0 0 0 0 1 0 0 0 0 0 0 0 0 0 0 0 0 0 0 0 0 0 0 0 0 0 0 0 0 1 0 0 0 0 0 0 1 0 0 0 0 0 0 0 0 0 0 0 1 0 0 0 0 0 0 0 0 0 0 0 0 0 0 0 0 0 0 0 0 0 0 1 0 0 0 1 0 0 0 0 0 0 0 0 0 0 0 0 0 0 0 0 0 0 0 0 0 0 0 0 0 0 1 0 0 0 0 0 0 0 0 0 0 0 0 0 1 0 0 0 0 0 1 0 0 0 0 0 1 0 0 0 0 0 0 0 1 0 0 0 0 0 0 0 0 0 0 0 0 0 0 0 0 0 0 0 0 0 0 0 0 0 0 0 0 0 0 0 0 0 0 0 0 0 0 1 0 0 0 0 0 1 0 0 0 0 0 0 0 0 1 0 0 0 0 0 0 0 0 1 0 0 0 0 0 0 0 0 0 0 0 0 0 0 0 0 0 1 0 0 0 0 0 1 0 0 0 0 0 0 0 0 0 0 0 0 0 0 0 0 1 0 0 0 0 0 1 0 0 0 0 0 0 0 0 0 0 0 0 0 0 0 0 0 0 0 0 0 0 0 0 0 0 0 0 1 0 0 0 0 0 0 0 0 1 0 0 0 0 0 0 0 0 0 0 0 0 0 0 0 0 0 0 1 0 0 0 0 0 0 0 0 1 0 0 0 0 0 0 0 0 0 0 0 0 0 0 0 0 0 0 0 0 0 0 0 0 0 0 0 0 1 0 0 0 0 0 0 0 0 0 0 0 0 0 1 1 0 0 0 0 0 0 0 0 0 0 0 1 0 0 0 0 0 0 0 0 0 0 0 0 0 0 0 0 0 0 1 0 0 0 0 0 0 0 0 0 0 0 1 0 0 1 1 0 1 0 0 0 0 1 0 0 0 0 0 0 0 0 0 0 0 0 0 0 1 0 0 0 0 0 0 1 0 1 0 1 0 0 0 0 0 1 0 0 0 0 0 0 0 0 0 0 0 0 0 0 0 0 0 0 0 0 0 1 0 0 1 0 0 0 0 0 0 0 0 0 0 0 0 0 0 0 0 0 0 0 0 0 0 0 0 0 0 0 1 0 0 0 0 0 0 0 0 0 0 0 0 0 0 0 0 0 0 0 0 0 0 0 0 0 0 0 0 0 0 0 0 0 0 0 0 0 1 0 0 0 0 0 0 0 0 0 0 0 0 0 1 0 0 0 0 0 0 0 0 0 1 0 1 1 1 0 0 0 0 1 0 0 0 0 0 0 1 0 0 0 0 0 0 0 0 0 0 1 0 0 0 0 0 0 0 0 0 1 1 0 0 0 0 0 0 0 0 0 0 0 0 0 0 1 0 0 0 0 0 0 0 0 0 0 0 0 0 0 1 0 0 1 0 0 0 0 0 0 0 0 0 0 0 0 0 0 1 0 0 0 1 0 1 0 0 0 0 1 0 0 0 0 1 0 1 0 0 0 0 0 1 1 0 0 0 0 0 0 0 1 0 0 0 0 0 0 0 0 0 0 1 0 0 0 1 0 0 1 0 0 0 0 1 0 0 0 0 1 0 1 0 0 0 1 0 0 0 0 0 0 0 0 0 0 0 0 0 0 0 0 0 0 0 0 1 1 0 0 0 0 1 0 0 1 0 0 0 0 0 0 0 1 0 0 0 0 0 0 0 0 0 0 0 0 0 0 0 0 0 0 0 1 0 0 0 0 0 0 0 0 0 0 1 0 0 1 0 1 0 0 0 0 0 0 0 0 1 0 0 0 0 0 0 0 1 0 0 0 0 0 0 0 0 0 0 0 0 0 1 1 0 0 1 0 0 0 0 0 0 0 1 0 0 0 0 0 0 0 0 0 0 0 0 0 1 0 0 0 0 0 0 0 1 0 0 0 0 0 0 0 0 0 0 0 0 0 0 1 0 0 0 0 0 1 0 0 0 0 0 0 0 0 0 0 1 0 0 0 0 0 1 0 0 0 0 0 0 0 1 0 0 0 0 0 0 0 0 0 0 0 0 0 0 0 0 1 0 0 0 0 1 0 0 0 0 0 1 0 0 0 0 0 0 0 0 0 0 1 0 0 0 0 0 0 0 1 0 1 0 0 0 1 1 0 0 1 0 0 0 1 0 0 0 1 0 0 0 0 0 1 0 1 0 0 0 0 0 0 0 0 0 0 0 0 1 0 0 1 0 0 1 0 0 0 0 0 0 0 0 0 0 0 0 0 0 0 0 0 1 1 0 1 0 0 0 0 0 0 0 0 0 0 0 0 0 0 0 0 0 0 0 0 0 0 0 0 0 0 0 0 1 0 0 0 0 0 0 0 0 0 0 0 0 0 0 0 0 0 0 0 0 0 0 0 1 0 0 0 0 0 0 1 0 0 1 0 1 0 0 0 0 0 0 0 1 0 0 0 1 0 0 0 0 0 0 0 0 0 0 0 0 0 0 0 0 1 0 0 1 0 0 1 0 0 0 0 0 1 0 0 0 0 1 0 0 0 0 1 0 0 0 0 0 0 0 1 1 0 0 0 0 1 1 0 0 0 0 0 0 0 0 0 0 0 0 0 0 0 0 0 0 0 0 0 0 0 1 0 0 0 0 0 0 1 0 1 0 0 0 1 0 0 0 0 0 0 0 0 0 0 0 0 0 0 0 0 0 0 0 0 0 0 0 0 0 0 0 1 1 0 0 1 0 0 0 1 0 0 0 0 0 0 0 0 0 0 0 0 0 0 0 0 0 0 1 0 0 0 1 0 0 1 0 0 0 0 0 1 0 0 0 0 0 0 1 0 0 0 0 0 1 0 0 0 0 0 0 0 0 0 0 0 1 0 1 0 0 0 0 1 0 0 0 0 1 0 0 0 0 0 0 1 1 0 0 0 0 0 0 0 0 0 0 0 1 0 0 1 0 1 0 0 0 0 0 0 0 1 1 1 0 0 1 0 1 1 0 0 0 0 0 0 0 0 0 0 1 0 0 0 0 1 0 0 0 0 1 0 0 0 1 1 1 0 0 0 0 0 0 1 0 0 0 1 0 0 0 0 0 0 0 0 0 0 0 0 0 0 0 0 0 1 0 0 0 0 0 0 0 0 0 0 1 0 0 0 0 0 0 0 1 0 0 0 0 0 0 0 0 1 0 0 0 0 0 0 0 0 0 0 0 0 0 0 0 0 0 0 1 0 0 0 1 0 0 0 0 0 0 0 0 0 0 0 0 0 0 0 0 0 1 0 0 1 1 0 0 0 0 1 0 0 0 0 0 0 0 0 0 1 0 0 0 0 0 0 1 0 0 0 0 0 0 0 0 0 0 0 0 0 0 0 1 0 0 0 0 0 0 0 0 0 0 0 0 0 1 0 0 0 0 0 0 0 0 0 0 0 0 0 0 0 0 0 0 0 0 0 0 0 0 0 0 1 0 0 0 0 0 0 1 0 0 0 1 0 0 0 0 1 0 0 0 0 0 0 0 0 0 0 0 0 0 0 0 0 0 0 0 0 0 0 0 0 0 0 0 1 0 0 0 0 0 0 0 0 1 0 0 0 0 1 0 1 0 0 1 0 0 0 1 1 0 0 0 0 0 0 0 1 0 0 0 0 0 0 0 0 0 0 1 0 0 0 0 0 0 1 0 0 0 0 0 0 0 0 0 1 0 0 1 0 0 0 0 0 0 0 0 0 0 0 0 1 0 0 0 0 0 0 0 0 0 1 0 0 0 0 0 1 0 0 1 0 0 0 0 0 0 0 1 0 0 0 0 0 0 0 0 0 1 0 0 0 0 0 0 0 0 0 0 0 0 0 0 0 0 0 0 0 0 0 0 0 0 0 0 0 0 0 0 0 0 0 1 0 0 0 0 0 0 0 0 0 0 0 0 0 0 0 0 0 0 0 1 1 0 0 0 0 0 0 0 0 0 0 0 0 0 0 0 0 0 0 0 0 0 0 0 0 0 0 0 0 0 0 1 0 0 0 0 0 0 0 0 0 1 0 0 0 0 0 0 1 0 0 0 0 0 1 0 0 0 0 0 0 0 0 0 0 0 0 1 0 0 0 0 0 1 0 0 0 0 1 0 0 0 0 0 0 0 0 0 0 0 0 0 0 1 0 0 0 0 0 0 0 0 0 0 1 0 0 0 0 1 0 0 0 0 0 0 0 0 0 0 0 0 0 0 0 0 0 0 0 0 0 1 0 0 0 0 0 0 0 1 0 0 0 0 0 0 0 0 0 0 0 0 0 0 0 0 0 1 0 0 1 0 0 0 0 1 0 0 1 0 0 0 0 0 0 1 0 1 0 0 0 0 0 0 0 0 0 0 0 0 0 0 0 0 0 0 0 0 1 0 0 1 0 0 0 0 0 0 0 0 1 0 0 0 0 0 1 0 0 0 0 0 0 0 0 0 0 0 0 0 0 0 0 0 0 0 0 0 0 0 0 0 0 0 0 0 0 0 0 0 0 0 0 0 0 0 0 0 0 0 0 0 0 0 0 0 0 0 0 0 0 0 1 1 0 0 1 0 0 0 0 0 0 0 1 0 0 0 1 0 0 0 0 0 0 0 0 0 0 0 0 0 0 0 0 1 0 0 0 1 0 0 0 1 0 0 0 0 0 0 0 1 0 0 0 0 0 1 0 0 1 0 0 1 0 0 1 0 0 0 0 0 0 0 0 1 0 0 0 0 0 1 0 0 0 0 0 0 0 0 0 0 0 1 0 0 0 0 0 0 1 0 0 0 0 0 0 0 0 0 1 0 0 0 0 0 0 0 1 0 0 0 0 0 0 1 1 0 0 0 1 0 0 0 0 0 0 0 0 0 0 1 0 0 0 0 0 0 0 0 0 0 0 0 0 0 0 0 0 0 0 0 0 0 0 0 0 0 0 0 0 0 0 0 0 0 0 0 0 0 0 0 0 0 0 0 0 1 0 0 0 0 0 0 1 0 1 0 0 1 0 0 0 0 0 0 0 0 0 0 1 0 0 0 0 0 0 0 0 0 0 0 1 0 0 0 0 0 1 0 0 0 1 0 1 0 1 0 0 0 0 0 0 0 0 0 0 0 0 0 0 1 0 0 1 0 0 1 0 0 0 1 0 0 0 1 0 0 0 0 0 1 0 0 0 0 0 1 0 0 0 0 0 0 0 0 1 0 1 0 1 0 0 0 0 0 0 0 1 0 0 0 0 0 0 0 0 0 0 0 0 0 0 0 0 0 0 0 0 1 1 0 0 0 0 1 0 0 0 0 0 0 1 0 1 0 0 0 0 0 0 1 1 0 0 1 1 1 0 1 0 0 0 0 0 0 0 1 0 0 1 0 0 0 0 0 0 0 0 0 0 0 0 0 0 0 0 0 0 0 0 0 0 1 0 0 0 0 0 1 0 0 0 0 0 0 0 0 0 0 0 0 0 0 0 0 0 0 0 0 0 0 0 0 0 0 0 1 0 0 0 0 0 0 0 0 0 0 0 0 0 0 0 0 0 0 0 0 0 0 0 0 0 0 0 0 0 0 0 0 0 0 1 0 0 0 0 0 0 0 0 0 0 0 0 0 0 1 0 0 0 0 0 0 0 0 0 0 1 0 0 0 0 0 0 1 0 0 0 0 0 0 0 0 0 0 0 0 0 0 0 0 0 0 0 0 1 0 0 0 1 0 0 0 0 0 1 0 0 0 0 0 0 0 0 0 0 0 0 1 0 0 0 0 1 0 0 0 0 0 0 0 0 1 0 0 0 0 0 0 0 0 0 0 1 0 0 0 0 0 0 0 0 0 0 0 0 0 0 0 0 0 0 1 0 0 0 0 0 0 0 0 0 0 0 0 0 0 0 0 0 0 0 0 0 0 0 0 0 0 0 0 0 0 0 0 0 0 0 1 0 0 0 0 1 0 0 1 0 1 0 0 0 0 0 0 0 0 0 0 0 0 0 0 0 0 0 0 1 0 0 0 0 0 1 0 0 1 0 0 0 0 1 0 0 0 0 0 0 0 1 0 0 0 0 0 0 0 0 1 0 0 0 0 0 1 1 0 0 0 0 0 0 0 0 0 0 0 0 0 0 0 0 0 0 0 0 0 0 0 0 0 0 0 0 0 0 0 0 0 0 0 0 0 0 0 0 0 0 0 1 0 0 0 0 1 0 0 1 0 0 0 0 1 0 0 0 0 0 0 0 0 0 0 0 0 0 0 0 0 0 0 0 0 0 0 0 0 0 0 0 0 0 0 1 0 0 0 0 0 0 0 0 0 0 0 1 0 0 0 0 0 0 0 0 1 0 0 0 0 0 0 0 0 0 0 0 0 0 0 0 0 0 0 0 0 0 0 0 0 0 0 1 1 0 0 1 0 0 0 0 1 0 0 0 0 0 0 0 0 0 0 0 0 0 1 0 1 0 0 0 0 0 0 0 0 0 0 0 0 0 0 0 0 0 1 0 0 0 0 1 0 0 0 0 0 0 0 0 0 0 0 0 0 0 0 1 0 1 1 0 0 0 0 0 0 0 0 0 0 0 1 0 0 0 0 1 0 0 0 0 0 0 0 0 0 0 0 1 0 0 0 0 0 1 0 0 0 0 0 0 0 0 0 0 1 0 0 0 0 0 0 0 0 0 0 0 0 0 0 0 0 0 0 0 0 0 0 0 1 0 0 0 1 0 0 0 0 0 1 0 0 0 0 0 0 1 0 0 0 0 0 0 0 0 0 0 0 0 0 0 0 0 0 0 0 0 0 0 0 0 0 0 0 0 0 0 0 0 0 0 0 0 0 1 0 1 0 0 0 0 0 0 1 0 0 0 0 0 0 0 0 0 0 0 0 1 0 0 0 0 0 0 0 0 0 0 0 0 0 0 0 0 0 0 1 0 0 0 0 1 0 0 0 0 0 0 0 0 0 0 1 0 0 0 0 0 0 0 0 0 0 0 0 0 0 0 0 1 0 0 1 0 0 0 0 0 0 0 0 0 0 0 0 0 0 1 0 0 0 0 1 0 0 0 0 0 0 1 0 0 0 0 0 0 1 1 0 0 0 0 0 0 0 0 0 0 1 0 1 0 0 0 0 0 0 0 0 1 1 1 0 0 1 0 0 0 0 0 0 0 0 0 0 0 0 0 0 0 0 0 0 0 0 0 0 0 0 0 0 1 0 0 0 0 1 0 0 0 0 0 0 0 0 0 0 1 0 0 0 0 0 0 0 0 0 0 0 0 0 0 0 0 0 0 1 0 0 1 0 0 0 0 1 0 0 0 0 1 0 1 0 0 0 0 0 1 0 0 0 1 0 0 0 0 0 0 1 0 0 0 0 0 0 0 0 0 0 0 0 0 0 0 1 0 0 0 1 1 0 0 0 0 0 0 0 0 1 0 0 0 0 1 0 0 0 0 0 0 0 0 0 0 0 0 0 0 0 0 0 1 1 0 0 0 1 1 1 0 0 1 0 0 0 0 0 0 0 0 0 0 0 0 0 0 0 0 0 0 0 0 0 1 0 0 0 1 0 0 1 0 0 0 1 0 0 0 0 1 0 0 0 0 0 0 0 0 0 0 0 1 0 0 0 0 0 0 0 0 0 0 0 0 0 0 0 0 1 0 0 0 0 0 0 0 0 1 0 0 0 0 0 0 0 0 0 0 0 0 0 0 0 0 0 0 0 0 0 0 0 0 0 0 0 0 0 0 0 0 0 0 1 0 1 0 0 1 0 0 1 0 0 1 0 0 0 1 0 0 0 0 0 0 0 0 0 1 0 1 0 0 0 0 0 0 0 0 0 0 0 0 0 0 0 0 0 0 0 0 0 0 0 0 0 0 0 0 0 1 0 0 0 0 1 0 0 0 0 0 0 0 0 0 0 0 0 0 0 0 0 0 0 1 0 0 0 0 0 0 0 0 0 0 0 0 0 0 0 0 0 0 0 1 0 0 0 0 0 0 0 0 0 1 0 1 0 0 0 0 0 0 0 0 0 1 0 0 1 0 0 0 1 0 0 0 0 1 0 0 0 0 0 0 0 0 0 0 0 0 0 0 0 0 0 0 0 0 0 0 1 0 1 0 1 0 1 0 0 0 1 0 0 0 0 0 0 0 0 0 0 0 0 0 0 0 0 0 0 0 0 1 0 0 0 0 0 1 0 0 0 0 0 0 0 1 0 0 0 0 1 0 0 0 0 1 1 0 0 1 0 0 0 0 0 0 0 0 0 0 0 0 1 0 0 0 0 0 0 0 0 0 0 0 0 1 0 0 1 0 0 0 0 0 0 0 0 0 0 0 0 1 1 0 0 0 0 0 0 0 0 0 0 1 0 0 1 0 0 0 0 0 0 1 0 0 0 0 0 0 0 0 0 0 0 0 0 0 0 0 0 0 1 0 1 0 0 0 0 0 0 1 0 0 0 0 0 0 0 0 0 0 0 0 0 1 0 0 0 0 0 0 0 0 1 1 0 0 1 0 0 0 0 0 1 0 0 0 0 0 1 0 0 0 1 0 1 0 0 0 1 0 0 0 0 0 0 0 1 0 0 1 0 0 0 0 1 0 0 0 0 1 0 0 0 0 0 0 1 0 0 0 0 0 0 1 0 0 0 0 0 0 0 0 1 0 0 0 0 0 0 0 0 1 0 1 0 0 0 0 0 0 0 0 0 0 0 0 0 0 0 0 1 0 0 0 0 0 0 0 0 0 0 0 0 1 1 0 0 0 0 0 0 0 0 0 1 0 0 0 0 1 0 0 0 0 0 0 0 0 0 0 0 0 0 1 0 0 0 0 0 0 0 0 0 0 0 0 0 0 0 1 0 0 0 0 0 0 0 0 0 0 0 0 1 0 0 0 0 1 0 0 0 0 0 0 0 0 0 0 0 0 0 0 0 0 0 0 0 0 0 0 0 0 0 0 0 0 0 0 0 0 0 0 0 0 0 0 0 0 0 1 0 0 1 0 1 0 0 0 0 0 0 0 1 0 0 1 0 0 0 0 0 0 0 0 0 0 1 0 0 0 1 0 0 1 0 0 0 0 0 0 0 0 0 0 0 0 0 0 0 0 0 1 0 1 1 0 1 0 0 0 1 0 1 0 0 0 0 0 0 0 0 0 1 0 0 0 0 0 1 1 0 0 0 0 0 0 0 0 0 0 1 0 0 0 1 0 0 0 0 0 0 0 0 0 0 0 1 0 0 0 0 0 0 1 0 0 1 0 0 0 0 0 0 0 0 0 0 0 0 0 1 0 0 0 0 0 0 0 0 0 0 0 0 0 0 0 0 0 0 0 0 0 1 0 0 0 1 0 0 0 0 0 0 0 0 0 0 0 0 0 0 1 0 0 0 0 0 0 0 0 0 0 0 1 1 0 0 0 0 0 0 0 0 0 0 0 0 0 0 1 0 0 0 0 0 0 0 1 1 0 1 0 0 0 0 0 0 0 0 0 0 0 0 0 1 0 0 0 0 0 0 0 0 0 0 0 0 0 0 0 0 0 0 0 0 1 0 0 0 1 0 0 0 0 0 0 0 0 0 0 0 0 0 0 0 0 1 1 0 0 0 0 0 1 0 0 0 0 0"
     ]
    },
    {
     "name": "stdout",
     "output_type": "stream",
     "text": [
      " 0 0 0 0 0 0 0 0 0 0 0 0 0 0 0 0 0 0 0 0 0 0 0 0 0 0 1 1 1 0 0 0 0 0 0 0 0 0 0 0 1 0 0 0 0 0 0 0 0 1 0 0 0 1 0 0 0 0 0 0 0 0 0 0 0 0 0 0 0 0 0 0 0 1 0 0 0 0 0 0 0 0 0 0 0 0 0 0 1 0 0 1 0 0 0 0 0 0 0 1 0 0 0 0 0 0 1 0 0 0 0 0 0 0 0 0 0 0 0 0 0 0 0 0 0 0 0 0 0 0 0 0 0 0 0 0 0 0 0 0 0 0 0 0 0 0 0 1 0 1 0 0 0 0 0 0 0 0 0 0 0 0 0 0 0 0 0 0 0 0 0 0 0 0 0 0 1 0 0 1 0 0 0 0 0 1 0 0 0 0 0 1 0 0 0 1 0 0 0 1 0 0 0 0 0 1 0 1 1 0 1 0 1 0 0 0 0 0 0 1 0 0 0 0 0 0 0 0 0 0 0 0 0 0 0 0 0 0 0 0 0 0 0 0 0 0 1 0 0 0 0 1 0 0 0 0 0 0 0 1 0 1 0 0 1 0 0 0 0 0 0 0 0 0 0 0 0 0 0 0 0 0 0 1 0 0 0 1 0 0 0 0 0 0 0 0 0 0 0 0 0 0 0 0 0 0 0 0 0 0 1 0 0 0 0 0 0 0 1 0 0 0 0 0 0 0 0 0 0 0 1 1 0 0 0 0 0 0 1 0 0 0 1 0 1 0 1 1 0 0 0 0 0 1 0 0 0 1 0 0 1 0 0 0 0 0 0 0 0 0 0 0 0 0 0 0 0 0 0 0 0 0 0 0 0 0 0 0 0 0 0 0 0 0 1 1 0 0 0 0 0 1 0 0 0 0 0 0 0 1 0 0 0 0 0 0 0 0 1 0 0 0 0 0 0 0 1 0 0 1 0 1 0 1 0 0 0 0 0 0 0 0 0 0 0 0 0 0 0 0 1 0 0 0 0 0 0 0 0 0 0 0 0 0 0 0 0 0 0 0 0 0 0 0 0 0 1 0 0 0 0 0 0 0 0 0 0 0 0 0 0 0 0 0 0 0 0 0 0 0 0 0 0 0 0 0 0 0 0 0 0 0 0 0 0 0 0 0 0 0 0 0 0 0 0 1 0 0 0 0 0 0 0 0 0 0 0 0 0 0 0 0 0 0 0 0 0 0 0 0 0 0 0 0 0 0 0 0 0 0 0 0 0 0 0 0 0 1 1 0 0 0 0 0 1 0 0 0 0 0 0 0 0 0 1 0 0 0 0 0 0 0 0 0 0 0 0 0 0 0 0 0 1 1 0 0 0 0 0 0 0 0 0 0 0 0 0 0 0 0 0 1 0 0 1 0 0 0 0 0 0 1 0 0 0 0 0 0 0 1 0 0 0 0 0 1 0 1 0 1 0 0 0 0 0 1 0 0 0 0 0 0 0 0 0 0 0 0 0 0 0 0 0 0 0 0 0 0 0 1 0 1 0 0 0 0 1 0 0 0 0 0 0 0 0 0 0 0 0 0 0 0 0 0 0 0 0 0 0 0 0 0 0 0 0 0 0 0 0 0 1 0 0 "
     ]
    }
   ],
   "source": [
    "for x in train_data[\"subscribed\"]:\n",
    "    print(x, end=\" \")"
   ]
  },
  {
   "cell_type": "code",
   "execution_count": 32,
   "metadata": {},
   "outputs": [
    {
     "name": "stdout",
     "output_type": "stream",
     "text": [
      "<class 'pandas.core.frame.DataFrame'>\n",
      "Int64Index: 26722 entries, 0 to 28830\n",
      "Data columns (total 20 columns):\n",
      " #   Column          Non-Null Count  Dtype  \n",
      "---  ------          --------------  -----  \n",
      " 0   age             26722 non-null  int64  \n",
      " 1   job             26722 non-null  int64  \n",
      " 2   marital         26722 non-null  int64  \n",
      " 3   education       26722 non-null  int64  \n",
      " 4   housing         26722 non-null  uint8  \n",
      " 5   loan            26722 non-null  uint8  \n",
      " 6   contact         26722 non-null  uint8  \n",
      " 7   month           26722 non-null  int64  \n",
      " 8   day_of_week     26722 non-null  int64  \n",
      " 9   duration        26722 non-null  float64\n",
      " 10  campaign        26722 non-null  int64  \n",
      " 11  pdays           26722 non-null  int64  \n",
      " 12  previous        26722 non-null  int64  \n",
      " 13  poutcome        26722 non-null  int64  \n",
      " 14  emp_var_rate    26722 non-null  float64\n",
      " 15  cons_price_idx  26722 non-null  float64\n",
      " 16  cons_conf_idx   26722 non-null  float64\n",
      " 17  euribor3m       26722 non-null  float64\n",
      " 18  nr_employed     26722 non-null  float64\n",
      " 19  subscribed      26722 non-null  int64  \n",
      "dtypes: float64(6), int64(11), uint8(3)\n",
      "memory usage: 5.0 MB\n"
     ]
    }
   ],
   "source": [
    "train_data.info()"
   ]
  },
  {
   "cell_type": "code",
   "execution_count": 33,
   "metadata": {},
   "outputs": [
    {
     "data": {
      "text/html": [
       "<div>\n",
       "<style scoped>\n",
       "    .dataframe tbody tr th:only-of-type {\n",
       "        vertical-align: middle;\n",
       "    }\n",
       "\n",
       "    .dataframe tbody tr th {\n",
       "        vertical-align: top;\n",
       "    }\n",
       "\n",
       "    .dataframe thead th {\n",
       "        text-align: right;\n",
       "    }\n",
       "</style>\n",
       "<table border=\"1\" class=\"dataframe\">\n",
       "  <thead>\n",
       "    <tr style=\"text-align: right;\">\n",
       "      <th></th>\n",
       "      <th>age</th>\n",
       "      <th>job</th>\n",
       "      <th>marital</th>\n",
       "      <th>education</th>\n",
       "      <th>housing</th>\n",
       "      <th>loan</th>\n",
       "      <th>contact</th>\n",
       "      <th>month</th>\n",
       "      <th>day_of_week</th>\n",
       "      <th>duration</th>\n",
       "      <th>campaign</th>\n",
       "      <th>pdays</th>\n",
       "      <th>previous</th>\n",
       "      <th>poutcome</th>\n",
       "      <th>emp_var_rate</th>\n",
       "      <th>cons_price_idx</th>\n",
       "      <th>cons_conf_idx</th>\n",
       "      <th>euribor3m</th>\n",
       "      <th>nr_employed</th>\n",
       "      <th>subscribed</th>\n",
       "    </tr>\n",
       "  </thead>\n",
       "  <tbody>\n",
       "    <tr>\n",
       "      <th>0</th>\n",
       "      <td>31</td>\n",
       "      <td>0</td>\n",
       "      <td>0</td>\n",
       "      <td>0</td>\n",
       "      <td>1</td>\n",
       "      <td>1</td>\n",
       "      <td>1</td>\n",
       "      <td>0</td>\n",
       "      <td>0</td>\n",
       "      <td>1.283333</td>\n",
       "      <td>3</td>\n",
       "      <td>999</td>\n",
       "      <td>1</td>\n",
       "      <td>0</td>\n",
       "      <td>-2.97</td>\n",
       "      <td>46.3565</td>\n",
       "      <td>-23.10</td>\n",
       "      <td>1.711</td>\n",
       "      <td>5023.5</td>\n",
       "      <td>0</td>\n",
       "    </tr>\n",
       "    <tr>\n",
       "      <th>1</th>\n",
       "      <td>31</td>\n",
       "      <td>1</td>\n",
       "      <td>1</td>\n",
       "      <td>0</td>\n",
       "      <td>1</td>\n",
       "      <td>1</td>\n",
       "      <td>0</td>\n",
       "      <td>1</td>\n",
       "      <td>1</td>\n",
       "      <td>0.200000</td>\n",
       "      <td>4</td>\n",
       "      <td>999</td>\n",
       "      <td>0</td>\n",
       "      <td>1</td>\n",
       "      <td>-1.77</td>\n",
       "      <td>46.4465</td>\n",
       "      <td>-32.34</td>\n",
       "      <td>2.252</td>\n",
       "      <td>5099.1</td>\n",
       "      <td>0</td>\n",
       "    </tr>\n",
       "    <tr>\n",
       "      <th>2</th>\n",
       "      <td>47</td>\n",
       "      <td>2</td>\n",
       "      <td>0</td>\n",
       "      <td>1</td>\n",
       "      <td>0</td>\n",
       "      <td>1</td>\n",
       "      <td>0</td>\n",
       "      <td>1</td>\n",
       "      <td>2</td>\n",
       "      <td>4.616667</td>\n",
       "      <td>2</td>\n",
       "      <td>999</td>\n",
       "      <td>0</td>\n",
       "      <td>1</td>\n",
       "      <td>1.13</td>\n",
       "      <td>46.9970</td>\n",
       "      <td>-25.48</td>\n",
       "      <td>5.862</td>\n",
       "      <td>5191.0</td>\n",
       "      <td>0</td>\n",
       "    </tr>\n",
       "    <tr>\n",
       "      <th>3</th>\n",
       "      <td>36</td>\n",
       "      <td>3</td>\n",
       "      <td>0</td>\n",
       "      <td>0</td>\n",
       "      <td>1</td>\n",
       "      <td>1</td>\n",
       "      <td>1</td>\n",
       "      <td>1</td>\n",
       "      <td>2</td>\n",
       "      <td>1.166667</td>\n",
       "      <td>1</td>\n",
       "      <td>999</td>\n",
       "      <td>1</td>\n",
       "      <td>0</td>\n",
       "      <td>-1.77</td>\n",
       "      <td>46.4465</td>\n",
       "      <td>-32.34</td>\n",
       "      <td>2.329</td>\n",
       "      <td>5099.1</td>\n",
       "      <td>0</td>\n",
       "    </tr>\n",
       "    <tr>\n",
       "      <th>4</th>\n",
       "      <td>34</td>\n",
       "      <td>0</td>\n",
       "      <td>1</td>\n",
       "      <td>2</td>\n",
       "      <td>1</td>\n",
       "      <td>1</td>\n",
       "      <td>1</td>\n",
       "      <td>1</td>\n",
       "      <td>1</td>\n",
       "      <td>19.683333</td>\n",
       "      <td>9</td>\n",
       "      <td>999</td>\n",
       "      <td>0</td>\n",
       "      <td>1</td>\n",
       "      <td>-1.77</td>\n",
       "      <td>46.4465</td>\n",
       "      <td>-32.34</td>\n",
       "      <td>2.252</td>\n",
       "      <td>5099.1</td>\n",
       "      <td>0</td>\n",
       "    </tr>\n",
       "    <tr>\n",
       "      <th>...</th>\n",
       "      <td>...</td>\n",
       "      <td>...</td>\n",
       "      <td>...</td>\n",
       "      <td>...</td>\n",
       "      <td>...</td>\n",
       "      <td>...</td>\n",
       "      <td>...</td>\n",
       "      <td>...</td>\n",
       "      <td>...</td>\n",
       "      <td>...</td>\n",
       "      <td>...</td>\n",
       "      <td>...</td>\n",
       "      <td>...</td>\n",
       "      <td>...</td>\n",
       "      <td>...</td>\n",
       "      <td>...</td>\n",
       "      <td>...</td>\n",
       "      <td>...</td>\n",
       "      <td>...</td>\n",
       "      <td>...</td>\n",
       "    </tr>\n",
       "    <tr>\n",
       "      <th>28826</th>\n",
       "      <td>60</td>\n",
       "      <td>9</td>\n",
       "      <td>0</td>\n",
       "      <td>4</td>\n",
       "      <td>1</td>\n",
       "      <td>1</td>\n",
       "      <td>0</td>\n",
       "      <td>1</td>\n",
       "      <td>3</td>\n",
       "      <td>7.116667</td>\n",
       "      <td>2</td>\n",
       "      <td>999</td>\n",
       "      <td>0</td>\n",
       "      <td>1</td>\n",
       "      <td>1.13</td>\n",
       "      <td>46.9970</td>\n",
       "      <td>-25.48</td>\n",
       "      <td>5.859</td>\n",
       "      <td>5191.0</td>\n",
       "      <td>0</td>\n",
       "    </tr>\n",
       "    <tr>\n",
       "      <th>28827</th>\n",
       "      <td>39</td>\n",
       "      <td>6</td>\n",
       "      <td>0</td>\n",
       "      <td>0</td>\n",
       "      <td>1</td>\n",
       "      <td>1</td>\n",
       "      <td>0</td>\n",
       "      <td>4</td>\n",
       "      <td>2</td>\n",
       "      <td>4.800000</td>\n",
       "      <td>1</td>\n",
       "      <td>999</td>\n",
       "      <td>0</td>\n",
       "      <td>1</td>\n",
       "      <td>1.43</td>\n",
       "      <td>47.2325</td>\n",
       "      <td>-29.26</td>\n",
       "      <td>5.963</td>\n",
       "      <td>5228.1</td>\n",
       "      <td>0</td>\n",
       "    </tr>\n",
       "    <tr>\n",
       "      <th>28828</th>\n",
       "      <td>37</td>\n",
       "      <td>0</td>\n",
       "      <td>0</td>\n",
       "      <td>2</td>\n",
       "      <td>0</td>\n",
       "      <td>1</td>\n",
       "      <td>1</td>\n",
       "      <td>9</td>\n",
       "      <td>2</td>\n",
       "      <td>3.233333</td>\n",
       "      <td>1</td>\n",
       "      <td>4</td>\n",
       "      <td>1</td>\n",
       "      <td>2</td>\n",
       "      <td>-3.37</td>\n",
       "      <td>46.2155</td>\n",
       "      <td>-18.83</td>\n",
       "      <td>1.756</td>\n",
       "      <td>5017.5</td>\n",
       "      <td>1</td>\n",
       "    </tr>\n",
       "    <tr>\n",
       "      <th>28829</th>\n",
       "      <td>42</td>\n",
       "      <td>6</td>\n",
       "      <td>0</td>\n",
       "      <td>0</td>\n",
       "      <td>0</td>\n",
       "      <td>1</td>\n",
       "      <td>0</td>\n",
       "      <td>1</td>\n",
       "      <td>4</td>\n",
       "      <td>4.916667</td>\n",
       "      <td>2</td>\n",
       "      <td>999</td>\n",
       "      <td>0</td>\n",
       "      <td>1</td>\n",
       "      <td>1.13</td>\n",
       "      <td>46.9970</td>\n",
       "      <td>-25.48</td>\n",
       "      <td>5.858</td>\n",
       "      <td>5191.0</td>\n",
       "      <td>0</td>\n",
       "    </tr>\n",
       "    <tr>\n",
       "      <th>28830</th>\n",
       "      <td>31</td>\n",
       "      <td>0</td>\n",
       "      <td>1</td>\n",
       "      <td>0</td>\n",
       "      <td>0</td>\n",
       "      <td>1</td>\n",
       "      <td>1</td>\n",
       "      <td>3</td>\n",
       "      <td>0</td>\n",
       "      <td>5.550000</td>\n",
       "      <td>2</td>\n",
       "      <td>999</td>\n",
       "      <td>0</td>\n",
       "      <td>1</td>\n",
       "      <td>1.43</td>\n",
       "      <td>46.9590</td>\n",
       "      <td>-29.89</td>\n",
       "      <td>5.962</td>\n",
       "      <td>5228.1</td>\n",
       "      <td>0</td>\n",
       "    </tr>\n",
       "  </tbody>\n",
       "</table>\n",
       "<p>26722 rows × 20 columns</p>\n",
       "</div>"
      ],
      "text/plain": [
       "       age  job  marital  education  housing  loan  contact  month  \\\n",
       "0       31    0        0          0        1     1        1      0   \n",
       "1       31    1        1          0        1     1        0      1   \n",
       "2       47    2        0          1        0     1        0      1   \n",
       "3       36    3        0          0        1     1        1      1   \n",
       "4       34    0        1          2        1     1        1      1   \n",
       "...    ...  ...      ...        ...      ...   ...      ...    ...   \n",
       "28826   60    9        0          4        1     1        0      1   \n",
       "28827   39    6        0          0        1     1        0      4   \n",
       "28828   37    0        0          2        0     1        1      9   \n",
       "28829   42    6        0          0        0     1        0      1   \n",
       "28830   31    0        1          0        0     1        1      3   \n",
       "\n",
       "       day_of_week   duration  campaign  pdays  previous  poutcome  \\\n",
       "0                0   1.283333         3    999         1         0   \n",
       "1                1   0.200000         4    999         0         1   \n",
       "2                2   4.616667         2    999         0         1   \n",
       "3                2   1.166667         1    999         1         0   \n",
       "4                1  19.683333         9    999         0         1   \n",
       "...            ...        ...       ...    ...       ...       ...   \n",
       "28826            3   7.116667         2    999         0         1   \n",
       "28827            2   4.800000         1    999         0         1   \n",
       "28828            2   3.233333         1      4         1         2   \n",
       "28829            4   4.916667         2    999         0         1   \n",
       "28830            0   5.550000         2    999         0         1   \n",
       "\n",
       "       emp_var_rate  cons_price_idx  cons_conf_idx  euribor3m  nr_employed  \\\n",
       "0             -2.97         46.3565         -23.10      1.711       5023.5   \n",
       "1             -1.77         46.4465         -32.34      2.252       5099.1   \n",
       "2              1.13         46.9970         -25.48      5.862       5191.0   \n",
       "3             -1.77         46.4465         -32.34      2.329       5099.1   \n",
       "4             -1.77         46.4465         -32.34      2.252       5099.1   \n",
       "...             ...             ...            ...        ...          ...   \n",
       "28826          1.13         46.9970         -25.48      5.859       5191.0   \n",
       "28827          1.43         47.2325         -29.26      5.963       5228.1   \n",
       "28828         -3.37         46.2155         -18.83      1.756       5017.5   \n",
       "28829          1.13         46.9970         -25.48      5.858       5191.0   \n",
       "28830          1.43         46.9590         -29.89      5.962       5228.1   \n",
       "\n",
       "       subscribed  \n",
       "0               0  \n",
       "1               0  \n",
       "2               0  \n",
       "3               0  \n",
       "4               0  \n",
       "...           ...  \n",
       "28826           0  \n",
       "28827           0  \n",
       "28828           1  \n",
       "28829           0  \n",
       "28830           0  \n",
       "\n",
       "[26722 rows x 20 columns]"
      ]
     },
     "execution_count": 33,
     "metadata": {},
     "output_type": "execute_result"
    }
   ],
   "source": [
    "train_data"
   ]
  },
  {
   "cell_type": "markdown",
   "metadata": {},
   "source": [
    "##### Importing Test Data"
   ]
  },
  {
   "cell_type": "code",
   "execution_count": 34,
   "metadata": {},
   "outputs": [
    {
     "data": {
      "text/html": [
       "<div>\n",
       "<style scoped>\n",
       "    .dataframe tbody tr th:only-of-type {\n",
       "        vertical-align: middle;\n",
       "    }\n",
       "\n",
       "    .dataframe tbody tr th {\n",
       "        vertical-align: top;\n",
       "    }\n",
       "\n",
       "    .dataframe thead th {\n",
       "        text-align: right;\n",
       "    }\n",
       "</style>\n",
       "<table border=\"1\" class=\"dataframe\">\n",
       "  <thead>\n",
       "    <tr style=\"text-align: right;\">\n",
       "      <th></th>\n",
       "      <th>customer_id</th>\n",
       "      <th>age</th>\n",
       "      <th>job</th>\n",
       "      <th>marital</th>\n",
       "      <th>education</th>\n",
       "      <th>default</th>\n",
       "      <th>housing</th>\n",
       "      <th>loan</th>\n",
       "      <th>contact</th>\n",
       "      <th>month</th>\n",
       "      <th>...</th>\n",
       "      <th>duration</th>\n",
       "      <th>campaign</th>\n",
       "      <th>pdays</th>\n",
       "      <th>previous</th>\n",
       "      <th>poutcome</th>\n",
       "      <th>emp_var_rate</th>\n",
       "      <th>cons_price_idx</th>\n",
       "      <th>cons_conf_idx</th>\n",
       "      <th>euribor3m</th>\n",
       "      <th>nr_employed</th>\n",
       "    </tr>\n",
       "  </thead>\n",
       "  <tbody>\n",
       "    <tr>\n",
       "      <th>0</th>\n",
       "      <td>customer_id_32884</td>\n",
       "      <td>59</td>\n",
       "      <td>technician</td>\n",
       "      <td>married</td>\n",
       "      <td>high.school</td>\n",
       "      <td>no</td>\n",
       "      <td>no</td>\n",
       "      <td>yes</td>\n",
       "      <td>cellular</td>\n",
       "      <td>may</td>\n",
       "      <td>...</td>\n",
       "      <td>6.183333</td>\n",
       "      <td>1</td>\n",
       "      <td>999</td>\n",
       "      <td>1</td>\n",
       "      <td>failure</td>\n",
       "      <td>-1.77</td>\n",
       "      <td>46.4465</td>\n",
       "      <td>-32.34</td>\n",
       "      <td>2.301</td>\n",
       "      <td>5099.1</td>\n",
       "    </tr>\n",
       "    <tr>\n",
       "      <th>1</th>\n",
       "      <td>customer_id_3169</td>\n",
       "      <td>57</td>\n",
       "      <td>unknown</td>\n",
       "      <td>married</td>\n",
       "      <td>unknown</td>\n",
       "      <td>unknown</td>\n",
       "      <td>yes</td>\n",
       "      <td>no</td>\n",
       "      <td>telephone</td>\n",
       "      <td>may</td>\n",
       "      <td>...</td>\n",
       "      <td>4.750000</td>\n",
       "      <td>2</td>\n",
       "      <td>999</td>\n",
       "      <td>0</td>\n",
       "      <td>nonexistent</td>\n",
       "      <td>1.13</td>\n",
       "      <td>46.9970</td>\n",
       "      <td>-25.48</td>\n",
       "      <td>5.862</td>\n",
       "      <td>5191.0</td>\n",
       "    </tr>\n",
       "    <tr>\n",
       "      <th>2</th>\n",
       "      <td>customer_id_32206</td>\n",
       "      <td>35</td>\n",
       "      <td>blue-collar</td>\n",
       "      <td>married</td>\n",
       "      <td>basic.9y</td>\n",
       "      <td>no</td>\n",
       "      <td>no</td>\n",
       "      <td>no</td>\n",
       "      <td>cellular</td>\n",
       "      <td>may</td>\n",
       "      <td>...</td>\n",
       "      <td>0.866667</td>\n",
       "      <td>1</td>\n",
       "      <td>999</td>\n",
       "      <td>1</td>\n",
       "      <td>failure</td>\n",
       "      <td>-1.77</td>\n",
       "      <td>46.4465</td>\n",
       "      <td>-32.34</td>\n",
       "      <td>2.315</td>\n",
       "      <td>5099.1</td>\n",
       "    </tr>\n",
       "    <tr>\n",
       "      <th>3</th>\n",
       "      <td>customer_id_9403</td>\n",
       "      <td>38</td>\n",
       "      <td>admin.</td>\n",
       "      <td>married</td>\n",
       "      <td>high.school</td>\n",
       "      <td>no</td>\n",
       "      <td>no</td>\n",
       "      <td>no</td>\n",
       "      <td>telephone</td>\n",
       "      <td>jun</td>\n",
       "      <td>...</td>\n",
       "      <td>5.916667</td>\n",
       "      <td>4</td>\n",
       "      <td>999</td>\n",
       "      <td>0</td>\n",
       "      <td>nonexistent</td>\n",
       "      <td>1.43</td>\n",
       "      <td>47.2325</td>\n",
       "      <td>-29.26</td>\n",
       "      <td>5.969</td>\n",
       "      <td>5228.1</td>\n",
       "    </tr>\n",
       "    <tr>\n",
       "      <th>4</th>\n",
       "      <td>customer_id_14020</td>\n",
       "      <td>29</td>\n",
       "      <td>housemaid</td>\n",
       "      <td>married</td>\n",
       "      <td>high.school</td>\n",
       "      <td>no</td>\n",
       "      <td>yes</td>\n",
       "      <td>no</td>\n",
       "      <td>cellular</td>\n",
       "      <td>jul</td>\n",
       "      <td>...</td>\n",
       "      <td>3.150000</td>\n",
       "      <td>2</td>\n",
       "      <td>999</td>\n",
       "      <td>0</td>\n",
       "      <td>nonexistent</td>\n",
       "      <td>1.43</td>\n",
       "      <td>46.9590</td>\n",
       "      <td>-29.89</td>\n",
       "      <td>5.965</td>\n",
       "      <td>5228.1</td>\n",
       "    </tr>\n",
       "    <tr>\n",
       "      <th>...</th>\n",
       "      <td>...</td>\n",
       "      <td>...</td>\n",
       "      <td>...</td>\n",
       "      <td>...</td>\n",
       "      <td>...</td>\n",
       "      <td>...</td>\n",
       "      <td>...</td>\n",
       "      <td>...</td>\n",
       "      <td>...</td>\n",
       "      <td>...</td>\n",
       "      <td>...</td>\n",
       "      <td>...</td>\n",
       "      <td>...</td>\n",
       "      <td>...</td>\n",
       "      <td>...</td>\n",
       "      <td>...</td>\n",
       "      <td>...</td>\n",
       "      <td>...</td>\n",
       "      <td>...</td>\n",
       "      <td>...</td>\n",
       "      <td>...</td>\n",
       "    </tr>\n",
       "    <tr>\n",
       "      <th>12352</th>\n",
       "      <td>customer_id_15908</td>\n",
       "      <td>48</td>\n",
       "      <td>services</td>\n",
       "      <td>married</td>\n",
       "      <td>high.school</td>\n",
       "      <td>no</td>\n",
       "      <td>yes</td>\n",
       "      <td>no</td>\n",
       "      <td>cellular</td>\n",
       "      <td>jul</td>\n",
       "      <td>...</td>\n",
       "      <td>3.016667</td>\n",
       "      <td>2</td>\n",
       "      <td>999</td>\n",
       "      <td>0</td>\n",
       "      <td>nonexistent</td>\n",
       "      <td>1.43</td>\n",
       "      <td>46.9590</td>\n",
       "      <td>-29.89</td>\n",
       "      <td>5.962</td>\n",
       "      <td>5228.1</td>\n",
       "    </tr>\n",
       "    <tr>\n",
       "      <th>12353</th>\n",
       "      <td>customer_id_28222</td>\n",
       "      <td>40</td>\n",
       "      <td>services</td>\n",
       "      <td>divorced</td>\n",
       "      <td>high.school</td>\n",
       "      <td>unknown</td>\n",
       "      <td>yes</td>\n",
       "      <td>no</td>\n",
       "      <td>cellular</td>\n",
       "      <td>apr</td>\n",
       "      <td>...</td>\n",
       "      <td>10.333333</td>\n",
       "      <td>1</td>\n",
       "      <td>2</td>\n",
       "      <td>1</td>\n",
       "      <td>success</td>\n",
       "      <td>-1.77</td>\n",
       "      <td>46.5375</td>\n",
       "      <td>-32.97</td>\n",
       "      <td>2.455</td>\n",
       "      <td>5099.1</td>\n",
       "    </tr>\n",
       "    <tr>\n",
       "      <th>12354</th>\n",
       "      <td>customer_id_14194</td>\n",
       "      <td>28</td>\n",
       "      <td>blue-collar</td>\n",
       "      <td>single</td>\n",
       "      <td>high.school</td>\n",
       "      <td>no</td>\n",
       "      <td>no</td>\n",
       "      <td>yes</td>\n",
       "      <td>telephone</td>\n",
       "      <td>jul</td>\n",
       "      <td>...</td>\n",
       "      <td>4.183333</td>\n",
       "      <td>2</td>\n",
       "      <td>999</td>\n",
       "      <td>0</td>\n",
       "      <td>nonexistent</td>\n",
       "      <td>1.43</td>\n",
       "      <td>46.9590</td>\n",
       "      <td>-29.89</td>\n",
       "      <td>5.964</td>\n",
       "      <td>5228.1</td>\n",
       "    </tr>\n",
       "    <tr>\n",
       "      <th>12355</th>\n",
       "      <td>customer_id_19764</td>\n",
       "      <td>53</td>\n",
       "      <td>technician</td>\n",
       "      <td>divorced</td>\n",
       "      <td>professional.course</td>\n",
       "      <td>no</td>\n",
       "      <td>no</td>\n",
       "      <td>yes</td>\n",
       "      <td>cellular</td>\n",
       "      <td>aug</td>\n",
       "      <td>...</td>\n",
       "      <td>0.833333</td>\n",
       "      <td>3</td>\n",
       "      <td>999</td>\n",
       "      <td>0</td>\n",
       "      <td>nonexistent</td>\n",
       "      <td>1.43</td>\n",
       "      <td>46.7220</td>\n",
       "      <td>-25.27</td>\n",
       "      <td>5.968</td>\n",
       "      <td>5228.1</td>\n",
       "    </tr>\n",
       "    <tr>\n",
       "      <th>12356</th>\n",
       "      <td>customer_id_26052</td>\n",
       "      <td>47</td>\n",
       "      <td>technician</td>\n",
       "      <td>married</td>\n",
       "      <td>university.degree</td>\n",
       "      <td>no</td>\n",
       "      <td>no</td>\n",
       "      <td>no</td>\n",
       "      <td>cellular</td>\n",
       "      <td>nov</td>\n",
       "      <td>...</td>\n",
       "      <td>3.683333</td>\n",
       "      <td>2</td>\n",
       "      <td>999</td>\n",
       "      <td>1</td>\n",
       "      <td>failure</td>\n",
       "      <td>-0.07</td>\n",
       "      <td>46.6000</td>\n",
       "      <td>-29.40</td>\n",
       "      <td>5.122</td>\n",
       "      <td>5195.8</td>\n",
       "    </tr>\n",
       "  </tbody>\n",
       "</table>\n",
       "<p>12357 rows × 21 columns</p>\n",
       "</div>"
      ],
      "text/plain": [
       "             customer_id  age          job   marital            education  \\\n",
       "0      customer_id_32884   59   technician   married          high.school   \n",
       "1       customer_id_3169   57      unknown   married              unknown   \n",
       "2      customer_id_32206   35  blue-collar   married             basic.9y   \n",
       "3       customer_id_9403   38       admin.   married          high.school   \n",
       "4      customer_id_14020   29    housemaid   married          high.school   \n",
       "...                  ...  ...          ...       ...                  ...   \n",
       "12352  customer_id_15908   48     services   married          high.school   \n",
       "12353  customer_id_28222   40     services  divorced          high.school   \n",
       "12354  customer_id_14194   28  blue-collar    single          high.school   \n",
       "12355  customer_id_19764   53   technician  divorced  professional.course   \n",
       "12356  customer_id_26052   47   technician   married    university.degree   \n",
       "\n",
       "       default housing loan    contact month  ...   duration  campaign  pdays  \\\n",
       "0           no      no  yes   cellular   may  ...   6.183333         1    999   \n",
       "1      unknown     yes   no  telephone   may  ...   4.750000         2    999   \n",
       "2           no      no   no   cellular   may  ...   0.866667         1    999   \n",
       "3           no      no   no  telephone   jun  ...   5.916667         4    999   \n",
       "4           no     yes   no   cellular   jul  ...   3.150000         2    999   \n",
       "...        ...     ...  ...        ...   ...  ...        ...       ...    ...   \n",
       "12352       no     yes   no   cellular   jul  ...   3.016667         2    999   \n",
       "12353  unknown     yes   no   cellular   apr  ...  10.333333         1      2   \n",
       "12354       no      no  yes  telephone   jul  ...   4.183333         2    999   \n",
       "12355       no      no  yes   cellular   aug  ...   0.833333         3    999   \n",
       "12356       no      no   no   cellular   nov  ...   3.683333         2    999   \n",
       "\n",
       "       previous     poutcome emp_var_rate  cons_price_idx  cons_conf_idx  \\\n",
       "0             1      failure        -1.77         46.4465         -32.34   \n",
       "1             0  nonexistent         1.13         46.9970         -25.48   \n",
       "2             1      failure        -1.77         46.4465         -32.34   \n",
       "3             0  nonexistent         1.43         47.2325         -29.26   \n",
       "4             0  nonexistent         1.43         46.9590         -29.89   \n",
       "...         ...          ...          ...             ...            ...   \n",
       "12352         0  nonexistent         1.43         46.9590         -29.89   \n",
       "12353         1      success        -1.77         46.5375         -32.97   \n",
       "12354         0  nonexistent         1.43         46.9590         -29.89   \n",
       "12355         0  nonexistent         1.43         46.7220         -25.27   \n",
       "12356         1      failure        -0.07         46.6000         -29.40   \n",
       "\n",
       "       euribor3m  nr_employed  \n",
       "0          2.301       5099.1  \n",
       "1          5.862       5191.0  \n",
       "2          2.315       5099.1  \n",
       "3          5.969       5228.1  \n",
       "4          5.965       5228.1  \n",
       "...          ...          ...  \n",
       "12352      5.962       5228.1  \n",
       "12353      2.455       5099.1  \n",
       "12354      5.964       5228.1  \n",
       "12355      5.968       5228.1  \n",
       "12356      5.122       5195.8  \n",
       "\n",
       "[12357 rows x 21 columns]"
      ]
     },
     "execution_count": 34,
     "metadata": {},
     "output_type": "execute_result"
    }
   ],
   "source": [
    "test_data = pd.read_csv(r\"C:\\Users\\OLAOYE\\Desktop\\FUOYE AI+\\AI_invasion\\data\\test.csv\")\n",
    "test_data"
   ]
  },
  {
   "cell_type": "code",
   "execution_count": 35,
   "metadata": {},
   "outputs": [
    {
     "data": {
      "text/plain": [
       "Index(['customer_id', 'age', 'job', 'marital', 'education', 'default',\n",
       "       'housing', 'loan', 'contact', 'month', 'day_of_week', 'duration',\n",
       "       'campaign', 'pdays', 'previous', 'poutcome', 'emp_var_rate',\n",
       "       'cons_price_idx', 'cons_conf_idx', 'euribor3m', 'nr_employed'],\n",
       "      dtype='object')"
      ]
     },
     "execution_count": 35,
     "metadata": {},
     "output_type": "execute_result"
    }
   ],
   "source": [
    "test_data.columns"
   ]
  },
  {
   "cell_type": "code",
   "execution_count": 36,
   "metadata": {},
   "outputs": [],
   "source": [
    "test_data.replace(\"unknown\", np.nan, inplace=True)"
   ]
  },
  {
   "cell_type": "code",
   "execution_count": 37,
   "metadata": {},
   "outputs": [
    {
     "data": {
      "text/plain": [
       "<matplotlib.axes._subplots.AxesSubplot at 0x1edc08b7408>"
      ]
     },
     "execution_count": 37,
     "metadata": {},
     "output_type": "execute_result"
    },
    {
     "data": {
      "image/png": "[encoded data removed]",
      "text/plain": [
       "<Figure size 720x432 with 2 Axes>"
      ]
     },
     "metadata": {
      "needs_background": "light"
     },
     "output_type": "display_data"
    }
   ],
   "source": [
    "plt.figure(figsize=(10,6))\n",
    "sns.heatmap(test_data.isnull(),yticklabels=False)"
   ]
  },
  {
   "cell_type": "code",
   "execution_count": 38,
   "metadata": {},
   "outputs": [],
   "source": [
    "test_data.dropna(inplace=True)"
   ]
  },
  {
   "cell_type": "code",
   "execution_count": 39,
   "metadata": {},
   "outputs": [],
   "source": [
    "age_drop = test_data[test_data['age'] >= test_data[\"age\"].quantile(1)].index\n",
    "test_data.drop(age_drop, axis=0, inplace=True)"
   ]
  },
  {
   "cell_type": "code",
   "execution_count": 40,
   "metadata": {},
   "outputs": [
    {
     "data": {
      "text/plain": [
       "array([ 0,  1,  2,  3,  4,  5,  6,  7,  8,  9, 10], dtype=int64)"
      ]
     },
     "execution_count": 40,
     "metadata": {},
     "output_type": "execute_result"
    }
   ],
   "source": [
    "num = [0,1,2,3,4,5,6,7,8,9,10]\n",
    "test_data.replace(list(test_data['job'].unique()),num,inplace=True)\n",
    "test_data['job'].unique()"
   ]
  },
  {
   "cell_type": "code",
   "execution_count": 41,
   "metadata": {},
   "outputs": [
    {
     "data": {
      "text/plain": [
       "array([0, 1, 2], dtype=int64)"
      ]
     },
     "execution_count": 41,
     "metadata": {},
     "output_type": "execute_result"
    }
   ],
   "source": [
    "test_data.replace(list(test_data['marital'].unique()),[0,1,2],inplace=True)\n",
    "test_data[\"marital\"].unique()"
   ]
  },
  {
   "cell_type": "code",
   "execution_count": 42,
   "metadata": {},
   "outputs": [
    {
     "data": {
      "text/plain": [
       "array([0, 1, 2, 3, 4, 5, 6], dtype=int64)"
      ]
     },
     "execution_count": 42,
     "metadata": {},
     "output_type": "execute_result"
    }
   ],
   "source": [
    "test_data.replace(list(test_data['education'].unique()),[0,1,2,3,4,5,6],inplace=True)\n",
    "test_data[\"education\"].unique()"
   ]
  },
  {
   "cell_type": "code",
   "execution_count": 43,
   "metadata": {},
   "outputs": [
    {
     "data": {
      "text/plain": [
       "array([1, 0], dtype=uint8)"
      ]
     },
     "execution_count": 43,
     "metadata": {},
     "output_type": "execute_result"
    }
   ],
   "source": [
    "test_data['housing'] = pd.get_dummies(test_data['housing'])\n",
    "test_data['housing'].unique()"
   ]
  },
  {
   "cell_type": "code",
   "execution_count": 44,
   "metadata": {},
   "outputs": [
    {
     "data": {
      "text/plain": [
       "array([0, 1], dtype=uint8)"
      ]
     },
     "execution_count": 44,
     "metadata": {},
     "output_type": "execute_result"
    }
   ],
   "source": [
    "test_data['loan'] = pd.get_dummies(test_data['loan'])\n",
    "test_data[\"loan\"].unique()"
   ]
  },
  {
   "cell_type": "code",
   "execution_count": 45,
   "metadata": {},
   "outputs": [
    {
     "data": {
      "text/plain": [
       "array([1, 0], dtype=uint8)"
      ]
     },
     "execution_count": 45,
     "metadata": {},
     "output_type": "execute_result"
    }
   ],
   "source": [
    "test_data[\"contact\"] = pd.get_dummies(test_data[\"contact\"])\n",
    "test_data[\"contact\"].unique()"
   ]
  },
  {
   "cell_type": "code",
   "execution_count": 46,
   "metadata": {},
   "outputs": [
    {
     "data": {
      "text/plain": [
       "array([0, 1, 2, 3, 4, 5, 6, 7, 8, 9], dtype=int64)"
      ]
     },
     "execution_count": 46,
     "metadata": {},
     "output_type": "execute_result"
    }
   ],
   "source": [
    "test_data.replace(list(test_data['month'].unique()),[0,1,2,3,4,5,6,7,8,9],inplace=True)\n",
    "test_data['month'].unique()"
   ]
  },
  {
   "cell_type": "code",
   "execution_count": 47,
   "metadata": {},
   "outputs": [
    {
     "data": {
      "text/plain": [
       "array([0, 1, 2, 3, 4], dtype=int64)"
      ]
     },
     "execution_count": 47,
     "metadata": {},
     "output_type": "execute_result"
    }
   ],
   "source": [
    "test_data.replace(list(test_data['day_of_week'].unique()),[0,1,2,3,4],inplace=True)\n",
    "test_data['day_of_week'].unique()"
   ]
  },
  {
   "cell_type": "code",
   "execution_count": 48,
   "metadata": {},
   "outputs": [
    {
     "data": {
      "text/plain": [
       "11028    41.433333\n",
       "7506     40.933333\n",
       "7585     40.483333\n",
       "193      40.333333\n",
       "9826     38.350000\n",
       "           ...    \n",
       "4965      0.066667\n",
       "5731      0.050000\n",
       "4268      0.050000\n",
       "40        0.033333\n",
       "11527     0.016667\n",
       "Name: duration, Length: 9146, dtype: float64"
      ]
     },
     "execution_count": 48,
     "metadata": {},
     "output_type": "execute_result"
    }
   ],
   "source": [
    "for x in range(3):\n",
    "    droping = test_data[test_data['duration'] >= test_data[\"duration\"].quantile(1)].index[0]\n",
    "    test_data.drop([droping], inplace=True)\n",
    "test_data['duration'].sort_values(ascending=False)"
   ]
  },
  {
   "cell_type": "code",
   "execution_count": 49,
   "metadata": {},
   "outputs": [],
   "source": [
    "customer_id = test_data['customer_id']\n",
    "test_data.drop([\"default\", \"customer_id\"], axis=1, inplace=True)"
   ]
  },
  {
   "cell_type": "code",
   "execution_count": 50,
   "metadata": {},
   "outputs": [
    {
     "data": {
      "text/plain": [
       "array([0, 1, 2], dtype=int64)"
      ]
     },
     "execution_count": 50,
     "metadata": {},
     "output_type": "execute_result"
    }
   ],
   "source": [
    "test_data.replace(list(test_data['poutcome'].unique()),[0,1,2],inplace=True)\n",
    "test_data['poutcome'].unique()"
   ]
  },
  {
   "cell_type": "code",
   "execution_count": 51,
   "metadata": {},
   "outputs": [
    {
     "data": {
      "text/plain": [
       "<matplotlib.axes._subplots.AxesSubplot at 0x1edc06043c8>"
      ]
     },
     "execution_count": 51,
     "metadata": {},
     "output_type": "execute_result"
    },
    {
     "data": {
      "image/png": "[encoded data removed]",
      "text/plain": [
       "<Figure size 720x432 with 2 Axes>"
      ]
     },
     "metadata": {
      "needs_background": "light"
     },
     "output_type": "display_data"
    }
   ],
   "source": [
    "plt.figure(figsize=(10,6))\n",
    "sns.heatmap(test_data.isnull(),yticklabels=False)"
   ]
  },
  {
   "cell_type": "code",
   "execution_count": 52,
   "metadata": {},
   "outputs": [
    {
     "data": {
      "text/html": [
       "<div>\n",
       "<style scoped>\n",
       "    .dataframe tbody tr th:only-of-type {\n",
       "        vertical-align: middle;\n",
       "    }\n",
       "\n",
       "    .dataframe tbody tr th {\n",
       "        vertical-align: top;\n",
       "    }\n",
       "\n",
       "    .dataframe thead th {\n",
       "        text-align: right;\n",
       "    }\n",
       "</style>\n",
       "<table border=\"1\" class=\"dataframe\">\n",
       "  <thead>\n",
       "    <tr style=\"text-align: right;\">\n",
       "      <th></th>\n",
       "      <th>age</th>\n",
       "      <th>job</th>\n",
       "      <th>marital</th>\n",
       "      <th>education</th>\n",
       "      <th>housing</th>\n",
       "      <th>loan</th>\n",
       "      <th>contact</th>\n",
       "      <th>month</th>\n",
       "      <th>day_of_week</th>\n",
       "      <th>duration</th>\n",
       "      <th>campaign</th>\n",
       "      <th>pdays</th>\n",
       "      <th>previous</th>\n",
       "      <th>poutcome</th>\n",
       "      <th>emp_var_rate</th>\n",
       "      <th>cons_price_idx</th>\n",
       "      <th>cons_conf_idx</th>\n",
       "      <th>euribor3m</th>\n",
       "      <th>nr_employed</th>\n",
       "    </tr>\n",
       "  </thead>\n",
       "  <tbody>\n",
       "    <tr>\n",
       "      <th>0</th>\n",
       "      <td>59</td>\n",
       "      <td>0</td>\n",
       "      <td>0</td>\n",
       "      <td>0</td>\n",
       "      <td>1</td>\n",
       "      <td>0</td>\n",
       "      <td>1</td>\n",
       "      <td>0</td>\n",
       "      <td>0</td>\n",
       "      <td>6.183333</td>\n",
       "      <td>1</td>\n",
       "      <td>999</td>\n",
       "      <td>1</td>\n",
       "      <td>0</td>\n",
       "      <td>-1.77</td>\n",
       "      <td>46.4465</td>\n",
       "      <td>-32.34</td>\n",
       "      <td>2.301</td>\n",
       "      <td>5099.1</td>\n",
       "    </tr>\n",
       "    <tr>\n",
       "      <th>2</th>\n",
       "      <td>35</td>\n",
       "      <td>1</td>\n",
       "      <td>0</td>\n",
       "      <td>1</td>\n",
       "      <td>1</td>\n",
       "      <td>1</td>\n",
       "      <td>1</td>\n",
       "      <td>0</td>\n",
       "      <td>1</td>\n",
       "      <td>0.866667</td>\n",
       "      <td>1</td>\n",
       "      <td>999</td>\n",
       "      <td>1</td>\n",
       "      <td>0</td>\n",
       "      <td>-1.77</td>\n",
       "      <td>46.4465</td>\n",
       "      <td>-32.34</td>\n",
       "      <td>2.315</td>\n",
       "      <td>5099.1</td>\n",
       "    </tr>\n",
       "    <tr>\n",
       "      <th>3</th>\n",
       "      <td>38</td>\n",
       "      <td>2</td>\n",
       "      <td>0</td>\n",
       "      <td>0</td>\n",
       "      <td>1</td>\n",
       "      <td>1</td>\n",
       "      <td>0</td>\n",
       "      <td>1</td>\n",
       "      <td>1</td>\n",
       "      <td>5.916667</td>\n",
       "      <td>4</td>\n",
       "      <td>999</td>\n",
       "      <td>0</td>\n",
       "      <td>1</td>\n",
       "      <td>1.43</td>\n",
       "      <td>47.2325</td>\n",
       "      <td>-29.26</td>\n",
       "      <td>5.969</td>\n",
       "      <td>5228.1</td>\n",
       "    </tr>\n",
       "    <tr>\n",
       "      <th>4</th>\n",
       "      <td>29</td>\n",
       "      <td>3</td>\n",
       "      <td>0</td>\n",
       "      <td>0</td>\n",
       "      <td>0</td>\n",
       "      <td>1</td>\n",
       "      <td>1</td>\n",
       "      <td>2</td>\n",
       "      <td>1</td>\n",
       "      <td>3.150000</td>\n",
       "      <td>2</td>\n",
       "      <td>999</td>\n",
       "      <td>0</td>\n",
       "      <td>1</td>\n",
       "      <td>1.43</td>\n",
       "      <td>46.9590</td>\n",
       "      <td>-29.89</td>\n",
       "      <td>5.965</td>\n",
       "      <td>5228.1</td>\n",
       "    </tr>\n",
       "    <tr>\n",
       "      <th>5</th>\n",
       "      <td>60</td>\n",
       "      <td>4</td>\n",
       "      <td>0</td>\n",
       "      <td>2</td>\n",
       "      <td>0</td>\n",
       "      <td>0</td>\n",
       "      <td>1</td>\n",
       "      <td>2</td>\n",
       "      <td>1</td>\n",
       "      <td>10.083333</td>\n",
       "      <td>1</td>\n",
       "      <td>999</td>\n",
       "      <td>0</td>\n",
       "      <td>1</td>\n",
       "      <td>1.43</td>\n",
       "      <td>46.9590</td>\n",
       "      <td>-29.89</td>\n",
       "      <td>5.964</td>\n",
       "      <td>5228.1</td>\n",
       "    </tr>\n",
       "    <tr>\n",
       "      <th>...</th>\n",
       "      <td>...</td>\n",
       "      <td>...</td>\n",
       "      <td>...</td>\n",
       "      <td>...</td>\n",
       "      <td>...</td>\n",
       "      <td>...</td>\n",
       "      <td>...</td>\n",
       "      <td>...</td>\n",
       "      <td>...</td>\n",
       "      <td>...</td>\n",
       "      <td>...</td>\n",
       "      <td>...</td>\n",
       "      <td>...</td>\n",
       "      <td>...</td>\n",
       "      <td>...</td>\n",
       "      <td>...</td>\n",
       "      <td>...</td>\n",
       "      <td>...</td>\n",
       "      <td>...</td>\n",
       "    </tr>\n",
       "    <tr>\n",
       "      <th>12351</th>\n",
       "      <td>38</td>\n",
       "      <td>1</td>\n",
       "      <td>0</td>\n",
       "      <td>1</td>\n",
       "      <td>0</td>\n",
       "      <td>0</td>\n",
       "      <td>0</td>\n",
       "      <td>0</td>\n",
       "      <td>4</td>\n",
       "      <td>0.600000</td>\n",
       "      <td>7</td>\n",
       "      <td>999</td>\n",
       "      <td>0</td>\n",
       "      <td>1</td>\n",
       "      <td>-1.77</td>\n",
       "      <td>46.4465</td>\n",
       "      <td>-32.34</td>\n",
       "      <td>2.346</td>\n",
       "      <td>5099.1</td>\n",
       "    </tr>\n",
       "    <tr>\n",
       "      <th>12352</th>\n",
       "      <td>48</td>\n",
       "      <td>7</td>\n",
       "      <td>0</td>\n",
       "      <td>0</td>\n",
       "      <td>0</td>\n",
       "      <td>1</td>\n",
       "      <td>1</td>\n",
       "      <td>2</td>\n",
       "      <td>0</td>\n",
       "      <td>3.016667</td>\n",
       "      <td>2</td>\n",
       "      <td>999</td>\n",
       "      <td>0</td>\n",
       "      <td>1</td>\n",
       "      <td>1.43</td>\n",
       "      <td>46.9590</td>\n",
       "      <td>-29.89</td>\n",
       "      <td>5.962</td>\n",
       "      <td>5228.1</td>\n",
       "    </tr>\n",
       "    <tr>\n",
       "      <th>12354</th>\n",
       "      <td>28</td>\n",
       "      <td>1</td>\n",
       "      <td>2</td>\n",
       "      <td>0</td>\n",
       "      <td>1</td>\n",
       "      <td>0</td>\n",
       "      <td>0</td>\n",
       "      <td>2</td>\n",
       "      <td>0</td>\n",
       "      <td>4.183333</td>\n",
       "      <td>2</td>\n",
       "      <td>999</td>\n",
       "      <td>0</td>\n",
       "      <td>1</td>\n",
       "      <td>1.43</td>\n",
       "      <td>46.9590</td>\n",
       "      <td>-29.89</td>\n",
       "      <td>5.964</td>\n",
       "      <td>5228.1</td>\n",
       "    </tr>\n",
       "    <tr>\n",
       "      <th>12355</th>\n",
       "      <td>53</td>\n",
       "      <td>0</td>\n",
       "      <td>1</td>\n",
       "      <td>2</td>\n",
       "      <td>1</td>\n",
       "      <td>0</td>\n",
       "      <td>1</td>\n",
       "      <td>3</td>\n",
       "      <td>1</td>\n",
       "      <td>0.833333</td>\n",
       "      <td>3</td>\n",
       "      <td>999</td>\n",
       "      <td>0</td>\n",
       "      <td>1</td>\n",
       "      <td>1.43</td>\n",
       "      <td>46.7220</td>\n",
       "      <td>-25.27</td>\n",
       "      <td>5.968</td>\n",
       "      <td>5228.1</td>\n",
       "    </tr>\n",
       "    <tr>\n",
       "      <th>12356</th>\n",
       "      <td>47</td>\n",
       "      <td>0</td>\n",
       "      <td>0</td>\n",
       "      <td>3</td>\n",
       "      <td>1</td>\n",
       "      <td>1</td>\n",
       "      <td>1</td>\n",
       "      <td>5</td>\n",
       "      <td>2</td>\n",
       "      <td>3.683333</td>\n",
       "      <td>2</td>\n",
       "      <td>999</td>\n",
       "      <td>1</td>\n",
       "      <td>0</td>\n",
       "      <td>-0.07</td>\n",
       "      <td>46.6000</td>\n",
       "      <td>-29.40</td>\n",
       "      <td>5.122</td>\n",
       "      <td>5195.8</td>\n",
       "    </tr>\n",
       "  </tbody>\n",
       "</table>\n",
       "<p>9146 rows × 19 columns</p>\n",
       "</div>"
      ],
      "text/plain": [
       "       age  job  marital  education  housing  loan  contact  month  \\\n",
       "0       59    0        0          0        1     0        1      0   \n",
       "2       35    1        0          1        1     1        1      0   \n",
       "3       38    2        0          0        1     1        0      1   \n",
       "4       29    3        0          0        0     1        1      2   \n",
       "5       60    4        0          2        0     0        1      2   \n",
       "...    ...  ...      ...        ...      ...   ...      ...    ...   \n",
       "12351   38    1        0          1        0     0        0      0   \n",
       "12352   48    7        0          0        0     1        1      2   \n",
       "12354   28    1        2          0        1     0        0      2   \n",
       "12355   53    0        1          2        1     0        1      3   \n",
       "12356   47    0        0          3        1     1        1      5   \n",
       "\n",
       "       day_of_week   duration  campaign  pdays  previous  poutcome  \\\n",
       "0                0   6.183333         1    999         1         0   \n",
       "2                1   0.866667         1    999         1         0   \n",
       "3                1   5.916667         4    999         0         1   \n",
       "4                1   3.150000         2    999         0         1   \n",
       "5                1  10.083333         1    999         0         1   \n",
       "...            ...        ...       ...    ...       ...       ...   \n",
       "12351            4   0.600000         7    999         0         1   \n",
       "12352            0   3.016667         2    999         0         1   \n",
       "12354            0   4.183333         2    999         0         1   \n",
       "12355            1   0.833333         3    999         0         1   \n",
       "12356            2   3.683333         2    999         1         0   \n",
       "\n",
       "       emp_var_rate  cons_price_idx  cons_conf_idx  euribor3m  nr_employed  \n",
       "0             -1.77         46.4465         -32.34      2.301       5099.1  \n",
       "2             -1.77         46.4465         -32.34      2.315       5099.1  \n",
       "3              1.43         47.2325         -29.26      5.969       5228.1  \n",
       "4              1.43         46.9590         -29.89      5.965       5228.1  \n",
       "5              1.43         46.9590         -29.89      5.964       5228.1  \n",
       "...             ...             ...            ...        ...          ...  \n",
       "12351         -1.77         46.4465         -32.34      2.346       5099.1  \n",
       "12352          1.43         46.9590         -29.89      5.962       5228.1  \n",
       "12354          1.43         46.9590         -29.89      5.964       5228.1  \n",
       "12355          1.43         46.7220         -25.27      5.968       5228.1  \n",
       "12356         -0.07         46.6000         -29.40      5.122       5195.8  \n",
       "\n",
       "[9146 rows x 19 columns]"
      ]
     },
     "execution_count": 52,
     "metadata": {},
     "output_type": "execute_result"
    }
   ],
   "source": [
    "test_data"
   ]
  },
  {
   "cell_type": "markdown",
   "metadata": {},
   "source": [
    "## Model Building"
   ]
  },
  {
   "cell_type": "code",
   "execution_count": 53,
   "metadata": {},
   "outputs": [],
   "source": [
    "from sklearn import metrics\n",
    "from sklearn.preprocessing import StandardScaler\n",
    "from sklearn.model_selection import train_test_split\n",
    "from sklearn.linear_model import LogisticRegression"
   ]
  },
  {
   "cell_type": "code",
   "execution_count": 54,
   "metadata": {},
   "outputs": [],
   "source": [
    "X = train_data.drop([\"subscribed\"], axis=1)\n",
    "y = train_data[\"subscribed\"]"
   ]
  },
  {
   "cell_type": "code",
   "execution_count": 55,
   "metadata": {},
   "outputs": [],
   "source": [
    "scalar = StandardScaler()\n",
    "X = scalar.fit(X).transform(X)\n",
    "test_data = scalar.fit(test_data).transform(test_data)"
   ]
  },
  {
   "cell_type": "code",
   "execution_count": 56,
   "metadata": {
    "scrolled": true
   },
   "outputs": [],
   "source": [
    "X_train, X_test, y_train, y_test = train_test_split(X, y, test_size=0.2, random_state=1234)"
   ]
  },
  {
   "cell_type": "code",
   "execution_count": 57,
   "metadata": {},
   "outputs": [
    {
     "name": "stdout",
     "output_type": "stream",
     "text": [
      "(21377, 19) (21377,)\n"
     ]
    }
   ],
   "source": [
    "print(X_train.shape, y_train.shape)"
   ]
  },
  {
   "cell_type": "code",
   "execution_count": 58,
   "metadata": {},
   "outputs": [
    {
     "name": "stdout",
     "output_type": "stream",
     "text": [
      "(9146, 19)\n"
     ]
    }
   ],
   "source": [
    "print(test_data.shape)"
   ]
  },
  {
   "cell_type": "code",
   "execution_count": 59,
   "metadata": {},
   "outputs": [],
   "source": [
    "model = LogisticRegression()"
   ]
  },
  {
   "cell_type": "code",
   "execution_count": 60,
   "metadata": {
    "scrolled": true
   },
   "outputs": [
    {
     "data": {
      "text/plain": [
       "LogisticRegression(C=1.0, class_weight=None, dual=False, fit_intercept=True,\n",
       "                   intercept_scaling=1, l1_ratio=None, max_iter=100,\n",
       "                   multi_class='auto', n_jobs=None, penalty='l2',\n",
       "                   random_state=None, solver='lbfgs', tol=0.0001, verbose=0,\n",
       "                   warm_start=False)"
      ]
     },
     "execution_count": 60,
     "metadata": {},
     "output_type": "execute_result"
    }
   ],
   "source": [
    "model.fit(X_train, y_train)"
   ]
  },
  {
   "cell_type": "code",
   "execution_count": 61,
   "metadata": {},
   "outputs": [],
   "source": [
    "pred = model.predict(X_test)"
   ]
  },
  {
   "cell_type": "code",
   "execution_count": 62,
   "metadata": {},
   "outputs": [],
   "source": [
    "proba_pred = model.predict_proba(X_test)\n",
    "submitting_data = model.predict(test_data)"
   ]
  },
  {
   "cell_type": "code",
   "execution_count": 63,
   "metadata": {},
   "outputs": [
    {
     "data": {
      "text/plain": [
       "array([0, 0, 0, ..., 0, 0, 0], dtype=int64)"
      ]
     },
     "execution_count": 63,
     "metadata": {},
     "output_type": "execute_result"
    }
   ],
   "source": [
    "submitting_data"
   ]
  },
  {
   "cell_type": "code",
   "execution_count": 64,
   "metadata": {},
   "outputs": [
    {
     "data": {
      "text/plain": [
       "array([0, 0, 0, ..., 0, 0, 0], dtype=int64)"
      ]
     },
     "execution_count": 64,
     "metadata": {},
     "output_type": "execute_result"
    }
   ],
   "source": [
    "pred"
   ]
  },
  {
   "cell_type": "code",
   "execution_count": 65,
   "metadata": {},
   "outputs": [
    {
     "data": {
      "text/plain": [
       "array([[0.98702652, 0.01297348],\n",
       "       [0.72069541, 0.27930459],\n",
       "       [0.65913246, 0.34086754],\n",
       "       ...,\n",
       "       [0.79757222, 0.20242778],\n",
       "       [0.98060434, 0.01939566],\n",
       "       [0.97248246, 0.02751754]])"
      ]
     },
     "execution_count": 65,
     "metadata": {},
     "output_type": "execute_result"
    }
   ],
   "source": [
    "proba_pred\n"
   ]
  },
  {
   "cell_type": "code",
   "execution_count": 66,
   "metadata": {},
   "outputs": [
    {
     "name": "stdout",
     "output_type": "stream",
     "text": [
      "[[4647  112]\n",
      " [ 336  250]]\n",
      "\n",
      "\n",
      "              precision    recall  f1-score   support\n",
      "\n",
      "           0       0.93      0.98      0.95      4759\n",
      "           1       0.69      0.43      0.53       586\n",
      "\n",
      "    accuracy                           0.92      5345\n",
      "   macro avg       0.81      0.70      0.74      5345\n",
      "weighted avg       0.91      0.92      0.91      5345\n",
      "\n",
      "\n",
      "\n",
      "Accuracy: 0.9161833489242283\n",
      "\n",
      "\n",
      "F1 score: 0.5274261603375527\n"
     ]
    }
   ],
   "source": [
    "print(metrics.confusion_matrix(y_test,pred))\n",
    "print(\"\\n\")\n",
    "print(metrics.classification_report(y_test,pred))\n",
    "print(\"\\n\")\n",
    "print(f\"Accuracy: {metrics.accuracy_score(y_test,pred)}\")\n",
    "print(\"\\n\")\n",
    "print(f\"F1 score: {metrics.f1_score(y_test,pred)}\")"
   ]
  },
  {
   "cell_type": "markdown",
   "metadata": {},
   "source": [
    "### Using GaussianNB"
   ]
  },
  {
   "cell_type": "code",
   "execution_count": 67,
   "metadata": {},
   "outputs": [],
   "source": [
    "from sklearn.naive_bayes import GaussianNB"
   ]
  },
  {
   "cell_type": "code",
   "execution_count": 68,
   "metadata": {},
   "outputs": [],
   "source": [
    "model2 = GaussianNB()"
   ]
  },
  {
   "cell_type": "code",
   "execution_count": 69,
   "metadata": {},
   "outputs": [
    {
     "data": {
      "text/plain": [
       "GaussianNB(priors=None, var_smoothing=1e-09)"
      ]
     },
     "execution_count": 69,
     "metadata": {},
     "output_type": "execute_result"
    }
   ],
   "source": [
    "model2.fit(X_train, y_train)"
   ]
  },
  {
   "cell_type": "code",
   "execution_count": 70,
   "metadata": {},
   "outputs": [],
   "source": [
    "model2_pred = model2.predict(X_test)\n",
    "submitting_data2 = model2.predict(test_data)"
   ]
  },
  {
   "cell_type": "code",
   "execution_count": 71,
   "metadata": {},
   "outputs": [
    {
     "data": {
      "text/plain": [
       "array([1, 0, 0, ..., 0, 0, 0], dtype=int64)"
      ]
     },
     "execution_count": 71,
     "metadata": {},
     "output_type": "execute_result"
    }
   ],
   "source": [
    "submitting_data2"
   ]
  },
  {
   "cell_type": "code",
   "execution_count": 72,
   "metadata": {},
   "outputs": [
    {
     "data": {
      "text/plain": [
       "array([0, 0, 0, ..., 1, 0, 0], dtype=int64)"
      ]
     },
     "execution_count": 72,
     "metadata": {},
     "output_type": "execute_result"
    }
   ],
   "source": [
    "model2_pred"
   ]
  },
  {
   "cell_type": "code",
   "execution_count": 73,
   "metadata": {},
   "outputs": [
    {
     "name": "stdout",
     "output_type": "stream",
     "text": [
      "[[4145  614]\n",
      " [ 239  347]]\n",
      "\n",
      "\n",
      "              precision    recall  f1-score   support\n",
      "\n",
      "           0       0.95      0.87      0.91      4759\n",
      "           1       0.36      0.59      0.45       586\n",
      "\n",
      "    accuracy                           0.84      5345\n",
      "   macro avg       0.65      0.73      0.68      5345\n",
      "weighted avg       0.88      0.84      0.86      5345\n",
      "\n",
      "\n",
      "\n",
      "Accuracy: 0.8404115996258186\n",
      "\n",
      "\n",
      "F1 score: 0.44861021331609574\n"
     ]
    }
   ],
   "source": [
    "print(metrics.confusion_matrix(y_test,model2_pred))\n",
    "print(\"\\n\")\n",
    "print(metrics.classification_report(y_test,model2_pred))\n",
    "print(\"\\n\")\n",
    "print(f\"Accuracy: {metrics.accuracy_score(y_test,model2_pred)}\")\n",
    "print(\"\\n\")\n",
    "print(f\"F1 score: {metrics.f1_score(y_test,model2_pred)}\")"
   ]
  },
  {
   "cell_type": "code",
   "execution_count": null,
   "metadata": {},
   "outputs": [],
   "source": []
  },
  {
   "cell_type": "markdown",
   "metadata": {},
   "source": [
    "### Using RandomForestClassifier"
   ]
  },
  {
   "cell_type": "code",
   "execution_count": 74,
   "metadata": {},
   "outputs": [],
   "source": [
    "from sklearn.ensemble import RandomForestClassifier"
   ]
  },
  {
   "cell_type": "code",
   "execution_count": 75,
   "metadata": {},
   "outputs": [],
   "source": [
    "model3 = RandomForestClassifier()"
   ]
  },
  {
   "cell_type": "code",
   "execution_count": 76,
   "metadata": {},
   "outputs": [
    {
     "data": {
      "text/plain": [
       "RandomForestClassifier(bootstrap=True, ccp_alpha=0.0, class_weight=None,\n",
       "                       criterion='gini', max_depth=None, max_features='auto',\n",
       "                       max_leaf_nodes=None, max_samples=None,\n",
       "                       min_impurity_decrease=0.0, min_impurity_split=None,\n",
       "                       min_samples_leaf=1, min_samples_split=2,\n",
       "                       min_weight_fraction_leaf=0.0, n_estimators=100,\n",
       "                       n_jobs=None, oob_score=False, random_state=None,\n",
       "                       verbose=0, warm_start=False)"
      ]
     },
     "execution_count": 76,
     "metadata": {},
     "output_type": "execute_result"
    }
   ],
   "source": [
    "model3.fit(X_train, y_train)"
   ]
  },
  {
   "cell_type": "code",
   "execution_count": 77,
   "metadata": {},
   "outputs": [],
   "source": [
    "model3_pred = model3.predict(X_test)\n",
    "submitting_data3 = model3.predict(test_data)"
   ]
  },
  {
   "cell_type": "code",
   "execution_count": 78,
   "metadata": {},
   "outputs": [
    {
     "data": {
      "text/plain": [
       "array([0, 0, 0, ..., 0, 0, 0], dtype=int64)"
      ]
     },
     "execution_count": 78,
     "metadata": {},
     "output_type": "execute_result"
    }
   ],
   "source": [
    "submitting_data3"
   ]
  },
  {
   "cell_type": "code",
   "execution_count": 79,
   "metadata": {},
   "outputs": [
    {
     "data": {
      "text/plain": [
       "array([0, 0, 1, ..., 0, 0, 0], dtype=int64)"
      ]
     },
     "execution_count": 79,
     "metadata": {},
     "output_type": "execute_result"
    }
   ],
   "source": [
    "model3_pred"
   ]
  },
  {
   "cell_type": "code",
   "execution_count": 80,
   "metadata": {
    "scrolled": true
   },
   "outputs": [
    {
     "name": "stdout",
     "output_type": "stream",
     "text": [
      "[[4594  165]\n",
      " [ 294  292]]\n",
      "\n",
      "\n",
      "              precision    recall  f1-score   support\n",
      "\n",
      "           0       0.94      0.97      0.95      4759\n",
      "           1       0.64      0.50      0.56       586\n",
      "\n",
      "    accuracy                           0.91      5345\n",
      "   macro avg       0.79      0.73      0.76      5345\n",
      "weighted avg       0.91      0.91      0.91      5345\n",
      "\n",
      "\n",
      "\n",
      "Accuracy: 0.9141253507951357\n",
      "\n",
      "\n",
      "F1 score: 0.5599232981783318\n"
     ]
    }
   ],
   "source": [
    "print(metrics.confusion_matrix(y_test,model3_pred))\n",
    "print(\"\\n\")\n",
    "print(metrics.classification_report(y_test,model3_pred))\n",
    "print(\"\\n\")\n",
    "print(f\"Accuracy: {metrics.accuracy_score(y_test,model3_pred)}\")\n",
    "print(\"\\n\")\n",
    "print(f\"F1 score: {metrics.f1_score(y_test,model3_pred)}\")"
   ]
  },
  {
   "cell_type": "code",
   "execution_count": null,
   "metadata": {},
   "outputs": [],
   "source": []
  },
  {
   "cell_type": "markdown",
   "metadata": {},
   "source": [
    "### Using SVC"
   ]
  },
  {
   "cell_type": "code",
   "execution_count": 81,
   "metadata": {},
   "outputs": [],
   "source": [
    "from sklearn.svm import SVC"
   ]
  },
  {
   "cell_type": "code",
   "execution_count": 82,
   "metadata": {},
   "outputs": [],
   "source": [
    "model4 = SVC()"
   ]
  },
  {
   "cell_type": "code",
   "execution_count": 83,
   "metadata": {},
   "outputs": [
    {
     "data": {
      "text/plain": [
       "SVC(C=1.0, break_ties=False, cache_size=200, class_weight=None, coef0=0.0,\n",
       "    decision_function_shape='ovr', degree=3, gamma='scale', kernel='rbf',\n",
       "    max_iter=-1, probability=False, random_state=None, shrinking=True,\n",
       "    tol=0.001, verbose=False)"
      ]
     },
     "execution_count": 83,
     "metadata": {},
     "output_type": "execute_result"
    }
   ],
   "source": [
    "model4.fit(X_train, y_train)"
   ]
  },
  {
   "cell_type": "code",
   "execution_count": 84,
   "metadata": {},
   "outputs": [],
   "source": [
    "model4_pred = model4.predict(X_test)\n",
    "submitting_data4 = model4.predict(test_data)"
   ]
  },
  {
   "cell_type": "code",
   "execution_count": 85,
   "metadata": {},
   "outputs": [
    {
     "data": {
      "text/plain": [
       "array([0, 0, 0, ..., 0, 0, 0], dtype=int64)"
      ]
     },
     "execution_count": 85,
     "metadata": {},
     "output_type": "execute_result"
    }
   ],
   "source": [
    "submitting_data4"
   ]
  },
  {
   "cell_type": "code",
   "execution_count": 86,
   "metadata": {},
   "outputs": [
    {
     "data": {
      "text/plain": [
       "array([0, 0, 0, ..., 0, 0, 0], dtype=int64)"
      ]
     },
     "execution_count": 86,
     "metadata": {},
     "output_type": "execute_result"
    }
   ],
   "source": [
    "model4_pred"
   ]
  },
  {
   "cell_type": "code",
   "execution_count": 87,
   "metadata": {
    "scrolled": true
   },
   "outputs": [
    {
     "name": "stdout",
     "output_type": "stream",
     "text": [
      "[[4664   95]\n",
      " [ 358  228]]\n",
      "\n",
      "\n",
      "              precision    recall  f1-score   support\n",
      "\n",
      "           0       0.93      0.98      0.95      4759\n",
      "           1       0.71      0.39      0.50       586\n",
      "\n",
      "    accuracy                           0.92      5345\n",
      "   macro avg       0.82      0.68      0.73      5345\n",
      "weighted avg       0.90      0.92      0.90      5345\n",
      "\n",
      "\n",
      "\n",
      "Accuracy: 0.9152478952291861\n",
      "\n",
      "\n",
      "F1 score: 0.5016501650165016\n"
     ]
    }
   ],
   "source": [
    "print(metrics.confusion_matrix(y_test,model4_pred))\n",
    "print(\"\\n\")\n",
    "print(metrics.classification_report(y_test,model4_pred))\n",
    "print(\"\\n\")\n",
    "print(f\"Accuracy: {metrics.accuracy_score(y_test,model4_pred)}\")\n",
    "print(\"\\n\")\n",
    "print(f\"F1 score: {metrics.f1_score(y_test,model4_pred)}\")"
   ]
  },
  {
   "cell_type": "code",
   "execution_count": null,
   "metadata": {},
   "outputs": [],
   "source": []
  },
  {
   "cell_type": "markdown",
   "metadata": {},
   "source": [
    "## using XGboost"
   ]
  },
  {
   "cell_type": "code",
   "execution_count": 88,
   "metadata": {},
   "outputs": [],
   "source": [
    "from xgboost import XGBClassifier"
   ]
  },
  {
   "cell_type": "code",
   "execution_count": 89,
   "metadata": {},
   "outputs": [],
   "source": [
    "model5 = XGBClassifier(use_label_encoder=False)"
   ]
  },
  {
   "cell_type": "code",
   "execution_count": 90,
   "metadata": {},
   "outputs": [
    {
     "name": "stdout",
     "output_type": "stream",
     "text": [
      "[13:08:16] WARNING: C:/Users/Administrator/workspace/xgboost-win64_release_1.4.0/src/learner.cc:1095: Starting in XGBoost 1.3.0, the default evaluation metric used with the objective 'binary:logistic' was changed from 'error' to 'logloss'. Explicitly set eval_metric if you'd like to restore the old behavior.\n"
     ]
    },
    {
     "data": {
      "text/plain": [
       "XGBClassifier(base_score=0.5, booster='gbtree', colsample_bylevel=1,\n",
       "              colsample_bynode=1, colsample_bytree=1, gamma=0, gpu_id=-1,\n",
       "              importance_type='gain', interaction_constraints='',\n",
       "              learning_rate=0.300000012, max_delta_step=0, max_depth=6,\n",
       "              min_child_weight=1, missing=nan, monotone_constraints='()',\n",
       "              n_estimators=100, n_jobs=2, num_parallel_tree=1,\n",
       "              objective='binary:logistic', random_state=0, reg_alpha=0,\n",
       "              reg_lambda=1, scale_pos_weight=1, subsample=1,\n",
       "              tree_method='exact', use_label_encoder=False,\n",
       "              validate_parameters=1, verbosity=None)"
      ]
     },
     "execution_count": 90,
     "metadata": {},
     "output_type": "execute_result"
    }
   ],
   "source": [
    "model5.fit(X_train, y_train)"
   ]
  },
  {
   "cell_type": "code",
   "execution_count": 91,
   "metadata": {},
   "outputs": [],
   "source": [
    "model5_pred = model5.predict(X_test)\n",
    "submitting_data5 = model5.predict(test_data)"
   ]
  },
  {
   "cell_type": "code",
   "execution_count": 92,
   "metadata": {},
   "outputs": [
    {
     "data": {
      "text/plain": [
       "array([0, 0, 1, ..., 0, 0, 0])"
      ]
     },
     "execution_count": 92,
     "metadata": {},
     "output_type": "execute_result"
    }
   ],
   "source": [
    "model5_pred"
   ]
  },
  {
   "cell_type": "code",
   "execution_count": 93,
   "metadata": {},
   "outputs": [
    {
     "data": {
      "text/plain": [
       "array([0, 0, 0, ..., 0, 0, 0])"
      ]
     },
     "execution_count": 93,
     "metadata": {},
     "output_type": "execute_result"
    }
   ],
   "source": [
    "submitting_data5"
   ]
  },
  {
   "cell_type": "code",
   "execution_count": 94,
   "metadata": {},
   "outputs": [
    {
     "name": "stdout",
     "output_type": "stream",
     "text": [
      "[[4554  205]\n",
      " [ 267  319]]\n",
      "\n",
      "\n",
      "              precision    recall  f1-score   support\n",
      "\n",
      "           0       0.94      0.96      0.95      4759\n",
      "           1       0.61      0.54      0.57       586\n",
      "\n",
      "    accuracy                           0.91      5345\n",
      "   macro avg       0.78      0.75      0.76      5345\n",
      "weighted avg       0.91      0.91      0.91      5345\n",
      "\n",
      "\n",
      "\n",
      "Accuracy: 0.9116931711880262\n",
      "\n",
      "\n",
      "F1 score: 0.5747747747747748\n"
     ]
    }
   ],
   "source": [
    "print(metrics.confusion_matrix(y_test,model5_pred))\n",
    "print(\"\\n\")\n",
    "print(metrics.classification_report(y_test,model5_pred))\n",
    "print(\"\\n\")\n",
    "print(f\"Accuracy: {metrics.accuracy_score(y_test,model5_pred)}\")\n",
    "print(\"\\n\")\n",
    "print(f\"F1 score: {metrics.f1_score(y_test,model5_pred)}\")"
   ]
  },
  {
   "cell_type": "code",
   "execution_count": null,
   "metadata": {},
   "outputs": [],
   "source": []
  },
  {
   "cell_type": "markdown",
   "metadata": {},
   "source": [
    "## Using LightGBM"
   ]
  },
  {
   "cell_type": "code",
   "execution_count": 95,
   "metadata": {},
   "outputs": [],
   "source": [
    "from lightgbm import LGBMClassifier"
   ]
  },
  {
   "cell_type": "code",
   "execution_count": 96,
   "metadata": {},
   "outputs": [],
   "source": [
    "model6 = LGBMClassifier()"
   ]
  },
  {
   "cell_type": "code",
   "execution_count": 97,
   "metadata": {},
   "outputs": [
    {
     "data": {
      "text/plain": [
       "LGBMClassifier(boosting_type='gbdt', class_weight=None, colsample_bytree=1.0,\n",
       "               importance_type='split', learning_rate=0.1, max_depth=-1,\n",
       "               min_child_samples=20, min_child_weight=0.001, min_split_gain=0.0,\n",
       "               n_estimators=100, n_jobs=-1, num_leaves=31, objective=None,\n",
       "               random_state=None, reg_alpha=0.0, reg_lambda=0.0, silent=True,\n",
       "               subsample=1.0, subsample_for_bin=200000, subsample_freq=0)"
      ]
     },
     "execution_count": 97,
     "metadata": {},
     "output_type": "execute_result"
    }
   ],
   "source": [
    "model6.fit(X_train, y_train)"
   ]
  },
  {
   "cell_type": "code",
   "execution_count": 98,
   "metadata": {},
   "outputs": [],
   "source": [
    "model6_pred = model6.predict(X_test)\n",
    "submitting_data6 = model6.predict(test_data)"
   ]
  },
  {
   "cell_type": "code",
   "execution_count": 99,
   "metadata": {},
   "outputs": [
    {
     "data": {
      "text/plain": [
       "array([0, 0, 1, ..., 0, 0, 0], dtype=int64)"
      ]
     },
     "execution_count": 99,
     "metadata": {},
     "output_type": "execute_result"
    }
   ],
   "source": [
    "model6_pred"
   ]
  },
  {
   "cell_type": "code",
   "execution_count": 100,
   "metadata": {},
   "outputs": [
    {
     "data": {
      "text/plain": [
       "array([0, 0, 0, ..., 0, 0, 0], dtype=int64)"
      ]
     },
     "execution_count": 100,
     "metadata": {},
     "output_type": "execute_result"
    }
   ],
   "source": [
    "submitting_data6\n"
   ]
  },
  {
   "cell_type": "code",
   "execution_count": 101,
   "metadata": {},
   "outputs": [
    {
     "name": "stdout",
     "output_type": "stream",
     "text": [
      "[[4578  181]\n",
      " [ 250  336]]\n",
      "\n",
      "\n",
      "              precision    recall  f1-score   support\n",
      "\n",
      "           0       0.95      0.96      0.96      4759\n",
      "           1       0.65      0.57      0.61       586\n",
      "\n",
      "    accuracy                           0.92      5345\n",
      "   macro avg       0.80      0.77      0.78      5345\n",
      "weighted avg       0.92      0.92      0.92      5345\n",
      "\n",
      "\n",
      "\n",
      "Accuracy: 0.9193638914873714\n",
      "\n",
      "\n",
      "F1 score: 0.6092475067996374\n"
     ]
    }
   ],
   "source": [
    "print(metrics.confusion_matrix(y_test,model6_pred))\n",
    "print(\"\\n\")\n",
    "print(metrics.classification_report(y_test,model6_pred))\n",
    "print(\"\\n\")\n",
    "print(f\"Accuracy: {metrics.accuracy_score(y_test,model6_pred)}\")\n",
    "print(\"\\n\")\n",
    "print(f\"F1 score: {metrics.f1_score(y_test,model6_pred)}\")"
   ]
  },
  {
   "cell_type": "code",
   "execution_count": null,
   "metadata": {},
   "outputs": [],
   "source": []
  },
  {
   "cell_type": "code",
   "execution_count": 102,
   "metadata": {},
   "outputs": [],
   "source": [
    "df = {\"customer_id\":customer_id, \"subscribed\":submitting_data}\n",
    "final = pd.DataFrame(df).set_index(\"customer_id\")\n",
    "final.to_csv(\"log_model.csv\")"
   ]
  },
  {
   "cell_type": "code",
   "execution_count": 103,
   "metadata": {},
   "outputs": [],
   "source": [
    "df = {\"customer_id\":customer_id, \"subscribed\":submitting_data2}\n",
    "final = pd.DataFrame(df).set_index(\"customer_id\")\n",
    "final.to_csv(\"gussian_model.csv\")"
   ]
  },
  {
   "cell_type": "code",
   "execution_count": 104,
   "metadata": {},
   "outputs": [],
   "source": [
    "df = {\"customer_id\":customer_id, \"subscribed\":submitting_data3}\n",
    "final = pd.DataFrame(df).set_index(\"customer_id\")\n",
    "final.to_csv(\"random_forest.csv\")"
   ]
  },
  {
   "cell_type": "code",
   "execution_count": 105,
   "metadata": {},
   "outputs": [],
   "source": [
    "df = {\"customer_id\":customer_id, \"subscribed\":submitting_data4}\n",
    "final = pd.DataFrame(df).set_index(\"customer_id\")\n",
    "final.to_csv(\"svc_model.csv\")"
   ]
  },
  {
   "cell_type": "code",
   "execution_count": 106,
   "metadata": {},
   "outputs": [],
   "source": [
    "df = {\"customer_id\":customer_id, \"subscribed\":submitting_data5}\n",
    "final = pd.DataFrame(df).set_index(\"customer_id\")\n",
    "final.to_csv(\"XGboost.csv\")"
   ]
  },
  {
   "cell_type": "code",
   "execution_count": 107,
   "metadata": {},
   "outputs": [],
   "source": [
    "df = {\"customer_id\":customer_id, \"subscribed\":submitting_data6}\n",
    "final = pd.DataFrame(df).set_index(\"customer_id\")\n",
    "final.to_csv(\"lightgbm.csv\")"
   ]
  },
  {
   "cell_type": "code",
   "execution_count": null,
   "metadata": {},
   "outputs": [],
   "source": []
  }
 ],
 "metadata": {
  "kernelspec": {
   "display_name": "Python 3",
   "language": "python",
   "name": "python3"
  },
  "language_info": {
   "codemirror_mode": {
    "name": "ipython",
    "version": 3
   },
   "file_extension": ".py",
   "mimetype": "text/x-python",
   "name": "python",
   "nbconvert_exporter": "python",
   "pygments_lexer": "ipython3",
   "version": "3.7.6"
  }
 },
 "nbformat": 4,
 "nbformat_minor": 4
}
